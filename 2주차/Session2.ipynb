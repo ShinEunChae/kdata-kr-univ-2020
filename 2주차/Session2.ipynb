{
 "cells": [
  {
   "cell_type": "code",
   "execution_count": 1,
   "metadata": {},
   "outputs": [],
   "source": [
    "import sqlalchemy"
   ]
  },
  {
   "cell_type": "code",
   "execution_count": 2,
   "metadata": {},
   "outputs": [
    {
     "data": {
      "text/plain": [
       "'1.3.13'"
      ]
     },
     "execution_count": 2,
     "metadata": {},
     "output_type": "execute_result"
    }
   ],
   "source": [
    "sqlalchemy.__version__"
   ]
  },
  {
   "cell_type": "code",
   "execution_count": 3,
   "metadata": {},
   "outputs": [],
   "source": [
    "from sqlalchemy import create_engine\n",
    "engine = create_engine('sqlite:///:memory:', echo=True)"
   ]
  },
  {
   "cell_type": "code",
   "execution_count": 4,
   "metadata": {},
   "outputs": [
    {
     "data": {
      "text/plain": [
       "Engine(sqlite:///:memory:)"
      ]
     },
     "execution_count": 4,
     "metadata": {},
     "output_type": "execute_result"
    }
   ],
   "source": [
    "engine"
   ]
  },
  {
   "cell_type": "code",
   "execution_count": 5,
   "metadata": {},
   "outputs": [],
   "source": [
    "from sqlalchemy import MetaData, Table, Column, Integer, String, ForeignKey\n",
    "\n",
    "meta = MetaData()\n",
    "users = Table('users', meta,\n",
    "              Column('id', Integer, primary_key=True),\n",
    "              Column('name', String),\n",
    "              Column('fullname', String))\n",
    "\n",
    "addr = Table('address', meta,\n",
    "             Column('id', Integer, primary_key=True),\n",
    "             Column('userid', Integer, ForeignKey('users.id')),\n",
    "             Column('email', String, nullable=True))"
   ]
  },
  {
   "cell_type": "code",
   "execution_count": 6,
   "metadata": {},
   "outputs": [
    {
     "name": "stdout",
     "output_type": "stream",
     "text": [
      "2020-09-22 14:19:27,018 INFO sqlalchemy.engine.base.Engine SELECT CAST('test plain returns' AS VARCHAR(60)) AS anon_1\n",
      "2020-09-22 14:19:27,027 INFO sqlalchemy.engine.base.Engine ()\n",
      "2020-09-22 14:19:27,030 INFO sqlalchemy.engine.base.Engine SELECT CAST('test unicode returns' AS VARCHAR(60)) AS anon_1\n",
      "2020-09-22 14:19:27,031 INFO sqlalchemy.engine.base.Engine ()\n",
      "2020-09-22 14:19:27,034 INFO sqlalchemy.engine.base.Engine PRAGMA main.table_info(\"users\")\n",
      "2020-09-22 14:19:27,036 INFO sqlalchemy.engine.base.Engine ()\n",
      "2020-09-22 14:19:27,038 INFO sqlalchemy.engine.base.Engine PRAGMA temp.table_info(\"users\")\n",
      "2020-09-22 14:19:27,041 INFO sqlalchemy.engine.base.Engine ()\n",
      "2020-09-22 14:19:27,045 INFO sqlalchemy.engine.base.Engine PRAGMA main.table_info(\"address\")\n",
      "2020-09-22 14:19:27,046 INFO sqlalchemy.engine.base.Engine ()\n",
      "2020-09-22 14:19:27,050 INFO sqlalchemy.engine.base.Engine PRAGMA temp.table_info(\"address\")\n",
      "2020-09-22 14:19:27,052 INFO sqlalchemy.engine.base.Engine ()\n",
      "2020-09-22 14:19:27,056 INFO sqlalchemy.engine.base.Engine \n",
      "CREATE TABLE users (\n",
      "\tid INTEGER NOT NULL, \n",
      "\tname VARCHAR, \n",
      "\tfullname VARCHAR, \n",
      "\tPRIMARY KEY (id)\n",
      ")\n",
      "\n",
      "\n",
      "2020-09-22 14:19:27,057 INFO sqlalchemy.engine.base.Engine ()\n",
      "2020-09-22 14:19:27,060 INFO sqlalchemy.engine.base.Engine COMMIT\n",
      "2020-09-22 14:19:27,063 INFO sqlalchemy.engine.base.Engine \n",
      "CREATE TABLE address (\n",
      "\tid INTEGER NOT NULL, \n",
      "\tuserid INTEGER, \n",
      "\temail VARCHAR, \n",
      "\tPRIMARY KEY (id), \n",
      "\tFOREIGN KEY(userid) REFERENCES users (id)\n",
      ")\n",
      "\n",
      "\n",
      "2020-09-22 14:19:27,065 INFO sqlalchemy.engine.base.Engine ()\n",
      "2020-09-22 14:19:27,067 INFO sqlalchemy.engine.base.Engine COMMIT\n"
     ]
    }
   ],
   "source": [
    "meta.create_all(engine)"
   ]
  },
  {
   "cell_type": "code",
   "execution_count": 7,
   "metadata": {},
   "outputs": [
    {
     "data": {
      "text/plain": [
       "immutabledict({'users': Table('users', MetaData(bind=None), Column('id', Integer(), table=<users>, primary_key=True, nullable=False), Column('name', String(), table=<users>), Column('fullname', String(), table=<users>), schema=None), 'address': Table('address', MetaData(bind=None), Column('id', Integer(), table=<address>, primary_key=True, nullable=False), Column('userid', Integer(), ForeignKey('users.id'), table=<address>), Column('email', String(), table=<address>), schema=None)})"
      ]
     },
     "execution_count": 7,
     "metadata": {},
     "output_type": "execute_result"
    }
   ],
   "source": [
    "meta.tables"
   ]
  },
  {
   "cell_type": "code",
   "execution_count": 8,
   "metadata": {},
   "outputs": [],
   "source": [
    "meta.bind # 아직은 바인딩 되지 않음 # db랑 상관없다는 의미"
   ]
  },
  {
   "cell_type": "code",
   "execution_count": 9,
   "metadata": {},
   "outputs": [
    {
     "name": "stdout",
     "output_type": "stream",
     "text": [
      "INSERT INTO users (id, name, fullname) VALUES (:id, :name, :fullname)\n"
     ]
    }
   ],
   "source": [
    "print(users.insert())"
   ]
  },
  {
   "cell_type": "code",
   "execution_count": 10,
   "metadata": {},
   "outputs": [
    {
     "name": "stdout",
     "output_type": "stream",
     "text": [
      "INSERT INTO users (name, fullname) VALUES (:name, :fullname)\n",
      "INSERT INTO users (name, fullname) VALUES (:name, :fullname)\n",
      "{'name': 'test', 'fullname': 'testtest'}\n"
     ]
    }
   ],
   "source": [
    "insert = users.insert().values(name='test', fullname='testtest')\n",
    "print(insert)\n",
    "print(insert.compile())\n",
    "print(insert.compile().params)"
   ]
  },
  {
   "cell_type": "code",
   "execution_count": 11,
   "metadata": {},
   "outputs": [],
   "source": [
    "conn = engine.connect()"
   ]
  },
  {
   "cell_type": "code",
   "execution_count": 12,
   "metadata": {},
   "outputs": [
    {
     "name": "stdout",
     "output_type": "stream",
     "text": [
      "2020-09-22 14:19:30,744 INFO sqlalchemy.engine.base.Engine INSERT INTO users (name, fullname) VALUES (?, ?)\n",
      "2020-09-22 14:19:30,747 INFO sqlalchemy.engine.base.Engine ('test', 'testtest')\n",
      "2020-09-22 14:19:30,750 INFO sqlalchemy.engine.base.Engine COMMIT\n"
     ]
    },
    {
     "data": {
      "text/plain": [
       "<sqlalchemy.engine.result.ResultProxy at 0x1f800c83e08>"
      ]
     },
     "execution_count": 12,
     "metadata": {},
     "output_type": "execute_result"
    }
   ],
   "source": [
    "conn.execute(insert)"
   ]
  },
  {
   "cell_type": "code",
   "execution_count": 13,
   "metadata": {},
   "outputs": [
    {
     "name": "stdout",
     "output_type": "stream",
     "text": [
      "SELECT users.id, users.name, users.fullname \n",
      "FROM users\n"
     ]
    }
   ],
   "source": [
    "print(users.select().compile())"
   ]
  },
  {
   "cell_type": "code",
   "execution_count": 14,
   "metadata": {},
   "outputs": [
    {
     "name": "stdout",
     "output_type": "stream",
     "text": [
      "2020-09-22 14:19:31,648 INFO sqlalchemy.engine.base.Engine SELECT users.id, users.name, users.fullname \n",
      "FROM users\n",
      "2020-09-22 14:19:31,650 INFO sqlalchemy.engine.base.Engine ()\n"
     ]
    },
    {
     "data": {
      "text/plain": [
       "<sqlalchemy.engine.result.ResultProxy at 0x1f800c8aec8>"
      ]
     },
     "execution_count": 14,
     "metadata": {},
     "output_type": "execute_result"
    }
   ],
   "source": [
    "conn.execute(users.select())"
   ]
  },
  {
   "cell_type": "code",
   "execution_count": 15,
   "metadata": {},
   "outputs": [
    {
     "name": "stdout",
     "output_type": "stream",
     "text": [
      "2020-09-22 14:19:32,088 INFO sqlalchemy.engine.base.Engine SELECT users.id, users.name, users.fullname \n",
      "FROM users\n",
      "2020-09-22 14:19:32,097 INFO sqlalchemy.engine.base.Engine ()\n"
     ]
    }
   ],
   "source": [
    "cur = conn.execute(users.select())"
   ]
  },
  {
   "cell_type": "code",
   "execution_count": 16,
   "metadata": {},
   "outputs": [
    {
     "data": {
      "text/plain": [
       "[(1, 'test', 'testtest')]"
      ]
     },
     "execution_count": 16,
     "metadata": {},
     "output_type": "execute_result"
    }
   ],
   "source": [
    "list(cur)"
   ]
  },
  {
   "cell_type": "code",
   "execution_count": 17,
   "metadata": {},
   "outputs": [
    {
     "name": "stdout",
     "output_type": "stream",
     "text": [
      "2020-09-22 14:19:33,841 INFO sqlalchemy.engine.base.Engine INSERT INTO users (name, fullname) VALUES (?, ?)\n",
      "2020-09-22 14:19:33,843 INFO sqlalchemy.engine.base.Engine ('test2', 'test2test2')\n",
      "2020-09-22 14:19:33,852 INFO sqlalchemy.engine.base.Engine COMMIT\n"
     ]
    }
   ],
   "source": [
    "cur = conn.execute(users.insert(), {'name':'test2', 'fullname':'test2test2'})"
   ]
  },
  {
   "cell_type": "code",
   "execution_count": 18,
   "metadata": {},
   "outputs": [
    {
     "data": {
      "text/plain": [
       "2"
      ]
     },
     "execution_count": 18,
     "metadata": {},
     "output_type": "execute_result"
    }
   ],
   "source": [
    "cur.lastrowid"
   ]
  },
  {
   "cell_type": "code",
   "execution_count": 19,
   "metadata": {},
   "outputs": [
    {
     "name": "stdout",
     "output_type": "stream",
     "text": [
      "2020-09-22 14:19:35,881 INFO sqlalchemy.engine.base.Engine SELECT users.id, users.name, users.fullname \n",
      "FROM users\n",
      "2020-09-22 14:19:35,883 INFO sqlalchemy.engine.base.Engine ()\n"
     ]
    }
   ],
   "source": [
    "cur = conn.execute(users.select())"
   ]
  },
  {
   "cell_type": "code",
   "execution_count": 20,
   "metadata": {},
   "outputs": [
    {
     "name": "stdout",
     "output_type": "stream",
     "text": [
      "users.id = :id_1\n",
      "{'id_1': 1}\n"
     ]
    }
   ],
   "source": [
    "print(users.c.id == 1)\n",
    "print((users.c.id == 1).compile().params)"
   ]
  },
  {
   "cell_type": "code",
   "execution_count": 21,
   "metadata": {},
   "outputs": [
    {
     "name": "stdout",
     "output_type": "stream",
     "text": [
      "2020-09-22 14:19:39,578 INFO sqlalchemy.engine.base.Engine SELECT users.id, users.name, users.fullname \n",
      "FROM users \n",
      "WHERE users.id = ?\n",
      "2020-09-22 14:19:39,580 INFO sqlalchemy.engine.base.Engine (1,)\n"
     ]
    },
    {
     "data": {
      "text/plain": [
       "[(1, 'test', 'testtest')]"
      ]
     },
     "execution_count": 21,
     "metadata": {},
     "output_type": "execute_result"
    }
   ],
   "source": [
    "cur = conn.execute(users.select().where(users.c.id==1))\n",
    "list(cur)"
   ]
  },
  {
   "cell_type": "code",
   "execution_count": 22,
   "metadata": {},
   "outputs": [
    {
     "name": "stdout",
     "output_type": "stream",
     "text": [
      "2020-09-22 14:19:40,551 INFO sqlalchemy.engine.base.Engine INSERT INTO address (email) VALUES (?)\n",
      "2020-09-22 14:19:40,554 INFO sqlalchemy.engine.base.Engine ('1@1.com',)\n",
      "2020-09-22 14:19:40,558 INFO sqlalchemy.engine.base.Engine COMMIT\n"
     ]
    }
   ],
   "source": [
    "cur = conn.execute(addr.insert(), {'usersid':1, 'email':'1@1.com'})"
   ]
  },
  {
   "cell_type": "code",
   "execution_count": 23,
   "metadata": {},
   "outputs": [
    {
     "data": {
      "text/plain": [
       "1"
      ]
     },
     "execution_count": 23,
     "metadata": {},
     "output_type": "execute_result"
    }
   ],
   "source": [
    "cur.lastrowid"
   ]
  },
  {
   "cell_type": "code",
   "execution_count": null,
   "metadata": {},
   "outputs": [],
   "source": []
  }
 ],
 "metadata": {
  "kernelspec": {
   "display_name": "Python 3",
   "language": "python",
   "name": "python3"
  },
  "language_info": {
   "codemirror_mode": {
    "name": "ipython",
    "version": 3
   },
   "file_extension": ".py",
   "mimetype": "text/x-python",
   "name": "python",
   "nbconvert_exporter": "python",
   "pygments_lexer": "ipython3",
   "version": "3.7.6"
  }
 },
 "nbformat": 4,
 "nbformat_minor": 4
}
