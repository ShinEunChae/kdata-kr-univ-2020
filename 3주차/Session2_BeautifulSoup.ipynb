{
 "cells": [
  {
   "cell_type": "code",
   "execution_count": 1,
   "metadata": {
    "scrolled": false
   },
   "outputs": [
    {
     "name": "stdout",
     "output_type": "stream",
     "text": [
      "Requirement already satisfied: beautifulsoup4 in c:\\users\\shin\\anaconda3\\lib\\site-packages (4.6.0)\n"
     ]
    }
   ],
   "source": [
    "!pip install beautifulsoup4"
   ]
  },
  {
   "cell_type": "code",
   "execution_count": 2,
   "metadata": {},
   "outputs": [],
   "source": [
    "from bs4 import BeautifulSoup"
   ]
  },
  {
   "cell_type": "code",
   "execution_count": 3,
   "metadata": {},
   "outputs": [],
   "source": [
    "html = '''\n",
    "<html>\n",
    "    <head>\n",
    "        <title>예제</title>\n",
    "    </head>\n",
    "    <body>\n",
    "        <div>\n",
    "            <p>\n",
    "                <a href='/page' class='d' id=asdf>페이지 이동</a>\n",
    "            </p>\n",
    "        </div>\n",
    "    </body>\n",
    "</html>\n",
    "'''"
   ]
  },
  {
   "cell_type": "code",
   "execution_count": 4,
   "metadata": {},
   "outputs": [],
   "source": [
    "dom = BeautifulSoup(html, 'html.parser')"
   ]
  },
  {
   "cell_type": "code",
   "execution_count": 5,
   "metadata": {},
   "outputs": [
    {
     "data": {
      "text/plain": [
       "\n",
       "<html>\n",
       "<head>\n",
       "<title>예제</title>\n",
       "</head>\n",
       "<body>\n",
       "<div>\n",
       "<p>\n",
       "<a class=\"d\" href=\"/page\" id=\"asdf\">페이지 이동</a>\n",
       "</p>\n",
       "</div>\n",
       "</body>\n",
       "</html>"
      ]
     },
     "execution_count": 5,
     "metadata": {},
     "output_type": "execute_result"
    }
   ],
   "source": [
    "dom"
   ]
  },
  {
   "cell_type": "code",
   "execution_count": 6,
   "metadata": {},
   "outputs": [
    {
     "data": {
      "text/plain": [
       "('\\n\\n\\n예제\\n\\n\\n\\n\\n페이지 이동\\n\\n\\n\\n\\n',\n",
       " '<html>\\n <head>\\n  <title>\\n   예제\\n  </title>\\n </head>\\n <body>\\n  <div>\\n   <p>\\n    <a class=\"d\" href=\"/page\" id=\"asdf\">\\n     페이지 이동\\n    </a>\\n   </p>\\n  </div>\\n </body>\\n</html>\\n')"
      ]
     },
     "execution_count": 6,
     "metadata": {},
     "output_type": "execute_result"
    }
   ],
   "source": [
    "dom.text, dom.prettify()"
   ]
  },
  {
   "cell_type": "code",
   "execution_count": 7,
   "metadata": {},
   "outputs": [
    {
     "data": {
      "text/plain": [
       "'예제'"
      ]
     },
     "execution_count": 7,
     "metadata": {},
     "output_type": "execute_result"
    }
   ],
   "source": [
    "dom.html.head.title.text"
   ]
  },
  {
   "cell_type": "code",
   "execution_count": 8,
   "metadata": {},
   "outputs": [
    {
     "data": {
      "text/plain": [
       "'예제'"
      ]
     },
     "execution_count": 8,
     "metadata": {},
     "output_type": "execute_result"
    }
   ],
   "source": [
    "dom.title.text # title이 하나 밖에 없으니 위와 동일"
   ]
  },
  {
   "cell_type": "code",
   "execution_count": 9,
   "metadata": {},
   "outputs": [
    {
     "data": {
      "text/plain": [
       "('\\n\\n\\n페이지 이동\\n\\n\\n',\n",
       " <p>\n",
       " <a class=\"d\" href=\"/page\" id=\"asdf\">페이지 이동</a>\n",
       " </p>,\n",
       " <a class=\"d\" href=\"/page\" id=\"asdf\">페이지 이동</a>)"
      ]
     },
     "execution_count": 9,
     "metadata": {},
     "output_type": "execute_result"
    }
   ],
   "source": [
    "dom.body.text, dom.p, dom.a"
   ]
  },
  {
   "cell_type": "code",
   "execution_count": 10,
   "metadata": {},
   "outputs": [
    {
     "name": "stdout",
     "output_type": "stream",
     "text": [
      "\n",
      " <class 'bs4.element.NavigableString'>\n",
      "<div>\n",
      "<p>\n",
      "<a class=\"d\" href=\"/page\" id=\"asdf\">페이지 이동</a>\n",
      "</p>\n",
      "</div> <class 'bs4.element.Tag'>\n",
      "\n",
      " <class 'bs4.element.NavigableString'>\n"
     ]
    }
   ],
   "source": [
    "for _ in list(dom.body.children):\n",
    "    print(_, type(_))"
   ]
  },
  {
   "cell_type": "code",
   "execution_count": 11,
   "metadata": {},
   "outputs": [
    {
     "data": {
      "text/plain": [
       "({'href': '/page', 'class': ['d'], 'id': 'asdf'}, '/page')"
      ]
     },
     "execution_count": 11,
     "metadata": {},
     "output_type": "execute_result"
    }
   ],
   "source": [
    "dom.a.attrs, dom.a['href'] # 속성들을 key-value쌍으로 갖고 있다"
   ]
  },
  {
   "cell_type": "code",
   "execution_count": 12,
   "metadata": {},
   "outputs": [],
   "source": [
    "html = '''\n",
    "<html>\n",
    "    <head>\n",
    "        <title>예제</title>\n",
    "    </head>\n",
    "    <body>\n",
    "        <div>\n",
    "            <p>\n",
    "                <a href='/page' class='d' id=asdf>페이지 이동1</a>\n",
    "                <a>페이지 이동2></a>\n",
    "            </p>\n",
    "        </div>\n",
    "        <footer>\n",
    "            <a class='d'>페이지 이동3</a>\n",
    "        </footer>\n",
    "    </body>\n",
    "</html>\n",
    "'''"
   ]
  },
  {
   "cell_type": "code",
   "execution_count": 13,
   "metadata": {},
   "outputs": [],
   "source": [
    "dom = BeautifulSoup(html, 'html.parser')"
   ]
  },
  {
   "cell_type": "code",
   "execution_count": 14,
   "metadata": {},
   "outputs": [
    {
     "name": "stdout",
     "output_type": "stream",
     "text": [
      "<html>\n",
      " <head>\n",
      "  <title>\n",
      "   예제\n",
      "  </title>\n",
      " </head>\n",
      " <body>\n",
      "  <div>\n",
      "   <p>\n",
      "    <a class=\"d\" href=\"/page\" id=\"asdf\">\n",
      "     페이지 이동1\n",
      "    </a>\n",
      "    <a>\n",
      "     페이지 이동2&gt;\n",
      "    </a>\n",
      "   </p>\n",
      "  </div>\n",
      "  <footer>\n",
      "   <a class=\"d\">\n",
      "    페이지 이동3\n",
      "   </a>\n",
      "  </footer>\n",
      " </body>\n",
      "</html>\n",
      "\n"
     ]
    }
   ],
   "source": [
    "print(dom.prettify())"
   ]
  },
  {
   "cell_type": "code",
   "execution_count": 15,
   "metadata": {},
   "outputs": [],
   "source": [
    "dom = BeautifulSoup(html, 'lxml')"
   ]
  },
  {
   "cell_type": "code",
   "execution_count": 16,
   "metadata": {},
   "outputs": [
    {
     "name": "stdout",
     "output_type": "stream",
     "text": [
      "<html>\n",
      " <head>\n",
      "  <title>\n",
      "   예제\n",
      "  </title>\n",
      " </head>\n",
      " <body>\n",
      "  <div>\n",
      "   <p>\n",
      "    <a class=\"d\" href=\"/page\" id=\"asdf\">\n",
      "     페이지 이동1\n",
      "    </a>\n",
      "    <a>\n",
      "     페이지 이동2&gt;\n",
      "    </a>\n",
      "   </p>\n",
      "  </div>\n",
      "  <footer>\n",
      "   <a class=\"d\">\n",
      "    페이지 이동3\n",
      "   </a>\n",
      "  </footer>\n",
      " </body>\n",
      "</html>\n",
      "\n"
     ]
    }
   ],
   "source": [
    "print(dom.prettify())"
   ]
  },
  {
   "cell_type": "code",
   "execution_count": 17,
   "metadata": {},
   "outputs": [],
   "source": [
    "# 알아서 수정해줌을 알 수 있다"
   ]
  },
  {
   "cell_type": "code",
   "execution_count": 18,
   "metadata": {},
   "outputs": [
    {
     "data": {
      "text/plain": [
       "<a class=\"d\" href=\"/page\" id=\"asdf\">페이지 이동1</a>"
      ]
     },
     "execution_count": 18,
     "metadata": {},
     "output_type": "execute_result"
    }
   ],
   "source": [
    "dom.body.div.p.a # 가장 처음 나타난 해당 되는 태그 단 한 개"
   ]
  },
  {
   "cell_type": "code",
   "execution_count": 19,
   "metadata": {},
   "outputs": [
    {
     "data": {
      "text/plain": [
       "['\\n',\n",
       " <a class=\"d\" href=\"/page\" id=\"asdf\">페이지 이동1</a>,\n",
       " '\\n',\n",
       " <a>페이지 이동2&gt;</a>,\n",
       " '\\n']"
      ]
     },
     "execution_count": 19,
     "metadata": {},
     "output_type": "execute_result"
    }
   ],
   "source": [
    "list(dom.body.div.p.children)"
   ]
  },
  {
   "cell_type": "code",
   "execution_count": 20,
   "metadata": {},
   "outputs": [
    {
     "ename": "AttributeError",
     "evalue": "'NavigableString' object has no attribute 'has_attr'",
     "output_type": "error",
     "traceback": [
      "\u001b[1;31m---------------------------------------------------------------------------\u001b[0m",
      "\u001b[1;31mAttributeError\u001b[0m                            Traceback (most recent call last)",
      "\u001b[1;32m<ipython-input-20-2617efe66094>\u001b[0m in \u001b[0;36m<module>\u001b[1;34m\u001b[0m\n\u001b[0;32m      1\u001b[0m \u001b[1;32mfor\u001b[0m \u001b[0m_\u001b[0m \u001b[1;32min\u001b[0m \u001b[0mlist\u001b[0m\u001b[1;33m(\u001b[0m\u001b[0mdom\u001b[0m\u001b[1;33m.\u001b[0m\u001b[0mbody\u001b[0m\u001b[1;33m.\u001b[0m\u001b[0mdiv\u001b[0m\u001b[1;33m.\u001b[0m\u001b[0mp\u001b[0m\u001b[1;33m.\u001b[0m\u001b[0mchildren\u001b[0m\u001b[1;33m)\u001b[0m\u001b[1;33m:\u001b[0m\u001b[1;33m\u001b[0m\u001b[1;33m\u001b[0m\u001b[0m\n\u001b[1;32m----> 2\u001b[1;33m     \u001b[1;32mif\u001b[0m \u001b[0m_\u001b[0m\u001b[1;33m.\u001b[0m\u001b[0mhas_attr\u001b[0m\u001b[1;33m(\u001b[0m\u001b[1;34m'class'\u001b[0m\u001b[1;33m)\u001b[0m\u001b[1;33m:\u001b[0m\u001b[1;33m\u001b[0m\u001b[1;33m\u001b[0m\u001b[0m\n\u001b[0m\u001b[0;32m      3\u001b[0m         \u001b[0mprint\u001b[0m\u001b[1;33m(\u001b[0m\u001b[0m_\u001b[0m\u001b[1;33m[\u001b[0m\u001b[1;34m'class'\u001b[0m\u001b[1;33m]\u001b[0m\u001b[1;33m)\u001b[0m\u001b[1;33m\u001b[0m\u001b[1;33m\u001b[0m\u001b[0m\n",
      "\u001b[1;32m~\\Anaconda3\\lib\\site-packages\\bs4\\element.py\u001b[0m in \u001b[0;36m__getattr__\u001b[1;34m(self, attr)\u001b[0m\n\u001b[0;32m    735\u001b[0m             raise AttributeError(\n\u001b[0;32m    736\u001b[0m                 \"'%s' object has no attribute '%s'\" % (\n\u001b[1;32m--> 737\u001b[1;33m                     self.__class__.__name__, attr))\n\u001b[0m\u001b[0;32m    738\u001b[0m \u001b[1;33m\u001b[0m\u001b[0m\n\u001b[0;32m    739\u001b[0m     \u001b[1;32mdef\u001b[0m \u001b[0moutput_ready\u001b[0m\u001b[1;33m(\u001b[0m\u001b[0mself\u001b[0m\u001b[1;33m,\u001b[0m \u001b[0mformatter\u001b[0m\u001b[1;33m=\u001b[0m\u001b[1;34m\"minimal\"\u001b[0m\u001b[1;33m)\u001b[0m\u001b[1;33m:\u001b[0m\u001b[1;33m\u001b[0m\u001b[1;33m\u001b[0m\u001b[0m\n",
      "\u001b[1;31mAttributeError\u001b[0m: 'NavigableString' object has no attribute 'has_attr'"
     ]
    }
   ],
   "source": [
    "for _ in list(dom.body.div.p.children):\n",
    "    if _.has_attr('class'):\n",
    "        print(_['class'])"
   ]
  },
  {
   "cell_type": "code",
   "execution_count": 21,
   "metadata": {},
   "outputs": [
    {
     "data": {
      "text/plain": [
       "('/page', False, True)"
      ]
     },
     "execution_count": 21,
     "metadata": {},
     "output_type": "execute_result"
    }
   ],
   "source": [
    "dom.a['href'], dom.a == None, dom.asdasff == None"
   ]
  },
  {
   "cell_type": "code",
   "execution_count": 22,
   "metadata": {},
   "outputs": [],
   "source": [
    "# 문제점\n",
    "# 1. 없는 태그(노드) 못 거름 -> NoneType 객체 -> Warning(잠재적 에러 요소를 갖고있음)\n",
    "# 2. 특정 노드를 원할 때 -> 처음 나온 노드 하나만 반환하는 문제"
   ]
  },
  {
   "cell_type": "code",
   "execution_count": 23,
   "metadata": {},
   "outputs": [
    {
     "data": {
      "text/plain": [
       "(<a class=\"d\" href=\"/page\" id=\"asdf\">페이지 이동1</a>,\n",
       " '/page',\n",
       " <a class=\"d\">페이지 이동3</a>)"
      ]
     },
     "execution_count": 23,
     "metadata": {},
     "output_type": "execute_result"
    }
   ],
   "source": [
    "dom.find('a'), dom.find('a')['href'], dom.find_all('a')[-1]"
   ]
  },
  {
   "cell_type": "code",
   "execution_count": 24,
   "metadata": {},
   "outputs": [
    {
     "data": {
      "text/plain": [
       "{'href': '/page', 'class': ['d'], 'id': 'asdf'}"
      ]
     },
     "execution_count": 24,
     "metadata": {},
     "output_type": "execute_result"
    }
   ],
   "source": [
    "dom.find('a').attrs"
   ]
  },
  {
   "cell_type": "code",
   "execution_count": 25,
   "metadata": {},
   "outputs": [
    {
     "data": {
      "text/plain": [
       "(4,\n",
       " [<p>\n",
       "  <a class=\"d\" href=\"/page\" id=\"asdf\">페이지 이동1</a>\n",
       "  <a>페이지 이동2&gt;</a>\n",
       "  </p>,\n",
       "  <a class=\"d\" href=\"/page\" id=\"asdf\">페이지 이동1</a>,\n",
       "  <a>페이지 이동2&gt;</a>,\n",
       "  <a class=\"d\">페이지 이동3</a>])"
      ]
     },
     "execution_count": 25,
     "metadata": {},
     "output_type": "execute_result"
    }
   ],
   "source": [
    "len(dom.find_all({'p', 'a'})), dom.find_all({'p', 'a'})"
   ]
  },
  {
   "cell_type": "code",
   "execution_count": 26,
   "metadata": {},
   "outputs": [
    {
     "data": {
      "text/plain": [
       "([<a class=\"d\" href=\"/page\" id=\"asdf\">페이지 이동1</a>,\n",
       "  <a>페이지 이동2&gt;</a>,\n",
       "  <a class=\"d\">페이지 이동3</a>],\n",
       " [<a class=\"d\" href=\"/page\" id=\"asdf\">페이지 이동1</a>])"
      ]
     },
     "execution_count": 26,
     "metadata": {},
     "output_type": "execute_result"
    }
   ],
   "source": [
    "dom.find_all('a'), dom.find_all('a', {'id':'asdf'})"
   ]
  },
  {
   "cell_type": "code",
   "execution_count": 27,
   "metadata": {},
   "outputs": [
    {
     "data": {
      "text/plain": [
       "['페이지 이동1']"
      ]
     },
     "execution_count": 27,
     "metadata": {},
     "output_type": "execute_result"
    }
   ],
   "source": [
    "dom.find_all(text='페이지 이동1')"
   ]
  },
  {
   "cell_type": "code",
   "execution_count": 28,
   "metadata": {},
   "outputs": [
    {
     "data": {
      "text/plain": [
       "[<a class=\"d\" href=\"/page\" id=\"asdf\">페이지 이동1</a>]"
      ]
     },
     "execution_count": 28,
     "metadata": {},
     "output_type": "execute_result"
    }
   ],
   "source": [
    "dom.find_all('a', limit=1) # limit=1 -> 딱 하나 찾음"
   ]
  },
  {
   "cell_type": "code",
   "execution_count": 29,
   "metadata": {},
   "outputs": [
    {
     "data": {
      "text/plain": [
       "[<a class=\"d\" href=\"/page\" id=\"asdf\">페이지 이동1</a>, <a>페이지 이동2&gt;</a>]"
      ]
     },
     "execution_count": 29,
     "metadata": {},
     "output_type": "execute_result"
    }
   ],
   "source": [
    "dom.find_all('a', limit=2) # 수십수백 개 있는 a를 몇 개까지 갖고올 것인지"
   ]
  },
  {
   "cell_type": "code",
   "execution_count": 30,
   "metadata": {},
   "outputs": [
    {
     "data": {
      "text/plain": [
       "[<a class=\"d\" href=\"/page\" id=\"asdf\">페이지 이동1</a>, <a class=\"d\">페이지 이동3</a>]"
      ]
     },
     "execution_count": 30,
     "metadata": {},
     "output_type": "execute_result"
    }
   ],
   "source": [
    "dom.find_all(attrs={'class':'d'}) # 태그 상관 없이 특정 클래스만 지칭"
   ]
  },
  {
   "cell_type": "code",
   "execution_count": 31,
   "metadata": {},
   "outputs": [
    {
     "data": {
      "text/plain": [
       "[<a class=\"d\" href=\"/page\" id=\"asdf\">페이지 이동1</a>, <a class=\"d\">페이지 이동3</a>]"
      ]
     },
     "execution_count": 31,
     "metadata": {},
     "output_type": "execute_result"
    }
   ],
   "source": [
    "dom.find_all('a', attrs={'class':'d'}) # 태그도 지칭"
   ]
  },
  {
   "cell_type": "code",
   "execution_count": 32,
   "metadata": {},
   "outputs": [],
   "source": [
    "html = '''\n",
    "<html>\n",
    "    <head>\n",
    "        <title>예제</title>\n",
    "    </head>\n",
    "    <body>\n",
    "        <div>\n",
    "            <p>\n",
    "                <a href='/page' class='d' id=asdf>페이지 이동1</a>\n",
    "                <a>페이지 이동2></a>\n",
    "            </p>\n",
    "        </div>\n",
    "        <footer>\n",
    "            <a class='d'>페이지 이동3</a>\n",
    "        </footer>\n",
    "    </body>\n",
    "</html>\n",
    "'''"
   ]
  },
  {
   "cell_type": "code",
   "execution_count": 33,
   "metadata": {},
   "outputs": [],
   "source": [
    "dom = BeautifulSoup(html, 'html.parser')"
   ]
  },
  {
   "cell_type": "code",
   "execution_count": 34,
   "metadata": {},
   "outputs": [
    {
     "data": {
      "text/plain": [
       "<div>\n",
       "<p>\n",
       "<a class=\"d\" href=\"/page\" id=\"asdf\">페이지 이동1</a>\n",
       "<a>페이지 이동2&gt;</a>\n",
       "</p>\n",
       "</div>"
      ]
     },
     "execution_count": 34,
     "metadata": {},
     "output_type": "execute_result"
    }
   ],
   "source": [
    "dom.div"
   ]
  },
  {
   "cell_type": "code",
   "execution_count": 35,
   "metadata": {},
   "outputs": [
    {
     "data": {
      "text/plain": [
       "([<a class=\"d\" href=\"/page\" id=\"asdf\">페이지 이동1</a>,\n",
       "  <a>페이지 이동2&gt;</a>,\n",
       "  <a class=\"d\">페이지 이동3</a>],\n",
       " [<a class=\"d\" href=\"/page\" id=\"asdf\">페이지 이동1</a>, <a class=\"d\">페이지 이동3</a>])"
      ]
     },
     "execution_count": 35,
     "metadata": {},
     "output_type": "execute_result"
    }
   ],
   "source": [
    "dom.find_all('a'), dom.find_all('a', attrs={'class':'d'})"
   ]
  },
  {
   "cell_type": "code",
   "execution_count": 36,
   "metadata": {},
   "outputs": [
    {
     "data": {
      "text/plain": [
       "[<a class=\"d\">페이지 이동3</a>]"
      ]
     },
     "execution_count": 36,
     "metadata": {},
     "output_type": "execute_result"
    }
   ],
   "source": [
    "dom.footer.find_all('a')"
   ]
  },
  {
   "cell_type": "code",
   "execution_count": 37,
   "metadata": {},
   "outputs": [
    {
     "data": {
      "text/plain": [
       "[<a class=\"d\" href=\"/page\" id=\"asdf\">페이지 이동1</a>, <a>페이지 이동2&gt;</a>]"
      ]
     },
     "execution_count": 37,
     "metadata": {},
     "output_type": "execute_result"
    }
   ],
   "source": [
    "dom.div.find_all('a')"
   ]
  },
  {
   "cell_type": "code",
   "execution_count": 38,
   "metadata": {},
   "outputs": [],
   "source": [
    "node = dom.footer.a # 시작점"
   ]
  },
  {
   "cell_type": "code",
   "execution_count": 39,
   "metadata": {},
   "outputs": [
    {
     "data": {
      "text/plain": [
       "bs4.element.Tag"
      ]
     },
     "execution_count": 39,
     "metadata": {},
     "output_type": "execute_result"
    }
   ],
   "source": [
    "type(node) # 태그인지 확인"
   ]
  },
  {
   "cell_type": "code",
   "execution_count": 40,
   "metadata": {},
   "outputs": [
    {
     "data": {
      "text/plain": [
       "{'class': ['d']}"
      ]
     },
     "execution_count": 40,
     "metadata": {},
     "output_type": "execute_result"
    }
   ],
   "source": [
    "node.attrs"
   ]
  },
  {
   "cell_type": "code",
   "execution_count": 41,
   "metadata": {},
   "outputs": [
    {
     "data": {
      "text/plain": [
       "'footer'"
      ]
     },
     "execution_count": 41,
     "metadata": {},
     "output_type": "execute_result"
    }
   ],
   "source": [
    "node.find_parent().name"
   ]
  },
  {
   "cell_type": "code",
   "execution_count": 42,
   "metadata": {},
   "outputs": [
    {
     "name": "stdout",
     "output_type": "stream",
     "text": [
      "footer\n",
      "body\n",
      "html\n",
      "[document]\n"
     ]
    }
   ],
   "source": [
    "for _ in node.find_parents():\n",
    "    print(_.name)"
   ]
  },
  {
   "cell_type": "code",
   "execution_count": 43,
   "metadata": {},
   "outputs": [
    {
     "name": "stdout",
     "output_type": "stream",
     "text": [
      "p\n"
     ]
    }
   ],
   "source": [
    "for _ in dom.div.find_all(recursive=False): # 자손은 빼고 자신만\n",
    "    print(_.name)"
   ]
  },
  {
   "cell_type": "code",
   "execution_count": 44,
   "metadata": {},
   "outputs": [
    {
     "data": {
      "text/plain": [
       "'div'"
      ]
     },
     "execution_count": 44,
     "metadata": {},
     "output_type": "execute_result"
    }
   ],
   "source": [
    "node.find_parent().find_parent().find().name"
   ]
  },
  {
   "cell_type": "code",
   "execution_count": 45,
   "metadata": {},
   "outputs": [
    {
     "data": {
      "text/plain": [
       "<a>페이지 이동2&gt;</a>"
      ]
     },
     "execution_count": 45,
     "metadata": {},
     "output_type": "execute_result"
    }
   ],
   "source": [
    "node.find_parent().find_parent().find().find('a').find_next_sibling()"
   ]
  },
  {
   "cell_type": "code",
   "execution_count": 46,
   "metadata": {},
   "outputs": [],
   "source": [
    "from urllib import robotparser\n",
    "from urllib.request import urlopen, Request\n",
    "from urllib.robotparser import RobotFileParser\n",
    "import requests\n",
    "from requests.compat import urlparse, urljoin\n",
    "from requests.exceptions import HTTPError\n",
    "import time"
   ]
  },
  {
   "cell_type": "code",
   "execution_count": 47,
   "metadata": {},
   "outputs": [],
   "source": [
    "def canfetch(url, agent='*', path='/'):\n",
    "    robot = RobotFileParser(urljoin(url, 'robots.txt'))\n",
    "    robot.read()\n",
    "    return robot.can_fetch(agent, urlparse(url)[2])\n",
    "\n",
    "def download(url, params={}, headers={}, method='GET', limit=3):\n",
    "    if canfetch(url) == False:\n",
    "        print('[Error] ' + url)\n",
    "    try:\n",
    "        resp = requests.request(method, url,\n",
    "               params=params if method=='GET' else {},\n",
    "               data=params if method=='POST' else {},\n",
    "               headers=headers)\n",
    "        resp.raise_for_status()\n",
    "    except HTTPError as e:\n",
    "        if limit > 0 and e.response.status_code >= 500:\n",
    "            print(limit)\n",
    "            time.sleep(1)\n",
    "            resp = download(url, params, headers, method, limit-1)\n",
    "        else:\n",
    "            print('[{}] '.format(e.response.status_code) + url)\n",
    "            print(e.response.status_code)\n",
    "            print(e.response.reason)\n",
    "            print(e.response.headers)\n",
    "    return resp"
   ]
  },
  {
   "cell_type": "code",
   "execution_count": 48,
   "metadata": {},
   "outputs": [],
   "source": [
    "resp = download('http://pythonscraping.com/pages/page3.html')\n",
    "dom = BeautifulSoup(resp.content, 'lxml')"
   ]
  },
  {
   "cell_type": "code",
   "execution_count": 49,
   "metadata": {},
   "outputs": [],
   "source": [
    "node = dom.find('div', {'id':'footer'})"
   ]
  },
  {
   "cell_type": "code",
   "execution_count": 50,
   "metadata": {},
   "outputs": [
    {
     "name": "stdout",
     "output_type": "stream",
     "text": [
      "div\n",
      "body\n",
      "html\n",
      "[document]\n"
     ]
    }
   ],
   "source": [
    "for _ in node.find_parents():\n",
    "    print(_.name)"
   ]
  },
  {
   "cell_type": "code",
   "execution_count": 51,
   "metadata": {},
   "outputs": [
    {
     "data": {
      "text/plain": [
       "<img src=\"../img/gifts/logo.jpg\" style=\"float:left;\"/>"
      ]
     },
     "execution_count": 51,
     "metadata": {},
     "output_type": "execute_result"
    }
   ],
   "source": [
    "node.find_parents('div')[0].find_all(recursive=False)[0] # 이미지"
   ]
  },
  {
   "cell_type": "code",
   "execution_count": 52,
   "metadata": {},
   "outputs": [
    {
     "data": {
      "text/plain": [
       "'../img/gifts/logo.jpg'"
      ]
     },
     "execution_count": 52,
     "metadata": {},
     "output_type": "execute_result"
    }
   ],
   "source": [
    "node.find_parents('div')[0].find_all(resursive=False)[0]['src'] # 이미지 주소"
   ]
  },
  {
   "cell_type": "code",
   "execution_count": 53,
   "metadata": {},
   "outputs": [
    {
     "name": "stdout",
     "output_type": "stream",
     "text": [
      "table\n",
      "div\n",
      "h1\n",
      "img\n"
     ]
    }
   ],
   "source": [
    "for _ in node.find_previous_siblings():\n",
    "    print(_.name)"
   ]
  },
  {
   "cell_type": "code",
   "execution_count": 54,
   "metadata": {},
   "outputs": [
    {
     "data": {
      "text/plain": [
       "'../img/gifts/logo.jpg'"
      ]
     },
     "execution_count": 54,
     "metadata": {},
     "output_type": "execute_result"
    }
   ],
   "source": [
    "node.find_previous_siblings()[-1]['src']"
   ]
  },
  {
   "cell_type": "code",
   "execution_count": 55,
   "metadata": {},
   "outputs": [
    {
     "data": {
      "text/plain": [
       "'http://pythonscraping.com/img/gifts/logo.jpg'"
      ]
     },
     "execution_count": 55,
     "metadata": {},
     "output_type": "execute_result"
    }
   ],
   "source": [
    "urljoin(resp.request.url, node.find_previous_siblings()[-1]['src'])"
   ]
  },
  {
   "cell_type": "code",
   "execution_count": 56,
   "metadata": {},
   "outputs": [
    {
     "data": {
      "text/plain": [
       "[<tr><th>\n",
       " Item Title\n",
       " </th><th>\n",
       " Description\n",
       " </th><th>\n",
       " Cost\n",
       " </th><th>\n",
       " Image\n",
       " </th></tr>,\n",
       " <tr class=\"gift\" id=\"gift1\"><td>\n",
       " Vegetable Basket\n",
       " </td><td>\n",
       " This vegetable basket is the perfect gift for your health conscious (or overweight) friends!\n",
       " <span class=\"excitingNote\">Now with super-colorful bell peppers!</span>\n",
       " </td><td>\n",
       " $15.00\n",
       " </td><td>\n",
       " <img src=\"../img/gifts/img1.jpg\"/>\n",
       " </td></tr>,\n",
       " <tr class=\"gift\" id=\"gift2\"><td>\n",
       " Russian Nesting Dolls\n",
       " </td><td>\n",
       " Hand-painted by trained monkeys, these exquisite dolls are priceless! And by \"priceless,\" we mean \"extremely expensive\"! <span class=\"excitingNote\">8 entire dolls per set! Octuple the presents!</span>\n",
       " </td><td>\n",
       " $10,000.52\n",
       " </td><td>\n",
       " <img src=\"../img/gifts/img2.jpg\"/>\n",
       " </td></tr>,\n",
       " <tr class=\"gift\" id=\"gift3\"><td>\n",
       " Fish Painting\n",
       " </td><td>\n",
       " If something seems fishy about this painting, it's because it's a fish! <span class=\"excitingNote\">Also hand-painted by trained monkeys!</span>\n",
       " </td><td>\n",
       " $10,005.00\n",
       " </td><td>\n",
       " <img src=\"../img/gifts/img3.jpg\"/>\n",
       " </td></tr>,\n",
       " <tr class=\"gift\" id=\"gift4\"><td>\n",
       " Dead Parrot\n",
       " </td><td>\n",
       " This is an ex-parrot! <span class=\"excitingNote\">Or maybe he's only resting?</span>\n",
       " </td><td>\n",
       " $0.50\n",
       " </td><td>\n",
       " <img src=\"../img/gifts/img4.jpg\"/>\n",
       " </td></tr>,\n",
       " <tr class=\"gift\" id=\"gift5\"><td>\n",
       " Mystery Box\n",
       " </td><td>\n",
       " If you love suprises, this mystery box is for you! Do not place on light-colored surfaces. May cause oil staining. <span class=\"excitingNote\">Keep your friends guessing!</span>\n",
       " </td><td>\n",
       " $1.50\n",
       " </td><td>\n",
       " <img src=\"../img/gifts/img6.jpg\"/>\n",
       " </td></tr>]"
      ]
     },
     "execution_count": 56,
     "metadata": {},
     "output_type": "execute_result"
    }
   ],
   "source": [
    "node.find_previous_siblings('table')[0].find_all(recursive=False) # 자식들"
   ]
  },
  {
   "cell_type": "code",
   "execution_count": 57,
   "metadata": {},
   "outputs": [
    {
     "data": {
      "text/plain": [
       "'../img/gifts/img3.jpg'"
      ]
     },
     "execution_count": 57,
     "metadata": {},
     "output_type": "execute_result"
    }
   ],
   "source": [
    "node.find_previous_siblings('table')[0].find_all(recursive=False)[3].find('img')['src']"
   ]
  },
  {
   "cell_type": "code",
   "execution_count": 58,
   "metadata": {
    "scrolled": true
   },
   "outputs": [
    {
     "data": {
      "text/plain": [
       "[<tr><th>\n",
       " Item Title\n",
       " </th><th>\n",
       " Description\n",
       " </th><th>\n",
       " Cost\n",
       " </th><th>\n",
       " Image\n",
       " </th></tr>,\n",
       " <tr class=\"gift\" id=\"gift1\"><td>\n",
       " Vegetable Basket\n",
       " </td><td>\n",
       " This vegetable basket is the perfect gift for your health conscious (or overweight) friends!\n",
       " <span class=\"excitingNote\">Now with super-colorful bell peppers!</span>\n",
       " </td><td>\n",
       " $15.00\n",
       " </td><td>\n",
       " <img src=\"../img/gifts/img1.jpg\"/>\n",
       " </td></tr>,\n",
       " <tr class=\"gift\" id=\"gift2\"><td>\n",
       " Russian Nesting Dolls\n",
       " </td><td>\n",
       " Hand-painted by trained monkeys, these exquisite dolls are priceless! And by \"priceless,\" we mean \"extremely expensive\"! <span class=\"excitingNote\">8 entire dolls per set! Octuple the presents!</span>\n",
       " </td><td>\n",
       " $10,000.52\n",
       " </td><td>\n",
       " <img src=\"../img/gifts/img2.jpg\"/>\n",
       " </td></tr>,\n",
       " <tr class=\"gift\" id=\"gift3\"><td>\n",
       " Fish Painting\n",
       " </td><td>\n",
       " If something seems fishy about this painting, it's because it's a fish! <span class=\"excitingNote\">Also hand-painted by trained monkeys!</span>\n",
       " </td><td>\n",
       " $10,005.00\n",
       " </td><td>\n",
       " <img src=\"../img/gifts/img3.jpg\"/>\n",
       " </td></tr>,\n",
       " <tr class=\"gift\" id=\"gift4\"><td>\n",
       " Dead Parrot\n",
       " </td><td>\n",
       " This is an ex-parrot! <span class=\"excitingNote\">Or maybe he's only resting?</span>\n",
       " </td><td>\n",
       " $0.50\n",
       " </td><td>\n",
       " <img src=\"../img/gifts/img4.jpg\"/>\n",
       " </td></tr>,\n",
       " <tr class=\"gift\" id=\"gift5\"><td>\n",
       " Mystery Box\n",
       " </td><td>\n",
       " If you love suprises, this mystery box is for you! Do not place on light-colored surfaces. May cause oil staining. <span class=\"excitingNote\">Keep your friends guessing!</span>\n",
       " </td><td>\n",
       " $1.50\n",
       " </td><td>\n",
       " <img src=\"../img/gifts/img6.jpg\"/>\n",
       " </td></tr>]"
      ]
     },
     "execution_count": 58,
     "metadata": {},
     "output_type": "execute_result"
    }
   ],
   "source": [
    "dom.find('table').find_all(recursive=False) # 자식 tr들만"
   ]
  },
  {
   "cell_type": "code",
   "execution_count": 59,
   "metadata": {},
   "outputs": [
    {
     "name": "stdout",
     "output_type": "stream",
     "text": [
      "$15.00\n",
      "$10,000.52\n",
      "$10,005.00\n",
      "$0.50\n",
      "$1.50\n"
     ]
    }
   ],
   "source": [
    "for _ in dom.find('table').find_all(recursive=False)[1:]:\n",
    "    print(_.find_all('td', recursive=False)[2].text.strip())"
   ]
  },
  {
   "cell_type": "code",
   "execution_count": 60,
   "metadata": {},
   "outputs": [],
   "source": [
    "# 속성을 가져와보자"
   ]
  },
  {
   "cell_type": "code",
   "execution_count": 61,
   "metadata": {
    "scrolled": true
   },
   "outputs": [
    {
     "data": {
      "text/plain": [
       "[<tr class=\"gift\" id=\"gift1\"><td>\n",
       " Vegetable Basket\n",
       " </td><td>\n",
       " This vegetable basket is the perfect gift for your health conscious (or overweight) friends!\n",
       " <span class=\"excitingNote\">Now with super-colorful bell peppers!</span>\n",
       " </td><td>\n",
       " $15.00\n",
       " </td><td>\n",
       " <img src=\"../img/gifts/img1.jpg\"/>\n",
       " </td></tr>,\n",
       " <tr class=\"gift\" id=\"gift2\"><td>\n",
       " Russian Nesting Dolls\n",
       " </td><td>\n",
       " Hand-painted by trained monkeys, these exquisite dolls are priceless! And by \"priceless,\" we mean \"extremely expensive\"! <span class=\"excitingNote\">8 entire dolls per set! Octuple the presents!</span>\n",
       " </td><td>\n",
       " $10,000.52\n",
       " </td><td>\n",
       " <img src=\"../img/gifts/img2.jpg\"/>\n",
       " </td></tr>,\n",
       " <tr class=\"gift\" id=\"gift3\"><td>\n",
       " Fish Painting\n",
       " </td><td>\n",
       " If something seems fishy about this painting, it's because it's a fish! <span class=\"excitingNote\">Also hand-painted by trained monkeys!</span>\n",
       " </td><td>\n",
       " $10,005.00\n",
       " </td><td>\n",
       " <img src=\"../img/gifts/img3.jpg\"/>\n",
       " </td></tr>,\n",
       " <tr class=\"gift\" id=\"gift4\"><td>\n",
       " Dead Parrot\n",
       " </td><td>\n",
       " This is an ex-parrot! <span class=\"excitingNote\">Or maybe he's only resting?</span>\n",
       " </td><td>\n",
       " $0.50\n",
       " </td><td>\n",
       " <img src=\"../img/gifts/img4.jpg\"/>\n",
       " </td></tr>,\n",
       " <tr class=\"gift\" id=\"gift5\"><td>\n",
       " Mystery Box\n",
       " </td><td>\n",
       " If you love suprises, this mystery box is for you! Do not place on light-colored surfaces. May cause oil staining. <span class=\"excitingNote\">Keep your friends guessing!</span>\n",
       " </td><td>\n",
       " $1.50\n",
       " </td><td>\n",
       " <img src=\"../img/gifts/img6.jpg\"/>\n",
       " </td></tr>]"
      ]
     },
     "execution_count": 61,
     "metadata": {},
     "output_type": "execute_result"
    }
   ],
   "source": [
    "dom.find_all(attrs={'class':'gift'}) # 태그에 상관없이 어트리뷰트의 class가 gift인 애들"
   ]
  },
  {
   "cell_type": "code",
   "execution_count": 62,
   "metadata": {
    "scrolled": true
   },
   "outputs": [
    {
     "name": "stdout",
     "output_type": "stream",
     "text": [
      "['Vegetable Basket', 'This vegetable basket is the perfect gift for your health conscious (or overweight) friends!\\nNow with super-colorful bell peppers!', 'Now with super-colorful bell peppers!', '$15.00', '', '']\n",
      "['Russian Nesting Dolls', 'Hand-painted by trained monkeys, these exquisite dolls are priceless! And by \"priceless,\" we mean \"extremely expensive\"! 8 entire dolls per set! Octuple the presents!', '8 entire dolls per set! Octuple the presents!', '$10,000.52', '', '']\n",
      "['Fish Painting', \"If something seems fishy about this painting, it's because it's a fish! Also hand-painted by trained monkeys!\", 'Also hand-painted by trained monkeys!', '$10,005.00', '', '']\n",
      "['Dead Parrot', \"This is an ex-parrot! Or maybe he's only resting?\", \"Or maybe he's only resting?\", '$0.50', '', '']\n",
      "['Mystery Box', 'If you love suprises, this mystery box is for you! Do not place on light-colored surfaces. May cause oil staining. Keep your friends guessing!', 'Keep your friends guessing!', '$1.50', '', '']\n"
     ]
    }
   ],
   "source": [
    "for _ in dom.find_all(attrs={'class':'gift'}):\n",
    "    print([td.text.strip() for td in _.find_all()])"
   ]
  },
  {
   "cell_type": "markdown",
   "metadata": {},
   "source": [
    "### '파이썬' 검색창에서 제목과 링크 가져오기"
   ]
  },
  {
   "cell_type": "code",
   "execution_count": 63,
   "metadata": {},
   "outputs": [],
   "source": [
    "from requests import request\n",
    "from requests.compat import urljoin, urlparse\n",
    "from requests.exceptions import HTTPError\n",
    "from urllib.robotparser import RobotFileParser\n",
    "from bs4 import BeautifulSoup\n",
    "from time import sleep"
   ]
  },
  {
   "cell_type": "code",
   "execution_count": 64,
   "metadata": {},
   "outputs": [],
   "source": [
    "def canfetch(url, agent='*', path='/'):\n",
    "    robot = RobotFileParser(urljoin(url, '/robots.txt'))\n",
    "    robot.read()\n",
    "    return robot.can_fetch(agent, urlparse(url)[2])\n",
    "    \n",
    "def download(url, params={}, headers={}, method='GET', limit=3):\n",
    "    if canfetch(url) == False:\n",
    "        print('[Error] ' + url)\n",
    "#     else: # 실제 수집할 때, 제약사항이 많으므로 여기선 잠시 해제\n",
    "    try:\n",
    "        resp = request(method, url,\n",
    "               params=params if method=='GET' else {},\n",
    "               data=params if method=='POST' else {},\n",
    "               headers=headers)\n",
    "        resp.raise_for_status()\n",
    "    except HTTPError as e:\n",
    "        if limit > 0 and e.response.status_code >= 500:\n",
    "            print(limit)\n",
    "            time.sleep(1) # => random\n",
    "            resp = download(url, params, headers, method, limit-1)\n",
    "        else:\n",
    "            print('[{}] '.format(e.response.status_code) + url)\n",
    "            print(e.response.status_code)\n",
    "            print(e.response.reason)\n",
    "            print(e.response.headers)\n",
    "    return resp"
   ]
  },
  {
   "cell_type": "code",
   "execution_count": 65,
   "metadata": {},
   "outputs": [
    {
     "name": "stdout",
     "output_type": "stream",
     "text": [
      "[Error] https://www.google.com/search\n"
     ]
    }
   ],
   "source": [
    "url = 'https://www.google.com/search'\n",
    "params = {\n",
    "    'q':'',\n",
    "    'oq':'',\n",
    "    'aqs':'chrome..69i57j69i59j69i65l3j69i61j69i60j69i61.1205j0j7',\n",
    "    'sourceid':'chrome',\n",
    "    'ie':'UTF-8'\n",
    "}\n",
    "params['q'] = params['oq'] = '파 이 썬'\n",
    "headers = {\n",
    "    'user-agent':'Mozilla/5.0 (Windows NT 10.0; Win64; x64) AppleWebKit/537.36 (KHTML, like Gecko) Chrome/83.0.4103.116 Safari/537.36'\n",
    "}\n",
    "resp = download(url, params, headers, 'GET')\n",
    "dom = BeautifulSoup(resp.text, 'html.parser')"
   ]
  },
  {
   "cell_type": "code",
   "execution_count": 66,
   "metadata": {},
   "outputs": [
    {
     "data": {
      "text/plain": [
       "['파이썬 자습서 — Python 3.8.5 문서',\n",
       " '1 파이썬 시작하기 - 왕초보를 위한 Python - WikiDocs',\n",
       " 'Python - 나무위키',\n",
       " '파이썬 - 위키백과, 우리 모두의 백과사전',\n",
       " '파이썬의 인기는 언제까지 갈까? - Byline Network',\n",
       " '강좌: 파이썬 코딩 도장',\n",
       " '모두를 위한 프로그래밍 : 파이썬 강좌소개 : edwith']"
      ]
     },
     "execution_count": 66,
     "metadata": {},
     "output_type": "execute_result"
    }
   ],
   "source": [
    "[_.text.strip() for _ in dom.find_all('h3', {'class':'LC20lb'})]"
   ]
  },
  {
   "cell_type": "code",
   "execution_count": 67,
   "metadata": {
    "scrolled": true
   },
   "outputs": [
    {
     "name": "stdout",
     "output_type": "stream",
     "text": [
      "<div class=\"r\"><a href=\"https://docs.python.org/ko/3/tutorial/index.html\" ping=\"/url?sa=t&amp;source=web&amp;rct=j&amp;url=https://docs.python.org/ko/3/tutorial/index.html&amp;ved=2ahUKEwj8hv_Tjf_qAhVzNKYKHWTwAPgQFjAKegQIBBAB\"><br/><h3 class=\"LC20lb DKV0Md\">파이썬 자습서 — Python 3.8.5 문서</h3><div class=\"TbwUpd NJjxre\"><cite class=\"iUh30 bc tjvcx\">docs.python.org<span class=\"eipWBe\"> › tutorial</span></cite></div></a><div class=\"B6fmyf\"><div class=\"TbwUpd\"><cite class=\"iUh30 bc tjvcx\">docs.python.org<span class=\"eipWBe\"> › tutorial</span></cite></div><div class=\"eFM0qc\"><span><div class=\"action-menu\"><a aria-expanded=\"false\" aria-haspopup=\"true\" aria-label=\"검색결과 옵션\" class=\"GHDvEf\" data-ved=\"2ahUKEwj8hv_Tjf_qAhVzNKYKHWTwAPgQ7B0wCnoECAQQBA\" href=\"#\" id=\"am-b10\" jsaction=\"m.tdd;keydown:m.hbke;keypress:m.mskpe\" role=\"button\"><span class=\"mn-dwn-arw\"></span></a><ol class=\"action-menu-panel\" data-ved=\"2ahUKEwj8hv_Tjf_qAhVzNKYKHWTwAPgQqR8wCnoECAQQBQ\" jsaction=\"keydown:m.hdke;mouseover:m.hdhne;mouseout:m.hdhue\" role=\"menu\" tabindex=\"-1\"><li class=\"action-menu-item\" role=\"menuitem\"><a class=\"fl\" href=\"https://webcache.googleusercontent.com/search?q=cache:Rib_O5KvImcJ:https://docs.python.org/ko/3/tutorial/index.html+&amp;cd=11&amp;hl=ko&amp;ct=clnk&amp;gl=kr\" ping=\"/url?sa=t&amp;source=web&amp;rct=j&amp;url=https://webcache.googleusercontent.com/search%3Fq%3Dcache:Rib_O5KvImcJ:https://docs.python.org/ko/3/tutorial/index.html%2B%26cd%3D11%26hl%3Dko%26ct%3Dclnk%26gl%3Dkr&amp;ved=2ahUKEwj8hv_Tjf_qAhVzNKYKHWTwAPgQIDAKegQIBBAG\">저장된 페이지</a></li></ol></div></span></div></div></div>\n",
      "{'class': ['r']}\n",
      "<div class=\"r\"><a href=\"https://wikidocs.net/43\" ping=\"/url?sa=t&amp;source=web&amp;rct=j&amp;url=https://wikidocs.net/43&amp;ved=2ahUKEwj8hv_Tjf_qAhVzNKYKHWTwAPgQFjALegQIAxAB\"><br/><h3 class=\"LC20lb DKV0Md\">1 파이썬 시작하기 - 왕초보를 위한 Python - WikiDocs</h3><div class=\"TbwUpd NJjxre\"><cite class=\"iUh30 bc tjvcx\">wikidocs.net<span class=\"eipWBe\"> › ...</span></cite></div></a><div class=\"B6fmyf\"><div class=\"TbwUpd\"><cite class=\"iUh30 bc tjvcx\">wikidocs.net<span class=\"eipWBe\"> › ...</span></cite></div><div class=\"eFM0qc\"><span><div class=\"action-menu\"><a aria-expanded=\"false\" aria-haspopup=\"true\" aria-label=\"검색결과 옵션\" class=\"GHDvEf\" data-ved=\"2ahUKEwj8hv_Tjf_qAhVzNKYKHWTwAPgQ7B0wC3oECAMQBA\" href=\"#\" id=\"am-b11\" jsaction=\"m.tdd;keydown:m.hbke;keypress:m.mskpe\" role=\"button\"><span class=\"mn-dwn-arw\"></span></a><ol class=\"action-menu-panel\" data-ved=\"2ahUKEwj8hv_Tjf_qAhVzNKYKHWTwAPgQqR8wC3oECAMQBQ\" jsaction=\"keydown:m.hdke;mouseover:m.hdhne;mouseout:m.hdhue\" role=\"menu\" tabindex=\"-1\"><li class=\"action-menu-item\" role=\"menuitem\"><a class=\"fl\" href=\"https://webcache.googleusercontent.com/search?q=cache:iAvUjph6SDAJ:https://wikidocs.net/43+&amp;cd=12&amp;hl=ko&amp;ct=clnk&amp;gl=kr\" ping=\"/url?sa=t&amp;source=web&amp;rct=j&amp;url=https://webcache.googleusercontent.com/search%3Fq%3Dcache:iAvUjph6SDAJ:https://wikidocs.net/43%2B%26cd%3D12%26hl%3Dko%26ct%3Dclnk%26gl%3Dkr&amp;ved=2ahUKEwj8hv_Tjf_qAhVzNKYKHWTwAPgQIDALegQIAxAG\">저장된 페이지</a></li><li class=\"action-menu-item\" role=\"menuitem\"><a class=\"fl\" href=\"/search?q=related:https://wikidocs.net/43+%ED%8C%8C+%EC%9D%B4+%EC%8D%AC&amp;tbo=1&amp;sa=X&amp;ved=2ahUKEwj8hv_Tjf_qAhVzNKYKHWTwAPgQHzALegQIAxAH\">유사한 페이지</a></li></ol></div></span></div></div></div>\n",
      "{'class': ['r']}\n",
      "<div class=\"r\"><a href=\"https://namu.wiki/w/Python\" ping=\"/url?sa=t&amp;source=web&amp;rct=j&amp;url=https://namu.wiki/w/Python&amp;ved=2ahUKEwj8hv_Tjf_qAhVzNKYKHWTwAPgQFjAMegQIAhAB\"><br/><h3 class=\"LC20lb DKV0Md\">Python - 나무위키</h3><div class=\"TbwUpd NJjxre\"><cite class=\"iUh30 bc tjvcx\">namu.wiki<span class=\"eipWBe\"> › Python</span></cite></div></a><div class=\"B6fmyf\"><div class=\"TbwUpd\"><cite class=\"iUh30 bc tjvcx\">namu.wiki<span class=\"eipWBe\"> › Python</span></cite></div><div class=\"eFM0qc\"><span><div class=\"action-menu\"><a aria-expanded=\"false\" aria-haspopup=\"true\" aria-label=\"검색결과 옵션\" class=\"GHDvEf\" data-ved=\"2ahUKEwj8hv_Tjf_qAhVzNKYKHWTwAPgQ7B0wDHoECAIQBA\" href=\"#\" id=\"am-b12\" jsaction=\"m.tdd;keydown:m.hbke;keypress:m.mskpe\" role=\"button\"><span class=\"mn-dwn-arw\"></span></a><ol class=\"action-menu-panel\" data-ved=\"2ahUKEwj8hv_Tjf_qAhVzNKYKHWTwAPgQqR8wDHoECAIQBQ\" jsaction=\"keydown:m.hdke;mouseover:m.hdhne;mouseout:m.hdhue\" role=\"menu\" tabindex=\"-1\"><li class=\"action-menu-item\" role=\"menuitem\"><a class=\"fl\" href=\"/search?q=related:https://namu.wiki/w/Python+%ED%8C%8C+%EC%9D%B4+%EC%8D%AC&amp;tbo=1&amp;sa=X&amp;ved=2ahUKEwj8hv_Tjf_qAhVzNKYKHWTwAPgQHzAMegQIAhAG\">유사한 페이지</a></li></ol></div></span></div></div></div>\n",
      "{'class': ['r']}\n",
      "<div class=\"r\"><a href=\"https://ko.wikipedia.org/wiki/%ED%8C%8C%EC%9D%B4%EC%8D%AC\" ping=\"/url?sa=t&amp;source=web&amp;rct=j&amp;url=https://ko.wikipedia.org/wiki/%25ED%258C%258C%25EC%259D%25B4%25EC%258D%25AC&amp;ved=2ahUKEwj8hv_Tjf_qAhVzNKYKHWTwAPgQFjANegQIARAB\"><br/><h3 class=\"LC20lb DKV0Md\">파이썬 - 위키백과, 우리 모두의 백과사전</h3><div class=\"TbwUpd NJjxre\"><cite class=\"iUh30 bc tjvcx\">ko.wikipedia.org<span class=\"eipWBe\"> › wiki › 파이썬</span></cite></div></a><div class=\"B6fmyf\"><div class=\"TbwUpd\"><cite class=\"iUh30 bc tjvcx\">ko.wikipedia.org<span class=\"eipWBe\"> › wiki › 파이썬</span></cite></div><div class=\"eFM0qc\"><span><div class=\"action-menu\"><a aria-expanded=\"false\" aria-haspopup=\"true\" aria-label=\"검색결과 옵션\" class=\"GHDvEf\" data-ved=\"2ahUKEwj8hv_Tjf_qAhVzNKYKHWTwAPgQ7B0wDXoECAEQBA\" href=\"#\" id=\"am-b13\" jsaction=\"m.tdd;keydown:m.hbke;keypress:m.mskpe\" role=\"button\"><span class=\"mn-dwn-arw\"></span></a><ol class=\"action-menu-panel\" data-ved=\"2ahUKEwj8hv_Tjf_qAhVzNKYKHWTwAPgQqR8wDXoECAEQBQ\" jsaction=\"keydown:m.hdke;mouseover:m.hdhne;mouseout:m.hdhue\" role=\"menu\" tabindex=\"-1\"><li class=\"action-menu-item\" role=\"menuitem\"><a class=\"fl\" href=\"https://webcache.googleusercontent.com/search?q=cache:OL25IRr7kSMJ:https://ko.wikipedia.org/wiki/%25ED%258C%258C%25EC%259D%25B4%25EC%258D%25AC+&amp;cd=14&amp;hl=ko&amp;ct=clnk&amp;gl=kr\" ping=\"/url?sa=t&amp;source=web&amp;rct=j&amp;url=https://webcache.googleusercontent.com/search%3Fq%3Dcache:OL25IRr7kSMJ:https://ko.wikipedia.org/wiki/%2525ED%25258C%25258C%2525EC%25259D%2525B4%2525EC%25258D%2525AC%2B%26cd%3D14%26hl%3Dko%26ct%3Dclnk%26gl%3Dkr&amp;ved=2ahUKEwj8hv_Tjf_qAhVzNKYKHWTwAPgQIDANegQIARAG\">저장된 페이지</a></li><li class=\"action-menu-item\" role=\"menuitem\"><a class=\"fl\" href=\"/search?q=related:https://ko.wikipedia.org/wiki/%25ED%258C%258C%25EC%259D%25B4%25EC%258D%25AC+%ED%8C%8C+%EC%9D%B4+%EC%8D%AC&amp;tbo=1&amp;sa=X&amp;ved=2ahUKEwj8hv_Tjf_qAhVzNKYKHWTwAPgQHzANegQIARAH\">유사한 페이지</a></li></ol></div></span></div></div></div>\n",
      "{'class': ['r']}\n",
      "<div class=\"r\"><a href=\"https://byline.network/2020/03/17-90/\" ping=\"/url?sa=t&amp;source=web&amp;rct=j&amp;url=https://byline.network/2020/03/17-90/&amp;ved=2ahUKEwj8hv_Tjf_qAhVzNKYKHWTwAPgQFjAOegQIBRAB\"><br/><h3 class=\"LC20lb DKV0Md\">파이썬의 인기는 언제까지 갈까? - Byline Network</h3><div class=\"TbwUpd NJjxre\"><cite class=\"iUh30 bc tjvcx\">byline.network<span class=\"eipWBe\"> › 2020/03</span></cite></div></a><div class=\"B6fmyf\"><div class=\"TbwUpd\"><cite class=\"iUh30 bc tjvcx\">byline.network<span class=\"eipWBe\"> › 2020/03</span></cite></div><div class=\"eFM0qc\"><span><div class=\"action-menu\"><a aria-expanded=\"false\" aria-haspopup=\"true\" aria-label=\"검색결과 옵션\" class=\"GHDvEf\" data-ved=\"2ahUKEwj8hv_Tjf_qAhVzNKYKHWTwAPgQ7B0wDnoECAUQBA\" href=\"#\" id=\"am-b14\" jsaction=\"m.tdd;keydown:m.hbke;keypress:m.mskpe\" role=\"button\"><span class=\"mn-dwn-arw\"></span></a><ol class=\"action-menu-panel\" data-ved=\"2ahUKEwj8hv_Tjf_qAhVzNKYKHWTwAPgQqR8wDnoECAUQBQ\" jsaction=\"keydown:m.hdke;mouseover:m.hdhne;mouseout:m.hdhue\" role=\"menu\" tabindex=\"-1\"><li class=\"action-menu-item\" role=\"menuitem\"><a class=\"fl\" href=\"https://webcache.googleusercontent.com/search?q=cache:JBcsUkQOafQJ:https://byline.network/2020/03/17-90/+&amp;cd=15&amp;hl=ko&amp;ct=clnk&amp;gl=kr\" ping=\"/url?sa=t&amp;source=web&amp;rct=j&amp;url=https://webcache.googleusercontent.com/search%3Fq%3Dcache:JBcsUkQOafQJ:https://byline.network/2020/03/17-90/%2B%26cd%3D15%26hl%3Dko%26ct%3Dclnk%26gl%3Dkr&amp;ved=2ahUKEwj8hv_Tjf_qAhVzNKYKHWTwAPgQIDAOegQIBRAG\">저장된 페이지</a></li></ol></div></span></div></div></div>\n",
      "{'class': ['r']}\n",
      "<div class=\"r\"><a href=\"https://dojang.io/course/view.php?id=7\" ping=\"/url?sa=t&amp;source=web&amp;rct=j&amp;url=https://dojang.io/course/view.php%3Fid%3D7&amp;ved=2ahUKEwj8hv_Tjf_qAhVzNKYKHWTwAPgQFjAPegQIBhAB\"><br/><h3 class=\"LC20lb DKV0Md\">강좌: 파이썬 코딩 도장</h3><div class=\"TbwUpd NJjxre\"><cite class=\"iUh30 bc tjvcx\">dojang.io<span class=\"eipWBe\"> › 강좌 › 프로그래밍</span></cite></div></a><div class=\"B6fmyf\"><div class=\"TbwUpd\"><cite class=\"iUh30 bc tjvcx\">dojang.io<span class=\"eipWBe\"> › 강좌 › 프로그래밍</span></cite></div><div class=\"eFM0qc\"><span><div class=\"action-menu\"><a aria-expanded=\"false\" aria-haspopup=\"true\" aria-label=\"검색결과 옵션\" class=\"GHDvEf\" data-ved=\"2ahUKEwj8hv_Tjf_qAhVzNKYKHWTwAPgQ7B0wD3oECAYQBg\" href=\"#\" id=\"am-b15\" jsaction=\"m.tdd;keydown:m.hbke;keypress:m.mskpe\" role=\"button\"><span class=\"mn-dwn-arw\"></span></a><ol class=\"action-menu-panel\" data-ved=\"2ahUKEwj8hv_Tjf_qAhVzNKYKHWTwAPgQqR8wD3oECAYQBw\" jsaction=\"keydown:m.hdke;mouseover:m.hdhne;mouseout:m.hdhue\" role=\"menu\" tabindex=\"-1\"><li class=\"action-menu-item\" role=\"menuitem\"><a class=\"fl\" href=\"https://webcache.googleusercontent.com/search?q=cache:X8BNYQpZG_cJ:https://dojang.io/course/view.php%3Fid%3D7+&amp;cd=16&amp;hl=ko&amp;ct=clnk&amp;gl=kr\" ping=\"/url?sa=t&amp;source=web&amp;rct=j&amp;url=https://webcache.googleusercontent.com/search%3Fq%3Dcache:X8BNYQpZG_cJ:https://dojang.io/course/view.php%253Fid%253D7%2B%26cd%3D16%26hl%3Dko%26ct%3Dclnk%26gl%3Dkr&amp;ved=2ahUKEwj8hv_Tjf_qAhVzNKYKHWTwAPgQIDAPegQIBhAI\">저장된 페이지</a></li></ol></div></span></div></div></div>\n",
      "{'class': ['r']}\n",
      "<div class=\"r\"><a href=\"https://www.edwith.org/pythonforeverybody\" ping=\"/url?sa=t&amp;source=web&amp;rct=j&amp;url=https://www.edwith.org/pythonforeverybody&amp;ved=2ahUKEwj8hv_Tjf_qAhVzNKYKHWTwAPgQFjAQegQIBxAB\"><br/><h3 class=\"LC20lb DKV0Md\">모두를 위한 프로그래밍 : 파이썬 강좌소개 : edwith</h3><div class=\"TbwUpd NJjxre\"><cite class=\"iUh30 bc tjvcx\">www.edwith.org<span class=\"eipWBe\"> › pythonforeverybody</span></cite></div></a><div class=\"B6fmyf\"><div class=\"TbwUpd\"><cite class=\"iUh30 bc tjvcx\">www.edwith.org<span class=\"eipWBe\"> › pythonforeverybody</span></cite></div><div class=\"eFM0qc\"><span><div class=\"action-menu\"><a aria-expanded=\"false\" aria-haspopup=\"true\" aria-label=\"검색결과 옵션\" class=\"GHDvEf\" data-ved=\"2ahUKEwj8hv_Tjf_qAhVzNKYKHWTwAPgQ7B0wEHoECAcQBA\" href=\"#\" id=\"am-b16\" jsaction=\"m.tdd;keydown:m.hbke;keypress:m.mskpe\" role=\"button\"><span class=\"mn-dwn-arw\"></span></a><ol class=\"action-menu-panel\" data-ved=\"2ahUKEwj8hv_Tjf_qAhVzNKYKHWTwAPgQqR8wEHoECAcQBQ\" jsaction=\"keydown:m.hdke;mouseover:m.hdhne;mouseout:m.hdhue\" role=\"menu\" tabindex=\"-1\"><li class=\"action-menu-item\" role=\"menuitem\"><a class=\"fl\" href=\"https://webcache.googleusercontent.com/search?q=cache:nc2neIY_vO0J:https://www.edwith.org/pythonforeverybody+&amp;cd=17&amp;hl=ko&amp;ct=clnk&amp;gl=kr\" ping=\"/url?sa=t&amp;source=web&amp;rct=j&amp;url=https://webcache.googleusercontent.com/search%3Fq%3Dcache:nc2neIY_vO0J:https://www.edwith.org/pythonforeverybody%2B%26cd%3D17%26hl%3Dko%26ct%3Dclnk%26gl%3Dkr&amp;ved=2ahUKEwj8hv_Tjf_qAhVzNKYKHWTwAPgQIDAQegQIBxAG\">저장된 페이지</a></li></ol></div></span></div></div></div>\n",
      "{'class': ['r']}\n"
     ]
    }
   ],
   "source": [
    "for _ in dom.find_all('h3', {'class':'LC20lb'}):\n",
    "    print(_.find_parents(limit=2)[-1])\n",
    "    print(_.find_parents(limit=2)[-1].attrs)"
   ]
  },
  {
   "cell_type": "code",
   "execution_count": 68,
   "metadata": {
    "scrolled": false
   },
   "outputs": [
    {
     "data": {
      "text/plain": [
       "[('파이썬 자습서 — Python 3.8.5 문서',\n",
       "  'https://docs.python.org/ko/3/tutorial/index.html'),\n",
       " ('1 파이썬 시작하기 - 왕초보를 위한 Python - WikiDocs', 'https://wikidocs.net/43'),\n",
       " ('Python - 나무위키', 'https://namu.wiki/w/Python'),\n",
       " ('파이썬 - 위키백과, 우리 모두의 백과사전',\n",
       "  'https://ko.wikipedia.org/wiki/%ED%8C%8C%EC%9D%B4%EC%8D%AC'),\n",
       " ('파이썬의 인기는 언제까지 갈까? - Byline Network',\n",
       "  'https://byline.network/2020/03/17-90/'),\n",
       " ('강좌: 파이썬 코딩 도장', 'https://dojang.io/course/view.php?id=7'),\n",
       " ('모두를 위한 프로그래밍 : 파이썬 강좌소개 : edwith',\n",
       "  'https://www.edwith.org/pythonforeverybody')]"
      ]
     },
     "execution_count": 68,
     "metadata": {},
     "output_type": "execute_result"
    }
   ],
   "source": [
    "# 제목과 url 같이 가져오기\n",
    "[(_.text.strip(), _.find_parents('a')[0]['href'])\n",
    " for _ in dom.find_all('h3', {'class':'LC20lb'})]"
   ]
  },
  {
   "cell_type": "code",
   "execution_count": 69,
   "metadata": {},
   "outputs": [
    {
     "data": {
      "text/plain": [
       "7"
      ]
     },
     "execution_count": 69,
     "metadata": {},
     "output_type": "execute_result"
    }
   ],
   "source": [
    "len(dom.find_all('div', {'class':'rc'}))"
   ]
  },
  {
   "cell_type": "code",
   "execution_count": 70,
   "metadata": {},
   "outputs": [
    {
     "name": "stdout",
     "output_type": "stream",
     "text": [
      "https://docs.python.org/ko/3/tutorial/index.html\n",
      "파이썬 자습서 — Python 3.8.5 문서\n",
      "https://wikidocs.net/43\n",
      "1 파이썬 시작하기 - 왕초보를 위한 Python - WikiDocs\n",
      "https://namu.wiki/w/Python\n",
      "Python - 나무위키\n",
      "https://ko.wikipedia.org/wiki/%ED%8C%8C%EC%9D%B4%EC%8D%AC\n",
      "파이썬 - 위키백과, 우리 모두의 백과사전\n",
      "https://byline.network/2020/03/17-90/\n",
      "파이썬의 인기는 언제까지 갈까? - Byline Network\n",
      "https://dojang.io/course/view.php?id=7\n",
      "강좌: 파이썬 코딩 도장\n",
      "https://www.edwith.org/pythonforeverybody\n",
      "모두를 위한 프로그래밍 : 파이썬 강좌소개 : edwith\n"
     ]
    }
   ],
   "source": [
    "for _ in dom.find_all('div', {'class':'rc'}):\n",
    "    print(_.find().find('a')['href'])\n",
    "    print(_.find('a').find('h3').text.strip())"
   ]
  },
  {
   "cell_type": "code",
   "execution_count": 71,
   "metadata": {},
   "outputs": [
    {
     "name": "stdout",
     "output_type": "stream",
     "text": [
      "[Error] https://www.google.com/search\n",
      "파이썬 - 위키백과, 우리 모두의 백과사전 https://ko.wikipedia.org/wiki/%ED%8C%8C%EC%9D%B4%EC%8D%AC\n",
      "파이썬 자습서 — Python 3.8.5 문서 https://docs.python.org/ko/3/tutorial/index.html\n",
      "Python - 나무위키 https://namu.wiki/w/Python\n",
      "1 파이썬 시작하기 - 왕초보를 위한 Python - WikiDocs https://wikidocs.net/43\n",
      "Python 코딩의 기초 - 예제로 배우는 파이썬 프로그래밍 http://pythonstudy.xyz/python/article/6-Python-%EC%BD%94%EB%94%A9%EC%9D%98-%EA%B8%B0%EC%B4%88\n",
      "파이썬의 인기는 언제까지 갈까? - Byline Network https://byline.network/2020/03/17-90/\n",
      "파이썬 코딩 도장: 1.3 파이썬 https://dojang.io/mod/page/view.php?id=2153\n",
      "파이썬 무료 강의 (기본편) - 6시간 뒤면 나도 개발자 - 인프런 https://www.inflearn.com/course/%EB%82%98%EB%8F%84%EC%BD%94%EB%94%A9-%ED%8C%8C%EC%9D%B4%EC%8D%AC-%EA%B8%B0%EB%B3%B8\n"
     ]
    }
   ],
   "source": [
    "url = 'https://www.google.com/search'\n",
    "params = {\n",
    "    'q':'',\n",
    "    'oq':'',\n",
    "    'aqs':'chrome..69i57j69i59j69i65l3j69i61j69i60j69i61.1205j0j7',\n",
    "    'sourceid':'chrome',\n",
    "    'ie':'UTF-8'\n",
    "}\n",
    "params['q'] = params['oq'] = '파이썬'\n",
    "headers = {\n",
    "    'user-agent':'Mozilla/5.0 (Windows NT 10.0; Win64; x64) AppleWebKit/537.36 (KHTML, like Gecko) Chrome/83.0.4103.116 Safari/537.36'\n",
    "}\n",
    "resp = download(url, params, headers, 'GET')\n",
    "dom = BeautifulSoup(resp.text, 'html.parser')\n",
    "for _ in dom.find_all('h3', {'class':'LC20lb'}):\n",
    "    print(_.text.strip(), _.find_parents('a')[0]['href'])"
   ]
  },
  {
   "cell_type": "code",
   "execution_count": 72,
   "metadata": {},
   "outputs": [
    {
     "name": "stdout",
     "output_type": "stream",
     "text": [
      "[Error] https://search.naver.com/search.naver\n"
     ]
    }
   ],
   "source": [
    "url = 'https://search.naver.com/search.naver'\n",
    "params = {\n",
    "    'sm':'top_hty',\n",
    "    'fbm':0,\n",
    "    'ie':'utf8',\n",
    "    'query':''\n",
    "}\n",
    "params['query'] = '파 이 썬'\n",
    "resp = download(url, params, headers, 'GET')\n",
    "dom = BeautifulSoup(resp.text, 'html.parser')"
   ]
  },
  {
   "cell_type": "code",
   "execution_count": 73,
   "metadata": {},
   "outputs": [
    {
     "name": "stdout",
     "output_type": "stream",
     "text": [
      "https://www.python.org/ Welcome to Python.org\n",
      "https://blog.naver.com/icd900/221318575090 국산 중형차 추천 흰 파 썬\n",
      "https://blog.naver.com/kmj4956/140143459570 맛 있 는 파 이 선 물\n",
      "https://blog.naver.com/xmflxhs8568?Redirect=Log&logNo=221532773930 레인보우 썬팅 전면,측.후면 12% 파.썬 30%\n",
      "https://blog.naver.com/choyooney?Redirect=Log&logNo=221408338615 늦잠,티타임,GA과제,파에썬\n",
      "https://blog.naver.com/sanaiauction?Redirect=Log&logNo=221407173464 2015년형 그랜저HG 240모던 흰파썬 소개합니다!\n",
      "https://blog.naver.com/va85hgnmvcl?Redirect=Log&logNo=221687347280 [미얀마 만달레이 호텔] 썬 파 트래블 & 투어 인접한 더...\n",
      "https://kin.naver.com/qna/detail.nhn?d1id=1&dirId=10402&docId=357557482&qb=7YyMIOydtCDsjaw=&enc=utf8§ion=kin&rank=1&search_sort=0&spq=0  파이썬 if 문에서 and로 연결하는 방법 \n",
      "https://kin.naver.com/qna/detail.nhn?d1id=1&dirId=10402&docId=342332721&qb=7YyMIOydtCDsjaw=&enc=utf8§ion=kin&rank=2&search_sort=0&spq=0  파이썬 질문 ㅜㅜㅜ \n",
      "https://kin.naver.com/qna/detail.nhn?d1id=13&dirId=1303010501&docId=36135662&qb=7YyMIOydtCDsjaw=&enc=utf8§ion=kin&rank=3&search_sort=0&spq=0  메이플 법사 2차 썬이좋나요 아님 콜이 좋나요? \n",
      "https://vibe.naver.com/track/21528972 Python\n",
      "https://vibe.naver.com/track/14934534 Python (Original Mix)\n",
      "https://vibe.naver.com/track/40422635 Python\n",
      "https://vibe.naver.com/track/18957021 Python (Feat. rag)\n",
      "https://vibe.naver.com/track/19412695 q.e.p.d\n"
     ]
    }
   ],
   "source": [
    "for _ in dom.find_all('ul', {'class':'type01'}):\n",
    "    for a in [dt.find('a') for dt in _.find_all('dt')]:\n",
    "        print(a['href'], a.text)\n"
   ]
  },
  {
   "cell_type": "code",
   "execution_count": 74,
   "metadata": {},
   "outputs": [
    {
     "name": "stdout",
     "output_type": "stream",
     "text": [
      "[Error] https://search.daum.net/search\n"
     ]
    }
   ],
   "source": [
    "url = 'https://search.daum.net/search'\n",
    "params = {\n",
    "    'w':'tot',\n",
    "    'DA':'YZR',\n",
    "    't__nil_searchbox':'btn',\n",
    "    'sug':'',\n",
    "    'sugo':'',\n",
    "    'sq':'',\n",
    "    'o':'',\n",
    "    'q':''\n",
    "}\n",
    "params['q'] = '파 이 썬'\n",
    "resp = download(url, params, headers, 'GET')\n",
    "dom = BeautifulSoup(resp.text, 'html.parser')"
   ]
  },
  {
   "cell_type": "code",
   "execution_count": 75,
   "metadata": {},
   "outputs": [
    {
     "name": "stdout",
     "output_type": "stream",
     "text": [
      "https://keyword.ad.daum.net/short/clk?q=pzTmR4.r.eQdutMC6Q7VBrdDJlzpbPU-e3zukDClp1utpP1-moSRqpaApoIw-I_h5jhoQVnt7apJ8_AuEMGn8HQiV8xTl_NhFpoMt-RX_T5hqvLoM4-zWhvTSnVoCK2pe_hUk9NLZcW9M2YrpAxvul_RoZXihuSQjS5cAmiyvB1OafNviwr7bW1fIp_J2VDn-GKwiNLMEYuoMw00&s=http%3A%2F%2Facornedu.co.kr%2Funemployed%2Fedu_info.jsp 에이콘아카데미 공식홈페이지\n",
      "https://keyword.ad.daum.net/short/clk?q=pzlBZiq-PDlrDSQi48ghS3mWfUesbvfvJZ-s-dcU2t-Ghhi6Rf8.phfGvMUZuS81STEwVFdMx-rhY7N3CI3_RBWDpEOmIVwvNtaQ8SJlUb.xiJR44GMGbwaJF3Yrye5zJrXBFdpg3-b24ZBWgOQ1CDYrSbO4lliLlGIdlhkgZXC._svm1yu7XaJr9P3CwiWrqG5zULiaF.an.tnAPsU62v4Py2mxzbjIZ2bdxswvwjdZbvHVgZZlcIPWurV1dF.tPq-mBJb6BL9a6_MJzfxW-HYNIY4xPtnSWQCtJxjuiavh.t9Ircdzr3vj7Zr1zMmS7XoNJI7-t8EXypXlmGQoFypokBusaqxC8fM0&s=https%3A%2F%2Fkmong.com%2Fcategory%2F605%3Futm_source%3Dpc_daum%26utm_medium%3Dcpc%26utm_campaign%3D6%26utm_content%3Dutmpage%26utm_term%3D%ED%8C%8C%EC%9D%B4%EC%8D%AC%26utm_group%3D605%26utm_page%3DY%26DMKW%3D%25ED%258C%258C%25EC%259D%25B4%25EC%258D%25AC%26DMSKW%3D%25ED%258C%258C%25EC%259D%25B4%25EC%258D%25AC%26DMCOL%3DPM 파이썬 전문가, 크몽\n",
      "https://keyword.ad.daum.net/short/clk?q=pz2lcxAkURqlfZg1_DbEu.AYYIewSemVXlubvbZbBWfBuKrp7PfV7i8VzXBEJW7SKqrJ6TbEzOmYF.C9bl4KG86Xhi.hU8J-u2rVprEZLy25jWwHDtrak9ZniOOyzMvUuEEwm1kEpa8r5alvKEExA-wfMbj5po-fujzKEQ4PtKDCnNf4SQJa-tZGkhGLMebszNAxJl17l6IxvX3X8ptuYPp3LqnLUxE1L4hhX1-6u1bymQ00&s=http%3A%2F%2Fwww.no1-itbank.com%2F%3FDMKW%3D%25ED%258C%258C%25EC%259D%25B4%25EC%258D%25AC%26DMSKW%3D%25ED%258C%258C%25EC%259D%25B4%25EC%258D%25AC%26DMCOL%3DPM KG아이티뱅크 파이썬교육 박연주\n",
      "https://keyword.ad.daum.net/short/clk?q=p1ATOVUq4tBO8kdZnUm3g1Z8scUZPdXCbTmGTitBSJ24XEf3PLxi64foQfLt_gK3kVoodwlyCAMOet8BMUUU3QxXqANkj.ySYgq2N3egNSxf4GVXSQNyKkkIvjol1nXxmTn4nkU96ZYJhYoQ.l_q3zMtMVCYBuKYJEjX2ij9CJ1rqmpANzPCkc6zF1UNk-X3FKolq2qGRvNp_BgEBAZcy.L4x_aYaWv7Bep3.A7fWY_3acmcppL13.ykHbRo7AVis2mYP72FYkeEaF2QnOAxVY8hpMgf4MgvELuzeSm9Nv9KL6YwZUt7PsQZYeqxtQBbKzs-wMC4qlRyE4ilvk7ZAIVuC3ur6kinmNhKeOzDM-nliP8IhStqcWitEV3RypWe1QssdEyvMs4x5g00&s=http%3A%2F%2Fwww.uniwise.co.kr%2FuniwiseWeb%2Flecture%2FmovieLectureList.html%3FsubNo%3D3%26searchCategoryCode%3D003%26searchSubjectCode%3D1320%26SUBJECT_SJT_CD%3D1320%26leftMenuLType%3DT002%26lecKType%3DD%26utm_source%3Ddaum%26utm_medium%3Dcpc%26DMKW%3D%25ED%258C%258C%25EC%259D%25B4%25EC%258D%25AC%26DMSKW%3D%25ED%258C%258C%25EC%259D%25B4%25EC%258D%25AC%26DMCOL%3DPM 대학인강 대표 유니와이즈\n",
      "https://keyword.ad.daum.net/short/clk?q=p1VatKvXbpHd2r6Afn12D27tSKsAy.cmweJ813rAdQMS5gbHosubpNb7O8rcFcyr1-.uruDGG6O_TDVtTXDwDn.FIDpPEn.ZYAuAG1cSnFCqDkD4VO7Xx7XZacPLEKO1jMgrMnhgwrPZvEMiAXpO-K1FQejRLnijDAe2YAkmvOHpDjie6zgSDSFe&s=http%3A%2F%2Fhackercollege.co.kr KG ITBANK 김경원\n",
      "https://keyword.ad.daum.net/short/clk?q=p1lAA-xSbGJQ4lppjcS.7tgvmevYz3Lelpb1CMHEn-5dXDFDn5eiT4JTTmFZHNlKsJdxDMNbIwg6n-PvGtjvqMVmTub2xUgCATfo-9cS79FVsizTe2IUfzJXHZAdVBuLn8rn5DZpQJmiatm_z3SJ8NFR3-pKW7daPEgbsYCr-LAqLREt6P.D5CRUHODSqP4fT1nqWf2dZIRGdv6eU7Hxribk156yB7agm-mQ_c76VJt8mFGjc7ZuKzp3&s=http%3A%2F%2Fsinchon.koreaisacademy.com%2F%3FDMKW%3D%25ED%258C%258C%25EC%259D%25B4%25EC%258D%25AC%26DMSKW%3D%25ED%258C%258C%25EC%259D%25B4%25EC%258D%25AC%26DMCOL%3DPM 코리아IT아카데미 신촌점\n",
      "https://keyword.ad.daum.net/short/clk?q=p2B7ZHyi4-AHzneaaSmPUu_DGyOOG2duZDdk4-Azogisph9DcjkaXyoP8NSuH2T7TNj2K6GH7VtDe_3fP7HN9ohyUu9bGJ1XPJFOrIB2RWVL_DHWIA1hA8Dfp.RYGniQ58x2qI_i-3SCQzwP.Cd6liOmUvPoOwF3JFz_oRE7XOo9zBPReWAup1F88suHt7u_Y_oNT5Joqve3XcWGzBpyvONf7HX5FxSB8EcBcDvX3nZKMqI3ur-LiY9bfZQNcMt7BHiXYBHj72drYzcsQMSoCZ8VGoyHj9jLMtOwbZVZU8auExbhFYSFkc-lVtT9hpo7WcA0&s=https%3A%2F%2Fsoomgo.com%2Fhire%2F%25ED%2594%2584%25EB%25A1%259C%25EA%25B7%25B8%25EB%259E%2598%25EB%25B0%258D%3Futm_source%3Ddaum%26utm_medium%3Dcpc%26utm_campaign%3D%25ED%2594%2584%25EB%25A1%259C%25EA%25B7%25B8%25EB%259E%2598%25EB%25B0%258D%25EC%25BD%2594%25EB%2594%25A9%26utm_content%3Dlesson%26utm_term%3D%25ED%258C%258C%25EC%259D%25B4%25EC%258D%25AC 프로그래밍코딩, 숨고에서\n",
      "https://keyword.ad.daum.net/short/clk?q=p2vh-Vbs3DewCj6AhFzUO8q14SUxqjaS7DTVYPTwuYnvbKkIgybLO4w_77BEgpMjSzLAv2m-9chynbNYeSMbvnQZTP6LWA44SePFO3ylEc.vhID-rmZ9Mh5vhevMSI11WfVckzh8Yc_guAm27j1oL4xwEyYBYHGEhPbMiMvNcxA7BqPuXwOTfT-W1rSPjOSlIWqefPp9pSxz4LTzAzMN-e417o66bg9y4ROK92.vYOS_.w00&s=https%3A%2F%2Fit.ezenac.co.kr%2F%3FDMKW%3D%25ED%258C%258C%25EC%259D%25B4%25EC%258D%25AC%26DMSKW%3D%25ED%258C%258C%25EC%259D%25B4%25EC%258D%25AC%26DMCOL%3DPM 이젠IT아카데미학원\n",
      "https://keyword.ad.daum.net/short/clk?q=p3CgXk1M7bSlg_JBViKPeBwE3Bk3IiyTg6wCC7.yx82EGYhDPGxtGX51zSimj1dLysruODdK6qaeBmWcSRsvs6iborBKkpBKnsXMVl7jiR-kzsOHnQhijpUGPed2VIi52rYiTI_LZQmCdoMxD9.26IirJ5tmlAHs.ILs-3hoJXCinEqesGjow-pd&s=http%3A%2F%2Fdaegu.koreaisacademy.com 코리아IT아카데미 대구점\n",
      "https://keyword.ad.daum.net/short/clk?q=p3iqsed5RgIRyrw3VXW3-kEgnLZ8Gm6vnYE6pBJsZnD_h2ShmfGAsliL_GCA-Y1fa7Y8d-K7eYc_OS.Z5aPVU_ilTAyQ7CZYnIyWhLUr67pu9Lmjnsrksb_ry7TWbsXuVjrwY7.32COFGv2.6wshj-AIiBlL5B4TWJLlsVtFSS7DstXoU.47mOdhDSCQzp-SLaEgI.-LXbnEoBTOxj7NL2pe6uE48-sTZzP5auZUHmA4WzyfJsFcuyOe&s=http%3A%2F%2Fwww.koreaisacademy.com%2F%3FDMKW%3D%25ED%258C%258C%25EC%259D%25B4%25EC%258D%25AC%26DMSKW%3D%25ED%258C%258C%25EC%259D%25B4%25EC%258D%25AC%26DMCOL%3DPM 국가인증 코리아 IT아카데미\n",
      "https://keyword.ad.daum.net/short/clk?q=LG9JqELh2tLYBSILwO7299CL.eoP-VReRHBZ6TJeZ5yqdyVOLwHILrECtjrJeFgrKszjG2MGcePZS6AcgdnMujiaiHSI2ZDKAI7kZupmpsjLFQrdinRUDlYY-R.LIIAV4zdJlFo_9isaOWvA_GkG61EZvQZpV2mQ13iD1kaPa5eoWXiDYY7LJjVfKORYzKVh.xDYOa4MBAgXQ2V-lEuKMTPQHkS_YCcBMjeopEtCvhxFysaJ56nSmV_-fSBD83fSCBGBu1s1TMAYr5Ln4LZHPYhfEiCVsaLgw6J.nODNbiYuLuXd_qJ.Hi683BDGdHf.xg3FCfJ1Z8UqnmqKZoBIITNL1EOSQzBpb6HZ4j-VchkYiQiU2pIklnHp&s=https%3A%2F%2Fdept.sjcu.ac.kr%2Fcomputer%2Findex.do%3Futm_source%3DSA%26utm_medium%3DDAUM_PC%26utm_campaign%3DFALL2_CU%26utm_content%3DKEYWORD%26utm_term%3D%ED%8C%8C%EC%9D%B4%EC%8D%AC%26DMKW%3D%25ED%258C%258C%25EC%259D%25B4%25EC%258D%25AC%26DMSKW%3D%25ED%258C%258C%25EC%259D%25B4%25EC%258D%25AC%26DMCOL%3DWIDELINK 세사대 소프트웨어공학과\n",
      "https://keyword.ad.daum.net/short/clk?q=LHK1bmEsN12cM35ylNdtO25dDgYvBC5DxKgIP-Q4GJscrhGryr_BdmjzDXVWQtA-9vOwjsHMW7sYLHcC.-osCRDJVKOTk6E9FBGyAjvJ9wREtYs_wSIrOjFRQFl4Q6K7cLe-efO8DEtbqohaD_DzvCTxzjizSNxPybeCe14DxBRu.MTvBfIyZX7kMEoQ9pJPcAQFAJzLllhCcg00&s=http%3A%2F%2Fwww.it-bankac.com%2Fcurriculum%2Fsub.php%3Fseq%3D48 파이썬교육 IT뱅크 성혜리\n",
      "https://keyword.ad.daum.net/short/clk?q=LHWujL.BI9UB52AlIdNO7X4diEjeDm8tBFlAYSb1D7x4_rqpPtacT2-UQz.bhhI4gMZ2Ls61DhlivCdbtmqH5bU76Iw_squqruDa75oL5o-LM6MaLAopKqWAtBkrUjSEi19L2kByAJAY5rbUxDlNP_.9Crcv9DbfrmvZ18HrT1VidwwP7S6EAJ7I4uig8e-jxamAXORwasYAwDG4VCajLYhJPnPYNy5QioDB8QOeGEil1w00&s=http%3A%2F%2FIT-BK.kr%2F%3FDMKW%3D%25ED%258C%258C%25EC%259D%25B4%25EC%258D%25AC%26DMSKW%3D%25ED%258C%258C%25EC%259D%25B4%25EC%258D%25AC%26DMCOL%3DWIDELINK KG아이티뱅크 수강문의 신규등록센터\n",
      "https://keyword.ad.daum.net/short/clk?q=LHgaUod2shEAOWTbCc.CHimTbUEz2Hm9cHhF8nNaKhUvAwYB7SIMG5cmi3HG7gi7T1Et4sFyT5SAiNHHusPNPYjhCzgp22a2KlfsBgCTqojBsFyc9uMiPIZ-ZG659cThnXDDECPbgzExMJaTBlCNrkcl3DMf.U3dka.Th8oSMwEQmCbXtAbb8-dnC8YWczcJzhjCslaFL8wixW3E68-LWi23Y7AvbtIkHgr4abW.-619r2FtRo.QoT.RGPjuUZrLBi48zBhXgX6BSLQ2gtgECYZC&s=http%3A%2F%2Fwww.itschool.co.kr%2Findex.php%3Fmid%3Dad%26voteid%3Ddaum%26DMKW%3D%25ED%258C%258C%25EC%259D%25B4%25EC%258D%25AC%26DMSKW%3D%25ED%258C%258C%25EC%259D%25B4%25EC%258D%25AC%26DMCOL%3DWIDELINK 쉽게배우는 인강 아이티스쿨\n",
      "https://keyword.ad.daum.net/short/clk?q=LHvUVeDGBjx3Jip8UkLFtgd36y3poIv_k5bPVSCviy6L.EeMKcKDeA9cPQkU9u-foyQG6c1cSvwdE1qDZqY1VhkxVPi-pOuJerXnjy8To34GVhKE8j_5NXc7Eig-Vf_VmgKW3p.giN6Er2Y-n_3yRrgMTutPRnh_W_h_F4Xp-riOq2MAFdmYpOoVz3z-p4Se5CgrcRfa9cJ_JtcLvgRb4s5PJsF7YkNaGgEbgXmTTpodzssiOQf8x25vwKpZV8qFA9AeTvTesCugsRcpYJg_x59ZVQd9r6N46r4zHEfu1u_9JlqL7oBO2bqxSvtw7pNZiaLLMbEQjUE54mMtO8Fo11pP&s=https%3A%2F%2Fclass101.net%2Fproducts%2FxYzEJ7cXkumFGexsdAI6%3Futm_source%3Ddaum_sa_pc%26utm_medium%3Dpaid%26utm_campaign%3Dcareer%26utm_term%3D%7Bkeyword%7D%26DMKW%3D%25ED%258C%258C%25EC%259D%25B4%25EC%258D%25AC%26DMSKW%3D%25ED%258C%258C%25EC%259D%25B4%25EC%258D%25AC%26DMCOL%3DWIDELINK 코딩 프로그램 클래스101\n",
      "http://andylion.tistory.com/31 [파이썬 완전정복] 문자열 유형\n",
      "http://blog.naver.com/PostView.nhn?blogId=xpfktktls725&logNo=222042203804 썬 다이어트 프로젝트 2탄; 식단과 꿀잠자는 스트레칭\n",
      "http://blog.naver.com/PostView.nhn?blogId=mui_j&logNo=222050164259 월간무이]7월일상/청주맛집추천/탄방동썬하우스/바오바뮐러/탄방동맛집...\n",
      "http://blog.naver.com/PostView.nhn?blogId=lazy__0&logNo=222021393637 20. 썬라이트 젤리푸딩 망고맛 맛있게 얼려먹기!\n",
      "http://cafe.daum.net/starcraftIOPS/EydJ/40?q=%ED%8C%8C%20%EC%9D%B4%20%EC%8D%AC OSL 2007 시즌1 공식맵 <파 이 썬>\n",
      "http://cafe.daum.net/dakesini/2vqp/341?q=%ED%8C%8C%20%EC%9D%B4%20%EC%8D%AC [칸파X이썬] 파라다이스 키스 - Lonely in gorgeous\n",
      "http://cafe.daum.net/ANIEDEN/RRp9/1584?q=%ED%8C%8C%20%EC%9D%B4%20%EC%8D%AC 그랜져HG3.0 LPG모던 흰색/파.썬(일반인가능!!)/13년(14...\n",
      "http://cafe.daum.net/ILOVEVG/Kp4L/2712?q=%ED%8C%8C%20%EC%9D%B4%20%EC%8D%AC 파.썬 또예약잡아낫습당ㅠ\n",
      "?w=bookpage&bookId=4836717&tab=introduction&DA=LB2&q=%ED%8C%8C%20%EC%9D%B4%20%EC%8D%AC 파이썬(Python): 1학년\n",
      "?w=bookpage&bookId=1502532&tab=introduction&DA=LB2&q=%ED%8C%8C%20%EC%9D%B4%20%EC%8D%AC 파이썬(Python)(다양한 예제로 배우는 완전 쉬운)\n",
      "?w=bookpage&bookId=1297411&tab=introduction&DA=LB2&q=%ED%8C%8C%20%EC%9D%B4%20%EC%8D%AC 파이썬(열혈강의)(개정판 VER.2)\n",
      "https://gall.dcinside.com/board/view/?id=programming&no=1404067 파 - 이 - 썬 - 프로그래밍\n",
      "http://gall.dcinside.com/board/view/?id=programming&no=838699 파 이 썬 좋 아 - 프로그래밍\n",
      "https://i.orbi.kr:443/00021231312 파~이~~썬~~\n",
      "http://web.humoruniv.com/board/humor/read.html?table=pdswait&number=5812864 파..이..썬...어..려...워..\n",
      "http://v.media.daum.net/v/20200730103117459?f=o 파프리카 레시피 12\n",
      "http://v.media.daum.net/v/20200724171502188?f=o [꿀딴지곰 겜덕연구소] 악마도 신도 상대가 안된다, 강력한 게임 ...\n",
      "http://v.media.daum.net/v/20200721103549543?f=o \"한국인 코로나19에 강한 이유..발효된 김치 때문?\"\n",
      "http://v.media.daum.net/v/20200721095455269?f=o '김치의 코로나19 항바이러스 효능' 과학적으로 밝힌다\n",
      "javascript:; [러스트] 초반 스타트는 무적권 파.이.썬 (Rust Python Cost-Effectiveness)\n",
      "javascript:; [MK이슈]승리, 버닝썬 논란 속 오늘(16일)부터 파이널 콘서트 : 뉴스zum\n",
      "javascript:; 파이썬윈드러너\n",
      "javascript:; 파이썬스솔\n",
      "http://kd.auction.co.kr/kd_redirectse.asp?semagcd=SA20001&CODE=362KD99999999&lp=%2F%2Fsearch.auction.co.kr%2Fsearch%2Fsearch.aspx%3Fkeyword%3D%25C6%25C4%25C0%25CC%25BD%25E3&cosemkid=ov15488152552203906 쇼핑은 역시 옥션\n",
      "http://www.11st.co.kr/connect/Gateway.tmall?method=Xsite&tid=1000111638&uid=7653182&code=1039 11번가 파이썬\n",
      "http://jump.emforce.co.kr/jumper52.jsp?1=1$$$&EKAMS=daum.52.600.119.1244014070018.140381&trackingDays=30$$$http://affiliate.gmarket.co.kr/?com=emforce&media=nate&ch=code31&url=http://search.gmarket.co.kr/search.aspx?keyword=%C6%C4%C0%CC%BD%E3&jaehuid=200003989 G마켓 파이썬\n"
     ]
    }
   ],
   "source": [
    "for _ in dom.find_all('div', {'class':'wrap_tit'}):\n",
    "    print(_.find('a')['href'], _.find('a').text.strip())"
   ]
  },
  {
   "cell_type": "markdown",
   "metadata": {},
   "source": [
    "#### pythonscraping.com 예제"
   ]
  },
  {
   "cell_type": "code",
   "execution_count": 76,
   "metadata": {},
   "outputs": [],
   "source": [
    "resp = download('http://pythonscraping.com/pages/page3.html')\n",
    "dom = BeautifulSoup(resp.text, 'lxml')"
   ]
  },
  {
   "cell_type": "code",
   "execution_count": null,
   "metadata": {},
   "outputs": [],
   "source": [
    "tag, #id, .class, .class.class.class\n",
    "ul.class, ul.class.class.class\n",
    "tag, tag, tag => CS\n",
    "tag(id~=asdf)"
   ]
  },
  {
   "cell_type": "code",
   "execution_count": 77,
   "metadata": {
    "scrolled": true
   },
   "outputs": [
    {
     "data": {
      "text/plain": [
       "True"
      ]
     },
     "execution_count": 77,
     "metadata": {},
     "output_type": "execute_result"
    }
   ],
   "source": [
    "dom.select_one('div#footer') == dom.select_one('#footer')"
   ]
  },
  {
   "cell_type": "code",
   "execution_count": 78,
   "metadata": {},
   "outputs": [
    {
     "data": {
      "text/plain": [
       "'© Totally Normal Gifts, Inc. \\n+234 (617) 863-0736'"
      ]
     },
     "execution_count": 78,
     "metadata": {},
     "output_type": "execute_result"
    }
   ],
   "source": [
    "dom.select_one('#footer').text.strip()"
   ]
  },
  {
   "cell_type": "code",
   "execution_count": null,
   "metadata": {},
   "outputs": [],
   "source": [
    "Selector\n",
    "tag1, tag2 -> 태그 2개\n",
    "tag1 tag2 -> 자손 (find_all(recursive=True))\n",
    "tag1 > tag2 -> 자식 (find_all(recursive=False))\n",
    "tag1 + tag2 -> 형제(다음 노드) => tag2"
   ]
  },
  {
   "cell_type": "code",
   "execution_count": 79,
   "metadata": {},
   "outputs": [
    {
     "data": {
      "text/plain": [
       "'div'"
      ]
     },
     "execution_count": 79,
     "metadata": {},
     "output_type": "execute_result"
    }
   ],
   "source": [
    "dom.select_one('#footer').find_parent().name"
   ]
  },
  {
   "cell_type": "code",
   "execution_count": 80,
   "metadata": {},
   "outputs": [
    {
     "data": {
      "text/plain": [
       "(2, 5)"
      ]
     },
     "execution_count": 80,
     "metadata": {},
     "output_type": "execute_result"
    }
   ],
   "source": [
    "len(dom.select('#wrapper > div')), len(dom.select('#wrapper > *'))"
   ]
  },
  {
   "cell_type": "code",
   "execution_count": 81,
   "metadata": {},
   "outputs": [
    {
     "data": {
      "text/plain": [
       "['img', 'h1', 'div', 'table', 'div']"
      ]
     },
     "execution_count": 81,
     "metadata": {},
     "output_type": "execute_result"
    }
   ],
   "source": [
    "[_.name for _ in dom.select('#wrapper > *')]"
   ]
  },
  {
   "cell_type": "code",
   "execution_count": 82,
   "metadata": {},
   "outputs": [
    {
     "data": {
      "text/plain": [
       "'div'"
      ]
     },
     "execution_count": 82,
     "metadata": {},
     "output_type": "execute_result"
    }
   ],
   "source": [
    "dom.select_one('h1 + div').name"
   ]
  },
  {
   "cell_type": "code",
   "execution_count": 83,
   "metadata": {},
   "outputs": [
    {
     "data": {
      "text/plain": [
       "'h1'"
      ]
     },
     "execution_count": 83,
     "metadata": {},
     "output_type": "execute_result"
    }
   ],
   "source": [
    "dom.select_one('h1 + div').find_previous_sibling().name"
   ]
  },
  {
   "cell_type": "code",
   "execution_count": 84,
   "metadata": {},
   "outputs": [
    {
     "data": {
      "text/plain": [
       "'div'"
      ]
     },
     "execution_count": 84,
     "metadata": {},
     "output_type": "execute_result"
    }
   ],
   "source": [
    "dom.select_one('body > div > h1 + div').name"
   ]
  },
  {
   "cell_type": "code",
   "execution_count": 85,
   "metadata": {},
   "outputs": [
    {
     "data": {
      "text/plain": [
       "['$15.00', '$10,000.52', '$10,005.00', '$0.50', '$1.50']"
      ]
     },
     "execution_count": 85,
     "metadata": {},
     "output_type": "execute_result"
    }
   ],
   "source": [
    "[_.text.strip() for _ in dom.select('.gift > td:nth-of-type(3)')]"
   ]
  },
  {
   "cell_type": "code",
   "execution_count": 86,
   "metadata": {},
   "outputs": [
    {
     "data": {
      "text/plain": [
       "['../img/gifts/img1.jpg',\n",
       " '../img/gifts/img2.jpg',\n",
       " '../img/gifts/img3.jpg',\n",
       " '../img/gifts/img4.jpg',\n",
       " '../img/gifts/img6.jpg']"
      ]
     },
     "execution_count": 86,
     "metadata": {},
     "output_type": "execute_result"
    }
   ],
   "source": [
    "[_['src'].strip() for _ in dom.select('.gift > td > img')]"
   ]
  },
  {
   "cell_type": "code",
   "execution_count": 87,
   "metadata": {},
   "outputs": [],
   "source": [
    "url = 'http://example.webscraping.com/places/default/index'\n",
    "resp = download(url)\n",
    "dom = BeautifulSoup(resp.content, 'html.parser')"
   ]
  },
  {
   "cell_type": "code",
   "execution_count": 88,
   "metadata": {},
   "outputs": [
    {
     "name": "stdout",
     "output_type": "stream",
     "text": [
      "#\n",
      "/places/default/user/register?_next=/places/default/index\n",
      "/places/default/user/login?_next=/places/default/index\n",
      "/places/default/index\n",
      "/places/default/search\n",
      "/places/default/view/Afghanistan-1\n",
      "/places/default/view/Aland-Islands-2\n",
      "/places/default/view/Albania-3\n",
      "/places/default/view/Algeria-4\n",
      "/places/default/view/American-Samoa-5\n",
      "/places/default/view/Andorra-6\n",
      "/places/default/view/Angola-7\n",
      "/places/default/view/Anguilla-8\n",
      "/places/default/view/Antarctica-9\n",
      "/places/default/view/Antigua-and-Barbuda-10\n",
      "/places/default/index/1\n"
     ]
    }
   ],
   "source": [
    "for _ in dom.select('a'):\n",
    "    print(_['href'])"
   ]
  },
  {
   "cell_type": "code",
   "execution_count": 89,
   "metadata": {},
   "outputs": [],
   "source": [
    "url = 'http://example.webscraping.com/places/default/view/Afghanistan-1'\n",
    "resp = download(url)\n",
    "dom = BeautifulSoup(resp.content, 'html.parser')"
   ]
  },
  {
   "cell_type": "code",
   "execution_count": 90,
   "metadata": {},
   "outputs": [
    {
     "name": "stdout",
     "output_type": "stream",
     "text": [
      "#\n",
      "/places/default/user/register?_next=/places/default/view/Afghanistan-1\n",
      "/places/default/user/login?_next=/places/default/view/Afghanistan-1\n",
      "/places/default/index\n",
      "/places/default/search\n",
      "/places/default/continent/AS\n",
      "/places/default/iso/TM\n",
      "/places/default/iso/CN\n",
      "/places/default/iso/IR\n",
      "/places/default/iso/TJ\n",
      "/places/default/iso/PK\n",
      "/places/default/iso/UZ\n",
      "/places/default/edit/Afghanistan-1\n"
     ]
    }
   ],
   "source": [
    "for _ in dom.select('a'):\n",
    "    print(_['href'])"
   ]
  },
  {
   "cell_type": "code",
   "execution_count": 91,
   "metadata": {},
   "outputs": [],
   "source": [
    "url = 'http://example.webscraping.com/places/default/index'\n",
    "resp = download(url)\n",
    "dom = BeautifulSoup(resp.content, 'html.parser')"
   ]
  },
  {
   "cell_type": "code",
   "execution_count": null,
   "metadata": {},
   "outputs": [],
   "source": [
    "urls.pop() 꺼낼, urls.append() 추가"
   ]
  },
  {
   "cell_type": "code",
   "execution_count": null,
   "metadata": {},
   "outputs": [],
   "source": [
    "Queue => FIFO => pop(0)\n",
    "Stack => LIFO => pop(-1)"
   ]
  },
  {
   "cell_type": "code",
   "execution_count": 92,
   "metadata": {
    "scrolled": true
   },
   "outputs": [
    {
     "name": "stdout",
     "output_type": "stream",
     "text": [
      "14 1\n",
      "13 2\n",
      "12 3\n",
      "11 4\n",
      "18 5\n",
      "20 6\n",
      "26 7\n",
      "34 8\n",
      "35 9\n",
      "37 10\n",
      "41 11\n",
      "42 12\n",
      "43 13\n",
      "43 14\n",
      "54 15\n",
      "100 16\n",
      "102 17\n",
      "112 18\n",
      "116 19\n"
     ]
    },
    {
     "ename": "KeyboardInterrupt",
     "evalue": "",
     "output_type": "error",
     "traceback": [
      "\u001b[1;31m---------------------------------------------------------------------------\u001b[0m",
      "\u001b[1;31mKeyboardInterrupt\u001b[0m                         Traceback (most recent call last)",
      "\u001b[1;32m<ipython-input-92-d7cf02bfaab5>\u001b[0m in \u001b[0;36m<module>\u001b[1;34m\u001b[0m\n\u001b[0;32m      6\u001b[0m     \u001b[0mseed\u001b[0m \u001b[1;33m=\u001b[0m \u001b[0murls\u001b[0m\u001b[1;33m.\u001b[0m\u001b[0mpop\u001b[0m\u001b[1;33m(\u001b[0m\u001b[1;36m0\u001b[0m\u001b[1;33m)\u001b[0m \u001b[1;31m# starting url\u001b[0m\u001b[1;33m\u001b[0m\u001b[1;33m\u001b[0m\u001b[0m\n\u001b[0;32m      7\u001b[0m     \u001b[0mseen\u001b[0m\u001b[1;33m.\u001b[0m\u001b[0mappend\u001b[0m\u001b[1;33m(\u001b[0m\u001b[0mseed\u001b[0m\u001b[1;33m)\u001b[0m \u001b[1;31m# => 재방문 회피\u001b[0m\u001b[1;33m\u001b[0m\u001b[1;33m\u001b[0m\u001b[0m\n\u001b[1;32m----> 8\u001b[1;33m     \u001b[0mdom\u001b[0m \u001b[1;33m=\u001b[0m \u001b[0mBeautifulSoup\u001b[0m\u001b[1;33m(\u001b[0m\u001b[0mdownload\u001b[0m\u001b[1;33m(\u001b[0m\u001b[0mseed\u001b[0m\u001b[1;33m)\u001b[0m\u001b[1;33m.\u001b[0m\u001b[0mtext\u001b[0m\u001b[1;33m,\u001b[0m \u001b[1;34m'html.parser'\u001b[0m\u001b[1;33m)\u001b[0m \u001b[1;31m# HTTP\u001b[0m\u001b[1;33m\u001b[0m\u001b[1;33m\u001b[0m\u001b[0m\n\u001b[0m\u001b[0;32m      9\u001b[0m \u001b[1;31m#     for _ in dom.select('a'): # extract hyperlinks\u001b[0m\u001b[1;33m\u001b[0m\u001b[1;33m\u001b[0m\u001b[1;33m\u001b[0m\u001b[0m\n\u001b[0;32m     10\u001b[0m \u001b[1;31m#         if _.has_attr('href'): # 나중에\u001b[0m\u001b[1;33m\u001b[0m\u001b[1;33m\u001b[0m\u001b[1;33m\u001b[0m\u001b[0m\n",
      "\u001b[1;32m<ipython-input-64-025c5a6b9530>\u001b[0m in \u001b[0;36mdownload\u001b[1;34m(url, params, headers, method, limit)\u001b[0m\n\u001b[0;32m     12\u001b[0m                \u001b[0mparams\u001b[0m\u001b[1;33m=\u001b[0m\u001b[0mparams\u001b[0m \u001b[1;32mif\u001b[0m \u001b[0mmethod\u001b[0m\u001b[1;33m==\u001b[0m\u001b[1;34m'GET'\u001b[0m \u001b[1;32melse\u001b[0m \u001b[1;33m{\u001b[0m\u001b[1;33m}\u001b[0m\u001b[1;33m,\u001b[0m\u001b[1;33m\u001b[0m\u001b[1;33m\u001b[0m\u001b[0m\n\u001b[0;32m     13\u001b[0m                \u001b[0mdata\u001b[0m\u001b[1;33m=\u001b[0m\u001b[0mparams\u001b[0m \u001b[1;32mif\u001b[0m \u001b[0mmethod\u001b[0m\u001b[1;33m==\u001b[0m\u001b[1;34m'POST'\u001b[0m \u001b[1;32melse\u001b[0m \u001b[1;33m{\u001b[0m\u001b[1;33m}\u001b[0m\u001b[1;33m,\u001b[0m\u001b[1;33m\u001b[0m\u001b[1;33m\u001b[0m\u001b[0m\n\u001b[1;32m---> 14\u001b[1;33m                headers=headers)\n\u001b[0m\u001b[0;32m     15\u001b[0m         \u001b[0mresp\u001b[0m\u001b[1;33m.\u001b[0m\u001b[0mraise_for_status\u001b[0m\u001b[1;33m(\u001b[0m\u001b[1;33m)\u001b[0m\u001b[1;33m\u001b[0m\u001b[1;33m\u001b[0m\u001b[0m\n\u001b[0;32m     16\u001b[0m     \u001b[1;32mexcept\u001b[0m \u001b[0mHTTPError\u001b[0m \u001b[1;32mas\u001b[0m \u001b[0me\u001b[0m\u001b[1;33m:\u001b[0m\u001b[1;33m\u001b[0m\u001b[1;33m\u001b[0m\u001b[0m\n",
      "\u001b[1;32m~\\Anaconda3\\lib\\site-packages\\requests\\api.py\u001b[0m in \u001b[0;36mrequest\u001b[1;34m(method, url, **kwargs)\u001b[0m\n\u001b[0;32m     59\u001b[0m     \u001b[1;31m# cases, and look like a memory leak in others.\u001b[0m\u001b[1;33m\u001b[0m\u001b[1;33m\u001b[0m\u001b[1;33m\u001b[0m\u001b[0m\n\u001b[0;32m     60\u001b[0m     \u001b[1;32mwith\u001b[0m \u001b[0msessions\u001b[0m\u001b[1;33m.\u001b[0m\u001b[0mSession\u001b[0m\u001b[1;33m(\u001b[0m\u001b[1;33m)\u001b[0m \u001b[1;32mas\u001b[0m \u001b[0msession\u001b[0m\u001b[1;33m:\u001b[0m\u001b[1;33m\u001b[0m\u001b[1;33m\u001b[0m\u001b[0m\n\u001b[1;32m---> 61\u001b[1;33m         \u001b[1;32mreturn\u001b[0m \u001b[0msession\u001b[0m\u001b[1;33m.\u001b[0m\u001b[0mrequest\u001b[0m\u001b[1;33m(\u001b[0m\u001b[0mmethod\u001b[0m\u001b[1;33m=\u001b[0m\u001b[0mmethod\u001b[0m\u001b[1;33m,\u001b[0m \u001b[0murl\u001b[0m\u001b[1;33m=\u001b[0m\u001b[0murl\u001b[0m\u001b[1;33m,\u001b[0m \u001b[1;33m**\u001b[0m\u001b[0mkwargs\u001b[0m\u001b[1;33m)\u001b[0m\u001b[1;33m\u001b[0m\u001b[1;33m\u001b[0m\u001b[0m\n\u001b[0m\u001b[0;32m     62\u001b[0m \u001b[1;33m\u001b[0m\u001b[0m\n\u001b[0;32m     63\u001b[0m \u001b[1;33m\u001b[0m\u001b[0m\n",
      "\u001b[1;32m~\\Anaconda3\\lib\\site-packages\\requests\\sessions.py\u001b[0m in \u001b[0;36mrequest\u001b[1;34m(self, method, url, params, data, headers, cookies, files, auth, timeout, allow_redirects, proxies, hooks, stream, verify, cert, json)\u001b[0m\n\u001b[0;32m    528\u001b[0m         }\n\u001b[0;32m    529\u001b[0m         \u001b[0msend_kwargs\u001b[0m\u001b[1;33m.\u001b[0m\u001b[0mupdate\u001b[0m\u001b[1;33m(\u001b[0m\u001b[0msettings\u001b[0m\u001b[1;33m)\u001b[0m\u001b[1;33m\u001b[0m\u001b[1;33m\u001b[0m\u001b[0m\n\u001b[1;32m--> 530\u001b[1;33m         \u001b[0mresp\u001b[0m \u001b[1;33m=\u001b[0m \u001b[0mself\u001b[0m\u001b[1;33m.\u001b[0m\u001b[0msend\u001b[0m\u001b[1;33m(\u001b[0m\u001b[0mprep\u001b[0m\u001b[1;33m,\u001b[0m \u001b[1;33m**\u001b[0m\u001b[0msend_kwargs\u001b[0m\u001b[1;33m)\u001b[0m\u001b[1;33m\u001b[0m\u001b[1;33m\u001b[0m\u001b[0m\n\u001b[0m\u001b[0;32m    531\u001b[0m \u001b[1;33m\u001b[0m\u001b[0m\n\u001b[0;32m    532\u001b[0m         \u001b[1;32mreturn\u001b[0m \u001b[0mresp\u001b[0m\u001b[1;33m\u001b[0m\u001b[1;33m\u001b[0m\u001b[0m\n",
      "\u001b[1;32m~\\Anaconda3\\lib\\site-packages\\requests\\sessions.py\u001b[0m in \u001b[0;36msend\u001b[1;34m(self, request, **kwargs)\u001b[0m\n\u001b[0;32m    641\u001b[0m \u001b[1;33m\u001b[0m\u001b[0m\n\u001b[0;32m    642\u001b[0m         \u001b[1;31m# Send the request\u001b[0m\u001b[1;33m\u001b[0m\u001b[1;33m\u001b[0m\u001b[1;33m\u001b[0m\u001b[0m\n\u001b[1;32m--> 643\u001b[1;33m         \u001b[0mr\u001b[0m \u001b[1;33m=\u001b[0m \u001b[0madapter\u001b[0m\u001b[1;33m.\u001b[0m\u001b[0msend\u001b[0m\u001b[1;33m(\u001b[0m\u001b[0mrequest\u001b[0m\u001b[1;33m,\u001b[0m \u001b[1;33m**\u001b[0m\u001b[0mkwargs\u001b[0m\u001b[1;33m)\u001b[0m\u001b[1;33m\u001b[0m\u001b[1;33m\u001b[0m\u001b[0m\n\u001b[0m\u001b[0;32m    644\u001b[0m \u001b[1;33m\u001b[0m\u001b[0m\n\u001b[0;32m    645\u001b[0m         \u001b[1;31m# Total elapsed time of the request (approximately)\u001b[0m\u001b[1;33m\u001b[0m\u001b[1;33m\u001b[0m\u001b[1;33m\u001b[0m\u001b[0m\n",
      "\u001b[1;32m~\\Anaconda3\\lib\\site-packages\\requests\\adapters.py\u001b[0m in \u001b[0;36msend\u001b[1;34m(self, request, stream, timeout, verify, cert, proxies)\u001b[0m\n\u001b[0;32m    447\u001b[0m                     \u001b[0mdecode_content\u001b[0m\u001b[1;33m=\u001b[0m\u001b[1;32mFalse\u001b[0m\u001b[1;33m,\u001b[0m\u001b[1;33m\u001b[0m\u001b[1;33m\u001b[0m\u001b[0m\n\u001b[0;32m    448\u001b[0m                     \u001b[0mretries\u001b[0m\u001b[1;33m=\u001b[0m\u001b[0mself\u001b[0m\u001b[1;33m.\u001b[0m\u001b[0mmax_retries\u001b[0m\u001b[1;33m,\u001b[0m\u001b[1;33m\u001b[0m\u001b[1;33m\u001b[0m\u001b[0m\n\u001b[1;32m--> 449\u001b[1;33m                     \u001b[0mtimeout\u001b[0m\u001b[1;33m=\u001b[0m\u001b[0mtimeout\u001b[0m\u001b[1;33m\u001b[0m\u001b[1;33m\u001b[0m\u001b[0m\n\u001b[0m\u001b[0;32m    450\u001b[0m                 )\n\u001b[0;32m    451\u001b[0m \u001b[1;33m\u001b[0m\u001b[0m\n",
      "\u001b[1;32m~\\Anaconda3\\lib\\site-packages\\urllib3\\connectionpool.py\u001b[0m in \u001b[0;36murlopen\u001b[1;34m(self, method, url, body, headers, retries, redirect, assert_same_host, timeout, pool_timeout, release_conn, chunked, body_pos, **response_kw)\u001b[0m\n\u001b[0;32m    670\u001b[0m                 \u001b[0mbody\u001b[0m\u001b[1;33m=\u001b[0m\u001b[0mbody\u001b[0m\u001b[1;33m,\u001b[0m\u001b[1;33m\u001b[0m\u001b[1;33m\u001b[0m\u001b[0m\n\u001b[0;32m    671\u001b[0m                 \u001b[0mheaders\u001b[0m\u001b[1;33m=\u001b[0m\u001b[0mheaders\u001b[0m\u001b[1;33m,\u001b[0m\u001b[1;33m\u001b[0m\u001b[1;33m\u001b[0m\u001b[0m\n\u001b[1;32m--> 672\u001b[1;33m                 \u001b[0mchunked\u001b[0m\u001b[1;33m=\u001b[0m\u001b[0mchunked\u001b[0m\u001b[1;33m,\u001b[0m\u001b[1;33m\u001b[0m\u001b[1;33m\u001b[0m\u001b[0m\n\u001b[0m\u001b[0;32m    673\u001b[0m             )\n\u001b[0;32m    674\u001b[0m \u001b[1;33m\u001b[0m\u001b[0m\n",
      "\u001b[1;32m~\\Anaconda3\\lib\\site-packages\\urllib3\\connectionpool.py\u001b[0m in \u001b[0;36m_make_request\u001b[1;34m(self, conn, method, url, timeout, chunked, **httplib_request_kw)\u001b[0m\n\u001b[0;32m    419\u001b[0m                     \u001b[1;31m# Python 3 (including for exceptions like SystemExit).\u001b[0m\u001b[1;33m\u001b[0m\u001b[1;33m\u001b[0m\u001b[1;33m\u001b[0m\u001b[0m\n\u001b[0;32m    420\u001b[0m                     \u001b[1;31m# Otherwise it looks like a bug in the code.\u001b[0m\u001b[1;33m\u001b[0m\u001b[1;33m\u001b[0m\u001b[1;33m\u001b[0m\u001b[0m\n\u001b[1;32m--> 421\u001b[1;33m                     \u001b[0msix\u001b[0m\u001b[1;33m.\u001b[0m\u001b[0mraise_from\u001b[0m\u001b[1;33m(\u001b[0m\u001b[0me\u001b[0m\u001b[1;33m,\u001b[0m \u001b[1;32mNone\u001b[0m\u001b[1;33m)\u001b[0m\u001b[1;33m\u001b[0m\u001b[1;33m\u001b[0m\u001b[0m\n\u001b[0m\u001b[0;32m    422\u001b[0m         \u001b[1;32mexcept\u001b[0m \u001b[1;33m(\u001b[0m\u001b[0mSocketTimeout\u001b[0m\u001b[1;33m,\u001b[0m \u001b[0mBaseSSLError\u001b[0m\u001b[1;33m,\u001b[0m \u001b[0mSocketError\u001b[0m\u001b[1;33m)\u001b[0m \u001b[1;32mas\u001b[0m \u001b[0me\u001b[0m\u001b[1;33m:\u001b[0m\u001b[1;33m\u001b[0m\u001b[1;33m\u001b[0m\u001b[0m\n\u001b[0;32m    423\u001b[0m             \u001b[0mself\u001b[0m\u001b[1;33m.\u001b[0m\u001b[0m_raise_timeout\u001b[0m\u001b[1;33m(\u001b[0m\u001b[0merr\u001b[0m\u001b[1;33m=\u001b[0m\u001b[0me\u001b[0m\u001b[1;33m,\u001b[0m \u001b[0murl\u001b[0m\u001b[1;33m=\u001b[0m\u001b[0murl\u001b[0m\u001b[1;33m,\u001b[0m \u001b[0mtimeout_value\u001b[0m\u001b[1;33m=\u001b[0m\u001b[0mread_timeout\u001b[0m\u001b[1;33m)\u001b[0m\u001b[1;33m\u001b[0m\u001b[1;33m\u001b[0m\u001b[0m\n",
      "\u001b[1;32m~\\Anaconda3\\lib\\site-packages\\urllib3\\packages\\six.py\u001b[0m in \u001b[0;36mraise_from\u001b[1;34m(value, from_value)\u001b[0m\n",
      "\u001b[1;32m~\\Anaconda3\\lib\\site-packages\\urllib3\\connectionpool.py\u001b[0m in \u001b[0;36m_make_request\u001b[1;34m(self, conn, method, url, timeout, chunked, **httplib_request_kw)\u001b[0m\n\u001b[0;32m    414\u001b[0m                 \u001b[1;31m# Python 3\u001b[0m\u001b[1;33m\u001b[0m\u001b[1;33m\u001b[0m\u001b[1;33m\u001b[0m\u001b[0m\n\u001b[0;32m    415\u001b[0m                 \u001b[1;32mtry\u001b[0m\u001b[1;33m:\u001b[0m\u001b[1;33m\u001b[0m\u001b[1;33m\u001b[0m\u001b[0m\n\u001b[1;32m--> 416\u001b[1;33m                     \u001b[0mhttplib_response\u001b[0m \u001b[1;33m=\u001b[0m \u001b[0mconn\u001b[0m\u001b[1;33m.\u001b[0m\u001b[0mgetresponse\u001b[0m\u001b[1;33m(\u001b[0m\u001b[1;33m)\u001b[0m\u001b[1;33m\u001b[0m\u001b[1;33m\u001b[0m\u001b[0m\n\u001b[0m\u001b[0;32m    417\u001b[0m                 \u001b[1;32mexcept\u001b[0m \u001b[0mBaseException\u001b[0m \u001b[1;32mas\u001b[0m \u001b[0me\u001b[0m\u001b[1;33m:\u001b[0m\u001b[1;33m\u001b[0m\u001b[1;33m\u001b[0m\u001b[0m\n\u001b[0;32m    418\u001b[0m                     \u001b[1;31m# Remove the TypeError from the exception chain in\u001b[0m\u001b[1;33m\u001b[0m\u001b[1;33m\u001b[0m\u001b[1;33m\u001b[0m\u001b[0m\n",
      "\u001b[1;32m~\\Anaconda3\\lib\\http\\client.py\u001b[0m in \u001b[0;36mgetresponse\u001b[1;34m(self)\u001b[0m\n\u001b[0;32m   1342\u001b[0m         \u001b[1;32mtry\u001b[0m\u001b[1;33m:\u001b[0m\u001b[1;33m\u001b[0m\u001b[1;33m\u001b[0m\u001b[0m\n\u001b[0;32m   1343\u001b[0m             \u001b[1;32mtry\u001b[0m\u001b[1;33m:\u001b[0m\u001b[1;33m\u001b[0m\u001b[1;33m\u001b[0m\u001b[0m\n\u001b[1;32m-> 1344\u001b[1;33m                 \u001b[0mresponse\u001b[0m\u001b[1;33m.\u001b[0m\u001b[0mbegin\u001b[0m\u001b[1;33m(\u001b[0m\u001b[1;33m)\u001b[0m\u001b[1;33m\u001b[0m\u001b[1;33m\u001b[0m\u001b[0m\n\u001b[0m\u001b[0;32m   1345\u001b[0m             \u001b[1;32mexcept\u001b[0m \u001b[0mConnectionError\u001b[0m\u001b[1;33m:\u001b[0m\u001b[1;33m\u001b[0m\u001b[1;33m\u001b[0m\u001b[0m\n\u001b[0;32m   1346\u001b[0m                 \u001b[0mself\u001b[0m\u001b[1;33m.\u001b[0m\u001b[0mclose\u001b[0m\u001b[1;33m(\u001b[0m\u001b[1;33m)\u001b[0m\u001b[1;33m\u001b[0m\u001b[1;33m\u001b[0m\u001b[0m\n",
      "\u001b[1;32m~\\Anaconda3\\lib\\http\\client.py\u001b[0m in \u001b[0;36mbegin\u001b[1;34m(self)\u001b[0m\n\u001b[0;32m    304\u001b[0m         \u001b[1;31m# read until we get a non-100 response\u001b[0m\u001b[1;33m\u001b[0m\u001b[1;33m\u001b[0m\u001b[1;33m\u001b[0m\u001b[0m\n\u001b[0;32m    305\u001b[0m         \u001b[1;32mwhile\u001b[0m \u001b[1;32mTrue\u001b[0m\u001b[1;33m:\u001b[0m\u001b[1;33m\u001b[0m\u001b[1;33m\u001b[0m\u001b[0m\n\u001b[1;32m--> 306\u001b[1;33m             \u001b[0mversion\u001b[0m\u001b[1;33m,\u001b[0m \u001b[0mstatus\u001b[0m\u001b[1;33m,\u001b[0m \u001b[0mreason\u001b[0m \u001b[1;33m=\u001b[0m \u001b[0mself\u001b[0m\u001b[1;33m.\u001b[0m\u001b[0m_read_status\u001b[0m\u001b[1;33m(\u001b[0m\u001b[1;33m)\u001b[0m\u001b[1;33m\u001b[0m\u001b[1;33m\u001b[0m\u001b[0m\n\u001b[0m\u001b[0;32m    307\u001b[0m             \u001b[1;32mif\u001b[0m \u001b[0mstatus\u001b[0m \u001b[1;33m!=\u001b[0m \u001b[0mCONTINUE\u001b[0m\u001b[1;33m:\u001b[0m\u001b[1;33m\u001b[0m\u001b[1;33m\u001b[0m\u001b[0m\n\u001b[0;32m    308\u001b[0m                 \u001b[1;32mbreak\u001b[0m\u001b[1;33m\u001b[0m\u001b[1;33m\u001b[0m\u001b[0m\n",
      "\u001b[1;32m~\\Anaconda3\\lib\\http\\client.py\u001b[0m in \u001b[0;36m_read_status\u001b[1;34m(self)\u001b[0m\n\u001b[0;32m    265\u001b[0m \u001b[1;33m\u001b[0m\u001b[0m\n\u001b[0;32m    266\u001b[0m     \u001b[1;32mdef\u001b[0m \u001b[0m_read_status\u001b[0m\u001b[1;33m(\u001b[0m\u001b[0mself\u001b[0m\u001b[1;33m)\u001b[0m\u001b[1;33m:\u001b[0m\u001b[1;33m\u001b[0m\u001b[1;33m\u001b[0m\u001b[0m\n\u001b[1;32m--> 267\u001b[1;33m         \u001b[0mline\u001b[0m \u001b[1;33m=\u001b[0m \u001b[0mstr\u001b[0m\u001b[1;33m(\u001b[0m\u001b[0mself\u001b[0m\u001b[1;33m.\u001b[0m\u001b[0mfp\u001b[0m\u001b[1;33m.\u001b[0m\u001b[0mreadline\u001b[0m\u001b[1;33m(\u001b[0m\u001b[0m_MAXLINE\u001b[0m \u001b[1;33m+\u001b[0m \u001b[1;36m1\u001b[0m\u001b[1;33m)\u001b[0m\u001b[1;33m,\u001b[0m \u001b[1;34m\"iso-8859-1\"\u001b[0m\u001b[1;33m)\u001b[0m\u001b[1;33m\u001b[0m\u001b[1;33m\u001b[0m\u001b[0m\n\u001b[0m\u001b[0;32m    268\u001b[0m         \u001b[1;32mif\u001b[0m \u001b[0mlen\u001b[0m\u001b[1;33m(\u001b[0m\u001b[0mline\u001b[0m\u001b[1;33m)\u001b[0m \u001b[1;33m>\u001b[0m \u001b[0m_MAXLINE\u001b[0m\u001b[1;33m:\u001b[0m\u001b[1;33m\u001b[0m\u001b[1;33m\u001b[0m\u001b[0m\n\u001b[0;32m    269\u001b[0m             \u001b[1;32mraise\u001b[0m \u001b[0mLineTooLong\u001b[0m\u001b[1;33m(\u001b[0m\u001b[1;34m\"status line\"\u001b[0m\u001b[1;33m)\u001b[0m\u001b[1;33m\u001b[0m\u001b[1;33m\u001b[0m\u001b[0m\n",
      "\u001b[1;32m~\\Anaconda3\\lib\\socket.py\u001b[0m in \u001b[0;36mreadinto\u001b[1;34m(self, b)\u001b[0m\n\u001b[0;32m    587\u001b[0m         \u001b[1;32mwhile\u001b[0m \u001b[1;32mTrue\u001b[0m\u001b[1;33m:\u001b[0m\u001b[1;33m\u001b[0m\u001b[1;33m\u001b[0m\u001b[0m\n\u001b[0;32m    588\u001b[0m             \u001b[1;32mtry\u001b[0m\u001b[1;33m:\u001b[0m\u001b[1;33m\u001b[0m\u001b[1;33m\u001b[0m\u001b[0m\n\u001b[1;32m--> 589\u001b[1;33m                 \u001b[1;32mreturn\u001b[0m \u001b[0mself\u001b[0m\u001b[1;33m.\u001b[0m\u001b[0m_sock\u001b[0m\u001b[1;33m.\u001b[0m\u001b[0mrecv_into\u001b[0m\u001b[1;33m(\u001b[0m\u001b[0mb\u001b[0m\u001b[1;33m)\u001b[0m\u001b[1;33m\u001b[0m\u001b[1;33m\u001b[0m\u001b[0m\n\u001b[0m\u001b[0;32m    590\u001b[0m             \u001b[1;32mexcept\u001b[0m \u001b[0mtimeout\u001b[0m\u001b[1;33m:\u001b[0m\u001b[1;33m\u001b[0m\u001b[1;33m\u001b[0m\u001b[0m\n\u001b[0;32m    591\u001b[0m                 \u001b[0mself\u001b[0m\u001b[1;33m.\u001b[0m\u001b[0m_timeout_occurred\u001b[0m \u001b[1;33m=\u001b[0m \u001b[1;32mTrue\u001b[0m\u001b[1;33m\u001b[0m\u001b[1;33m\u001b[0m\u001b[0m\n",
      "\u001b[1;31mKeyboardInterrupt\u001b[0m: "
     ]
    }
   ],
   "source": [
    "urls = list()\n",
    "seen = list()\n",
    "urls.append(url)\n",
    "\n",
    "while urls: # Queue\n",
    "    seed = urls.pop(0) # starting url\n",
    "    seen.append(seed) # => 재방문 회피\n",
    "    dom = BeautifulSoup(download(seed).text, 'html.parser') # HTTP\n",
    "#     for _ in dom.select('a'): # extract hyperlinks\n",
    "#         if _.has_attr('href'): # 나중에\n",
    "#             if _['href'].startswith('/'): # filter1\n",
    "#                 newUrls = urljoin(seed, _['href']) # Normalization\n",
    "#                 # query부분 (GET방식에서 ? 이후에 나오는 파라미터 생략)\n",
    "#                 if newUrls not in seen and newUrls not in urls: # \n",
    "#                     urls.append(newUrls)\n",
    "# #                     print(newUrls)\n",
    "    for _ in [_['href'] for _ in dom.select('a')\n",
    "              if _.has_attr('href') and _['href'].startswith('/')]:\n",
    "        newUrls = urljoin(seed, urlparse(_)[2])\n",
    "        if newUrls not in seen and newUrls not in urls:\n",
    "            urls.append(newUrls)\n",
    "    print(len(urls), len(seen))"
   ]
  },
  {
   "cell_type": "code",
   "execution_count": 93,
   "metadata": {},
   "outputs": [
    {
     "data": {
      "text/plain": [
       "['http://example.webscraping.com/places/default/iso/PK',\n",
       " 'http://example.webscraping.com/places/default/iso/UZ',\n",
       " 'http://example.webscraping.com/places/default/edit/Afghanistan-1',\n",
       " 'http://example.webscraping.com/places/default/continent/EU',\n",
       " 'http://example.webscraping.com/places/default/iso//',\n",
       " 'http://example.webscraping.com/places/default/edit/Aland-Islands-2',\n",
       " 'http://example.webscraping.com/places/default/iso/MK',\n",
       " 'http://example.webscraping.com/places/default/iso/GR',\n",
       " 'http://example.webscraping.com/places/default/iso/CS',\n",
       " 'http://example.webscraping.com/places/default/iso/ME',\n",
       " 'http://example.webscraping.com/places/default/iso/RS',\n",
       " 'http://example.webscraping.com/places/default/iso/XK',\n",
       " 'http://example.webscraping.com/places/default/edit/Albania-3',\n",
       " 'http://example.webscraping.com/places/default/continent/AF',\n",
       " 'http://example.webscraping.com/places/default/iso/NE',\n",
       " 'http://example.webscraping.com/places/default/iso/EH',\n",
       " 'http://example.webscraping.com/places/default/iso/LY',\n",
       " 'http://example.webscraping.com/places/default/iso/MR',\n",
       " 'http://example.webscraping.com/places/default/iso/TN',\n",
       " 'http://example.webscraping.com/places/default/iso/MA',\n",
       " 'http://example.webscraping.com/places/default/iso/ML',\n",
       " 'http://example.webscraping.com/places/default/edit/Algeria-4',\n",
       " 'http://example.webscraping.com/places/default/continent/OC',\n",
       " 'http://example.webscraping.com/places/default/edit/American-Samoa-5',\n",
       " 'http://example.webscraping.com/places/default/iso/ES',\n",
       " 'http://example.webscraping.com/places/default/iso/FR',\n",
       " 'http://example.webscraping.com/places/default/edit/Andorra-6',\n",
       " 'http://example.webscraping.com/places/default/iso/CD',\n",
       " 'http://example.webscraping.com/places/default/iso/NA',\n",
       " 'http://example.webscraping.com/places/default/iso/ZM',\n",
       " 'http://example.webscraping.com/places/default/iso/CG',\n",
       " 'http://example.webscraping.com/places/default/edit/Angola-7',\n",
       " 'http://example.webscraping.com/places/default/continent/NA',\n",
       " 'http://example.webscraping.com/places/default/edit/Anguilla-8',\n",
       " 'http://example.webscraping.com/places/default/continent/AN',\n",
       " 'http://example.webscraping.com/places/default/edit/Antarctica-9',\n",
       " 'http://example.webscraping.com/places/default/edit/Antigua-and-Barbuda-10',\n",
       " 'http://example.webscraping.com/places/default/view/Argentina-11',\n",
       " 'http://example.webscraping.com/places/default/view/Armenia-12',\n",
       " 'http://example.webscraping.com/places/default/view/Aruba-13',\n",
       " 'http://example.webscraping.com/places/default/view/Australia-14',\n",
       " 'http://example.webscraping.com/places/default/view/Austria-15',\n",
       " 'http://example.webscraping.com/places/default/view/Azerbaijan-16',\n",
       " 'http://example.webscraping.com/places/default/view/Bahamas-17',\n",
       " 'http://example.webscraping.com/places/default/view/Bahrain-18',\n",
       " 'http://example.webscraping.com/places/default/view/Bangladesh-19',\n",
       " 'http://example.webscraping.com/places/default/view/Barbados-20',\n",
       " 'http://example.webscraping.com/places/default/index/0',\n",
       " 'http://example.webscraping.com/places/default/index/2',\n",
       " 'http://example.webscraping.com/places/default/view/Bhutan-26',\n",
       " 'http://example.webscraping.com/places/default/view/British-Indian-Ocean-Territory-33',\n",
       " 'http://example.webscraping.com/places/default/view/Brunei-35',\n",
       " 'http://example.webscraping.com/places/default/view/Cambodia-39',\n",
       " 'http://example.webscraping.com/places/default/view/China-47',\n",
       " 'http://example.webscraping.com/places/default/view/Christmas-Island-48',\n",
       " 'http://example.webscraping.com/places/default/view/Cocos-Islands-49',\n",
       " 'http://example.webscraping.com/places/default/view/Georgia-82',\n",
       " 'http://example.webscraping.com/places/default/view/Hong-Kong-99',\n",
       " 'http://example.webscraping.com/places/default/view/India-102',\n",
       " 'http://example.webscraping.com/places/default/view/Indonesia-103',\n",
       " 'http://example.webscraping.com/places/default/view/Iran-104',\n",
       " 'http://example.webscraping.com/places/default/view/Iraq-105',\n",
       " 'http://example.webscraping.com/places/default/view/Israel-108',\n",
       " 'http://example.webscraping.com/places/default/view/Japan-112',\n",
       " 'http://example.webscraping.com/places/default/view/Jordan-114',\n",
       " 'http://example.webscraping.com/places/default/view/Kazakhstan-115',\n",
       " 'http://example.webscraping.com/places/default/view/Kuwait-119',\n",
       " 'http://example.webscraping.com/places/default/view/Kyrgyzstan-120',\n",
       " 'http://example.webscraping.com/places/default/view/Laos-121',\n",
       " 'http://example.webscraping.com/places/default/view/Lebanon-123',\n",
       " 'http://example.webscraping.com/places/default/view/Macao-130',\n",
       " 'http://example.webscraping.com/places/default/view/Malaysia-134',\n",
       " 'http://example.webscraping.com/places/default/view/Maldives-135',\n",
       " 'http://example.webscraping.com/places/default/view/Mongolia-147',\n",
       " 'http://example.webscraping.com/places/default/view/Myanmar-152',\n",
       " 'http://example.webscraping.com/places/default/view/Nepal-155',\n",
       " 'http://example.webscraping.com/places/default/view/North-Korea-165',\n",
       " 'http://example.webscraping.com/places/default/view/Oman-168',\n",
       " 'http://example.webscraping.com/places/default/view/Pakistan-169',\n",
       " 'http://example.webscraping.com/places/default/view/Palestinian-Territory-171',\n",
       " 'http://example.webscraping.com/places/default/view/Philippines-176',\n",
       " 'http://example.webscraping.com/places/default/view/Qatar-181',\n",
       " 'http://example.webscraping.com/places/default/view/Saudi-Arabia-197',\n",
       " 'http://example.webscraping.com/places/default/view/Singapore-203',\n",
       " 'http://example.webscraping.com/places/default/view/South-Korea-211',\n",
       " 'http://example.webscraping.com/places/default/view/Sri-Lanka-214',\n",
       " 'http://example.webscraping.com/places/default/view/Syria-221',\n",
       " 'http://example.webscraping.com/places/default/view/Taiwan-222',\n",
       " 'http://example.webscraping.com/places/default/view/Tajikistan-223',\n",
       " 'http://example.webscraping.com/places/default/view/Thailand-225',\n",
       " 'http://example.webscraping.com/places/default/view/Turkey-231',\n",
       " 'http://example.webscraping.com/places/default/view/Turkmenistan-232',\n",
       " 'http://example.webscraping.com/places/default/view/United-Arab-Emirates-238',\n",
       " 'http://example.webscraping.com/places/default/view/Uzbekistan-243',\n",
       " 'http://example.webscraping.com/places/default/view/Vietnam-247',\n",
       " 'http://example.webscraping.com/places/default/view/Yemen-250',\n",
       " 'http://example.webscraping.com/places/default/iso/AF',\n",
       " 'http://example.webscraping.com/places/default/iso/KZ',\n",
       " 'http://example.webscraping.com/places/default/edit/Turkmenistan-232',\n",
       " 'http://example.webscraping.com/places/default/iso/LA',\n",
       " 'http://example.webscraping.com/places/default/iso/BT',\n",
       " 'http://example.webscraping.com/places/default/iso/MN',\n",
       " 'http://example.webscraping.com/places/default/iso/NP',\n",
       " 'http://example.webscraping.com/places/default/iso/MM',\n",
       " 'http://example.webscraping.com/places/default/iso/KG',\n",
       " 'http://example.webscraping.com/places/default/iso/KP',\n",
       " 'http://example.webscraping.com/places/default/iso/RU',\n",
       " 'http://example.webscraping.com/places/default/iso/VN',\n",
       " 'http://example.webscraping.com/places/default/iso/IN',\n",
       " 'http://example.webscraping.com/places/default/edit/China-47',\n",
       " 'http://example.webscraping.com/places/default/iso/IQ',\n",
       " 'http://example.webscraping.com/places/default/iso/AM',\n",
       " 'http://example.webscraping.com/places/default/iso/AZ',\n",
       " 'http://example.webscraping.com/places/default/iso/TR',\n",
       " 'http://example.webscraping.com/places/default/edit/Iran-104']"
      ]
     },
     "execution_count": 93,
     "metadata": {},
     "output_type": "execute_result"
    }
   ],
   "source": [
    "urls # 남은 것들"
   ]
  },
  {
   "cell_type": "code",
   "execution_count": 94,
   "metadata": {},
   "outputs": [
    {
     "data": {
      "text/plain": [
       "ParseResult(scheme='http', netloc='example.webscraping.com', path='/places/default/user/register', params='', query='_next=/places/default/view/Afghanistan-1', fragment='')"
      ]
     },
     "execution_count": 94,
     "metadata": {},
     "output_type": "execute_result"
    }
   ],
   "source": [
    "urlparse('http://example.webscraping.com/places/default/user/register?_next=/places/default/view/Afghanistan-1')"
   ]
  },
  {
   "cell_type": "code",
   "execution_count": 95,
   "metadata": {},
   "outputs": [],
   "source": [
    "# 깔끔하게 path까지만 # query 부분 생략"
   ]
  },
  {
   "cell_type": "code",
   "execution_count": 96,
   "metadata": {
    "scrolled": true
   },
   "outputs": [
    {
     "name": "stdout",
     "output_type": "stream",
     "text": [
      "14 1\n",
      "13 2\n",
      "12 3\n",
      "11 4\n",
      "18 5\n",
      "20 6\n",
      "26 7\n",
      "34 8\n",
      "35 9\n",
      "37 10\n",
      "41 11\n",
      "42 12\n",
      "43 13\n",
      "43 14\n",
      "54 15\n",
      "100 16\n",
      "102 17\n",
      "112 18\n",
      "116 19\n"
     ]
    },
    {
     "ename": "KeyboardInterrupt",
     "evalue": "",
     "output_type": "error",
     "traceback": [
      "\u001b[1;31m---------------------------------------------------------------------------\u001b[0m",
      "\u001b[1;31mKeyboardInterrupt\u001b[0m                         Traceback (most recent call last)",
      "\u001b[1;32m<ipython-input-96-ace513d3ee55>\u001b[0m in \u001b[0;36m<module>\u001b[1;34m\u001b[0m\n\u001b[0;32m      7\u001b[0m     \u001b[0mseed\u001b[0m \u001b[1;33m=\u001b[0m \u001b[0murls\u001b[0m\u001b[1;33m.\u001b[0m\u001b[0mpop\u001b[0m\u001b[1;33m(\u001b[0m\u001b[1;36m0\u001b[0m\u001b[1;33m)\u001b[0m \u001b[1;31m# starting url\u001b[0m\u001b[1;33m\u001b[0m\u001b[1;33m\u001b[0m\u001b[0m\n\u001b[0;32m      8\u001b[0m     \u001b[0mseen\u001b[0m\u001b[1;33m.\u001b[0m\u001b[0mappend\u001b[0m\u001b[1;33m(\u001b[0m\u001b[0mseed\u001b[0m\u001b[1;33m)\u001b[0m \u001b[1;31m# -> 재방문 회피\u001b[0m\u001b[1;33m\u001b[0m\u001b[1;33m\u001b[0m\u001b[0m\n\u001b[1;32m----> 9\u001b[1;33m     \u001b[0mdom\u001b[0m \u001b[1;33m=\u001b[0m \u001b[0mBeautifulSoup\u001b[0m\u001b[1;33m(\u001b[0m\u001b[0mdownload\u001b[0m\u001b[1;33m(\u001b[0m\u001b[0mseed\u001b[0m\u001b[1;33m)\u001b[0m\u001b[1;33m.\u001b[0m\u001b[0mtext\u001b[0m\u001b[1;33m,\u001b[0m \u001b[1;34m'html.parser'\u001b[0m\u001b[1;33m)\u001b[0m \u001b[1;31m# HTTP\u001b[0m\u001b[1;33m\u001b[0m\u001b[1;33m\u001b[0m\u001b[0m\n\u001b[0m\u001b[0;32m     10\u001b[0m     for _ in [_['href'] for _ in dom.select('a')\n\u001b[0;32m     11\u001b[0m              if _.has_attr('href') and _['href'].startswith('/')]:\n",
      "\u001b[1;32m<ipython-input-64-025c5a6b9530>\u001b[0m in \u001b[0;36mdownload\u001b[1;34m(url, params, headers, method, limit)\u001b[0m\n\u001b[0;32m     12\u001b[0m                \u001b[0mparams\u001b[0m\u001b[1;33m=\u001b[0m\u001b[0mparams\u001b[0m \u001b[1;32mif\u001b[0m \u001b[0mmethod\u001b[0m\u001b[1;33m==\u001b[0m\u001b[1;34m'GET'\u001b[0m \u001b[1;32melse\u001b[0m \u001b[1;33m{\u001b[0m\u001b[1;33m}\u001b[0m\u001b[1;33m,\u001b[0m\u001b[1;33m\u001b[0m\u001b[1;33m\u001b[0m\u001b[0m\n\u001b[0;32m     13\u001b[0m                \u001b[0mdata\u001b[0m\u001b[1;33m=\u001b[0m\u001b[0mparams\u001b[0m \u001b[1;32mif\u001b[0m \u001b[0mmethod\u001b[0m\u001b[1;33m==\u001b[0m\u001b[1;34m'POST'\u001b[0m \u001b[1;32melse\u001b[0m \u001b[1;33m{\u001b[0m\u001b[1;33m}\u001b[0m\u001b[1;33m,\u001b[0m\u001b[1;33m\u001b[0m\u001b[1;33m\u001b[0m\u001b[0m\n\u001b[1;32m---> 14\u001b[1;33m                headers=headers)\n\u001b[0m\u001b[0;32m     15\u001b[0m         \u001b[0mresp\u001b[0m\u001b[1;33m.\u001b[0m\u001b[0mraise_for_status\u001b[0m\u001b[1;33m(\u001b[0m\u001b[1;33m)\u001b[0m\u001b[1;33m\u001b[0m\u001b[1;33m\u001b[0m\u001b[0m\n\u001b[0;32m     16\u001b[0m     \u001b[1;32mexcept\u001b[0m \u001b[0mHTTPError\u001b[0m \u001b[1;32mas\u001b[0m \u001b[0me\u001b[0m\u001b[1;33m:\u001b[0m\u001b[1;33m\u001b[0m\u001b[1;33m\u001b[0m\u001b[0m\n",
      "\u001b[1;32m~\\Anaconda3\\lib\\site-packages\\requests\\api.py\u001b[0m in \u001b[0;36mrequest\u001b[1;34m(method, url, **kwargs)\u001b[0m\n\u001b[0;32m     59\u001b[0m     \u001b[1;31m# cases, and look like a memory leak in others.\u001b[0m\u001b[1;33m\u001b[0m\u001b[1;33m\u001b[0m\u001b[1;33m\u001b[0m\u001b[0m\n\u001b[0;32m     60\u001b[0m     \u001b[1;32mwith\u001b[0m \u001b[0msessions\u001b[0m\u001b[1;33m.\u001b[0m\u001b[0mSession\u001b[0m\u001b[1;33m(\u001b[0m\u001b[1;33m)\u001b[0m \u001b[1;32mas\u001b[0m \u001b[0msession\u001b[0m\u001b[1;33m:\u001b[0m\u001b[1;33m\u001b[0m\u001b[1;33m\u001b[0m\u001b[0m\n\u001b[1;32m---> 61\u001b[1;33m         \u001b[1;32mreturn\u001b[0m \u001b[0msession\u001b[0m\u001b[1;33m.\u001b[0m\u001b[0mrequest\u001b[0m\u001b[1;33m(\u001b[0m\u001b[0mmethod\u001b[0m\u001b[1;33m=\u001b[0m\u001b[0mmethod\u001b[0m\u001b[1;33m,\u001b[0m \u001b[0murl\u001b[0m\u001b[1;33m=\u001b[0m\u001b[0murl\u001b[0m\u001b[1;33m,\u001b[0m \u001b[1;33m**\u001b[0m\u001b[0mkwargs\u001b[0m\u001b[1;33m)\u001b[0m\u001b[1;33m\u001b[0m\u001b[1;33m\u001b[0m\u001b[0m\n\u001b[0m\u001b[0;32m     62\u001b[0m \u001b[1;33m\u001b[0m\u001b[0m\n\u001b[0;32m     63\u001b[0m \u001b[1;33m\u001b[0m\u001b[0m\n",
      "\u001b[1;32m~\\Anaconda3\\lib\\site-packages\\requests\\sessions.py\u001b[0m in \u001b[0;36mrequest\u001b[1;34m(self, method, url, params, data, headers, cookies, files, auth, timeout, allow_redirects, proxies, hooks, stream, verify, cert, json)\u001b[0m\n\u001b[0;32m    528\u001b[0m         }\n\u001b[0;32m    529\u001b[0m         \u001b[0msend_kwargs\u001b[0m\u001b[1;33m.\u001b[0m\u001b[0mupdate\u001b[0m\u001b[1;33m(\u001b[0m\u001b[0msettings\u001b[0m\u001b[1;33m)\u001b[0m\u001b[1;33m\u001b[0m\u001b[1;33m\u001b[0m\u001b[0m\n\u001b[1;32m--> 530\u001b[1;33m         \u001b[0mresp\u001b[0m \u001b[1;33m=\u001b[0m \u001b[0mself\u001b[0m\u001b[1;33m.\u001b[0m\u001b[0msend\u001b[0m\u001b[1;33m(\u001b[0m\u001b[0mprep\u001b[0m\u001b[1;33m,\u001b[0m \u001b[1;33m**\u001b[0m\u001b[0msend_kwargs\u001b[0m\u001b[1;33m)\u001b[0m\u001b[1;33m\u001b[0m\u001b[1;33m\u001b[0m\u001b[0m\n\u001b[0m\u001b[0;32m    531\u001b[0m \u001b[1;33m\u001b[0m\u001b[0m\n\u001b[0;32m    532\u001b[0m         \u001b[1;32mreturn\u001b[0m \u001b[0mresp\u001b[0m\u001b[1;33m\u001b[0m\u001b[1;33m\u001b[0m\u001b[0m\n",
      "\u001b[1;32m~\\Anaconda3\\lib\\site-packages\\requests\\sessions.py\u001b[0m in \u001b[0;36msend\u001b[1;34m(self, request, **kwargs)\u001b[0m\n\u001b[0;32m    641\u001b[0m \u001b[1;33m\u001b[0m\u001b[0m\n\u001b[0;32m    642\u001b[0m         \u001b[1;31m# Send the request\u001b[0m\u001b[1;33m\u001b[0m\u001b[1;33m\u001b[0m\u001b[1;33m\u001b[0m\u001b[0m\n\u001b[1;32m--> 643\u001b[1;33m         \u001b[0mr\u001b[0m \u001b[1;33m=\u001b[0m \u001b[0madapter\u001b[0m\u001b[1;33m.\u001b[0m\u001b[0msend\u001b[0m\u001b[1;33m(\u001b[0m\u001b[0mrequest\u001b[0m\u001b[1;33m,\u001b[0m \u001b[1;33m**\u001b[0m\u001b[0mkwargs\u001b[0m\u001b[1;33m)\u001b[0m\u001b[1;33m\u001b[0m\u001b[1;33m\u001b[0m\u001b[0m\n\u001b[0m\u001b[0;32m    644\u001b[0m \u001b[1;33m\u001b[0m\u001b[0m\n\u001b[0;32m    645\u001b[0m         \u001b[1;31m# Total elapsed time of the request (approximately)\u001b[0m\u001b[1;33m\u001b[0m\u001b[1;33m\u001b[0m\u001b[1;33m\u001b[0m\u001b[0m\n",
      "\u001b[1;32m~\\Anaconda3\\lib\\site-packages\\requests\\adapters.py\u001b[0m in \u001b[0;36msend\u001b[1;34m(self, request, stream, timeout, verify, cert, proxies)\u001b[0m\n\u001b[0;32m    447\u001b[0m                     \u001b[0mdecode_content\u001b[0m\u001b[1;33m=\u001b[0m\u001b[1;32mFalse\u001b[0m\u001b[1;33m,\u001b[0m\u001b[1;33m\u001b[0m\u001b[1;33m\u001b[0m\u001b[0m\n\u001b[0;32m    448\u001b[0m                     \u001b[0mretries\u001b[0m\u001b[1;33m=\u001b[0m\u001b[0mself\u001b[0m\u001b[1;33m.\u001b[0m\u001b[0mmax_retries\u001b[0m\u001b[1;33m,\u001b[0m\u001b[1;33m\u001b[0m\u001b[1;33m\u001b[0m\u001b[0m\n\u001b[1;32m--> 449\u001b[1;33m                     \u001b[0mtimeout\u001b[0m\u001b[1;33m=\u001b[0m\u001b[0mtimeout\u001b[0m\u001b[1;33m\u001b[0m\u001b[1;33m\u001b[0m\u001b[0m\n\u001b[0m\u001b[0;32m    450\u001b[0m                 )\n\u001b[0;32m    451\u001b[0m \u001b[1;33m\u001b[0m\u001b[0m\n",
      "\u001b[1;32m~\\Anaconda3\\lib\\site-packages\\urllib3\\connectionpool.py\u001b[0m in \u001b[0;36murlopen\u001b[1;34m(self, method, url, body, headers, retries, redirect, assert_same_host, timeout, pool_timeout, release_conn, chunked, body_pos, **response_kw)\u001b[0m\n\u001b[0;32m    670\u001b[0m                 \u001b[0mbody\u001b[0m\u001b[1;33m=\u001b[0m\u001b[0mbody\u001b[0m\u001b[1;33m,\u001b[0m\u001b[1;33m\u001b[0m\u001b[1;33m\u001b[0m\u001b[0m\n\u001b[0;32m    671\u001b[0m                 \u001b[0mheaders\u001b[0m\u001b[1;33m=\u001b[0m\u001b[0mheaders\u001b[0m\u001b[1;33m,\u001b[0m\u001b[1;33m\u001b[0m\u001b[1;33m\u001b[0m\u001b[0m\n\u001b[1;32m--> 672\u001b[1;33m                 \u001b[0mchunked\u001b[0m\u001b[1;33m=\u001b[0m\u001b[0mchunked\u001b[0m\u001b[1;33m,\u001b[0m\u001b[1;33m\u001b[0m\u001b[1;33m\u001b[0m\u001b[0m\n\u001b[0m\u001b[0;32m    673\u001b[0m             )\n\u001b[0;32m    674\u001b[0m \u001b[1;33m\u001b[0m\u001b[0m\n",
      "\u001b[1;32m~\\Anaconda3\\lib\\site-packages\\urllib3\\connectionpool.py\u001b[0m in \u001b[0;36m_make_request\u001b[1;34m(self, conn, method, url, timeout, chunked, **httplib_request_kw)\u001b[0m\n\u001b[0;32m    419\u001b[0m                     \u001b[1;31m# Python 3 (including for exceptions like SystemExit).\u001b[0m\u001b[1;33m\u001b[0m\u001b[1;33m\u001b[0m\u001b[1;33m\u001b[0m\u001b[0m\n\u001b[0;32m    420\u001b[0m                     \u001b[1;31m# Otherwise it looks like a bug in the code.\u001b[0m\u001b[1;33m\u001b[0m\u001b[1;33m\u001b[0m\u001b[1;33m\u001b[0m\u001b[0m\n\u001b[1;32m--> 421\u001b[1;33m                     \u001b[0msix\u001b[0m\u001b[1;33m.\u001b[0m\u001b[0mraise_from\u001b[0m\u001b[1;33m(\u001b[0m\u001b[0me\u001b[0m\u001b[1;33m,\u001b[0m \u001b[1;32mNone\u001b[0m\u001b[1;33m)\u001b[0m\u001b[1;33m\u001b[0m\u001b[1;33m\u001b[0m\u001b[0m\n\u001b[0m\u001b[0;32m    422\u001b[0m         \u001b[1;32mexcept\u001b[0m \u001b[1;33m(\u001b[0m\u001b[0mSocketTimeout\u001b[0m\u001b[1;33m,\u001b[0m \u001b[0mBaseSSLError\u001b[0m\u001b[1;33m,\u001b[0m \u001b[0mSocketError\u001b[0m\u001b[1;33m)\u001b[0m \u001b[1;32mas\u001b[0m \u001b[0me\u001b[0m\u001b[1;33m:\u001b[0m\u001b[1;33m\u001b[0m\u001b[1;33m\u001b[0m\u001b[0m\n\u001b[0;32m    423\u001b[0m             \u001b[0mself\u001b[0m\u001b[1;33m.\u001b[0m\u001b[0m_raise_timeout\u001b[0m\u001b[1;33m(\u001b[0m\u001b[0merr\u001b[0m\u001b[1;33m=\u001b[0m\u001b[0me\u001b[0m\u001b[1;33m,\u001b[0m \u001b[0murl\u001b[0m\u001b[1;33m=\u001b[0m\u001b[0murl\u001b[0m\u001b[1;33m,\u001b[0m \u001b[0mtimeout_value\u001b[0m\u001b[1;33m=\u001b[0m\u001b[0mread_timeout\u001b[0m\u001b[1;33m)\u001b[0m\u001b[1;33m\u001b[0m\u001b[1;33m\u001b[0m\u001b[0m\n",
      "\u001b[1;32m~\\Anaconda3\\lib\\site-packages\\urllib3\\packages\\six.py\u001b[0m in \u001b[0;36mraise_from\u001b[1;34m(value, from_value)\u001b[0m\n",
      "\u001b[1;32m~\\Anaconda3\\lib\\site-packages\\urllib3\\connectionpool.py\u001b[0m in \u001b[0;36m_make_request\u001b[1;34m(self, conn, method, url, timeout, chunked, **httplib_request_kw)\u001b[0m\n\u001b[0;32m    414\u001b[0m                 \u001b[1;31m# Python 3\u001b[0m\u001b[1;33m\u001b[0m\u001b[1;33m\u001b[0m\u001b[1;33m\u001b[0m\u001b[0m\n\u001b[0;32m    415\u001b[0m                 \u001b[1;32mtry\u001b[0m\u001b[1;33m:\u001b[0m\u001b[1;33m\u001b[0m\u001b[1;33m\u001b[0m\u001b[0m\n\u001b[1;32m--> 416\u001b[1;33m                     \u001b[0mhttplib_response\u001b[0m \u001b[1;33m=\u001b[0m \u001b[0mconn\u001b[0m\u001b[1;33m.\u001b[0m\u001b[0mgetresponse\u001b[0m\u001b[1;33m(\u001b[0m\u001b[1;33m)\u001b[0m\u001b[1;33m\u001b[0m\u001b[1;33m\u001b[0m\u001b[0m\n\u001b[0m\u001b[0;32m    417\u001b[0m                 \u001b[1;32mexcept\u001b[0m \u001b[0mBaseException\u001b[0m \u001b[1;32mas\u001b[0m \u001b[0me\u001b[0m\u001b[1;33m:\u001b[0m\u001b[1;33m\u001b[0m\u001b[1;33m\u001b[0m\u001b[0m\n\u001b[0;32m    418\u001b[0m                     \u001b[1;31m# Remove the TypeError from the exception chain in\u001b[0m\u001b[1;33m\u001b[0m\u001b[1;33m\u001b[0m\u001b[1;33m\u001b[0m\u001b[0m\n",
      "\u001b[1;32m~\\Anaconda3\\lib\\http\\client.py\u001b[0m in \u001b[0;36mgetresponse\u001b[1;34m(self)\u001b[0m\n\u001b[0;32m   1342\u001b[0m         \u001b[1;32mtry\u001b[0m\u001b[1;33m:\u001b[0m\u001b[1;33m\u001b[0m\u001b[1;33m\u001b[0m\u001b[0m\n\u001b[0;32m   1343\u001b[0m             \u001b[1;32mtry\u001b[0m\u001b[1;33m:\u001b[0m\u001b[1;33m\u001b[0m\u001b[1;33m\u001b[0m\u001b[0m\n\u001b[1;32m-> 1344\u001b[1;33m                 \u001b[0mresponse\u001b[0m\u001b[1;33m.\u001b[0m\u001b[0mbegin\u001b[0m\u001b[1;33m(\u001b[0m\u001b[1;33m)\u001b[0m\u001b[1;33m\u001b[0m\u001b[1;33m\u001b[0m\u001b[0m\n\u001b[0m\u001b[0;32m   1345\u001b[0m             \u001b[1;32mexcept\u001b[0m \u001b[0mConnectionError\u001b[0m\u001b[1;33m:\u001b[0m\u001b[1;33m\u001b[0m\u001b[1;33m\u001b[0m\u001b[0m\n\u001b[0;32m   1346\u001b[0m                 \u001b[0mself\u001b[0m\u001b[1;33m.\u001b[0m\u001b[0mclose\u001b[0m\u001b[1;33m(\u001b[0m\u001b[1;33m)\u001b[0m\u001b[1;33m\u001b[0m\u001b[1;33m\u001b[0m\u001b[0m\n",
      "\u001b[1;32m~\\Anaconda3\\lib\\http\\client.py\u001b[0m in \u001b[0;36mbegin\u001b[1;34m(self)\u001b[0m\n\u001b[0;32m    304\u001b[0m         \u001b[1;31m# read until we get a non-100 response\u001b[0m\u001b[1;33m\u001b[0m\u001b[1;33m\u001b[0m\u001b[1;33m\u001b[0m\u001b[0m\n\u001b[0;32m    305\u001b[0m         \u001b[1;32mwhile\u001b[0m \u001b[1;32mTrue\u001b[0m\u001b[1;33m:\u001b[0m\u001b[1;33m\u001b[0m\u001b[1;33m\u001b[0m\u001b[0m\n\u001b[1;32m--> 306\u001b[1;33m             \u001b[0mversion\u001b[0m\u001b[1;33m,\u001b[0m \u001b[0mstatus\u001b[0m\u001b[1;33m,\u001b[0m \u001b[0mreason\u001b[0m \u001b[1;33m=\u001b[0m \u001b[0mself\u001b[0m\u001b[1;33m.\u001b[0m\u001b[0m_read_status\u001b[0m\u001b[1;33m(\u001b[0m\u001b[1;33m)\u001b[0m\u001b[1;33m\u001b[0m\u001b[1;33m\u001b[0m\u001b[0m\n\u001b[0m\u001b[0;32m    307\u001b[0m             \u001b[1;32mif\u001b[0m \u001b[0mstatus\u001b[0m \u001b[1;33m!=\u001b[0m \u001b[0mCONTINUE\u001b[0m\u001b[1;33m:\u001b[0m\u001b[1;33m\u001b[0m\u001b[1;33m\u001b[0m\u001b[0m\n\u001b[0;32m    308\u001b[0m                 \u001b[1;32mbreak\u001b[0m\u001b[1;33m\u001b[0m\u001b[1;33m\u001b[0m\u001b[0m\n",
      "\u001b[1;32m~\\Anaconda3\\lib\\http\\client.py\u001b[0m in \u001b[0;36m_read_status\u001b[1;34m(self)\u001b[0m\n\u001b[0;32m    265\u001b[0m \u001b[1;33m\u001b[0m\u001b[0m\n\u001b[0;32m    266\u001b[0m     \u001b[1;32mdef\u001b[0m \u001b[0m_read_status\u001b[0m\u001b[1;33m(\u001b[0m\u001b[0mself\u001b[0m\u001b[1;33m)\u001b[0m\u001b[1;33m:\u001b[0m\u001b[1;33m\u001b[0m\u001b[1;33m\u001b[0m\u001b[0m\n\u001b[1;32m--> 267\u001b[1;33m         \u001b[0mline\u001b[0m \u001b[1;33m=\u001b[0m \u001b[0mstr\u001b[0m\u001b[1;33m(\u001b[0m\u001b[0mself\u001b[0m\u001b[1;33m.\u001b[0m\u001b[0mfp\u001b[0m\u001b[1;33m.\u001b[0m\u001b[0mreadline\u001b[0m\u001b[1;33m(\u001b[0m\u001b[0m_MAXLINE\u001b[0m \u001b[1;33m+\u001b[0m \u001b[1;36m1\u001b[0m\u001b[1;33m)\u001b[0m\u001b[1;33m,\u001b[0m \u001b[1;34m\"iso-8859-1\"\u001b[0m\u001b[1;33m)\u001b[0m\u001b[1;33m\u001b[0m\u001b[1;33m\u001b[0m\u001b[0m\n\u001b[0m\u001b[0;32m    268\u001b[0m         \u001b[1;32mif\u001b[0m \u001b[0mlen\u001b[0m\u001b[1;33m(\u001b[0m\u001b[0mline\u001b[0m\u001b[1;33m)\u001b[0m \u001b[1;33m>\u001b[0m \u001b[0m_MAXLINE\u001b[0m\u001b[1;33m:\u001b[0m\u001b[1;33m\u001b[0m\u001b[1;33m\u001b[0m\u001b[0m\n\u001b[0;32m    269\u001b[0m             \u001b[1;32mraise\u001b[0m \u001b[0mLineTooLong\u001b[0m\u001b[1;33m(\u001b[0m\u001b[1;34m\"status line\"\u001b[0m\u001b[1;33m)\u001b[0m\u001b[1;33m\u001b[0m\u001b[1;33m\u001b[0m\u001b[0m\n",
      "\u001b[1;32m~\\Anaconda3\\lib\\socket.py\u001b[0m in \u001b[0;36mreadinto\u001b[1;34m(self, b)\u001b[0m\n\u001b[0;32m    587\u001b[0m         \u001b[1;32mwhile\u001b[0m \u001b[1;32mTrue\u001b[0m\u001b[1;33m:\u001b[0m\u001b[1;33m\u001b[0m\u001b[1;33m\u001b[0m\u001b[0m\n\u001b[0;32m    588\u001b[0m             \u001b[1;32mtry\u001b[0m\u001b[1;33m:\u001b[0m\u001b[1;33m\u001b[0m\u001b[1;33m\u001b[0m\u001b[0m\n\u001b[1;32m--> 589\u001b[1;33m                 \u001b[1;32mreturn\u001b[0m \u001b[0mself\u001b[0m\u001b[1;33m.\u001b[0m\u001b[0m_sock\u001b[0m\u001b[1;33m.\u001b[0m\u001b[0mrecv_into\u001b[0m\u001b[1;33m(\u001b[0m\u001b[0mb\u001b[0m\u001b[1;33m)\u001b[0m\u001b[1;33m\u001b[0m\u001b[1;33m\u001b[0m\u001b[0m\n\u001b[0m\u001b[0;32m    590\u001b[0m             \u001b[1;32mexcept\u001b[0m \u001b[0mtimeout\u001b[0m\u001b[1;33m:\u001b[0m\u001b[1;33m\u001b[0m\u001b[1;33m\u001b[0m\u001b[0m\n\u001b[0;32m    591\u001b[0m                 \u001b[0mself\u001b[0m\u001b[1;33m.\u001b[0m\u001b[0m_timeout_occurred\u001b[0m \u001b[1;33m=\u001b[0m \u001b[1;32mTrue\u001b[0m\u001b[1;33m\u001b[0m\u001b[1;33m\u001b[0m\u001b[0m\n",
      "\u001b[1;31mKeyboardInterrupt\u001b[0m: "
     ]
    }
   ],
   "source": [
    "# 더 깔끔하게\n",
    "urls = list()\n",
    "seen = list()\n",
    "urls.append(url)\n",
    "\n",
    "while urls: # Queue\n",
    "    seed = urls.pop(0) # starting url\n",
    "    seen.append(seed) # -> 재방문 회피\n",
    "    dom = BeautifulSoup(download(seed).text, 'html.parser') # HTTP\n",
    "    for _ in [_['href'] for _ in dom.select('a')\n",
    "             if _.has_attr('href') and _['href'].startswith('/')]:\n",
    "        newUrls = urljoin(seed, urlparse(_)[2])\n",
    "        if newUrls not in seen and newUrls not in urls:\n",
    "            urls.append(newUrls)\n",
    "    print(len(urls), len(seen))"
   ]
  },
  {
   "cell_type": "code",
   "execution_count": null,
   "metadata": {},
   "outputs": [],
   "source": []
  }
 ],
 "metadata": {
  "kernelspec": {
   "display_name": "Python 3",
   "language": "python",
   "name": "python3"
  },
  "language_info": {
   "codemirror_mode": {
    "name": "ipython",
    "version": 3
   },
   "file_extension": ".py",
   "mimetype": "text/x-python",
   "name": "python",
   "nbconvert_exporter": "python",
   "pygments_lexer": "ipython3",
   "version": "3.7.6"
  }
 },
 "nbformat": 4,
 "nbformat_minor": 4
}
