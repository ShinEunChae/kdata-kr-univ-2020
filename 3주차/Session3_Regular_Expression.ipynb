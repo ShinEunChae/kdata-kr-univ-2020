{
 "cells": [
  {
   "cell_type": "markdown",
   "metadata": {},
   "source": [
    "# Regular Expression"
   ]
  },
  {
   "cell_type": "code",
   "execution_count": null,
   "metadata": {},
   "outputs": [],
   "source": [
    "http => ht{2}p\n",
    "https => https? => http, https\n",
    "helllllllllo => hel{1,}o\n",
    "다.                  그래서 => _+ => _\n",
    "다. 그래서\n",
    "[http]{3,4} => [h]tttp, [t]ttp, [p]pp => h | t | p\n",
    "ttph, http, htp\n",
    "h[t ]{1,}p\n",
    "65:[A-Z] => [ABCDEFGHIZKLMNoPQR... Z] 대소문자 구별\n",
    "97:[a-z] => [...]\n",
    "[ㄱ-ㅎ] => 자음\n",
    "[ㅏ-ㅣ] => 모음\n",
    "[가-힣] => 음절\n",
    "([가-힣]+)\n",
    "^x => SQL(x%)\n",
    "x$ => SQL(%x)\n",
    "[^x] => not x\n",
    "\\b => 공백 + 문자 + 공백\n",
    "\\B => 문자 + ? + 문자\n",
    "\\b[A-Za-z]+\\b => File Edit View Insert\n",
    "\\B[A-Za-z]+\\B => F(il)e E(di)t V(ie)w I(nser)t\n",
    "a href=\"javascript:~();#\" => \\W"
   ]
  },
  {
   "cell_type": "code",
   "execution_count": 1,
   "metadata": {},
   "outputs": [],
   "source": [
    "import re"
   ]
  },
  {
   "cell_type": "code",
   "execution_count": 2,
   "metadata": {},
   "outputs": [
    {
     "name": "stdout",
     "output_type": "stream",
     "text": [
      "\n",
      "park 800905-*******\n",
      "kim  700905-*******\n",
      "\n"
     ]
    }
   ],
   "source": [
    "data = '''\n",
    "park 800905-1049118\n",
    "kim  700905-1059119\n",
    "'''\n",
    "pattern = re.compile('(\\d{6})[-]\\d{7}')\n",
    "pattern.search(data)\n",
    "print(pattern.sub('\\g<1>-*******', data))\n",
    "# data[6:20]"
   ]
  },
  {
   "cell_type": "code",
   "execution_count": 3,
   "metadata": {},
   "outputs": [
    {
     "data": {
      "text/plain": [
       "<re.Match object; span=(14, 19), match='Hello'>"
      ]
     },
     "execution_count": 3,
     "metadata": {},
     "output_type": "execute_result"
    }
   ],
   "source": [
    "re.match(r'Crow|Servo', 'HelloServoCrowHello')\n",
    "re.search(r'^Crow|^Servo', 'HelloServoCrowHello')\n",
    "re.search(r'Hello$', 'HelloServoCrowHello')"
   ]
  },
  {
   "cell_type": "code",
   "execution_count": 4,
   "metadata": {},
   "outputs": [
    {
     "data": {
      "text/plain": [
       "'ABCABC'"
      ]
     },
     "execution_count": 4,
     "metadata": {},
     "output_type": "execute_result"
    }
   ],
   "source": [
    "re.search(r'(ABC)+', 'ABCABCA A').group()"
   ]
  },
  {
   "cell_type": "code",
   "execution_count": 5,
   "metadata": {},
   "outputs": [
    {
     "data": {
      "text/plain": [
       "<re.Match object; span=(3, 8), match='class'>"
      ]
     },
     "execution_count": 5,
     "metadata": {},
     "output_type": "execute_result"
    }
   ],
   "source": [
    "re.search(r'\\bclass\\b', 'no class at all')"
   ]
  },
  {
   "cell_type": "code",
   "execution_count": 6,
   "metadata": {},
   "outputs": [
    {
     "data": {
      "text/plain": [
       "<re.Match object; span=(7, 12), match='class'>"
      ]
     },
     "execution_count": 6,
     "metadata": {},
     "output_type": "execute_result"
    }
   ],
   "source": [
    "re.search(r'\\Bclass\\b', 'one subclass is')"
   ]
  },
  {
   "cell_type": "code",
   "execution_count": 7,
   "metadata": {},
   "outputs": [
    {
     "data": {
      "text/plain": [
       "<re.Match object; span=(6, 11), match='class'>"
      ]
     },
     "execution_count": 7,
     "metadata": {},
     "output_type": "execute_result"
    }
   ],
   "source": [
    "re.search(r'\\Bclass\\B', 'the declassified algorithm')"
   ]
  },
  {
   "cell_type": "code",
   "execution_count": 8,
   "metadata": {},
   "outputs": [
    {
     "data": {
      "text/plain": [
       "(('Issac', 'Newton'), 'Issac Newton', 'Issac', 'Newton')"
      ]
     },
     "execution_count": 8,
     "metadata": {},
     "output_type": "execute_result"
    }
   ],
   "source": [
    "result = re.search(r'(\\w+) (\\w+)', 'Issac Newton, physicist')\n",
    "result.groups(), \\\n",
    "result.group(0), result.group(1), result.group(2)\n",
    "# $@#%단어 단어\n",
    "# \\b(\\w+)\\b"
   ]
  },
  {
   "cell_type": "code",
   "execution_count": 9,
   "metadata": {},
   "outputs": [
    {
     "data": {
      "text/plain": [
       "'Newton Issac, physicist'"
      ]
     },
     "execution_count": 9,
     "metadata": {},
     "output_type": "execute_result"
    }
   ],
   "source": [
    "re.sub(r'(\\w+) (\\w+)', r'\\g<2> \\g<1>', 'Issac Newton, physicist')"
   ]
  },
  {
   "cell_type": "code",
   "execution_count": null,
   "metadata": {},
   "outputs": [],
   "source": [
    "010-0000-0000 => 핸드폰번호"
   ]
  },
  {
   "cell_type": "code",
   "execution_count": 10,
   "metadata": {},
   "outputs": [],
   "source": [
    "data = '010-0001-0002'\n",
    "data = '010 0000 0000'\n",
    "data = '010.0000.0000'\n",
    "data = '01000010002'\n",
    "data = '0232901338'\n",
    "result = re.search(r'(\\d{1,3})[- .]?(\\d{1,4})[- .]?(\\d{1,4})', data)"
   ]
  },
  {
   "cell_type": "code",
   "execution_count": 11,
   "metadata": {},
   "outputs": [
    {
     "data": {
      "text/plain": [
       "('0232901338', '023', '2901', '338')"
      ]
     },
     "execution_count": 11,
     "metadata": {},
     "output_type": "execute_result"
    }
   ],
   "source": [
    "result.group(0), result.group(1), result.group(2), result.group(3)"
   ]
  },
  {
   "cell_type": "code",
   "execution_count": 12,
   "metadata": {},
   "outputs": [],
   "source": [
    "re.search(r'\\d+[-]\\d+[-]\\d+', data)"
   ]
  },
  {
   "cell_type": "code",
   "execution_count": 13,
   "metadata": {},
   "outputs": [],
   "source": [
    "# data = '+82 2-0001-0002'\n",
    "# data = '+82 10-0001-0002'\n",
    "data = '+82 010-0001-0002'\n",
    "# data = '82 010-0001-0002'\n",
    "# ==> ??"
   ]
  },
  {
   "cell_type": "code",
   "execution_count": 14,
   "metadata": {},
   "outputs": [
    {
     "data": {
      "text/plain": [
       "<re.Match object; span=(0, 17), match='+82 010-0001-0002'>"
      ]
     },
     "execution_count": 14,
     "metadata": {},
     "output_type": "execute_result"
    }
   ],
   "source": [
    "re.search(r'[+]?\\d+.?\\d+.?\\d+.?\\d+', data)"
   ]
  },
  {
   "cell_type": "code",
   "execution_count": 16,
   "metadata": {},
   "outputs": [],
   "source": [
    "from requests import request\n",
    "from requests.compat import urljoin, urlparse\n",
    "from requests.exceptions import HTTPError\n",
    "from urllib.robotparser import RobotFileParser\n",
    "from bs4 import BeautifulSoup\n",
    "from time import sleep"
   ]
  },
  {
   "cell_type": "code",
   "execution_count": 17,
   "metadata": {},
   "outputs": [],
   "source": [
    "def canfetch(url, agent='*', path='/'):\n",
    "    robot = RobotFileParser(urljoin(url, '/robots.txt'))\n",
    "    robot.read()\n",
    "    return robot.can_fetch(agent, urlparse(url)[2])\n",
    "    \n",
    "def download(url, params={}, headers={}, method='GET', limit=3):\n",
    "    if canfetch(url) == False:\n",
    "        print('[Error] ' + url)\n",
    "#     else: # 실제 수집할 때, 제약사항이 많으므로 여기선 잠시 해제\n",
    "    try:\n",
    "        resp = request(method, url,\n",
    "               params=params if method=='GET' else {},\n",
    "               data=params if method=='POST' else {},\n",
    "               headers=headers)\n",
    "        resp.raise_for_status()\n",
    "    except HTTPError as e:\n",
    "        if limit > 0 and e.response.status_code >= 500:\n",
    "            print(limit)\n",
    "            time.sleep(1) # => random\n",
    "            resp = download(url, params, headers, method, limit-1)\n",
    "        else:\n",
    "            print('[{}] '.format(e.response.status_code) + url)\n",
    "            print(e.response.status_code)\n",
    "            print(e.response.reason)\n",
    "            print(e.response.headers)\n",
    "    return resp"
   ]
  },
  {
   "cell_type": "code",
   "execution_count": 18,
   "metadata": {},
   "outputs": [],
   "source": [
    "resp = download('http://pythonscraping.com/pages/page3.html')\n",
    "# dom = BeautifulSoup(resp.text, 'lxml')"
   ]
  },
  {
   "cell_type": "code",
   "execution_count": 19,
   "metadata": {},
   "outputs": [
    {
     "data": {
      "text/plain": [
       "['$5.00', '$15.00', '$0.50', '$1.50']"
      ]
     },
     "execution_count": 19,
     "metadata": {},
     "output_type": "execute_result"
    }
   ],
   "source": [
    "# re.search(r'([$]\\d+[.]\\d+)', resp.text).groups()\n",
    "re.findall(r'[$]\\d+[.]\\d+', resp.text) # 이게 훨씬 빠름"
   ]
  },
  {
   "cell_type": "code",
   "execution_count": 20,
   "metadata": {},
   "outputs": [
    {
     "data": {
      "text/plain": [
       "['$5.00', '$15.00', '$0.50', '$1.50']"
      ]
     },
     "execution_count": 20,
     "metadata": {},
     "output_type": "execute_result"
    }
   ],
   "source": [
    "re.findall(r'[$]\\d+[.]\\d+', resp.text)"
   ]
  },
  {
   "cell_type": "code",
   "execution_count": 21,
   "metadata": {},
   "outputs": [
    {
     "data": {
      "text/plain": [
       "'../img/gifts/img1.jpg'"
      ]
     },
     "execution_count": 21,
     "metadata": {},
     "output_type": "execute_result"
    }
   ],
   "source": [
    "'../img/gifts/img1.jpg'"
   ]
  },
  {
   "cell_type": "code",
   "execution_count": 22,
   "metadata": {},
   "outputs": [
    {
     "name": "stdout",
     "output_type": "stream",
     "text": [
      "http://pythonscraping.com/img/gifts/img1.jpg\n",
      "http://pythonscraping.com/img/gifts/img2.jpg\n",
      "http://pythonscraping.com/img/gifts/img3.jpg\n",
      "http://pythonscraping.com/img/gifts/img4.jpg\n",
      "http://pythonscraping.com/img/gifts/img6.jpg\n"
     ]
    }
   ],
   "source": [
    "# 이미지 경로 찾기 # ctrl+f -> img\n",
    "for _ in re.findall(r'src=\"(.+?img\\d[.]jpg)\"', resp.text):\n",
    "    print(urljoin(resp.request.url, _))"
   ]
  },
  {
   "cell_type": "code",
   "execution_count": 23,
   "metadata": {},
   "outputs": [
    {
     "data": {
      "text/plain": [
       "'<span class=\"excitingNote\">'"
      ]
     },
     "execution_count": 23,
     "metadata": {},
     "output_type": "execute_result"
    }
   ],
   "source": [
    "'<span class=\"excitingNote\">'"
   ]
  },
  {
   "cell_type": "code",
   "execution_count": 24,
   "metadata": {},
   "outputs": [
    {
     "data": {
      "text/plain": [
       "[('span', 'Now with super-colorful bell peppers!'),\n",
       " ('span', '8 entire dolls per set! Octuple the presents!'),\n",
       " ('span', 'Also hand-painted by trained monkeys!'),\n",
       " ('span', \"Or maybe he's only resting?\"),\n",
       " ('span', 'Keep your friends guessing!')]"
      ]
     },
     "execution_count": 24,
     "metadata": {},
     "output_type": "execute_result"
    }
   ],
   "source": [
    "re.findall(r'<(span) class=\"[^\"]+\">(.+)</\\1>', resp.text)"
   ]
  },
  {
   "cell_type": "code",
   "execution_count": 25,
   "metadata": {},
   "outputs": [],
   "source": [
    "dom = BeautifulSoup(resp.text, 'html.parser')"
   ]
  },
  {
   "cell_type": "code",
   "execution_count": 26,
   "metadata": {},
   "outputs": [
    {
     "data": {
      "text/plain": [
       "['$15.00', '$10,000.52', '$10,005.00', '$0.50', '$1.50']"
      ]
     },
     "execution_count": 26,
     "metadata": {},
     "output_type": "execute_result"
    }
   ],
   "source": [
    "[_.strip() for _ in dom.find_all(text=re.compile(r'[.]\\d+$'))]"
   ]
  },
  {
   "cell_type": "code",
   "execution_count": null,
   "metadata": {},
   "outputs": [],
   "source": [
    "이메일\n",
    "아이디@도메인\n",
    "회사명.com|net|org|kr\n",
    "    .co.kr|or.kr|go.kr|ac.kr\n",
    "\n",
    "아이디 규칙:영어로시작, 특수문자X, -, _, 숫자"
   ]
  },
  {
   "cell_type": "code",
   "execution_count": 27,
   "metadata": {},
   "outputs": [],
   "source": [
    "data = '''\n",
    "    test1@test.com\n",
    "    test2@test.co.kr\n",
    "    test3@email.test.com\n",
    "    test4@email.test.co.kr\n",
    "    12test@test.com\n",
    "    한글@test.com\n",
    "    test@test\n",
    "'''"
   ]
  },
  {
   "cell_type": "code",
   "execution_count": 28,
   "metadata": {},
   "outputs": [
    {
     "data": {
      "text/plain": [
       "['test1@test.com',\n",
       " 'test2@test.co.kr',\n",
       " 'test3@email.test.com',\n",
       " 'test4@email.test.co.kr']"
      ]
     },
     "execution_count": 28,
     "metadata": {},
     "output_type": "execute_result"
    }
   ],
   "source": [
    "re.findall(r'\\b[A-Za-z][A-Za-z0-9-_.]+@[A-Za-z0-9-_]+(?:[.][A-Za-z0-9-_]+)+', data)"
   ]
  },
  {
   "cell_type": "code",
   "execution_count": 29,
   "metadata": {},
   "outputs": [
    {
     "data": {
      "text/plain": [
       "['test1@', 'test2@', 'test3@', 'test4@', '12test@', '한글@', 'test@']"
      ]
     },
     "execution_count": 29,
     "metadata": {},
     "output_type": "execute_result"
    }
   ],
   "source": [
    "re.findall(r'\\b\\w+@', data)"
   ]
  },
  {
   "cell_type": "code",
   "execution_count": null,
   "metadata": {},
   "outputs": [],
   "source": [
    "http://도메인 => O\n",
    "https://도메인 => O\n",
    "    \n",
    "ftp://도메인"
   ]
  },
  {
   "cell_type": "code",
   "execution_count": 30,
   "metadata": {},
   "outputs": [],
   "source": [
    "data = '''\n",
    "    http://domain.com\n",
    "    http://www.domain.com\n",
    "    http://www.domain.co.kr\n",
    "    https://www.domain.com\n",
    "    https://www.domain.co.kr\n",
    "    https://www.domain.co.kr/\n",
    "    https://domain.co.kr/service\n",
    "    https://www.domain.co.kr/service\n",
    "    https://www.domain.co.kr/service/\n",
    "    https://domain.co.kr/service?key=value\n",
    "    https://www.domain.co.kr/service?key=value\n",
    "    https://www.domain.co.kr/service?key=value/\n",
    "    https://www.domain.co.kr/service/1/2?key=value\n",
    "    https://www.domain.co.kr/service/1/2?key=value/\n",
    "    ?key=value\n",
    "    www.domain.com?key=value\n",
    "    http://old.mail.domain.com?key=value\n",
    "    http://domain.com#key=value\n",
    "    http://www.domain.com?key=value\n",
    "    http://www.domain.com#key=value\n",
    "'''\n",
    "# Query String (?이후부분) 빼고, URI(L)을 추출"
   ]
  },
  {
   "cell_type": "code",
   "execution_count": 31,
   "metadata": {},
   "outputs": [
    {
     "data": {
      "text/plain": [
       "['http://domain.com',\n",
       " 'http://www.domain.com',\n",
       " 'http://www.domain.co.kr',\n",
       " 'https://www.domain.com',\n",
       " 'https://www.domain.co.kr',\n",
       " 'https://www.domain.co.kr',\n",
       " 'https://domain.co.kr/service',\n",
       " 'https://www.domain.co.kr/service',\n",
       " 'https://www.domain.co.kr/service',\n",
       " 'https://domain.co.kr/service',\n",
       " 'https://www.domain.co.kr/service',\n",
       " 'https://www.domain.co.kr/service',\n",
       " 'https://www.domain.co.kr/service/1/2',\n",
       " 'https://www.domain.co.kr/service/1/2',\n",
       " 'http://old.mail.domain.com',\n",
       " 'http://domain.com',\n",
       " 'http://www.domain.com',\n",
       " 'http://www.domain.com']"
      ]
     },
     "execution_count": 31,
     "metadata": {},
     "output_type": "execute_result"
    }
   ],
   "source": [
    "re.findall(r'https?://\\w+(?:[./]\\w+)+', data)"
   ]
  },
  {
   "cell_type": "code",
   "execution_count": 35,
   "metadata": {},
   "outputs": [
    {
     "name": "stdout",
     "output_type": "stream",
     "text": [
      "[Error] https://www.google.com/search\n"
     ]
    }
   ],
   "source": [
    "url = 'https://www.google.com/search'\n",
    "params = {\n",
    "    'q':'',\n",
    "    'oq':'',\n",
    "    'aqs':'chrome..69i57j69i59j69i65l3j69i61j69i60j69i61.1205j0j7',\n",
    "    'sourceid':'chrome',\n",
    "    'ie':'UTF-8'\n",
    "}\n",
    "params['q'] = params['oq'] = '파이썬'\n",
    "headers = {\n",
    "    'user-agent':'Mozilla/5.0 (Windows NT 10.0; Win64; x64) AppleWebKit/537.36 (KHTML, like Gecko) Chrome/83.0.4103.116 Safari/537.36'\n",
    "}\n",
    "resp = download(url, params, headers, 'GET')\n",
    "dom = BeautifulSoup(resp.text, 'html.parser')\n",
    "urls = [{'url':_['href'], 'depth':1} for _ in dom.select('div.r > a[href]')]"
   ]
  },
  {
   "cell_type": "code",
   "execution_count": 36,
   "metadata": {},
   "outputs": [
    {
     "data": {
      "text/plain": [
       "['의', '을', '을', '의', '3', '이란', '에', '에', '에', '에', '에', '은', '이라는', '소프트웨어재단']"
      ]
     },
     "execution_count": 36,
     "metadata": {},
     "output_type": "execute_result"
    }
   ],
   "source": [
    "re.findall(r'\\b파이썬\\B(\\w+)\\b', resp.text)"
   ]
  },
  {
   "cell_type": "code",
   "execution_count": 37,
   "metadata": {
    "collapsed": true
   },
   "outputs": [
    {
     "data": {
      "text/plain": [
       "['x22',\n",
       " 'x22',\n",
       " 'x22',\n",
       " 'x22',\n",
       " 'x22',\n",
       " 'x22',\n",
       " 'x22',\n",
       " 'x22',\n",
       " 'x22',\n",
       " 'x22',\n",
       " 'x22',\n",
       " 'x22',\n",
       " 'x3e',\n",
       " 'x3e',\n",
       " 'x3e',\n",
       " 'x3e',\n",
       " 'x3e',\n",
       " 'x3e',\n",
       " 'x3e',\n",
       " 'x3e',\n",
       " 'x3e',\n",
       " 'x3e',\n",
       " 'x3e',\n",
       " 'x3e',\n",
       " 'x3e',\n",
       " 'x3e',\n",
       " 'x3e',\n",
       " 'x3e',\n",
       " 'x3e',\n",
       " 'x3e',\n",
       " 'x3e',\n",
       " 'x3e',\n",
       " 'x3e',\n",
       " 'x3e',\n",
       " 'x3e',\n",
       " 'x3e',\n",
       " 'x3e',\n",
       " 'x3e',\n",
       " 'x3e',\n",
       " 'x3e',\n",
       " 'x3e',\n",
       " 'x3e',\n",
       " 'x3e',\n",
       " 'x3e',\n",
       " 'x3e',\n",
       " 'x3e',\n",
       " 'x3e',\n",
       " 'x3e']"
      ]
     },
     "execution_count": 37,
     "metadata": {},
     "output_type": "execute_result"
    }
   ],
   "source": [
    "re.findall(r'\\b(\\w+)\\B파이썬\\b', resp.text)"
   ]
  },
  {
   "cell_type": "code",
   "execution_count": 38,
   "metadata": {},
   "outputs": [
    {
     "data": {
      "text/plain": [
       "41"
      ]
     },
     "execution_count": 38,
     "metadata": {},
     "output_type": "execute_result"
    }
   ],
   "source": [
    "# google\n",
    "len(re.findall(r'\\b파이썬\\b', resp.text)) # 파이썬이 몇 번 나왔는지\n",
    "#re.findall(r'\\b파이썬\\B(\\w+)\\b', resp.text) # 파이썬 뒤에 붙은 조사\n",
    "#re.findall(r'\\b(\\w+)\\B파이썬\\b', resp.text) # 앞에 붙은"
   ]
  },
  {
   "cell_type": "code",
   "execution_count": null,
   "metadata": {},
   "outputs": [],
   "source": [
    "\\b파이썬\\b\n",
    "\\b(\\w+)\\B파이썬\\b\n",
    "\\b파이썬\\B(\\w+)\\b\n",
    "\n",
    "파이썬 파이썬 파이썬 = 3\n",
    "\n",
    "~파이썬 파이썬~\n",
    "은, 는, 이, 가~ => 명사\n",
    "강이지를, 강이지가, 강아지는 => Unique\n",
    "강아지+?"
   ]
  },
  {
   "cell_type": "code",
   "execution_count": null,
   "metadata": {},
   "outputs": [],
   "source": [
    "()(강아지)(를) => \n",
    "()(강아지)(가) =>\n",
    "()(강아지)(는) =>\n",
    "(강아지)"
   ]
  },
  {
   "cell_type": "code",
   "execution_count": 39,
   "metadata": {},
   "outputs": [
    {
     "data": {
      "text/plain": [
       "8"
      ]
     },
     "execution_count": 39,
     "metadata": {},
     "output_type": "execute_result"
    }
   ],
   "source": [
    "len(urls) # 브라우저에서는 검색 결과가 8개 이상 <- 로그인을 했거나 검색결과 설정"
   ]
  },
  {
   "cell_type": "code",
   "execution_count": 40,
   "metadata": {},
   "outputs": [
    {
     "name": "stdout",
     "output_type": "stream",
     "text": [
      "135 1\n",
      "138 2\n",
      "[Error] https://namu.wiki/w/Python\n",
      "311 3\n",
      "[Error] https://wikidocs.net/43\n",
      "311 4\n",
      "345 5\n",
      "391 6\n",
      "400 7\n",
      "532 8\n",
      "1008 9\n",
      "1224 10\n",
      "[Error] https://ko.wikipedia.org/w/index.php\n",
      "1254 11\n",
      "1253 12\n",
      "1278 13\n",
      "1291 14\n",
      "[404] https://ko.wikipedia.org/wiki/MicroPython\n",
      "404\n",
      "Not Found\n",
      "{'Date': 'Mon, 03 Aug 2020 13:22:53 GMT', 'Server': 'mw1364.eqiad.wmnet', 'X-Content-Type-Options': 'nosniff', 'P3p': 'CP=\"See https://ko.wikipedia.org/wiki/Special:CentralAutoLogin/P3P for more info.\"', 'Content-Language': 'ko', 'Vary': 'Accept-Encoding,Cookie,Authorization', 'X-Request-Id': 'c4e4f544-7c76-4198-afbc-1ed4d8d7af34', 'Content-Type': 'text/html; charset=UTF-8', 'Content-Encoding': 'gzip', 'Age': '2', 'X-Cache': 'cp5008 miss, cp5011 miss', 'X-Cache-Status': 'miss', 'Server-Timing': 'cache;desc=\"miss\"', 'Strict-Transport-Security': 'max-age=106384710; includeSubDomains; preload', 'Set-Cookie': 'WMF-Last-Access=03-Aug-2020;Path=/;HttpOnly;secure;Expires=Fri, 04 Sep 2020 12:00:00 GMT, WMF-Last-Access-Global=03-Aug-2020;Path=/;Domain=.wikipedia.org;HttpOnly;secure;Expires=Fri, 04 Sep 2020 12:00:00 GMT, GeoIP=KR:11:Gwanak-gu:37.48:126.95:v4; Path=/; secure; Domain=.wikipedia.org', 'X-Client-IP': '210.123.105.121', 'Cache-Control': 'private, s-maxage=0, max-age=0, must-revalidate', 'Transfer-Encoding': 'chunked', 'Connection': 'keep-alive'}\n",
      "1291 15\n",
      "[404] https://ko.wikipedia.org/wiki/Numba\n",
      "404\n",
      "Not Found\n",
      "{'Date': 'Mon, 03 Aug 2020 13:22:54 GMT', 'Server': 'mw1274.eqiad.wmnet', 'X-Content-Type-Options': 'nosniff', 'P3p': 'CP=\"See https://ko.wikipedia.org/wiki/Special:CentralAutoLogin/P3P for more info.\"', 'Content-Language': 'ko', 'Vary': 'Accept-Encoding,Cookie,Authorization', 'X-Request-Id': 'e46f111f-f957-4f85-b34e-55c424ce98a5', 'Content-Type': 'text/html; charset=UTF-8', 'Content-Encoding': 'gzip', 'Age': '2', 'X-Cache': 'cp5009 miss, cp5011 miss', 'X-Cache-Status': 'miss', 'Server-Timing': 'cache;desc=\"miss\"', 'Strict-Transport-Security': 'max-age=106384710; includeSubDomains; preload', 'Set-Cookie': 'WMF-Last-Access=03-Aug-2020;Path=/;HttpOnly;secure;Expires=Fri, 04 Sep 2020 12:00:00 GMT, WMF-Last-Access-Global=03-Aug-2020;Path=/;Domain=.wikipedia.org;HttpOnly;secure;Expires=Fri, 04 Sep 2020 12:00:00 GMT, GeoIP=KR:11:Gwanak-gu:37.48:126.95:v4; Path=/; secure; Domain=.wikipedia.org', 'X-Client-IP': '210.123.105.121', 'Cache-Control': 'private, s-maxage=0, max-age=0, must-revalidate', 'Transfer-Encoding': 'chunked', 'Connection': 'keep-alive'}\n",
      "1291 16\n"
     ]
    },
    {
     "ename": "KeyboardInterrupt",
     "evalue": "",
     "output_type": "error",
     "traceback": [
      "\u001b[1;31m---------------------------------------------------------------------------\u001b[0m",
      "\u001b[1;31mKeyboardInterrupt\u001b[0m                         Traceback (most recent call last)",
      "\u001b[1;32m<ipython-input-40-8c5149329ccf>\u001b[0m in \u001b[0;36m<module>\u001b[1;34m\u001b[0m\n\u001b[0;32m      5\u001b[0m     \u001b[0mseen\u001b[0m\u001b[1;33m.\u001b[0m\u001b[0mappend\u001b[0m\u001b[1;33m(\u001b[0m\u001b[0mseed\u001b[0m\u001b[1;33m)\u001b[0m\u001b[1;33m\u001b[0m\u001b[1;33m\u001b[0m\u001b[0m\n\u001b[0;32m      6\u001b[0m     \u001b[1;32mif\u001b[0m \u001b[0mseed\u001b[0m\u001b[1;33m[\u001b[0m\u001b[1;34m'depth'\u001b[0m\u001b[1;33m]\u001b[0m \u001b[1;33m<\u001b[0m \u001b[1;36m4\u001b[0m\u001b[1;33m:\u001b[0m \u001b[1;31m# 범위 제한 -> Focused Crawling\u001b[0m\u001b[1;33m\u001b[0m\u001b[1;33m\u001b[0m\u001b[0m\n\u001b[1;32m----> 7\u001b[1;33m         \u001b[0mdom\u001b[0m \u001b[1;33m=\u001b[0m \u001b[0mBeautifulSoup\u001b[0m\u001b[1;33m(\u001b[0m\u001b[0mdownload\u001b[0m\u001b[1;33m(\u001b[0m\u001b[0mseed\u001b[0m\u001b[1;33m[\u001b[0m\u001b[1;34m'url'\u001b[0m\u001b[1;33m]\u001b[0m\u001b[1;33m)\u001b[0m\u001b[1;33m.\u001b[0m\u001b[0mtext\u001b[0m\u001b[1;33m,\u001b[0m \u001b[1;34m'html.parser'\u001b[0m\u001b[1;33m)\u001b[0m\u001b[1;33m\u001b[0m\u001b[1;33m\u001b[0m\u001b[0m\n\u001b[0m\u001b[0;32m      8\u001b[0m         for _ in [_['href'] for _ in dom.select('a[href]')\n\u001b[0;32m      9\u001b[0m                  if re.match(r'(?:https?:/)?/\\w+(?:[./]\\w+)+', _['href'])]:\n",
      "\u001b[1;32m<ipython-input-17-025c5a6b9530>\u001b[0m in \u001b[0;36mdownload\u001b[1;34m(url, params, headers, method, limit)\u001b[0m\n\u001b[0;32m     12\u001b[0m                \u001b[0mparams\u001b[0m\u001b[1;33m=\u001b[0m\u001b[0mparams\u001b[0m \u001b[1;32mif\u001b[0m \u001b[0mmethod\u001b[0m\u001b[1;33m==\u001b[0m\u001b[1;34m'GET'\u001b[0m \u001b[1;32melse\u001b[0m \u001b[1;33m{\u001b[0m\u001b[1;33m}\u001b[0m\u001b[1;33m,\u001b[0m\u001b[1;33m\u001b[0m\u001b[1;33m\u001b[0m\u001b[0m\n\u001b[0;32m     13\u001b[0m                \u001b[0mdata\u001b[0m\u001b[1;33m=\u001b[0m\u001b[0mparams\u001b[0m \u001b[1;32mif\u001b[0m \u001b[0mmethod\u001b[0m\u001b[1;33m==\u001b[0m\u001b[1;34m'POST'\u001b[0m \u001b[1;32melse\u001b[0m \u001b[1;33m{\u001b[0m\u001b[1;33m}\u001b[0m\u001b[1;33m,\u001b[0m\u001b[1;33m\u001b[0m\u001b[1;33m\u001b[0m\u001b[0m\n\u001b[1;32m---> 14\u001b[1;33m                headers=headers)\n\u001b[0m\u001b[0;32m     15\u001b[0m         \u001b[0mresp\u001b[0m\u001b[1;33m.\u001b[0m\u001b[0mraise_for_status\u001b[0m\u001b[1;33m(\u001b[0m\u001b[1;33m)\u001b[0m\u001b[1;33m\u001b[0m\u001b[1;33m\u001b[0m\u001b[0m\n\u001b[0;32m     16\u001b[0m     \u001b[1;32mexcept\u001b[0m \u001b[0mHTTPError\u001b[0m \u001b[1;32mas\u001b[0m \u001b[0me\u001b[0m\u001b[1;33m:\u001b[0m\u001b[1;33m\u001b[0m\u001b[1;33m\u001b[0m\u001b[0m\n",
      "\u001b[1;32m~\\Anaconda3\\lib\\site-packages\\requests\\api.py\u001b[0m in \u001b[0;36mrequest\u001b[1;34m(method, url, **kwargs)\u001b[0m\n\u001b[0;32m     59\u001b[0m     \u001b[1;31m# cases, and look like a memory leak in others.\u001b[0m\u001b[1;33m\u001b[0m\u001b[1;33m\u001b[0m\u001b[1;33m\u001b[0m\u001b[0m\n\u001b[0;32m     60\u001b[0m     \u001b[1;32mwith\u001b[0m \u001b[0msessions\u001b[0m\u001b[1;33m.\u001b[0m\u001b[0mSession\u001b[0m\u001b[1;33m(\u001b[0m\u001b[1;33m)\u001b[0m \u001b[1;32mas\u001b[0m \u001b[0msession\u001b[0m\u001b[1;33m:\u001b[0m\u001b[1;33m\u001b[0m\u001b[1;33m\u001b[0m\u001b[0m\n\u001b[1;32m---> 61\u001b[1;33m         \u001b[1;32mreturn\u001b[0m \u001b[0msession\u001b[0m\u001b[1;33m.\u001b[0m\u001b[0mrequest\u001b[0m\u001b[1;33m(\u001b[0m\u001b[0mmethod\u001b[0m\u001b[1;33m=\u001b[0m\u001b[0mmethod\u001b[0m\u001b[1;33m,\u001b[0m \u001b[0murl\u001b[0m\u001b[1;33m=\u001b[0m\u001b[0murl\u001b[0m\u001b[1;33m,\u001b[0m \u001b[1;33m**\u001b[0m\u001b[0mkwargs\u001b[0m\u001b[1;33m)\u001b[0m\u001b[1;33m\u001b[0m\u001b[1;33m\u001b[0m\u001b[0m\n\u001b[0m\u001b[0;32m     62\u001b[0m \u001b[1;33m\u001b[0m\u001b[0m\n\u001b[0;32m     63\u001b[0m \u001b[1;33m\u001b[0m\u001b[0m\n",
      "\u001b[1;32m~\\Anaconda3\\lib\\site-packages\\requests\\sessions.py\u001b[0m in \u001b[0;36mrequest\u001b[1;34m(self, method, url, params, data, headers, cookies, files, auth, timeout, allow_redirects, proxies, hooks, stream, verify, cert, json)\u001b[0m\n\u001b[0;32m    528\u001b[0m         }\n\u001b[0;32m    529\u001b[0m         \u001b[0msend_kwargs\u001b[0m\u001b[1;33m.\u001b[0m\u001b[0mupdate\u001b[0m\u001b[1;33m(\u001b[0m\u001b[0msettings\u001b[0m\u001b[1;33m)\u001b[0m\u001b[1;33m\u001b[0m\u001b[1;33m\u001b[0m\u001b[0m\n\u001b[1;32m--> 530\u001b[1;33m         \u001b[0mresp\u001b[0m \u001b[1;33m=\u001b[0m \u001b[0mself\u001b[0m\u001b[1;33m.\u001b[0m\u001b[0msend\u001b[0m\u001b[1;33m(\u001b[0m\u001b[0mprep\u001b[0m\u001b[1;33m,\u001b[0m \u001b[1;33m**\u001b[0m\u001b[0msend_kwargs\u001b[0m\u001b[1;33m)\u001b[0m\u001b[1;33m\u001b[0m\u001b[1;33m\u001b[0m\u001b[0m\n\u001b[0m\u001b[0;32m    531\u001b[0m \u001b[1;33m\u001b[0m\u001b[0m\n\u001b[0;32m    532\u001b[0m         \u001b[1;32mreturn\u001b[0m \u001b[0mresp\u001b[0m\u001b[1;33m\u001b[0m\u001b[1;33m\u001b[0m\u001b[0m\n",
      "\u001b[1;32m~\\Anaconda3\\lib\\site-packages\\requests\\sessions.py\u001b[0m in \u001b[0;36msend\u001b[1;34m(self, request, **kwargs)\u001b[0m\n\u001b[0;32m    641\u001b[0m \u001b[1;33m\u001b[0m\u001b[0m\n\u001b[0;32m    642\u001b[0m         \u001b[1;31m# Send the request\u001b[0m\u001b[1;33m\u001b[0m\u001b[1;33m\u001b[0m\u001b[1;33m\u001b[0m\u001b[0m\n\u001b[1;32m--> 643\u001b[1;33m         \u001b[0mr\u001b[0m \u001b[1;33m=\u001b[0m \u001b[0madapter\u001b[0m\u001b[1;33m.\u001b[0m\u001b[0msend\u001b[0m\u001b[1;33m(\u001b[0m\u001b[0mrequest\u001b[0m\u001b[1;33m,\u001b[0m \u001b[1;33m**\u001b[0m\u001b[0mkwargs\u001b[0m\u001b[1;33m)\u001b[0m\u001b[1;33m\u001b[0m\u001b[1;33m\u001b[0m\u001b[0m\n\u001b[0m\u001b[0;32m    644\u001b[0m \u001b[1;33m\u001b[0m\u001b[0m\n\u001b[0;32m    645\u001b[0m         \u001b[1;31m# Total elapsed time of the request (approximately)\u001b[0m\u001b[1;33m\u001b[0m\u001b[1;33m\u001b[0m\u001b[1;33m\u001b[0m\u001b[0m\n",
      "\u001b[1;32m~\\Anaconda3\\lib\\site-packages\\requests\\adapters.py\u001b[0m in \u001b[0;36msend\u001b[1;34m(self, request, stream, timeout, verify, cert, proxies)\u001b[0m\n\u001b[0;32m    447\u001b[0m                     \u001b[0mdecode_content\u001b[0m\u001b[1;33m=\u001b[0m\u001b[1;32mFalse\u001b[0m\u001b[1;33m,\u001b[0m\u001b[1;33m\u001b[0m\u001b[1;33m\u001b[0m\u001b[0m\n\u001b[0;32m    448\u001b[0m                     \u001b[0mretries\u001b[0m\u001b[1;33m=\u001b[0m\u001b[0mself\u001b[0m\u001b[1;33m.\u001b[0m\u001b[0mmax_retries\u001b[0m\u001b[1;33m,\u001b[0m\u001b[1;33m\u001b[0m\u001b[1;33m\u001b[0m\u001b[0m\n\u001b[1;32m--> 449\u001b[1;33m                     \u001b[0mtimeout\u001b[0m\u001b[1;33m=\u001b[0m\u001b[0mtimeout\u001b[0m\u001b[1;33m\u001b[0m\u001b[1;33m\u001b[0m\u001b[0m\n\u001b[0m\u001b[0;32m    450\u001b[0m                 )\n\u001b[0;32m    451\u001b[0m \u001b[1;33m\u001b[0m\u001b[0m\n",
      "\u001b[1;32m~\\Anaconda3\\lib\\site-packages\\urllib3\\connectionpool.py\u001b[0m in \u001b[0;36murlopen\u001b[1;34m(self, method, url, body, headers, retries, redirect, assert_same_host, timeout, pool_timeout, release_conn, chunked, body_pos, **response_kw)\u001b[0m\n\u001b[0;32m    670\u001b[0m                 \u001b[0mbody\u001b[0m\u001b[1;33m=\u001b[0m\u001b[0mbody\u001b[0m\u001b[1;33m,\u001b[0m\u001b[1;33m\u001b[0m\u001b[1;33m\u001b[0m\u001b[0m\n\u001b[0;32m    671\u001b[0m                 \u001b[0mheaders\u001b[0m\u001b[1;33m=\u001b[0m\u001b[0mheaders\u001b[0m\u001b[1;33m,\u001b[0m\u001b[1;33m\u001b[0m\u001b[1;33m\u001b[0m\u001b[0m\n\u001b[1;32m--> 672\u001b[1;33m                 \u001b[0mchunked\u001b[0m\u001b[1;33m=\u001b[0m\u001b[0mchunked\u001b[0m\u001b[1;33m,\u001b[0m\u001b[1;33m\u001b[0m\u001b[1;33m\u001b[0m\u001b[0m\n\u001b[0m\u001b[0;32m    673\u001b[0m             )\n\u001b[0;32m    674\u001b[0m \u001b[1;33m\u001b[0m\u001b[0m\n",
      "\u001b[1;32m~\\Anaconda3\\lib\\site-packages\\urllib3\\connectionpool.py\u001b[0m in \u001b[0;36m_make_request\u001b[1;34m(self, conn, method, url, timeout, chunked, **httplib_request_kw)\u001b[0m\n\u001b[0;32m    419\u001b[0m                     \u001b[1;31m# Python 3 (including for exceptions like SystemExit).\u001b[0m\u001b[1;33m\u001b[0m\u001b[1;33m\u001b[0m\u001b[1;33m\u001b[0m\u001b[0m\n\u001b[0;32m    420\u001b[0m                     \u001b[1;31m# Otherwise it looks like a bug in the code.\u001b[0m\u001b[1;33m\u001b[0m\u001b[1;33m\u001b[0m\u001b[1;33m\u001b[0m\u001b[0m\n\u001b[1;32m--> 421\u001b[1;33m                     \u001b[0msix\u001b[0m\u001b[1;33m.\u001b[0m\u001b[0mraise_from\u001b[0m\u001b[1;33m(\u001b[0m\u001b[0me\u001b[0m\u001b[1;33m,\u001b[0m \u001b[1;32mNone\u001b[0m\u001b[1;33m)\u001b[0m\u001b[1;33m\u001b[0m\u001b[1;33m\u001b[0m\u001b[0m\n\u001b[0m\u001b[0;32m    422\u001b[0m         \u001b[1;32mexcept\u001b[0m \u001b[1;33m(\u001b[0m\u001b[0mSocketTimeout\u001b[0m\u001b[1;33m,\u001b[0m \u001b[0mBaseSSLError\u001b[0m\u001b[1;33m,\u001b[0m \u001b[0mSocketError\u001b[0m\u001b[1;33m)\u001b[0m \u001b[1;32mas\u001b[0m \u001b[0me\u001b[0m\u001b[1;33m:\u001b[0m\u001b[1;33m\u001b[0m\u001b[1;33m\u001b[0m\u001b[0m\n\u001b[0;32m    423\u001b[0m             \u001b[0mself\u001b[0m\u001b[1;33m.\u001b[0m\u001b[0m_raise_timeout\u001b[0m\u001b[1;33m(\u001b[0m\u001b[0merr\u001b[0m\u001b[1;33m=\u001b[0m\u001b[0me\u001b[0m\u001b[1;33m,\u001b[0m \u001b[0murl\u001b[0m\u001b[1;33m=\u001b[0m\u001b[0murl\u001b[0m\u001b[1;33m,\u001b[0m \u001b[0mtimeout_value\u001b[0m\u001b[1;33m=\u001b[0m\u001b[0mread_timeout\u001b[0m\u001b[1;33m)\u001b[0m\u001b[1;33m\u001b[0m\u001b[1;33m\u001b[0m\u001b[0m\n",
      "\u001b[1;32m~\\Anaconda3\\lib\\site-packages\\urllib3\\packages\\six.py\u001b[0m in \u001b[0;36mraise_from\u001b[1;34m(value, from_value)\u001b[0m\n",
      "\u001b[1;32m~\\Anaconda3\\lib\\site-packages\\urllib3\\connectionpool.py\u001b[0m in \u001b[0;36m_make_request\u001b[1;34m(self, conn, method, url, timeout, chunked, **httplib_request_kw)\u001b[0m\n\u001b[0;32m    414\u001b[0m                 \u001b[1;31m# Python 3\u001b[0m\u001b[1;33m\u001b[0m\u001b[1;33m\u001b[0m\u001b[1;33m\u001b[0m\u001b[0m\n\u001b[0;32m    415\u001b[0m                 \u001b[1;32mtry\u001b[0m\u001b[1;33m:\u001b[0m\u001b[1;33m\u001b[0m\u001b[1;33m\u001b[0m\u001b[0m\n\u001b[1;32m--> 416\u001b[1;33m                     \u001b[0mhttplib_response\u001b[0m \u001b[1;33m=\u001b[0m \u001b[0mconn\u001b[0m\u001b[1;33m.\u001b[0m\u001b[0mgetresponse\u001b[0m\u001b[1;33m(\u001b[0m\u001b[1;33m)\u001b[0m\u001b[1;33m\u001b[0m\u001b[1;33m\u001b[0m\u001b[0m\n\u001b[0m\u001b[0;32m    417\u001b[0m                 \u001b[1;32mexcept\u001b[0m \u001b[0mBaseException\u001b[0m \u001b[1;32mas\u001b[0m \u001b[0me\u001b[0m\u001b[1;33m:\u001b[0m\u001b[1;33m\u001b[0m\u001b[1;33m\u001b[0m\u001b[0m\n\u001b[0;32m    418\u001b[0m                     \u001b[1;31m# Remove the TypeError from the exception chain in\u001b[0m\u001b[1;33m\u001b[0m\u001b[1;33m\u001b[0m\u001b[1;33m\u001b[0m\u001b[0m\n",
      "\u001b[1;32m~\\Anaconda3\\lib\\http\\client.py\u001b[0m in \u001b[0;36mgetresponse\u001b[1;34m(self)\u001b[0m\n\u001b[0;32m   1342\u001b[0m         \u001b[1;32mtry\u001b[0m\u001b[1;33m:\u001b[0m\u001b[1;33m\u001b[0m\u001b[1;33m\u001b[0m\u001b[0m\n\u001b[0;32m   1343\u001b[0m             \u001b[1;32mtry\u001b[0m\u001b[1;33m:\u001b[0m\u001b[1;33m\u001b[0m\u001b[1;33m\u001b[0m\u001b[0m\n\u001b[1;32m-> 1344\u001b[1;33m                 \u001b[0mresponse\u001b[0m\u001b[1;33m.\u001b[0m\u001b[0mbegin\u001b[0m\u001b[1;33m(\u001b[0m\u001b[1;33m)\u001b[0m\u001b[1;33m\u001b[0m\u001b[1;33m\u001b[0m\u001b[0m\n\u001b[0m\u001b[0;32m   1345\u001b[0m             \u001b[1;32mexcept\u001b[0m \u001b[0mConnectionError\u001b[0m\u001b[1;33m:\u001b[0m\u001b[1;33m\u001b[0m\u001b[1;33m\u001b[0m\u001b[0m\n\u001b[0;32m   1346\u001b[0m                 \u001b[0mself\u001b[0m\u001b[1;33m.\u001b[0m\u001b[0mclose\u001b[0m\u001b[1;33m(\u001b[0m\u001b[1;33m)\u001b[0m\u001b[1;33m\u001b[0m\u001b[1;33m\u001b[0m\u001b[0m\n",
      "\u001b[1;32m~\\Anaconda3\\lib\\http\\client.py\u001b[0m in \u001b[0;36mbegin\u001b[1;34m(self)\u001b[0m\n\u001b[0;32m    304\u001b[0m         \u001b[1;31m# read until we get a non-100 response\u001b[0m\u001b[1;33m\u001b[0m\u001b[1;33m\u001b[0m\u001b[1;33m\u001b[0m\u001b[0m\n\u001b[0;32m    305\u001b[0m         \u001b[1;32mwhile\u001b[0m \u001b[1;32mTrue\u001b[0m\u001b[1;33m:\u001b[0m\u001b[1;33m\u001b[0m\u001b[1;33m\u001b[0m\u001b[0m\n\u001b[1;32m--> 306\u001b[1;33m             \u001b[0mversion\u001b[0m\u001b[1;33m,\u001b[0m \u001b[0mstatus\u001b[0m\u001b[1;33m,\u001b[0m \u001b[0mreason\u001b[0m \u001b[1;33m=\u001b[0m \u001b[0mself\u001b[0m\u001b[1;33m.\u001b[0m\u001b[0m_read_status\u001b[0m\u001b[1;33m(\u001b[0m\u001b[1;33m)\u001b[0m\u001b[1;33m\u001b[0m\u001b[1;33m\u001b[0m\u001b[0m\n\u001b[0m\u001b[0;32m    307\u001b[0m             \u001b[1;32mif\u001b[0m \u001b[0mstatus\u001b[0m \u001b[1;33m!=\u001b[0m \u001b[0mCONTINUE\u001b[0m\u001b[1;33m:\u001b[0m\u001b[1;33m\u001b[0m\u001b[1;33m\u001b[0m\u001b[0m\n\u001b[0;32m    308\u001b[0m                 \u001b[1;32mbreak\u001b[0m\u001b[1;33m\u001b[0m\u001b[1;33m\u001b[0m\u001b[0m\n",
      "\u001b[1;32m~\\Anaconda3\\lib\\http\\client.py\u001b[0m in \u001b[0;36m_read_status\u001b[1;34m(self)\u001b[0m\n\u001b[0;32m    265\u001b[0m \u001b[1;33m\u001b[0m\u001b[0m\n\u001b[0;32m    266\u001b[0m     \u001b[1;32mdef\u001b[0m \u001b[0m_read_status\u001b[0m\u001b[1;33m(\u001b[0m\u001b[0mself\u001b[0m\u001b[1;33m)\u001b[0m\u001b[1;33m:\u001b[0m\u001b[1;33m\u001b[0m\u001b[1;33m\u001b[0m\u001b[0m\n\u001b[1;32m--> 267\u001b[1;33m         \u001b[0mline\u001b[0m \u001b[1;33m=\u001b[0m \u001b[0mstr\u001b[0m\u001b[1;33m(\u001b[0m\u001b[0mself\u001b[0m\u001b[1;33m.\u001b[0m\u001b[0mfp\u001b[0m\u001b[1;33m.\u001b[0m\u001b[0mreadline\u001b[0m\u001b[1;33m(\u001b[0m\u001b[0m_MAXLINE\u001b[0m \u001b[1;33m+\u001b[0m \u001b[1;36m1\u001b[0m\u001b[1;33m)\u001b[0m\u001b[1;33m,\u001b[0m \u001b[1;34m\"iso-8859-1\"\u001b[0m\u001b[1;33m)\u001b[0m\u001b[1;33m\u001b[0m\u001b[1;33m\u001b[0m\u001b[0m\n\u001b[0m\u001b[0;32m    268\u001b[0m         \u001b[1;32mif\u001b[0m \u001b[0mlen\u001b[0m\u001b[1;33m(\u001b[0m\u001b[0mline\u001b[0m\u001b[1;33m)\u001b[0m \u001b[1;33m>\u001b[0m \u001b[0m_MAXLINE\u001b[0m\u001b[1;33m:\u001b[0m\u001b[1;33m\u001b[0m\u001b[1;33m\u001b[0m\u001b[0m\n\u001b[0;32m    269\u001b[0m             \u001b[1;32mraise\u001b[0m \u001b[0mLineTooLong\u001b[0m\u001b[1;33m(\u001b[0m\u001b[1;34m\"status line\"\u001b[0m\u001b[1;33m)\u001b[0m\u001b[1;33m\u001b[0m\u001b[1;33m\u001b[0m\u001b[0m\n",
      "\u001b[1;32m~\\Anaconda3\\lib\\socket.py\u001b[0m in \u001b[0;36mreadinto\u001b[1;34m(self, b)\u001b[0m\n\u001b[0;32m    587\u001b[0m         \u001b[1;32mwhile\u001b[0m \u001b[1;32mTrue\u001b[0m\u001b[1;33m:\u001b[0m\u001b[1;33m\u001b[0m\u001b[1;33m\u001b[0m\u001b[0m\n\u001b[0;32m    588\u001b[0m             \u001b[1;32mtry\u001b[0m\u001b[1;33m:\u001b[0m\u001b[1;33m\u001b[0m\u001b[1;33m\u001b[0m\u001b[0m\n\u001b[1;32m--> 589\u001b[1;33m                 \u001b[1;32mreturn\u001b[0m \u001b[0mself\u001b[0m\u001b[1;33m.\u001b[0m\u001b[0m_sock\u001b[0m\u001b[1;33m.\u001b[0m\u001b[0mrecv_into\u001b[0m\u001b[1;33m(\u001b[0m\u001b[0mb\u001b[0m\u001b[1;33m)\u001b[0m\u001b[1;33m\u001b[0m\u001b[1;33m\u001b[0m\u001b[0m\n\u001b[0m\u001b[0;32m    590\u001b[0m             \u001b[1;32mexcept\u001b[0m \u001b[0mtimeout\u001b[0m\u001b[1;33m:\u001b[0m\u001b[1;33m\u001b[0m\u001b[1;33m\u001b[0m\u001b[0m\n\u001b[0;32m    591\u001b[0m                 \u001b[0mself\u001b[0m\u001b[1;33m.\u001b[0m\u001b[0m_timeout_occurred\u001b[0m \u001b[1;33m=\u001b[0m \u001b[1;32mTrue\u001b[0m\u001b[1;33m\u001b[0m\u001b[1;33m\u001b[0m\u001b[0m\n",
      "\u001b[1;32m~\\Anaconda3\\lib\\ssl.py\u001b[0m in \u001b[0;36mrecv_into\u001b[1;34m(self, buffer, nbytes, flags)\u001b[0m\n\u001b[0;32m   1069\u001b[0m                   \u001b[1;34m\"non-zero flags not allowed in calls to recv_into() on %s\"\u001b[0m \u001b[1;33m%\u001b[0m\u001b[1;33m\u001b[0m\u001b[1;33m\u001b[0m\u001b[0m\n\u001b[0;32m   1070\u001b[0m                   self.__class__)\n\u001b[1;32m-> 1071\u001b[1;33m             \u001b[1;32mreturn\u001b[0m \u001b[0mself\u001b[0m\u001b[1;33m.\u001b[0m\u001b[0mread\u001b[0m\u001b[1;33m(\u001b[0m\u001b[0mnbytes\u001b[0m\u001b[1;33m,\u001b[0m \u001b[0mbuffer\u001b[0m\u001b[1;33m)\u001b[0m\u001b[1;33m\u001b[0m\u001b[1;33m\u001b[0m\u001b[0m\n\u001b[0m\u001b[0;32m   1072\u001b[0m         \u001b[1;32melse\u001b[0m\u001b[1;33m:\u001b[0m\u001b[1;33m\u001b[0m\u001b[1;33m\u001b[0m\u001b[0m\n\u001b[0;32m   1073\u001b[0m             \u001b[1;32mreturn\u001b[0m \u001b[0msuper\u001b[0m\u001b[1;33m(\u001b[0m\u001b[1;33m)\u001b[0m\u001b[1;33m.\u001b[0m\u001b[0mrecv_into\u001b[0m\u001b[1;33m(\u001b[0m\u001b[0mbuffer\u001b[0m\u001b[1;33m,\u001b[0m \u001b[0mnbytes\u001b[0m\u001b[1;33m,\u001b[0m \u001b[0mflags\u001b[0m\u001b[1;33m)\u001b[0m\u001b[1;33m\u001b[0m\u001b[1;33m\u001b[0m\u001b[0m\n",
      "\u001b[1;32m~\\Anaconda3\\lib\\ssl.py\u001b[0m in \u001b[0;36mread\u001b[1;34m(self, len, buffer)\u001b[0m\n\u001b[0;32m    927\u001b[0m         \u001b[1;32mtry\u001b[0m\u001b[1;33m:\u001b[0m\u001b[1;33m\u001b[0m\u001b[1;33m\u001b[0m\u001b[0m\n\u001b[0;32m    928\u001b[0m             \u001b[1;32mif\u001b[0m \u001b[0mbuffer\u001b[0m \u001b[1;32mis\u001b[0m \u001b[1;32mnot\u001b[0m \u001b[1;32mNone\u001b[0m\u001b[1;33m:\u001b[0m\u001b[1;33m\u001b[0m\u001b[1;33m\u001b[0m\u001b[0m\n\u001b[1;32m--> 929\u001b[1;33m                 \u001b[1;32mreturn\u001b[0m \u001b[0mself\u001b[0m\u001b[1;33m.\u001b[0m\u001b[0m_sslobj\u001b[0m\u001b[1;33m.\u001b[0m\u001b[0mread\u001b[0m\u001b[1;33m(\u001b[0m\u001b[0mlen\u001b[0m\u001b[1;33m,\u001b[0m \u001b[0mbuffer\u001b[0m\u001b[1;33m)\u001b[0m\u001b[1;33m\u001b[0m\u001b[1;33m\u001b[0m\u001b[0m\n\u001b[0m\u001b[0;32m    930\u001b[0m             \u001b[1;32melse\u001b[0m\u001b[1;33m:\u001b[0m\u001b[1;33m\u001b[0m\u001b[1;33m\u001b[0m\u001b[0m\n\u001b[0;32m    931\u001b[0m                 \u001b[1;32mreturn\u001b[0m \u001b[0mself\u001b[0m\u001b[1;33m.\u001b[0m\u001b[0m_sslobj\u001b[0m\u001b[1;33m.\u001b[0m\u001b[0mread\u001b[0m\u001b[1;33m(\u001b[0m\u001b[0mlen\u001b[0m\u001b[1;33m)\u001b[0m\u001b[1;33m\u001b[0m\u001b[1;33m\u001b[0m\u001b[0m\n",
      "\u001b[1;31mKeyboardInterrupt\u001b[0m: "
     ]
    }
   ],
   "source": [
    "seen = list()\n",
    "\n",
    "while urls: # Queue\n",
    "    seed = urls.pop(0) # -> pop(-1) : DFS\n",
    "    seen.append(seed)\n",
    "    if seed['depth'] < 4: # 범위 제한 -> Focused Crawling\n",
    "        dom = BeautifulSoup(download(seed['url']).text, 'html.parser')\n",
    "        for _ in [_['href'] for _ in dom.select('a[href]')\n",
    "                 if re.match(r'(?:https?:/)?/\\w+(?:[./]\\w+)+', _['href'])]:\n",
    "            newUrls = urljoin(seed['url'], urlparse(_)[2])\n",
    "            if newUrls not in [_['url'] for _ in seen] and newUrls not in [_['url'] for _ in urls]:\n",
    "                urls.append({'url':newUrls, 'depth':seed['depth']+1})\n",
    "        print(len(urls), len(seen))\n",
    "#        break"
   ]
  },
  {
   "cell_type": "code",
   "execution_count": null,
   "metadata": {},
   "outputs": [],
   "source": [
    "                  구글(검색어)-Queue(0)\n",
    "    [1]     [2]    3    4     5    6    7     8 -> done\n",
    "[1-1] 1-2 1-3 ..., 2-1, 2-2, ...\n",
    "1-1-1 1-1-2 ... => leaf\n",
    "=> BFS\n",
    "                  구글(검색어)-Stack(-1)\n",
    "    1     2    3    4     5    6    7     [8]\n",
    "                                      8-1 8-2 [8-3] ...,\n",
    "                                    8-3-1 [8-3-2] ... => leaf, done\n",
    "=> DFS"
   ]
  },
  {
   "cell_type": "code",
   "execution_count": null,
   "metadata": {},
   "outputs": [],
   "source": [
    "구글(파이썬) -> 8개 검색결과(depth=1) -> 다시 링크타고 이동(depth=2) -> depth=3"
   ]
  },
  {
   "cell_type": "code",
   "execution_count": 41,
   "metadata": {},
   "outputs": [
    {
     "data": {
      "text/plain": [
       "<re.Match object; span=(0, 29), match='/www.domain.co.kr/service/1/2'>"
      ]
     },
     "execution_count": 41,
     "metadata": {},
     "output_type": "execute_result"
    }
   ],
   "source": [
    "temp = '/www.domain.co.kr/service/1/2?key=value/'\n",
    "re.match(r'(?:https?:/)?/\\w+(?:[./]\\w+)+', temp)"
   ]
  },
  {
   "cell_type": "code",
   "execution_count": 42,
   "metadata": {},
   "outputs": [
    {
     "data": {
      "text/plain": [
       "[{'url': 'https://ko.wikipedia.org/wiki/%ED%8C%8C%EC%9D%B4%EC%8D%AC',\n",
       "  'depth': 1},\n",
       " {'url': 'https://docs.python.org/ko/3/tutorial/index.html', 'depth': 1},\n",
       " {'url': 'https://namu.wiki/w/Python', 'depth': 1},\n",
       " {'url': 'https://wikidocs.net/43', 'depth': 1},\n",
       " {'url': 'http://pythonstudy.xyz/python/article/6-Python-%EC%BD%94%EB%94%A9%EC%9D%98-%EA%B8%B0%EC%B4%88',\n",
       "  'depth': 1},\n",
       " {'url': 'https://byline.network/2020/03/17-90/', 'depth': 1},\n",
       " {'url': 'https://dojang.io/mod/page/view.php?id=2153', 'depth': 1},\n",
       " {'url': 'https://www.inflearn.com/course/%EB%82%98%EB%8F%84%EC%BD%94%EB%94%A9-%ED%8C%8C%EC%9D%B4%EC%8D%AC-%EA%B8%B0%EB%B3%B8',\n",
       "  'depth': 1},\n",
       " {'url': 'https://ko.wikipedia.org/wiki/1991%EB%85%84', 'depth': 2},\n",
       " {'url': 'https://ko.wikipedia.org/wiki/2%EC%9B%94_20%EC%9D%BC', 'depth': 2},\n",
       " {'url': 'https://ko.wikipedia.org/w/index.php', 'depth': 2},\n",
       " {'url': 'https://ko.wikipedia.org/', 'depth': 2},\n",
       " {'url': 'https://ko.wikipedia.org/wiki/CPython', 'depth': 2},\n",
       " {'url': 'https://ko.wikipedia.org/wiki/IronPython', 'depth': 2},\n",
       " {'url': 'https://ko.wikipedia.org/wiki/MicroPython', 'depth': 2},\n",
       " {'url': 'https://ko.wikipedia.org/wiki/Numba', 'depth': 2},\n",
       " {'url': 'https://ko.wikipedia.org/wiki/PyPy', 'depth': 2}]"
      ]
     },
     "execution_count": 42,
     "metadata": {},
     "output_type": "execute_result"
    }
   ],
   "source": [
    "seen # 안 겹치는지 확인"
   ]
  },
  {
   "cell_type": "code",
   "execution_count": 43,
   "metadata": {},
   "outputs": [
    {
     "name": "stdout",
     "output_type": "stream",
     "text": [
      "[Error] https://search.naver.com/search.naver\n"
     ]
    }
   ],
   "source": [
    "url = 'https://search.naver.com/search.naver'\n",
    "params = {\n",
    "    'sm':'top_hty',\n",
    "    'fbm':0,\n",
    "    'ie':'utf8',\n",
    "    'query':''\n",
    "}\n",
    "params['query'] = '파이썬'\n",
    "headers = {\n",
    "    'user-agent':'Mozilla/5.0 (Windows NT 10.0; Win64; x64) AppleWebKit/537.36 (KHTML, like Gecko) Chrome/83.0.4103.116 Safari/537.36'\n",
    "}\n",
    "resp = download(url, params, headers, 'GET')\n",
    "dom = BeautifulSoup(resp.content, 'html.parser')\n",
    "urls = [{'url':_['href'], 'depth':1}\n",
    "        for _ in dom.select('div.blog.section._blogBase._prs_blg dt > a[href]')]"
   ]
  },
  {
   "cell_type": "code",
   "execution_count": 44,
   "metadata": {},
   "outputs": [
    {
     "data": {
      "text/plain": [
       "5"
      ]
     },
     "execution_count": 44,
     "metadata": {},
     "output_type": "execute_result"
    }
   ],
   "source": [
    "len(urls)"
   ]
  },
  {
   "cell_type": "code",
   "execution_count": 45,
   "metadata": {},
   "outputs": [
    {
     "name": "stdout",
     "output_type": "stream",
     "text": [
      "5 1\n",
      "12 2\n",
      "4 11\n",
      "14 12\n",
      "2 24\n",
      "2 25\n",
      "14 26\n",
      "1 40\n",
      "7 41\n"
     ]
    }
   ],
   "source": [
    "seen = list()\n",
    "\n",
    "while urls: # Queue\n",
    "    seed = urls.pop(-1) # : DFS\n",
    "    seen.append(seed)\n",
    "    if seed['depth'] < 3: # 범위 제한 => Focused Crawling (수정)\n",
    "        dom = BeautifulSoup(download(seed['url']).text, 'html.parser')\n",
    "\n",
    "        for _ in [_['href'] if _.has_attr('href') else _['src']\n",
    "                  for _ in dom.select('a[href], #mainFrame')\n",
    "                  if re.match(r'(?:https?:/)?/\\w+(?:[./]\\w+)+',\n",
    "                _['href'] if _.has_attr('href') else _['src'])]:\n",
    "            newUrls = urljoin(seed['url'], _)\n",
    "            if urlparse(newUrls)[1] in ['blog.naver.com'] \\\n",
    "            and newUrls not in [_['url'] for _ in seen] \\\n",
    "            and newUrls not in [_['url'] for _ in urls]:# (수정)도메인 제한\n",
    "                urls.append({'url':newUrls, 'depth':seed['depth']+1})\n",
    "        print(len(urls), len(seen))"
   ]
  },
  {
   "cell_type": "code",
   "execution_count": 46,
   "metadata": {
    "scrolled": true
   },
   "outputs": [
    {
     "data": {
      "text/plain": [
       "[{'url': 'https://blog.naver.com/skh556?Redirect=Log&logNo=222038807263',\n",
       "  'depth': 1},\n",
       " {'url': 'https://blog.naver.com/PostView.nhn?blogId=skh556&logNo=222038807263&from=search&redirect=Log&widgetTypeCall=true&directAccess=false',\n",
       "  'depth': 2},\n",
       " {'url': 'https://blog.naver.com/PostList.nhn?blogId=skh556&categoryNo=17&from=postList&parentCategoryNo=0',\n",
       "  'depth': 3},\n",
       " {'url': 'https://blog.naver.com/skh556', 'depth': 3},\n",
       " {'url': 'https://blog.naver.com/PostList.nhn?blogId=skh556&categoryNo=17&from=postList',\n",
       "  'depth': 3},\n",
       " {'url': 'https://blog.naver.com/PostList.nhn?blogId=skh556&skinType=&skinId=&from=menu',\n",
       "  'depth': 3},\n",
       " {'url': 'https://blog.naver.com/prologue/PrologueList.nhn?blogId=skh556&skinType=&skinId=&from=menu',\n",
       "  'depth': 3},\n",
       " {'url': 'https://blog.naver.com/MyBlog.nhn', 'depth': 3},\n",
       " {'url': 'https://blog.naver.com/prologue/PrologueList.nhn?blogId=skh556',\n",
       "  'depth': 3},\n",
       " {'url': 'https://blog.naver.com', 'depth': 3},\n",
       " {'url': 'https://blog.naver.com/sweetk2ss?Redirect=Log&logNo=221954566322',\n",
       "  'depth': 1},\n",
       " {'url': 'https://blog.naver.com/PostView.nhn?blogId=sweetk2ss&logNo=221954566322&from=search&redirect=Log&widgetTypeCall=true&directAccess=false',\n",
       "  'depth': 2},\n",
       " {'url': 'https://blog.naver.com/PostList.nhn?blogId=sweetk2ss&categoryNo=107&from=thumbnailList&parentCategoryNo=0',\n",
       "  'depth': 3},\n",
       " {'url': 'https://blog.naver.com/sweetk2ss', 'depth': 3},\n",
       " {'url': 'https://blog.naver.com/PostList.nhn?blogId=sweetk2ss&categoryNo=107&from=postList',\n",
       "  'depth': 3},\n",
       " {'url': 'https://blog.naver.com/library/LibraryView.nhn?blogId=sweetk2ss',\n",
       "  'depth': 3},\n",
       " {'url': 'https://blog.naver.com/PostList.nhn?blogId=sweetk2ss&categoryNo=42&parentCategoryNo=42&skinType=&skinId=&from=menu',\n",
       "  'depth': 3},\n",
       " {'url': 'https://blog.naver.com/PostList.nhn?blogId=sweetk2ss&categoryNo=45&parentCategoryNo=45&skinType=&skinId=&from=menu',\n",
       "  'depth': 3},\n",
       " {'url': 'https://blog.naver.com/PostList.nhn?blogId=sweetk2ss&categoryNo=93&parentCategoryNo=93&skinType=&skinId=&from=menu',\n",
       "  'depth': 3},\n",
       " {'url': 'https://blog.naver.com/PostList.nhn?blogId=sweetk2ss&categoryNo=92&parentCategoryNo=92&skinType=&skinId=&from=menu',\n",
       "  'depth': 3},\n",
       " {'url': 'https://blog.naver.com/PostList.nhn?blogId=sweetk2ss&skinType=&skinId=&from=menu',\n",
       "  'depth': 3},\n",
       " {'url': 'https://blog.naver.com/prologue/PrologueList.nhn?blogId=sweetk2ss&skinType=&skinId=&from=menu',\n",
       "  'depth': 3},\n",
       " {'url': 'https://blog.naver.com/prologue/PrologueList.nhn?blogId=sweetk2ss',\n",
       "  'depth': 3},\n",
       " {'url': 'http://blog.wishket.com/%ED%8C%8C%EC%9D%B4%EC%8D%AC-%EC%9D%B8%EA%B8%B0%EA%B0%80-%EB%96%A8%EC%96%B4%EC%A7%80%EB%A9%B4-%EC%96%B4%EB%96%A4-%EA%B0%9C%EB%B0%9C-%EC%96%B8%EC%96%B4%EA%B0%80-%EB%9C%B0%EA%B9%8C/',\n",
       "  'depth': 1},\n",
       " {'url': 'https://blog.naver.com/ridesafe?Redirect=Log&logNo=222049951715',\n",
       "  'depth': 1},\n",
       " {'url': 'https://blog.naver.com/PostView.nhn?blogId=ridesafe&logNo=222049951715&from=search&redirect=Log&widgetTypeCall=true&directAccess=false',\n",
       "  'depth': 2},\n",
       " {'url': 'https://blog.naver.com/library/LibraryView.nhn?blogId=ridesafe',\n",
       "  'depth': 3},\n",
       " {'url': 'https://blog.naver.com/PostList.nhn?blogId=ridesafe&categoryNo=15&from=postList&parentCategoryNo=0',\n",
       "  'depth': 3},\n",
       " {'url': 'https://blog.naver.com/ridesafe/221994075560', 'depth': 3},\n",
       " {'url': 'https://blog.naver.com/ridesafe', 'depth': 3},\n",
       " {'url': 'https://blog.naver.com/PostList.nhn?blogId=ridesafe&categoryNo=15&from=postList&parentCategoryNo=15',\n",
       "  'depth': 3},\n",
       " {'url': 'https://blog.naver.com/BlogPrivateTagCloud.nhn?blogId=ridesafe&Redirect=Dtagcloud&skinType=&skinId=&from=menu',\n",
       "  'depth': 3},\n",
       " {'url': 'https://blog.naver.com/memo/MemologPostList.nhn?blogId=ridesafe&Redirect=MemoList&skinType=&skinId=&from=menu',\n",
       "  'depth': 3},\n",
       " {'url': 'https://blog.naver.com/library/LibraryView.nhn?blogId=ridesafe&skinType=&skinId=&from=menu',\n",
       "  'depth': 3},\n",
       " {'url': 'https://blog.naver.com/mapview/MapView.nhn?blogId=ridesafe&skinType=&skinId=&from=menu',\n",
       "  'depth': 3},\n",
       " {'url': 'https://blog.naver.com/PostList.nhn?blogId=ridesafe&categoryNo=29&parentCategoryNo=29&skinType=&skinId=&from=menu',\n",
       "  'depth': 3},\n",
       " {'url': 'https://blog.naver.com/PostList.nhn?blogId=ridesafe&categoryNo=25&parentCategoryNo=25&skinType=&skinId=&from=menu',\n",
       "  'depth': 3},\n",
       " {'url': 'https://blog.naver.com/PostList.nhn?blogId=ridesafe&skinType=&skinId=&from=menu',\n",
       "  'depth': 3},\n",
       " {'url': 'https://blog.naver.com/PostList.nhn?blogId=ridesafe', 'depth': 3},\n",
       " {'url': 'https://blog.naver.com/urmyver?Redirect=Log&logNo=222050113272',\n",
       "  'depth': 1},\n",
       " {'url': 'https://blog.naver.com/PostView.nhn?blogId=urmyver&logNo=222050113272&from=search&redirect=Log&widgetTypeCall=true&directAccess=false',\n",
       "  'depth': 2},\n",
       " {'url': 'https://blog.naver.com/PostList.nhn?blogId=urmyver&categoryNo=7&from=thumbnailList&parentCategoryNo=0',\n",
       "  'depth': 3},\n",
       " {'url': 'https://blog.naver.com/urmyver', 'depth': 3},\n",
       " {'url': 'https://blog.naver.com/PostList.nhn?blogId=urmyver&categoryNo=7&from=postList',\n",
       "  'depth': 3},\n",
       " {'url': 'https://blog.naver.com/PostList.nhn?blogId=urmyver&categoryNo=1&parentCategoryNo=1&skinType=&skinId=&from=menu',\n",
       "  'depth': 3},\n",
       " {'url': 'https://blog.naver.com/PostList.nhn?blogId=urmyver&skinType=&skinId=&from=menu',\n",
       "  'depth': 3},\n",
       " {'url': 'https://blog.naver.com/prologue/PrologueList.nhn?blogId=urmyver&skinType=&skinId=&from=menu',\n",
       "  'depth': 3},\n",
       " {'url': 'https://blog.naver.com/prologue/PrologueList.nhn?blogId=urmyver',\n",
       "  'depth': 3}]"
      ]
     },
     "execution_count": 46,
     "metadata": {},
     "output_type": "execute_result"
    }
   ],
   "source": [
    "seen"
   ]
  },
  {
   "cell_type": "code",
   "execution_count": 47,
   "metadata": {},
   "outputs": [
    {
     "data": {
      "text/plain": [
       "'https://help.naver.com/support/alias/blog/stats/stats1.naver'"
      ]
     },
     "execution_count": 47,
     "metadata": {},
     "output_type": "execute_result"
    }
   ],
   "source": [
    "urls\n",
    "newUrls"
   ]
  },
  {
   "cell_type": "code",
   "execution_count": 48,
   "metadata": {},
   "outputs": [],
   "source": [
    "import sqlite3"
   ]
  },
  {
   "cell_type": "code",
   "execution_count": 49,
   "metadata": {},
   "outputs": [],
   "source": [
    "con = sqlite3.connect('pagerank.db')\n",
    "cur = con.cursor()"
   ]
  },
  {
   "cell_type": "code",
   "execution_count": 50,
   "metadata": {},
   "outputs": [
    {
     "data": {
      "text/plain": [
       "<sqlite3.Cursor at 0x1c593e1ddc0>"
      ]
     },
     "execution_count": 50,
     "metadata": {},
     "output_type": "execute_result"
    }
   ],
   "source": [
    "cur.executescript('''\n",
    "    DROP TABLE IF EXISTS host;\n",
    "    CREATE TABLE host(\n",
    "        pk      INTEGER PRIMARY KEY AUTOINCREMENT NOT NULL,\n",
    "        netloc  TEXT NOT NULL\n",
    "    );\n",
    "    \n",
    "    DROP TABLE IF EXISTS url;\n",
    "    CREATE TABLE url(\n",
    "        pk      INTEGER PRIMARY KEY AUTOINCREMENT NOT NULL,\n",
    "        fk      INTEGER NOT NULL,\n",
    "        ref     INTEGER NOT NULL,\n",
    "        path    TEXT NOT NULL,\n",
    "        crawled TEXT NOT NULL\n",
    "    );\n",
    "''')"
   ]
  },
  {
   "cell_type": "code",
   "execution_count": 51,
   "metadata": {},
   "outputs": [
    {
     "name": "stdout",
     "output_type": "stream",
     "text": [
      "[Error] https://www.google.com/search\n"
     ]
    }
   ],
   "source": [
    "url = 'https://www.google.com/search'\n",
    "params = {\n",
    "    'q':'',\n",
    "    'oq':'',\n",
    "    'aqs':'chrome..69i57j69i59j69i65l3j69i61j69i60j69i61.1205j0j7',\n",
    "    'sourceid':'chrome',\n",
    "    'ie':'UTF-8'\n",
    "}\n",
    "params['q'] = params['oq'] = '파이썬'\n",
    "headers = {\n",
    "    'user-agent':'Mozilla/5.0 (Windows NT 10.0; Win64; x64) AppleWebKit/537.36 (KHTML, like Gecko) Chrome/83.0.4103.116 Safari/537.36'\n",
    "}\n",
    "resp = download(url, params, headers, 'GET')\n",
    "dom = BeautifulSoup(resp.text, 'html.parser')\n",
    "\n",
    "for _ in dom.select('div.r > a[href]'):\n",
    "    urlseg = urlparse(_['href'])\n",
    "    # url: http://netloc/path?query\n",
    "    # netloc = http://netloc\n",
    "    netloc = '://'.join(urlseg[:2])\n",
    "    # path = path?query\n",
    "    path = urlseg[2]+('?'+urlseg[4] if urlseg[4] else '')\n",
    "    # host 테이블에 netloc이 있는지 확인\n",
    "    cur.execute('SELECT pk FROM host WHERE netloc=? ORDER BY pk ASC LIMIT 0,1',\n",
    "                ['://'.join(urlseg[:2]),])\n",
    "    # 없다면,\n",
    "    if not cur.fetchone():\n",
    "        # host 테이블에 netloc 추가\n",
    "        cur.execute('INSERT INTO host(netloc) VALUES(?)',\n",
    "                    ['://'.join(urlseg[:2]),])\n",
    "        con.commit()\n",
    "    # url 테이블에 path 추가 (단, host 테이블에 netloc의 pk를 fk로 가져옴)\n",
    "    cur.execute('''\n",
    "    INSERT INTO url(fk, ref, path, crawled)\n",
    "    VALUES((SELECT pk FROM host WHERE netloc=? ORDER BY pk ASC LIMIT 0,1), ?, ?, 'N')\n",
    "    ''', [netloc, 0, path])\n",
    "    con.commit()"
   ]
  },
  {
   "cell_type": "code",
   "execution_count": 52,
   "metadata": {},
   "outputs": [],
   "source": [
    "# while range(100): #True:\n",
    "for _ in range(100):\n",
    "    cur.execute('''\n",
    "        SELECT host.pk, url.pk, host.netloc, url.path FROM url\n",
    "        INNER JOIN host ON host.pk=url.fk\n",
    "        WHERE url.crawled='N'\n",
    "        ORDER BY url.pk ASC\n",
    "        LIMIT 0,1\n",
    "    ''')\n",
    "    seed = cur.fetchone()\n",
    "\n",
    "    if not seed:\n",
    "        break\n",
    "        \n",
    "    cur.execute('''\n",
    "        UPDATE url SET crawled='Y' WHERE pk=?\n",
    "    ''', [seed[1],])\n",
    "    url = ''.join(seed[2:])\n",
    "    dom = BeautifulSoup(download(url).text, 'html.parser')\n",
    "    for _ in [_['href'] for _ in dom.select('a[href]')\n",
    "              if re.match(r'(?:https?:/)?/\\w+(?:[./]\\w+)+',\n",
    "                          _['href'])]:\n",
    "        urlseg = urlparse(_)\n",
    "        netloc = '://'.join(urlseg[:2])\n",
    "        path = urlseg[2]+('?'+urlseg[4] if urlseg[4] else '')\n",
    "        cur.execute('''\n",
    "            SELECT pk FROM host WHERE netloc=?\n",
    "            ORDER BY pk ASC LIMIT 0,1''', ['://'.join(urlseg[:2]),])\n",
    "        if not cur.fetchone():\n",
    "            cur.execute('INSERT INTO host(netloc) VALUES(?)',\n",
    "                        ['://'.join(urlseg[:2]),])\n",
    "            con.commit()\n",
    "            \n",
    "        cur.execute('''\n",
    "            SELECT count(pk) FROM url WHERE fk=? and path=?\n",
    "        ''', [seed[0], path])\n",
    "        \n",
    "        if cur.fetchone()[0] < 1:\n",
    "            cur.execute('''\n",
    "            INSERT INTO url(fk, ref, path, crawled)\n",
    "            VALUES((SELECT pk FROM host WHERE netloc=? ORDER BY pk LIMIT 0, 1), ?, ?, 'N')\n",
    "            ''', [netloc, seed[0], path])\n",
    "            con.commit()\n",
    "    break"
   ]
  },
  {
   "cell_type": "code",
   "execution_count": 53,
   "metadata": {},
   "outputs": [],
   "source": [
    "cur.execute('SELECT COUNT(pk) FROM host')\n",
    "cnt = cur.fetchone()[0]"
   ]
  },
  {
   "cell_type": "code",
   "execution_count": 54,
   "metadata": {},
   "outputs": [
    {
     "data": {
      "text/plain": [
       "131"
      ]
     },
     "execution_count": 54,
     "metadata": {},
     "output_type": "execute_result"
    }
   ],
   "source": [
    "cnt"
   ]
  },
  {
   "cell_type": "code",
   "execution_count": 55,
   "metadata": {},
   "outputs": [],
   "source": [
    "import numpy as np"
   ]
  },
  {
   "cell_type": "code",
   "execution_count": 56,
   "metadata": {},
   "outputs": [],
   "source": [
    "A = np.zeros((cnt+1, cnt+1))\n",
    "v = np.zeros((cnt+1,))\n",
    "S = np.zeros((cnt+1,))"
   ]
  },
  {
   "cell_type": "code",
   "execution_count": 57,
   "metadata": {},
   "outputs": [
    {
     "data": {
      "text/plain": [
       "((132, 132), (132,), (132,))"
      ]
     },
     "execution_count": 57,
     "metadata": {},
     "output_type": "execute_result"
    }
   ],
   "source": [
    "A.shape, v.shape, S.shape"
   ]
  },
  {
   "cell_type": "code",
   "execution_count": 58,
   "metadata": {},
   "outputs": [],
   "source": [
    "for j in range(1,cnt+1):\n",
    "    cur.execute('''\n",
    "        SELECT fk, count(fk) FROM url\n",
    "        WHERE ref=? GROUP BY fk''', [j,])\n",
    "    \n",
    "    for i in cur:\n",
    "        A[i[0],j] = i[1]\n",
    "        S[j] += i[1]"
   ]
  },
  {
   "cell_type": "code",
   "execution_count": 59,
   "metadata": {},
   "outputs": [
    {
     "data": {
      "text/plain": [
       "array([[  0.,   0.,   0., ...,   0.,   0.,   0.],\n",
       "       [  0., 165.,   0., ...,   0.,   0.,   0.],\n",
       "       [  0.,   1.,   0., ...,   0.,   0.,   0.],\n",
       "       ...,\n",
       "       [  0.,   1.,   0., ...,   0.,   0.,   0.],\n",
       "       [  0.,   1.,   0., ...,   0.,   0.,   0.],\n",
       "       [  0.,   0.,   0., ...,   0.,   0.,   0.]])"
      ]
     },
     "execution_count": 59,
     "metadata": {},
     "output_type": "execute_result"
    }
   ],
   "source": [
    "A"
   ]
  },
  {
   "cell_type": "code",
   "execution_count": 60,
   "metadata": {},
   "outputs": [
    {
     "name": "stderr",
     "output_type": "stream",
     "text": [
      "C:\\Users\\Shin\\Anaconda3\\lib\\site-packages\\ipykernel_launcher.py:1: RuntimeWarning: invalid value encountered in true_divide\n",
      "  \"\"\"Entry point for launching an IPython kernel.\n"
     ]
    }
   ],
   "source": [
    "AA = A/S\n",
    "AA[np.isnan(AA)] = 0"
   ]
  },
  {
   "cell_type": "code",
   "execution_count": 61,
   "metadata": {},
   "outputs": [],
   "source": [
    "v[:] = 1/cnt"
   ]
  },
  {
   "cell_type": "code",
   "execution_count": 62,
   "metadata": {
    "scrolled": true
   },
   "outputs": [
    {
     "name": "stdout",
     "output_type": "stream",
     "text": [
      "Iter:1\n",
      "(1, 'https://ko.wikipedia.org') 0.0041161503 306.0 165.0\n",
      "(10, 'https://en.wikipedia.org') 0.00027441 0.0 11.0\n",
      "(9, 'https://www.python.org') 9.97855e-05 0.0 4.0\n",
      "(21, 'https://www.wikidata.org') 7.48391e-05 0.0 3.0\n",
      "(128, 'https://www.mediawiki.org') 4.98927e-05 0.0 2.0\n",
      "\n",
      "Iter:2\n",
      "(1, 'https://ko.wikipedia.org') 0.0022194928 306.0 165.0\n",
      "(10, 'https://en.wikipedia.org') 0.0001479662 0.0 11.0\n",
      "(9, 'https://www.python.org') 5.38059e-05 0.0 4.0\n",
      "(21, 'https://www.wikidata.org') 4.03544e-05 0.0 3.0\n",
      "(128, 'https://www.mediawiki.org') 2.69029e-05 0.0 2.0\n",
      "\n",
      "Iter:3\n",
      "(1, 'https://ko.wikipedia.org') 0.0011967853 306.0 165.0\n",
      "(10, 'https://en.wikipedia.org') 7.97857e-05 0.0 11.0\n",
      "(9, 'https://www.python.org') 2.9013e-05 0.0 4.0\n",
      "(21, 'https://www.wikidata.org') 2.17597e-05 0.0 3.0\n",
      "(128, 'https://www.mediawiki.org') 1.45065e-05 0.0 2.0\n",
      "\n",
      "Iter:4\n",
      "(1, 'https://ko.wikipedia.org') 0.0006453254 306.0 165.0\n",
      "(10, 'https://en.wikipedia.org') 4.30217e-05 0.0 11.0\n",
      "(9, 'https://www.python.org') 1.56443e-05 0.0 4.0\n",
      "(21, 'https://www.wikidata.org') 1.17332e-05 0.0 3.0\n",
      "(128, 'https://www.mediawiki.org') 7.8221e-06 0.0 2.0\n",
      "\n",
      "Iter:5\n",
      "(1, 'https://ko.wikipedia.org') 0.0003479696 306.0 165.0\n",
      "(10, 'https://en.wikipedia.org') 2.3198e-05 0.0 11.0\n",
      "(9, 'https://www.python.org') 8.4356e-06 0.0 4.0\n",
      "(21, 'https://www.wikidata.org') 6.3267e-06 0.0 3.0\n",
      "(128, 'https://www.mediawiki.org') 4.2178e-06 0.0 2.0\n",
      "\n",
      "Iter:6\n",
      "(1, 'https://ko.wikipedia.org') 0.0001876307 306.0 165.0\n",
      "(10, 'https://en.wikipedia.org') 1.25087e-05 0.0 11.0\n",
      "(9, 'https://www.python.org') 4.5486e-06 0.0 4.0\n",
      "(21, 'https://www.wikidata.org') 3.4115e-06 0.0 3.0\n",
      "(128, 'https://www.mediawiki.org') 2.2743e-06 0.0 2.0\n",
      "\n",
      "Iter:7\n",
      "(1, 'https://ko.wikipedia.org') 0.0001011734 306.0 165.0\n",
      "(10, 'https://en.wikipedia.org') 6.7449e-06 0.0 11.0\n",
      "(9, 'https://www.python.org') 2.4527e-06 0.0 4.0\n",
      "(21, 'https://www.wikidata.org') 1.8395e-06 0.0 3.0\n",
      "(128, 'https://www.mediawiki.org') 1.2263e-06 0.0 2.0\n",
      "\n",
      "Iter:8\n",
      "(1, 'https://ko.wikipedia.org') 5.45543e-05 306.0 165.0\n",
      "(10, 'https://en.wikipedia.org') 3.637e-06 0.0 11.0\n",
      "(9, 'https://www.python.org') 1.3225e-06 0.0 4.0\n",
      "(21, 'https://www.wikidata.org') 9.919e-07 0.0 3.0\n",
      "(128, 'https://www.mediawiki.org') 6.613e-07 0.0 2.0\n",
      "\n",
      "Iter:9\n",
      "(1, 'https://ko.wikipedia.org') 2.94165e-05 306.0 165.0\n",
      "(10, 'https://en.wikipedia.org') 1.9611e-06 0.0 11.0\n",
      "(9, 'https://www.python.org') 7.131e-07 0.0 4.0\n",
      "(21, 'https://www.wikidata.org') 5.348e-07 0.0 3.0\n",
      "(128, 'https://www.mediawiki.org') 3.566e-07 0.0 2.0\n",
      "\n",
      "Iter:10\n",
      "(1, 'https://ko.wikipedia.org') 1.58619e-05 306.0 165.0\n",
      "(10, 'https://en.wikipedia.org') 1.0575e-06 0.0 11.0\n",
      "(9, 'https://www.python.org') 3.845e-07 0.0 4.0\n",
      "(21, 'https://www.wikidata.org') 2.884e-07 0.0 3.0\n",
      "(128, 'https://www.mediawiki.org') 1.923e-07 0.0 2.0\n",
      "\n",
      "Iter:11\n",
      "(1, 'https://ko.wikipedia.org') 8.553e-06 306.0 165.0\n",
      "(10, 'https://en.wikipedia.org') 5.702e-07 0.0 11.0\n",
      "(9, 'https://www.python.org') 2.073e-07 0.0 4.0\n",
      "(21, 'https://www.wikidata.org') 1.555e-07 0.0 3.0\n",
      "(128, 'https://www.mediawiki.org') 1.037e-07 0.0 2.0\n",
      "\n",
      "Iter:12\n",
      "(1, 'https://ko.wikipedia.org') 4.6119e-06 306.0 165.0\n",
      "(10, 'https://en.wikipedia.org') 3.075e-07 0.0 11.0\n",
      "(9, 'https://www.python.org') 1.118e-07 0.0 4.0\n",
      "(21, 'https://www.wikidata.org') 8.39e-08 0.0 3.0\n",
      "(128, 'https://www.mediawiki.org') 5.59e-08 0.0 2.0\n",
      "\n",
      "Iter:13\n",
      "(1, 'https://ko.wikipedia.org') 2.4868e-06 306.0 165.0\n",
      "(10, 'https://en.wikipedia.org') 1.658e-07 0.0 11.0\n",
      "(9, 'https://www.python.org') 6.03e-08 0.0 4.0\n",
      "(21, 'https://www.wikidata.org') 4.52e-08 0.0 3.0\n",
      "(128, 'https://www.mediawiki.org') 3.01e-08 0.0 2.0\n",
      "\n",
      "Iter:14\n",
      "(1, 'https://ko.wikipedia.org') 1.3409e-06 306.0 165.0\n",
      "(10, 'https://en.wikipedia.org') 8.94e-08 0.0 11.0\n",
      "(9, 'https://www.python.org') 3.25e-08 0.0 4.0\n",
      "(21, 'https://www.wikidata.org') 2.44e-08 0.0 3.0\n",
      "(128, 'https://www.mediawiki.org') 1.63e-08 0.0 2.0\n",
      "\n",
      "Iter:15\n",
      "(1, 'https://ko.wikipedia.org') 7.23e-07 306.0 165.0\n",
      "(10, 'https://en.wikipedia.org') 4.82e-08 0.0 11.0\n",
      "(9, 'https://www.python.org') 1.75e-08 0.0 4.0\n",
      "(21, 'https://www.wikidata.org') 1.31e-08 0.0 3.0\n",
      "(128, 'https://www.mediawiki.org') 8.8e-09 0.0 2.0\n",
      "\n",
      "Iter:16\n",
      "(1, 'https://ko.wikipedia.org') 3.899e-07 306.0 165.0\n",
      "(10, 'https://en.wikipedia.org') 2.6e-08 0.0 11.0\n",
      "(9, 'https://www.python.org') 9.5e-09 0.0 4.0\n",
      "(21, 'https://www.wikidata.org') 7.1e-09 0.0 3.0\n",
      "(128, 'https://www.mediawiki.org') 4.7e-09 0.0 2.0\n",
      "\n",
      "Iter:17\n",
      "(1, 'https://ko.wikipedia.org') 2.102e-07 306.0 165.0\n",
      "(10, 'https://en.wikipedia.org') 1.4e-08 0.0 11.0\n",
      "(9, 'https://www.python.org') 5.1e-09 0.0 4.0\n",
      "(21, 'https://www.wikidata.org') 3.8e-09 0.0 3.0\n",
      "(128, 'https://www.mediawiki.org') 2.5e-09 0.0 2.0\n",
      "\n",
      "Iter:18\n",
      "(1, 'https://ko.wikipedia.org') 1.134e-07 306.0 165.0\n",
      "(10, 'https://en.wikipedia.org') 7.6e-09 0.0 11.0\n",
      "(9, 'https://www.python.org') 2.7e-09 0.0 4.0\n",
      "(21, 'https://www.wikidata.org') 2.1e-09 0.0 3.0\n",
      "(128, 'https://www.mediawiki.org') 1.4e-09 0.0 2.0\n",
      "\n",
      "Iter:19\n",
      "(1, 'https://ko.wikipedia.org') 6.11e-08 306.0 165.0\n",
      "(10, 'https://en.wikipedia.org') 4.1e-09 0.0 11.0\n",
      "(9, 'https://www.python.org') 1.5e-09 0.0 4.0\n",
      "(21, 'https://www.wikidata.org') 1.1e-09 0.0 3.0\n",
      "(128, 'https://www.mediawiki.org') 7e-10 0.0 2.0\n",
      "\n",
      "Iter:20\n",
      "(1, 'https://ko.wikipedia.org') 3.3e-08 306.0 165.0\n",
      "(10, 'https://en.wikipedia.org') 2.2e-09 0.0 11.0\n",
      "(9, 'https://www.python.org') 8e-10 0.0 4.0\n",
      "(21, 'https://www.wikidata.org') 6e-10 0.0 3.0\n",
      "(128, 'https://www.mediawiki.org') 4e-10 0.0 2.0\n",
      "\n",
      "Iter:21\n",
      "(1, 'https://ko.wikipedia.org') 1.78e-08 306.0 165.0\n",
      "(10, 'https://en.wikipedia.org') 1.2e-09 0.0 11.0\n",
      "(9, 'https://www.python.org') 4e-10 0.0 4.0\n",
      "(21, 'https://www.wikidata.org') 3e-10 0.0 3.0\n",
      "(128, 'https://www.mediawiki.org') 2e-10 0.0 2.0\n",
      "\n",
      "Iter:22\n",
      "(1, 'https://ko.wikipedia.org') 9.6e-09 306.0 165.0\n",
      "(10, 'https://en.wikipedia.org') 6e-10 0.0 11.0\n",
      "(9, 'https://www.python.org') 2e-10 0.0 4.0\n",
      "(21, 'https://www.wikidata.org') 2e-10 0.0 3.0\n",
      "(128, 'https://www.mediawiki.org') 1e-10 0.0 2.0\n",
      "\n",
      "Iter:23\n",
      "(1, 'https://ko.wikipedia.org') 5.2e-09 306.0 165.0\n",
      "(10, 'https://en.wikipedia.org') 3e-10 0.0 11.0\n",
      "(9, 'https://www.python.org') 1e-10 0.0 4.0\n",
      "(21, 'https://www.wikidata.org') 1e-10 0.0 3.0\n",
      "(128, 'https://www.mediawiki.org') 1e-10 0.0 2.0\n",
      "\n",
      "Iter:24\n",
      "(1, 'https://ko.wikipedia.org') 2.8e-09 306.0 165.0\n",
      "(10, 'https://en.wikipedia.org') 2e-10 0.0 11.0\n",
      "(9, 'https://www.python.org') 1e-10 0.0 4.0\n",
      "(21, 'https://www.wikidata.org') 1e-10 0.0 3.0\n",
      "(128, 'https://www.mediawiki.org') 0.0 0.0 2.0\n",
      "\n",
      "Iter:25\n",
      "(1, 'https://ko.wikipedia.org') 1.5e-09 306.0 165.0\n",
      "(10, 'https://en.wikipedia.org') 1e-10 0.0 11.0\n",
      "(9, 'https://www.python.org') 0.0 0.0 4.0\n",
      "(21, 'https://www.wikidata.org') 0.0 0.0 3.0\n",
      "(128, 'https://www.mediawiki.org') 0.0 0.0 2.0\n",
      "\n",
      "Iter:26\n",
      "(1, 'https://ko.wikipedia.org') 8e-10 306.0 165.0\n",
      "(10, 'https://en.wikipedia.org') 1e-10 0.0 11.0\n",
      "(9, 'https://www.python.org') 0.0 0.0 4.0\n",
      "(21, 'https://www.wikidata.org') 0.0 0.0 3.0\n",
      "(128, 'https://www.mediawiki.org') 0.0 0.0 2.0\n",
      "\n",
      "Iter:27\n",
      "(1, 'https://ko.wikipedia.org') 4e-10 306.0 165.0\n",
      "(10, 'https://en.wikipedia.org') 0.0 0.0 11.0\n",
      "(9, 'https://www.python.org') 0.0 0.0 4.0\n",
      "(21, 'https://www.wikidata.org') 0.0 0.0 3.0\n",
      "(128, 'https://www.mediawiki.org') 0.0 0.0 2.0\n",
      "\n",
      "Iter:28\n",
      "(1, 'https://ko.wikipedia.org') 2e-10 306.0 165.0\n",
      "(10, 'https://en.wikipedia.org') 0.0 0.0 11.0\n",
      "(9, 'https://www.python.org') 0.0 0.0 4.0\n",
      "(21, 'https://www.wikidata.org') 0.0 0.0 3.0\n",
      "(128, 'https://www.mediawiki.org') 0.0 0.0 2.0\n",
      "\n",
      "Iter:29\n",
      "(1, 'https://ko.wikipedia.org') 1e-10 306.0 165.0\n",
      "(10, 'https://en.wikipedia.org') 0.0 0.0 11.0\n",
      "(9, 'https://www.python.org') 0.0 0.0 4.0\n",
      "(21, 'https://www.wikidata.org') 0.0 0.0 3.0\n",
      "(128, 'https://www.mediawiki.org') 0.0 0.0 2.0\n",
      "\n",
      "Iter:30\n",
      "(1, 'https://ko.wikipedia.org') 1e-10 306.0 165.0\n",
      "(10, 'https://en.wikipedia.org') 0.0 0.0 11.0\n",
      "(9, 'https://www.python.org') 0.0 0.0 4.0\n",
      "(21, 'https://www.wikidata.org') 0.0 0.0 3.0\n",
      "(128, 'https://www.mediawiki.org') 0.0 0.0 2.0\n",
      "\n",
      "Iter:31\n",
      "(1, 'https://ko.wikipedia.org') 0.0 306.0 165.0\n",
      "(10, 'https://en.wikipedia.org') 0.0 0.0 11.0\n",
      "(9, 'https://www.python.org') 0.0 0.0 4.0\n",
      "(21, 'https://www.wikidata.org') 0.0 0.0 3.0\n",
      "(128, 'https://www.mediawiki.org') 0.0 0.0 2.0\n",
      "\n",
      "Iter:32\n",
      "(1, 'https://ko.wikipedia.org') 0.0 306.0 165.0\n",
      "(10, 'https://en.wikipedia.org') 0.0 0.0 11.0\n",
      "(9, 'https://www.python.org') 0.0 0.0 4.0\n",
      "(21, 'https://www.wikidata.org') 0.0 0.0 3.0\n",
      "(128, 'https://www.mediawiki.org') 0.0 0.0 2.0\n",
      "\n",
      "Iter:33\n",
      "(1, 'https://ko.wikipedia.org') 0.0 306.0 165.0\n",
      "(10, 'https://en.wikipedia.org') 0.0 0.0 11.0\n",
      "(9, 'https://www.python.org') 0.0 0.0 4.0\n",
      "(21, 'https://www.wikidata.org') 0.0 0.0 3.0\n",
      "(128, 'https://www.mediawiki.org') 0.0 0.0 2.0\n",
      "\n",
      "Iter:34\n",
      "(1, 'https://ko.wikipedia.org') 0.0 306.0 165.0\n",
      "(10, 'https://en.wikipedia.org') 0.0 0.0 11.0\n",
      "(9, 'https://www.python.org') 0.0 0.0 4.0\n",
      "(21, 'https://www.wikidata.org') 0.0 0.0 3.0\n",
      "(128, 'https://www.mediawiki.org') 0.0 0.0 2.0\n",
      "\n",
      "Iter:35\n",
      "(1, 'https://ko.wikipedia.org') 0.0 306.0 165.0\n",
      "(10, 'https://en.wikipedia.org') 0.0 0.0 11.0\n",
      "(9, 'https://www.python.org') 0.0 0.0 4.0\n",
      "(21, 'https://www.wikidata.org') 0.0 0.0 3.0\n",
      "(128, 'https://www.mediawiki.org') 0.0 0.0 2.0\n",
      "\n",
      "Iter:36\n",
      "(1, 'https://ko.wikipedia.org') 0.0 306.0 165.0\n",
      "(10, 'https://en.wikipedia.org') 0.0 0.0 11.0\n",
      "(9, 'https://www.python.org') 0.0 0.0 4.0\n",
      "(21, 'https://www.wikidata.org') 0.0 0.0 3.0\n",
      "(128, 'https://www.mediawiki.org') 0.0 0.0 2.0\n",
      "\n",
      "Iter:37\n",
      "(1, 'https://ko.wikipedia.org') 0.0 306.0 165.0\n",
      "(10, 'https://en.wikipedia.org') 0.0 0.0 11.0\n",
      "(9, 'https://www.python.org') 0.0 0.0 4.0\n",
      "(21, 'https://www.wikidata.org') 0.0 0.0 3.0\n",
      "(128, 'https://www.mediawiki.org') 0.0 0.0 2.0\n",
      "\n",
      "Iter:38\n",
      "(1, 'https://ko.wikipedia.org') 0.0 306.0 165.0\n",
      "(10, 'https://en.wikipedia.org') 0.0 0.0 11.0\n",
      "(9, 'https://www.python.org') 0.0 0.0 4.0\n",
      "(21, 'https://www.wikidata.org') 0.0 0.0 3.0\n",
      "(128, 'https://www.mediawiki.org') 0.0 0.0 2.0\n",
      "\n",
      "Iter:39\n",
      "(1, 'https://ko.wikipedia.org') 0.0 306.0 165.0\n",
      "(10, 'https://en.wikipedia.org') 0.0 0.0 11.0\n",
      "(9, 'https://www.python.org') 0.0 0.0 4.0\n",
      "(21, 'https://www.wikidata.org') 0.0 0.0 3.0\n",
      "(128, 'https://www.mediawiki.org') 0.0 0.0 2.0\n",
      "\n",
      "Iter:40\n",
      "(1, 'https://ko.wikipedia.org') 0.0 306.0 165.0\n",
      "(10, 'https://en.wikipedia.org') 0.0 0.0 11.0\n",
      "(9, 'https://www.python.org') 0.0 0.0 4.0\n",
      "(21, 'https://www.wikidata.org') 0.0 0.0 3.0\n",
      "(128, 'https://www.mediawiki.org') 0.0 0.0 2.0\n",
      "\n",
      "Iter:41\n",
      "(1, 'https://ko.wikipedia.org') 0.0 306.0 165.0\n",
      "(10, 'https://en.wikipedia.org') 0.0 0.0 11.0\n",
      "(9, 'https://www.python.org') 0.0 0.0 4.0\n",
      "(21, 'https://www.wikidata.org') 0.0 0.0 3.0\n",
      "(128, 'https://www.mediawiki.org') 0.0 0.0 2.0\n",
      "\n",
      "Iter:42\n",
      "(1, 'https://ko.wikipedia.org') 0.0 306.0 165.0\n",
      "(10, 'https://en.wikipedia.org') 0.0 0.0 11.0\n",
      "(9, 'https://www.python.org') 0.0 0.0 4.0\n",
      "(21, 'https://www.wikidata.org') 0.0 0.0 3.0\n",
      "(128, 'https://www.mediawiki.org') 0.0 0.0 2.0\n",
      "\n",
      "Iter:43\n",
      "(1, 'https://ko.wikipedia.org') 0.0 306.0 165.0\n",
      "(10, 'https://en.wikipedia.org') 0.0 0.0 11.0\n",
      "(9, 'https://www.python.org') 0.0 0.0 4.0\n",
      "(21, 'https://www.wikidata.org') 0.0 0.0 3.0\n",
      "(128, 'https://www.mediawiki.org') 0.0 0.0 2.0\n",
      "\n",
      "Iter:44\n",
      "(1, 'https://ko.wikipedia.org') 0.0 306.0 165.0\n",
      "(10, 'https://en.wikipedia.org') 0.0 0.0 11.0\n",
      "(9, 'https://www.python.org') 0.0 0.0 4.0\n",
      "(21, 'https://www.wikidata.org') 0.0 0.0 3.0\n",
      "(128, 'https://www.mediawiki.org') 0.0 0.0 2.0\n",
      "\n",
      "Iter:45\n",
      "(1, 'https://ko.wikipedia.org') 0.0 306.0 165.0\n",
      "(10, 'https://en.wikipedia.org') 0.0 0.0 11.0\n",
      "(9, 'https://www.python.org') 0.0 0.0 4.0\n",
      "(21, 'https://www.wikidata.org') 0.0 0.0 3.0\n",
      "(128, 'https://www.mediawiki.org') 0.0 0.0 2.0\n",
      "\n",
      "Iter:46\n",
      "(1, 'https://ko.wikipedia.org') 0.0 306.0 165.0\n",
      "(10, 'https://en.wikipedia.org') 0.0 0.0 11.0\n",
      "(9, 'https://www.python.org') 0.0 0.0 4.0\n",
      "(21, 'https://www.wikidata.org') 0.0 0.0 3.0\n",
      "(128, 'https://www.mediawiki.org') 0.0 0.0 2.0\n",
      "\n",
      "Iter:47\n",
      "(1, 'https://ko.wikipedia.org') 0.0 306.0 165.0\n",
      "(10, 'https://en.wikipedia.org') 0.0 0.0 11.0\n",
      "(9, 'https://www.python.org') 0.0 0.0 4.0\n",
      "(21, 'https://www.wikidata.org') 0.0 0.0 3.0\n",
      "(128, 'https://www.mediawiki.org') 0.0 0.0 2.0\n",
      "\n",
      "Iter:48\n",
      "(1, 'https://ko.wikipedia.org') 0.0 306.0 165.0\n",
      "(10, 'https://en.wikipedia.org') 0.0 0.0 11.0\n",
      "(9, 'https://www.python.org') 0.0 0.0 4.0\n",
      "(21, 'https://www.wikidata.org') 0.0 0.0 3.0\n",
      "(128, 'https://www.mediawiki.org') 0.0 0.0 2.0\n",
      "\n",
      "Iter:49\n"
     ]
    },
    {
     "name": "stdout",
     "output_type": "stream",
     "text": [
      "(1, 'https://ko.wikipedia.org') 0.0 306.0 165.0\n",
      "(10, 'https://en.wikipedia.org') 0.0 0.0 11.0\n",
      "(9, 'https://www.python.org') 0.0 0.0 4.0\n",
      "(21, 'https://www.wikidata.org') 0.0 0.0 3.0\n",
      "(128, 'https://www.mediawiki.org') 0.0 0.0 2.0\n",
      "\n",
      "Iter:50\n",
      "(1, 'https://ko.wikipedia.org') 0.0 306.0 165.0\n",
      "(10, 'https://en.wikipedia.org') 0.0 0.0 11.0\n",
      "(9, 'https://www.python.org') 0.0 0.0 4.0\n",
      "(21, 'https://www.wikidata.org') 0.0 0.0 3.0\n",
      "(128, 'https://www.mediawiki.org') 0.0 0.0 2.0\n",
      "\n",
      "Iter:51\n",
      "(1, 'https://ko.wikipedia.org') 0.0 306.0 165.0\n",
      "(10, 'https://en.wikipedia.org') 0.0 0.0 11.0\n",
      "(9, 'https://www.python.org') 0.0 0.0 4.0\n",
      "(21, 'https://www.wikidata.org') 0.0 0.0 3.0\n",
      "(128, 'https://www.mediawiki.org') 0.0 0.0 2.0\n",
      "\n",
      "Iter:52\n",
      "(1, 'https://ko.wikipedia.org') 0.0 306.0 165.0\n",
      "(10, 'https://en.wikipedia.org') 0.0 0.0 11.0\n",
      "(9, 'https://www.python.org') 0.0 0.0 4.0\n",
      "(21, 'https://www.wikidata.org') 0.0 0.0 3.0\n",
      "(128, 'https://www.mediawiki.org') 0.0 0.0 2.0\n",
      "\n",
      "Iter:53\n",
      "(1, 'https://ko.wikipedia.org') 0.0 306.0 165.0\n",
      "(10, 'https://en.wikipedia.org') 0.0 0.0 11.0\n",
      "(9, 'https://www.python.org') 0.0 0.0 4.0\n",
      "(21, 'https://www.wikidata.org') 0.0 0.0 3.0\n",
      "(128, 'https://www.mediawiki.org') 0.0 0.0 2.0\n",
      "\n",
      "Iter:54\n",
      "(1, 'https://ko.wikipedia.org') 0.0 306.0 165.0\n",
      "(10, 'https://en.wikipedia.org') 0.0 0.0 11.0\n",
      "(9, 'https://www.python.org') 0.0 0.0 4.0\n",
      "(21, 'https://www.wikidata.org') 0.0 0.0 3.0\n",
      "(128, 'https://www.mediawiki.org') 0.0 0.0 2.0\n",
      "\n",
      "Iter:55\n",
      "(1, 'https://ko.wikipedia.org') 0.0 306.0 165.0\n",
      "(10, 'https://en.wikipedia.org') 0.0 0.0 11.0\n",
      "(9, 'https://www.python.org') 0.0 0.0 4.0\n",
      "(21, 'https://www.wikidata.org') 0.0 0.0 3.0\n",
      "(128, 'https://www.mediawiki.org') 0.0 0.0 2.0\n",
      "\n",
      "Iter:56\n",
      "(1, 'https://ko.wikipedia.org') 0.0 306.0 165.0\n",
      "(10, 'https://en.wikipedia.org') 0.0 0.0 11.0\n",
      "(9, 'https://www.python.org') 0.0 0.0 4.0\n",
      "(21, 'https://www.wikidata.org') 0.0 0.0 3.0\n",
      "(128, 'https://www.mediawiki.org') 0.0 0.0 2.0\n",
      "\n",
      "Iter:57\n",
      "(1, 'https://ko.wikipedia.org') 0.0 306.0 165.0\n",
      "(10, 'https://en.wikipedia.org') 0.0 0.0 11.0\n",
      "(9, 'https://www.python.org') 0.0 0.0 4.0\n",
      "(21, 'https://www.wikidata.org') 0.0 0.0 3.0\n",
      "(128, 'https://www.mediawiki.org') 0.0 0.0 2.0\n",
      "\n",
      "Iter:58\n",
      "(1, 'https://ko.wikipedia.org') 0.0 306.0 165.0\n",
      "(10, 'https://en.wikipedia.org') 0.0 0.0 11.0\n",
      "(9, 'https://www.python.org') 0.0 0.0 4.0\n",
      "(21, 'https://www.wikidata.org') 0.0 0.0 3.0\n",
      "(128, 'https://www.mediawiki.org') 0.0 0.0 2.0\n",
      "\n",
      "Iter:59\n",
      "(1, 'https://ko.wikipedia.org') 0.0 306.0 165.0\n",
      "(10, 'https://en.wikipedia.org') 0.0 0.0 11.0\n",
      "(9, 'https://www.python.org') 0.0 0.0 4.0\n",
      "(21, 'https://www.wikidata.org') 0.0 0.0 3.0\n",
      "(128, 'https://www.mediawiki.org') 0.0 0.0 2.0\n",
      "\n",
      "Iter:60\n",
      "(1, 'https://ko.wikipedia.org') 0.0 306.0 165.0\n",
      "(10, 'https://en.wikipedia.org') 0.0 0.0 11.0\n",
      "(9, 'https://www.python.org') 0.0 0.0 4.0\n",
      "(21, 'https://www.wikidata.org') 0.0 0.0 3.0\n",
      "(128, 'https://www.mediawiki.org') 0.0 0.0 2.0\n",
      "\n",
      "Iter:61\n",
      "(1, 'https://ko.wikipedia.org') 0.0 306.0 165.0\n",
      "(10, 'https://en.wikipedia.org') 0.0 0.0 11.0\n",
      "(9, 'https://www.python.org') 0.0 0.0 4.0\n",
      "(21, 'https://www.wikidata.org') 0.0 0.0 3.0\n",
      "(128, 'https://www.mediawiki.org') 0.0 0.0 2.0\n",
      "\n",
      "Iter:62\n",
      "(1, 'https://ko.wikipedia.org') 0.0 306.0 165.0\n",
      "(10, 'https://en.wikipedia.org') 0.0 0.0 11.0\n",
      "(9, 'https://www.python.org') 0.0 0.0 4.0\n",
      "(21, 'https://www.wikidata.org') 0.0 0.0 3.0\n",
      "(128, 'https://www.mediawiki.org') 0.0 0.0 2.0\n",
      "\n",
      "Iter:63\n",
      "(1, 'https://ko.wikipedia.org') 0.0 306.0 165.0\n",
      "(10, 'https://en.wikipedia.org') 0.0 0.0 11.0\n",
      "(9, 'https://www.python.org') 0.0 0.0 4.0\n",
      "(21, 'https://www.wikidata.org') 0.0 0.0 3.0\n",
      "(128, 'https://www.mediawiki.org') 0.0 0.0 2.0\n",
      "\n",
      "Iter:64\n",
      "(1, 'https://ko.wikipedia.org') 0.0 306.0 165.0\n",
      "(10, 'https://en.wikipedia.org') 0.0 0.0 11.0\n",
      "(9, 'https://www.python.org') 0.0 0.0 4.0\n",
      "(21, 'https://www.wikidata.org') 0.0 0.0 3.0\n",
      "(128, 'https://www.mediawiki.org') 0.0 0.0 2.0\n",
      "\n",
      "Iter:65\n",
      "(1, 'https://ko.wikipedia.org') 0.0 306.0 165.0\n",
      "(10, 'https://en.wikipedia.org') 0.0 0.0 11.0\n",
      "(9, 'https://www.python.org') 0.0 0.0 4.0\n",
      "(21, 'https://www.wikidata.org') 0.0 0.0 3.0\n",
      "(128, 'https://www.mediawiki.org') 0.0 0.0 2.0\n",
      "\n",
      "Iter:66\n",
      "(1, 'https://ko.wikipedia.org') 0.0 306.0 165.0\n",
      "(10, 'https://en.wikipedia.org') 0.0 0.0 11.0\n",
      "(9, 'https://www.python.org') 0.0 0.0 4.0\n",
      "(21, 'https://www.wikidata.org') 0.0 0.0 3.0\n",
      "(128, 'https://www.mediawiki.org') 0.0 0.0 2.0\n",
      "\n",
      "Iter:67\n",
      "(1, 'https://ko.wikipedia.org') 0.0 306.0 165.0\n",
      "(10, 'https://en.wikipedia.org') 0.0 0.0 11.0\n",
      "(9, 'https://www.python.org') 0.0 0.0 4.0\n",
      "(21, 'https://www.wikidata.org') 0.0 0.0 3.0\n",
      "(128, 'https://www.mediawiki.org') 0.0 0.0 2.0\n",
      "\n",
      "Iter:68\n",
      "(1, 'https://ko.wikipedia.org') 0.0 306.0 165.0\n",
      "(10, 'https://en.wikipedia.org') 0.0 0.0 11.0\n",
      "(9, 'https://www.python.org') 0.0 0.0 4.0\n",
      "(21, 'https://www.wikidata.org') 0.0 0.0 3.0\n",
      "(128, 'https://www.mediawiki.org') 0.0 0.0 2.0\n",
      "\n",
      "Iter:69\n",
      "(1, 'https://ko.wikipedia.org') 0.0 306.0 165.0\n",
      "(10, 'https://en.wikipedia.org') 0.0 0.0 11.0\n",
      "(9, 'https://www.python.org') 0.0 0.0 4.0\n",
      "(21, 'https://www.wikidata.org') 0.0 0.0 3.0\n",
      "(128, 'https://www.mediawiki.org') 0.0 0.0 2.0\n",
      "\n",
      "Iter:70\n",
      "(1, 'https://ko.wikipedia.org') 0.0 306.0 165.0\n",
      "(10, 'https://en.wikipedia.org') 0.0 0.0 11.0\n",
      "(9, 'https://www.python.org') 0.0 0.0 4.0\n",
      "(21, 'https://www.wikidata.org') 0.0 0.0 3.0\n",
      "(128, 'https://www.mediawiki.org') 0.0 0.0 2.0\n",
      "\n",
      "Iter:71\n",
      "(1, 'https://ko.wikipedia.org') 0.0 306.0 165.0\n",
      "(10, 'https://en.wikipedia.org') 0.0 0.0 11.0\n",
      "(9, 'https://www.python.org') 0.0 0.0 4.0\n",
      "(21, 'https://www.wikidata.org') 0.0 0.0 3.0\n",
      "(128, 'https://www.mediawiki.org') 0.0 0.0 2.0\n",
      "\n",
      "Iter:72\n",
      "(1, 'https://ko.wikipedia.org') 0.0 306.0 165.0\n",
      "(10, 'https://en.wikipedia.org') 0.0 0.0 11.0\n",
      "(9, 'https://www.python.org') 0.0 0.0 4.0\n",
      "(21, 'https://www.wikidata.org') 0.0 0.0 3.0\n",
      "(128, 'https://www.mediawiki.org') 0.0 0.0 2.0\n",
      "\n",
      "Iter:73\n",
      "(1, 'https://ko.wikipedia.org') 0.0 306.0 165.0\n",
      "(10, 'https://en.wikipedia.org') 0.0 0.0 11.0\n",
      "(9, 'https://www.python.org') 0.0 0.0 4.0\n",
      "(21, 'https://www.wikidata.org') 0.0 0.0 3.0\n",
      "(128, 'https://www.mediawiki.org') 0.0 0.0 2.0\n",
      "\n",
      "Iter:74\n",
      "(1, 'https://ko.wikipedia.org') 0.0 306.0 165.0\n",
      "(10, 'https://en.wikipedia.org') 0.0 0.0 11.0\n",
      "(9, 'https://www.python.org') 0.0 0.0 4.0\n",
      "(21, 'https://www.wikidata.org') 0.0 0.0 3.0\n",
      "(128, 'https://www.mediawiki.org') 0.0 0.0 2.0\n",
      "\n",
      "Iter:75\n",
      "(1, 'https://ko.wikipedia.org') 0.0 306.0 165.0\n",
      "(10, 'https://en.wikipedia.org') 0.0 0.0 11.0\n",
      "(9, 'https://www.python.org') 0.0 0.0 4.0\n",
      "(21, 'https://www.wikidata.org') 0.0 0.0 3.0\n",
      "(128, 'https://www.mediawiki.org') 0.0 0.0 2.0\n",
      "\n",
      "Iter:76\n",
      "(1, 'https://ko.wikipedia.org') 0.0 306.0 165.0\n",
      "(10, 'https://en.wikipedia.org') 0.0 0.0 11.0\n",
      "(9, 'https://www.python.org') 0.0 0.0 4.0\n",
      "(21, 'https://www.wikidata.org') 0.0 0.0 3.0\n",
      "(128, 'https://www.mediawiki.org') 0.0 0.0 2.0\n",
      "\n",
      "Iter:77\n",
      "(1, 'https://ko.wikipedia.org') 0.0 306.0 165.0\n",
      "(10, 'https://en.wikipedia.org') 0.0 0.0 11.0\n",
      "(9, 'https://www.python.org') 0.0 0.0 4.0\n",
      "(21, 'https://www.wikidata.org') 0.0 0.0 3.0\n",
      "(128, 'https://www.mediawiki.org') 0.0 0.0 2.0\n",
      "\n",
      "Iter:78\n",
      "(1, 'https://ko.wikipedia.org') 0.0 306.0 165.0\n",
      "(10, 'https://en.wikipedia.org') 0.0 0.0 11.0\n",
      "(9, 'https://www.python.org') 0.0 0.0 4.0\n",
      "(21, 'https://www.wikidata.org') 0.0 0.0 3.0\n",
      "(128, 'https://www.mediawiki.org') 0.0 0.0 2.0\n",
      "\n",
      "Iter:79\n",
      "(1, 'https://ko.wikipedia.org') 0.0 306.0 165.0\n",
      "(10, 'https://en.wikipedia.org') 0.0 0.0 11.0\n",
      "(9, 'https://www.python.org') 0.0 0.0 4.0\n",
      "(21, 'https://www.wikidata.org') 0.0 0.0 3.0\n",
      "(128, 'https://www.mediawiki.org') 0.0 0.0 2.0\n",
      "\n",
      "Iter:80\n",
      "(1, 'https://ko.wikipedia.org') 0.0 306.0 165.0\n",
      "(10, 'https://en.wikipedia.org') 0.0 0.0 11.0\n",
      "(9, 'https://www.python.org') 0.0 0.0 4.0\n",
      "(21, 'https://www.wikidata.org') 0.0 0.0 3.0\n",
      "(128, 'https://www.mediawiki.org') 0.0 0.0 2.0\n",
      "\n",
      "Iter:81\n",
      "(1, 'https://ko.wikipedia.org') 0.0 306.0 165.0\n",
      "(10, 'https://en.wikipedia.org') 0.0 0.0 11.0\n",
      "(9, 'https://www.python.org') 0.0 0.0 4.0\n",
      "(21, 'https://www.wikidata.org') 0.0 0.0 3.0\n",
      "(128, 'https://www.mediawiki.org') 0.0 0.0 2.0\n",
      "\n",
      "Iter:82\n",
      "(1, 'https://ko.wikipedia.org') 0.0 306.0 165.0\n",
      "(10, 'https://en.wikipedia.org') 0.0 0.0 11.0\n",
      "(9, 'https://www.python.org') 0.0 0.0 4.0\n",
      "(21, 'https://www.wikidata.org') 0.0 0.0 3.0\n",
      "(128, 'https://www.mediawiki.org') 0.0 0.0 2.0\n",
      "\n",
      "Iter:83\n",
      "(1, 'https://ko.wikipedia.org') 0.0 306.0 165.0\n",
      "(10, 'https://en.wikipedia.org') 0.0 0.0 11.0\n",
      "(9, 'https://www.python.org') 0.0 0.0 4.0\n",
      "(21, 'https://www.wikidata.org') 0.0 0.0 3.0\n",
      "(128, 'https://www.mediawiki.org') 0.0 0.0 2.0\n",
      "\n",
      "Iter:84\n",
      "(1, 'https://ko.wikipedia.org') 0.0 306.0 165.0\n",
      "(10, 'https://en.wikipedia.org') 0.0 0.0 11.0\n",
      "(9, 'https://www.python.org') 0.0 0.0 4.0\n",
      "(21, 'https://www.wikidata.org') 0.0 0.0 3.0\n",
      "(128, 'https://www.mediawiki.org') 0.0 0.0 2.0\n",
      "\n",
      "Iter:85\n",
      "(1, 'https://ko.wikipedia.org') 0.0 306.0 165.0\n",
      "(10, 'https://en.wikipedia.org') 0.0 0.0 11.0\n",
      "(9, 'https://www.python.org') 0.0 0.0 4.0\n",
      "(21, 'https://www.wikidata.org') 0.0 0.0 3.0\n",
      "(128, 'https://www.mediawiki.org') 0.0 0.0 2.0\n",
      "\n",
      "Iter:86\n",
      "(1, 'https://ko.wikipedia.org') 0.0 306.0 165.0\n",
      "(10, 'https://en.wikipedia.org') 0.0 0.0 11.0\n",
      "(9, 'https://www.python.org') 0.0 0.0 4.0\n",
      "(21, 'https://www.wikidata.org') 0.0 0.0 3.0\n",
      "(128, 'https://www.mediawiki.org') 0.0 0.0 2.0\n",
      "\n",
      "Iter:87\n",
      "(1, 'https://ko.wikipedia.org') 0.0 306.0 165.0\n",
      "(10, 'https://en.wikipedia.org') 0.0 0.0 11.0\n",
      "(9, 'https://www.python.org') 0.0 0.0 4.0\n",
      "(21, 'https://www.wikidata.org') 0.0 0.0 3.0\n",
      "(128, 'https://www.mediawiki.org') 0.0 0.0 2.0\n",
      "\n",
      "Iter:88\n",
      "(1, 'https://ko.wikipedia.org') 0.0 306.0 165.0\n",
      "(10, 'https://en.wikipedia.org') 0.0 0.0 11.0\n",
      "(9, 'https://www.python.org') 0.0 0.0 4.0\n",
      "(21, 'https://www.wikidata.org') 0.0 0.0 3.0\n",
      "(128, 'https://www.mediawiki.org') 0.0 0.0 2.0\n",
      "\n",
      "Iter:89\n",
      "(1, 'https://ko.wikipedia.org') 0.0 306.0 165.0\n",
      "(10, 'https://en.wikipedia.org') 0.0 0.0 11.0\n",
      "(9, 'https://www.python.org') 0.0 0.0 4.0\n",
      "(21, 'https://www.wikidata.org') 0.0 0.0 3.0\n",
      "(128, 'https://www.mediawiki.org') 0.0 0.0 2.0\n",
      "\n",
      "Iter:90\n",
      "(1, 'https://ko.wikipedia.org') 0.0 306.0 165.0\n",
      "(10, 'https://en.wikipedia.org') 0.0 0.0 11.0\n",
      "(9, 'https://www.python.org') 0.0 0.0 4.0\n",
      "(21, 'https://www.wikidata.org') 0.0 0.0 3.0\n",
      "(128, 'https://www.mediawiki.org') 0.0 0.0 2.0\n",
      "\n",
      "Iter:91\n",
      "(1, 'https://ko.wikipedia.org') 0.0 306.0 165.0\n",
      "(10, 'https://en.wikipedia.org') 0.0 0.0 11.0\n",
      "(9, 'https://www.python.org') 0.0 0.0 4.0\n",
      "(21, 'https://www.wikidata.org') 0.0 0.0 3.0\n",
      "(128, 'https://www.mediawiki.org') 0.0 0.0 2.0\n",
      "\n",
      "Iter:92\n",
      "(1, 'https://ko.wikipedia.org') 0.0 306.0 165.0\n",
      "(10, 'https://en.wikipedia.org') 0.0 0.0 11.0\n",
      "(9, 'https://www.python.org') 0.0 0.0 4.0\n",
      "(21, 'https://www.wikidata.org') 0.0 0.0 3.0\n",
      "(128, 'https://www.mediawiki.org') 0.0 0.0 2.0\n",
      "\n",
      "Iter:93\n",
      "(1, 'https://ko.wikipedia.org') 0.0 306.0 165.0\n",
      "(10, 'https://en.wikipedia.org') 0.0 0.0 11.0\n",
      "(9, 'https://www.python.org') 0.0 0.0 4.0\n",
      "(21, 'https://www.wikidata.org') 0.0 0.0 3.0\n",
      "(128, 'https://www.mediawiki.org') 0.0 0.0 2.0\n",
      "\n",
      "Iter:94\n",
      "(1, 'https://ko.wikipedia.org') 0.0 306.0 165.0\n",
      "(10, 'https://en.wikipedia.org') 0.0 0.0 11.0\n",
      "(9, 'https://www.python.org') 0.0 0.0 4.0\n",
      "(21, 'https://www.wikidata.org') 0.0 0.0 3.0\n",
      "(128, 'https://www.mediawiki.org') 0.0 0.0 2.0\n",
      "\n",
      "Iter:95\n",
      "(1, 'https://ko.wikipedia.org') 0.0 306.0 165.0\n",
      "(10, 'https://en.wikipedia.org') 0.0 0.0 11.0\n"
     ]
    },
    {
     "name": "stdout",
     "output_type": "stream",
     "text": [
      "(9, 'https://www.python.org') 0.0 0.0 4.0\n",
      "(21, 'https://www.wikidata.org') 0.0 0.0 3.0\n",
      "(128, 'https://www.mediawiki.org') 0.0 0.0 2.0\n",
      "\n",
      "Iter:96\n",
      "(1, 'https://ko.wikipedia.org') 0.0 306.0 165.0\n",
      "(10, 'https://en.wikipedia.org') 0.0 0.0 11.0\n",
      "(9, 'https://www.python.org') 0.0 0.0 4.0\n",
      "(21, 'https://www.wikidata.org') 0.0 0.0 3.0\n",
      "(128, 'https://www.mediawiki.org') 0.0 0.0 2.0\n",
      "\n",
      "Iter:97\n",
      "(1, 'https://ko.wikipedia.org') 0.0 306.0 165.0\n",
      "(10, 'https://en.wikipedia.org') 0.0 0.0 11.0\n",
      "(9, 'https://www.python.org') 0.0 0.0 4.0\n",
      "(21, 'https://www.wikidata.org') 0.0 0.0 3.0\n",
      "(128, 'https://www.mediawiki.org') 0.0 0.0 2.0\n",
      "\n",
      "Iter:98\n",
      "(1, 'https://ko.wikipedia.org') 0.0 306.0 165.0\n",
      "(10, 'https://en.wikipedia.org') 0.0 0.0 11.0\n",
      "(9, 'https://www.python.org') 0.0 0.0 4.0\n",
      "(21, 'https://www.wikidata.org') 0.0 0.0 3.0\n",
      "(128, 'https://www.mediawiki.org') 0.0 0.0 2.0\n",
      "\n",
      "Iter:99\n",
      "(1, 'https://ko.wikipedia.org') 0.0 306.0 165.0\n",
      "(10, 'https://en.wikipedia.org') 0.0 0.0 11.0\n",
      "(9, 'https://www.python.org') 0.0 0.0 4.0\n",
      "(21, 'https://www.wikidata.org') 0.0 0.0 3.0\n",
      "(128, 'https://www.mediawiki.org') 0.0 0.0 2.0\n",
      "\n",
      "Iter:100\n",
      "(1, 'https://ko.wikipedia.org') 0.0 306.0 165.0\n",
      "(10, 'https://en.wikipedia.org') 0.0 0.0 11.0\n",
      "(9, 'https://www.python.org') 0.0 0.0 4.0\n",
      "(21, 'https://www.wikidata.org') 0.0 0.0 3.0\n",
      "(128, 'https://www.mediawiki.org') 0.0 0.0 2.0\n",
      "\n"
     ]
    }
   ],
   "source": [
    "for _ in range(100):\n",
    "    v = AA.dot(v)\n",
    "    print('Iter:{}'.format(_+1))\n",
    "    for _ in v.argsort()[::-1][:5]:\n",
    "        cur.execute('SELECT * FROM host WHERE pk=?', [str(_),])\n",
    "        print(cur.fetchone(), np.round(v[_], 10),\n",
    "              A[:,_].sum(), A[_].sum())\n",
    "    print()"
   ]
  },
  {
   "cell_type": "code",
   "execution_count": 63,
   "metadata": {},
   "outputs": [
    {
     "name": "stderr",
     "output_type": "stream",
     "text": [
      "C:\\Users\\Shin\\Anaconda3\\lib\\site-packages\\ipykernel_launcher.py:1: RuntimeWarning: invalid value encountered in true_divide\n",
      "  \"\"\"Entry point for launching an IPython kernel.\n",
      "C:\\Users\\Shin\\Anaconda3\\lib\\site-packages\\ipykernel_launcher.py:3: RuntimeWarning: divide by zero encountered in true_divide\n",
      "  This is separate from the ipykernel package so we can avoid doing imports until\n"
     ]
    },
    {
     "data": {
      "text/plain": [
       "(array([nan]), array([0.]), array([inf]))"
      ]
     },
     "execution_count": 63,
     "metadata": {},
     "output_type": "execute_result"
    }
   ],
   "source": [
    "np.array([0])/np.array([0]), \\\n",
    "np.array([0])/np.array([1]), \\\n",
    "np.array([1])/np.array([0])"
   ]
  },
  {
   "cell_type": "code",
   "execution_count": 64,
   "metadata": {},
   "outputs": [
    {
     "data": {
      "text/plain": [
       "1"
      ]
     },
     "execution_count": 64,
     "metadata": {},
     "output_type": "execute_result"
    }
   ],
   "source": [
    "v.argmax()"
   ]
  },
  {
   "cell_type": "code",
   "execution_count": 65,
   "metadata": {
    "scrolled": true
   },
   "outputs": [
    {
     "data": {
      "text/plain": [
       "array([0.00000000e+00, 1.14546145e-29, 6.94219060e-32, 0.00000000e+00,\n",
       "       0.00000000e+00, 0.00000000e+00, 0.00000000e+00, 0.00000000e+00,\n",
       "       0.00000000e+00, 2.77687624e-31, 7.63640966e-31, 1.38843812e-31,\n",
       "       6.94219060e-32, 6.94219060e-32, 6.94219060e-32, 6.94219060e-32,\n",
       "       6.94219060e-32, 6.94219060e-32, 6.94219060e-32, 6.94219060e-32,\n",
       "       6.94219060e-32, 2.08265718e-31, 6.94219060e-32, 6.94219060e-32,\n",
       "       6.94219060e-32, 6.94219060e-32, 6.94219060e-32, 6.94219060e-32,\n",
       "       6.94219060e-32, 6.94219060e-32, 6.94219060e-32, 6.94219060e-32,\n",
       "       6.94219060e-32, 6.94219060e-32, 6.94219060e-32, 6.94219060e-32,\n",
       "       6.94219060e-32, 6.94219060e-32, 6.94219060e-32, 6.94219060e-32,\n",
       "       6.94219060e-32, 6.94219060e-32, 6.94219060e-32, 6.94219060e-32,\n",
       "       6.94219060e-32, 6.94219060e-32, 6.94219060e-32, 6.94219060e-32,\n",
       "       6.94219060e-32, 6.94219060e-32, 6.94219060e-32, 6.94219060e-32,\n",
       "       6.94219060e-32, 6.94219060e-32, 6.94219060e-32, 6.94219060e-32,\n",
       "       6.94219060e-32, 6.94219060e-32, 6.94219060e-32, 6.94219060e-32,\n",
       "       6.94219060e-32, 6.94219060e-32, 6.94219060e-32, 6.94219060e-32,\n",
       "       6.94219060e-32, 6.94219060e-32, 6.94219060e-32, 6.94219060e-32,\n",
       "       6.94219060e-32, 6.94219060e-32, 6.94219060e-32, 6.94219060e-32,\n",
       "       6.94219060e-32, 6.94219060e-32, 6.94219060e-32, 6.94219060e-32,\n",
       "       6.94219060e-32, 6.94219060e-32, 6.94219060e-32, 6.94219060e-32,\n",
       "       6.94219060e-32, 6.94219060e-32, 6.94219060e-32, 6.94219060e-32,\n",
       "       6.94219060e-32, 6.94219060e-32, 6.94219060e-32, 6.94219060e-32,\n",
       "       6.94219060e-32, 6.94219060e-32, 6.94219060e-32, 6.94219060e-32,\n",
       "       6.94219060e-32, 6.94219060e-32, 6.94219060e-32, 6.94219060e-32,\n",
       "       6.94219060e-32, 6.94219060e-32, 6.94219060e-32, 6.94219060e-32,\n",
       "       6.94219060e-32, 6.94219060e-32, 6.94219060e-32, 6.94219060e-32,\n",
       "       6.94219060e-32, 6.94219060e-32, 6.94219060e-32, 6.94219060e-32,\n",
       "       6.94219060e-32, 6.94219060e-32, 6.94219060e-32, 6.94219060e-32,\n",
       "       6.94219060e-32, 6.94219060e-32, 6.94219060e-32, 6.94219060e-32,\n",
       "       6.94219060e-32, 6.94219060e-32, 6.94219060e-32, 6.94219060e-32,\n",
       "       6.94219060e-32, 6.94219060e-32, 6.94219060e-32, 6.94219060e-32,\n",
       "       6.94219060e-32, 6.94219060e-32, 6.94219060e-32, 1.38843812e-31,\n",
       "       1.38843812e-31, 6.94219060e-32, 6.94219060e-32, 0.00000000e+00])"
      ]
     },
     "execution_count": 65,
     "metadata": {},
     "output_type": "execute_result"
    }
   ],
   "source": [
    "v"
   ]
  },
  {
   "cell_type": "code",
   "execution_count": null,
   "metadata": {},
   "outputs": [],
   "source": []
  }
 ],
 "metadata": {
  "kernelspec": {
   "display_name": "Python 3",
   "language": "python",
   "name": "python3"
  },
  "language_info": {
   "codemirror_mode": {
    "name": "ipython",
    "version": 3
   },
   "file_extension": ".py",
   "mimetype": "text/x-python",
   "name": "python",
   "nbconvert_exporter": "python",
   "pygments_lexer": "ipython3",
   "version": "3.7.6"
  }
 },
 "nbformat": 4,
 "nbformat_minor": 4
}
