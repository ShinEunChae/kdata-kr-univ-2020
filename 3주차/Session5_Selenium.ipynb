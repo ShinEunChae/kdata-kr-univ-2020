{
 "cells": [
  {
   "cell_type": "markdown",
   "metadata": {},
   "source": [
    "# Selenium"
   ]
  },
  {
   "cell_type": "code",
   "execution_count": 1,
   "metadata": {},
   "outputs": [
    {
     "name": "stdout",
     "output_type": "stream",
     "text": [
      "Requirement already satisfied: selenium in c:\\users\\shin\\anaconda3\\lib\\site-packages (3.141.0)\n",
      "Requirement already satisfied: urllib3 in c:\\users\\shin\\anaconda3\\lib\\site-packages (from selenium) (1.25.8)\n"
     ]
    }
   ],
   "source": [
    "!pip install selenium"
   ]
  },
  {
   "cell_type": "code",
   "execution_count": 2,
   "metadata": {
    "scrolled": true
   },
   "outputs": [],
   "source": [
    "from selenium import webdriver"
   ]
  },
  {
   "cell_type": "code",
   "execution_count": 3,
   "metadata": {
    "scrolled": true
   },
   "outputs": [],
   "source": [
    "driver = webdriver.Chrome()"
   ]
  },
  {
   "cell_type": "code",
   "execution_count": 4,
   "metadata": {},
   "outputs": [],
   "source": [
    "driver.get('https://mail.naver.com')"
   ]
  },
  {
   "cell_type": "code",
   "execution_count": 14,
   "metadata": {},
   "outputs": [],
   "source": [
    "cookiedict = {\n",
    "    'nid_buk':'KMXHGBYGDYAF6',\n",
    "    'NMUSER':'uXKlKqEwaqbsFoEZFxbrWBkq1BJ9pxulaxKsKxElFoEmKoU9KAn9KxUmaqgsaqRJaqtdKqtXKonDKqgs6xRaaZnladUstoRVadUsadUsaqROW9e7EoRpadUsawlGW430DVd974lR74lC+4kZ74FTWLm/axgmaXF0Mre5pzJZDL9GW430DVd974lR74lC+4kZ74FTWLm/axgmam==',\n",
    "    'NID_JKL':'iUTWthP62bYc2t2XiNIntp5SKnvF+4Lm/kNCruGOBQE=',\n",
    "    'NRTK':'ag#20s_gr#1_ma#-2_si#0_en#0_sp#0',\n",
    "    'nid_enctp':'1',\n",
    "    'NID_SES':'AAABiSlgcF8lVO6eayRiB9j7udsof3w3i+GdcItZe++B0Ftcgea6liooNM2q1+nxh0pFISk+U+i4z1SRKMELi0gjxbPEU0qpJESMPSxFKb8P6Imez1+Cu49KQuAcTuBRLw4uWfgBaDfjlzHkj9gw8oEmCwbu8sJ/hsJxJU84tYSA9zoe7Ls8wq4R/rce1xGElwzMoA/1iaA7ycIHh3vB7miu1UgMQhXHMWtkf7DHV14/HG34fkimQ5+OLC5NNRK+b1+159yCr7V558GSe/k3x0yS16B4fVDn6AgYwyu78IhXkT0wi/WEYO15GMWprhU+wMZoUEVKGx60F3aYnvcEmIyPEQXq1wIkbhr3Rw9ovFtKBgN8QckVayzW3Te985afy+jZFBxWvWJVFF/XlO2IsKGQ0WZ54Y5ei+VHNqaAiX+iH1x3gsWzCk3j6wpZz70Pej1P0QTBqxvMna32L6uLn4t77Q0jVHfHqLeiGRzeg/gR6kcyBZO8w1TcTZwVfbpZwjXXq+pDBAXr8yS6/xRwBtMNPcY=',\n",
    "    'NID_AUT':'yLXG/W0IzNErz17nRAD1IJJHdhRCJWx2wwQuqrLubRzEb/DgG4TIRN6AcS1VX9vl',\n",
    "    'nid_slevel':'-1',\n",
    "    'nid_inf':'-1479979514',\n",
    "    'NNB':'SIW6YKISUILV6'\n",
    "}"
   ]
  },
  {
   "cell_type": "code",
   "execution_count": 15,
   "metadata": {},
   "outputs": [],
   "source": [
    "for k, v in cookiedict.items():\n",
    "    driver.add_cookie({'name':k, 'value':v, 'domain':'.naver.com'})"
   ]
  },
  {
   "cell_type": "code",
   "execution_count": 16,
   "metadata": {},
   "outputs": [],
   "source": [
    "menu = driver.find_elements_by_css_selector('div.list_menu')[-1]"
   ]
  },
  {
   "cell_type": "code",
   "execution_count": 17,
   "metadata": {},
   "outputs": [],
   "source": [
    "menu.find_element_by_css_selector('a[href]').click()"
   ]
  },
  {
   "cell_type": "code",
   "execution_count": 18,
   "metadata": {},
   "outputs": [
    {
     "name": "stdout",
     "output_type": "stream",
     "text": [
      "Inflearn\n",
      "스팸자동이동\n",
      "💌[주간 인프런 #8] 게임의 심장, 게임엔진 - 언리얼 VS 유니티\n",
      "코멘토\n",
      "시스템차단\n",
      "Re: 빅데이터 직무 캠프를 수강하며 인턴때도 해보지 못한 \"진짜 실무\"를 경험했어요\n",
      "윤서원 from 코멘토\n",
      "스팸자동이동\n",
      "😍 1993 멘티님의 도움이 필요합니다! \n"
     ]
    }
   ],
   "source": [
    "for _ in driver.find_elements_by_xpath('//ol//li//div[@class=\"mTitle\"]'):\n",
    "    print(_.text)"
   ]
  },
  {
   "cell_type": "code",
   "execution_count": 19,
   "metadata": {},
   "outputs": [],
   "source": [
    "#driver.delete_all_cookies()\n",
    "#driver.get_cookies()"
   ]
  },
  {
   "cell_type": "code",
   "execution_count": 20,
   "metadata": {},
   "outputs": [],
   "source": [
    "#driver.add_cookie()"
   ]
  },
  {
   "cell_type": "code",
   "execution_count": 21,
   "metadata": {},
   "outputs": [],
   "source": [
    "driver.get('http://example.webscraping.com/places/default/search')"
   ]
  },
  {
   "cell_type": "code",
   "execution_count": 22,
   "metadata": {},
   "outputs": [],
   "source": [
    "driver.find_element_by_xpath('//input[@id=\"search_term\"]').clear()\n",
    "driver.find_element_by_xpath('//input[@id=\"search_term\"]').send_keys('korea')\n",
    "driver.find_element_by_xpath('//input[@id=\"search\"]').click()"
   ]
  },
  {
   "cell_type": "code",
   "execution_count": 23,
   "metadata": {
    "scrolled": true
   },
   "outputs": [
    {
     "data": {
      "text/plain": [
       "'North Korea\\nSouth Korea'"
      ]
     },
     "execution_count": 23,
     "metadata": {},
     "output_type": "execute_result"
    }
   ],
   "source": [
    "driver.find_element_by_xpath('//div[@id=\"results\"]').text"
   ]
  },
  {
   "cell_type": "code",
   "execution_count": 24,
   "metadata": {},
   "outputs": [
    {
     "name": "stdout",
     "output_type": "stream",
     "text": [
      "http://example.webscraping.com/places/default/view/North-Korea-165\n",
      "http://example.webscraping.com/places/static/images/flags/kp.png\n",
      "North Korea\n",
      "\n",
      "http://example.webscraping.com/places/default/view/South-Korea-211\n",
      "http://example.webscraping.com/places/static/images/flags/kr.png\n",
      "South Korea\n",
      "\n"
     ]
    }
   ],
   "source": [
    "for _ in driver.find_elements_by_xpath('//div[@id=\"results\"]//td/div'):\n",
    "    print(_.find_element_by_css_selector('a').get_attribute('href'))\n",
    "    print(_.find_element_by_css_selector('img').get_attribute('src'))\n",
    "    print(_.find_element_by_css_selector('a').text.strip())\n",
    "    print()"
   ]
  },
  {
   "cell_type": "code",
   "execution_count": 25,
   "metadata": {},
   "outputs": [],
   "source": [
    "driver.get('https://pubmed.ncbi.nlm.nih.gov/')"
   ]
  },
  {
   "cell_type": "code",
   "execution_count": 26,
   "metadata": {},
   "outputs": [],
   "source": [
    "driver.find_element_by_id('id_term').clear()\n",
    "driver.find_element_by_id('id_term').send_keys('COVID-19')\n",
    "driver.find_element_by_class_name('search-btn').click()"
   ]
  },
  {
   "cell_type": "code",
   "execution_count": 27,
   "metadata": {},
   "outputs": [],
   "source": [
    "driver.find_element_by_css_selector('.results-amount + button').click()"
   ]
  },
  {
   "cell_type": "code",
   "execution_count": 28,
   "metadata": {},
   "outputs": [
    {
     "name": "stdout",
     "output_type": "stream",
     "text": [
      "[Strategies for vaccine development of COVID-19].\n",
      "The neuroinvasive potential of SARS-CoV2 may play a role in the respiratory failure of COVID-19 patients.\n",
      "COVID-19 (Novel Coronavirus 2019) - recent trends.\n",
      "Outcomes in Patients with COVID-19 Infection Taking ACEI/ARB.\n",
      "What dentists need to know about COVID-19.\n",
      "Current Status of Epidemiology, Diagnosis, Therapeutics, and Vaccines for Novel Coronavirus Disease 2019 (COVID-19).\n",
      "Unique epidemiological and clinical features of the emerging 2019 novel coronavirus pneumonia (COVID-19) implicate special control measures.\n",
      "Characteristics of COVID-19 infection in Beijing.\n",
      "Perspectives on monoclonal antibody therapy as potential therapeutic intervention for Coronavirus disease-19 (COVID-19).\n",
      "COVID-19: a review.\n",
      "Coronavirus disease 2019 (COVID-19): current status and future perspectives.\n",
      "[Analysis of the pregnancy outcomes in pregnant women with COVID-19 in Hubei Province].\n",
      "Nervous system involvement after infection with COVID-19 and other coronaviruses.\n",
      "COVID-19: The outbreak caused by a new coronavirus.\n",
      "COVID-19: Learning from Lessons To Guide Treatment and Prevention Interventions.\n",
      "Review of the Clinical Characteristics of Coronavirus Disease 2019 (COVID-19).\n",
      "COVID-19 and Cancer: a Comprehensive Review.\n",
      "Pulmonary Pathology of Early-Phase 2019 Novel Coronavirus (COVID-19) Pneumonia in Two Patients With Lung Cancer.\n",
      "The reproductive number of COVID-19 is higher compared to SARS coronavirus.\n",
      "Updated diagnosis, treatment and prevention of COVID-19 in children: experts' consensus statement (condensed version of the second edition).\n"
     ]
    }
   ],
   "source": [
    "for _ in driver.find_elements_by_css_selector('a.docsum-title'):\n",
    "    print(_.text)"
   ]
  },
  {
   "cell_type": "code",
   "execution_count": 29,
   "metadata": {},
   "outputs": [],
   "source": [
    "driver.get('https://mail.naver.com')"
   ]
  },
  {
   "cell_type": "code",
   "execution_count": 31,
   "metadata": {},
   "outputs": [
    {
     "data": {
      "text/plain": [
       "(True, True)"
      ]
     },
     "execution_count": 31,
     "metadata": {},
     "output_type": "execute_result"
    }
   ],
   "source": [
    "btn = driver.find_element_by_id('gnb_logout_button')\n",
    "btn.is_displayed(), btn.is_enabled()"
   ]
  },
  {
   "cell_type": "code",
   "execution_count": 32,
   "metadata": {},
   "outputs": [
    {
     "data": {
      "text/plain": [
       "(False, True)"
      ]
     },
     "execution_count": 32,
     "metadata": {},
     "output_type": "execute_result"
    }
   ],
   "source": [
    "btn = driver.find_element_by_id('gnb_logout_button')\n",
    "btn.is_displayed(), btn.is_enabled()"
   ]
  },
  {
   "cell_type": "code",
   "execution_count": 33,
   "metadata": {},
   "outputs": [],
   "source": [
    "# 로그아웃 버튼이 보이고 안 보이고에 따라 값이 달라짐을 확인할 수 있다"
   ]
  },
  {
   "cell_type": "code",
   "execution_count": 34,
   "metadata": {},
   "outputs": [],
   "source": [
    "from selenium.common.exceptions import ElementNotVisibleException, ElementNotInteractableException"
   ]
  },
  {
   "cell_type": "code",
   "execution_count": 35,
   "metadata": {},
   "outputs": [],
   "source": [
    "from selenium.webdriver.support.ui import WebDriverWait"
   ]
  },
  {
   "cell_type": "code",
   "execution_count": 36,
   "metadata": {},
   "outputs": [],
   "source": [
    "wait = WebDriverWait(driver, 5, 0.5, ElementNotVisibleException)"
   ]
  },
  {
   "cell_type": "code",
   "execution_count": 38,
   "metadata": {},
   "outputs": [],
   "source": [
    "from time import sleep"
   ]
  },
  {
   "cell_type": "code",
   "execution_count": 39,
   "metadata": {},
   "outputs": [
    {
     "name": "stdout",
     "output_type": "stream",
     "text": [
      "False True\n"
     ]
    }
   ],
   "source": [
    "try:\n",
    "    sleep(5)\n",
    "    print(btn.is_displayed(), btn.is_enabled())\n",
    "except (ElementNotVisibleException, ElementNotInteractableException) as e:\n",
    "    print(e)"
   ]
  },
  {
   "cell_type": "code",
   "execution_count": 41,
   "metadata": {},
   "outputs": [],
   "source": [
    "# from selenium.common.exceptions import TimeoutException"
   ]
  },
  {
   "cell_type": "code",
   "execution_count": 43,
   "metadata": {},
   "outputs": [
    {
     "name": "stdout",
     "output_type": "stream",
     "text": [
      "True True\n"
     ]
    }
   ],
   "source": [
    "try:\n",
    "    wait.until(lambda d:d.find_element_by_id('gnb_logout_button').is_displayed())\n",
    "    print(btn.is_displayed(), btn.is_enabled())\n",
    "except (ElementNotVisibleException,\n",
    "        ElementNotInteractableException,\n",
    "       TimeoutException) as e:\n",
    "    print(e)"
   ]
  },
  {
   "cell_type": "code",
   "execution_count": 44,
   "metadata": {},
   "outputs": [],
   "source": [
    "# 5초 동안 아무 일도 없으면 -> TimeoutException"
   ]
  },
  {
   "cell_type": "code",
   "execution_count": 45,
   "metadata": {},
   "outputs": [],
   "source": [
    "driver.execute_script('console.log(\"hi\")')\n",
    "# 자바스크립트를 쓸 수 있게 # 개발자 도구의 console창을 가보면 hi가 써져있음"
   ]
  },
  {
   "cell_type": "code",
   "execution_count": 46,
   "metadata": {},
   "outputs": [],
   "source": [
    "driver.get('https://www.youtube.com/')"
   ]
  },
  {
   "cell_type": "code",
   "execution_count": 47,
   "metadata": {},
   "outputs": [],
   "source": [
    "# ElementNotVisibleException -> 있긴 있으나 눈에 안 보일 때(창이 작거나 가려진 경우)\n",
    "# ElementNotInteractableException -> 코드에는 있으나 화면에 없을 때"
   ]
  },
  {
   "cell_type": "code",
   "execution_count": 48,
   "metadata": {},
   "outputs": [
    {
     "data": {
      "text/plain": [
       "False"
      ]
     },
     "execution_count": 48,
     "metadata": {},
     "output_type": "execute_result"
    }
   ],
   "source": [
    "driver.find_element_by_css_selector('#search').is_displayed()"
   ]
  },
  {
   "cell_type": "code",
   "execution_count": 49,
   "metadata": {},
   "outputs": [
    {
     "data": {
      "text/plain": [
       "True"
      ]
     },
     "execution_count": 49,
     "metadata": {},
     "output_type": "execute_result"
    }
   ],
   "source": [
    "driver.find_element_by_css_selector('#search').is_enabled()"
   ]
  },
  {
   "cell_type": "code",
   "execution_count": 67,
   "metadata": {
    "collapsed": true
   },
   "outputs": [
    {
     "ename": "InvalidElementStateException",
     "evalue": "Message: invalid element state\n  (Session info: chrome=84.0.4147.105)\n",
     "output_type": "error",
     "traceback": [
      "\u001b[1;31m---------------------------------------------------------------------------\u001b[0m",
      "\u001b[1;31mInvalidElementStateException\u001b[0m              Traceback (most recent call last)",
      "\u001b[1;32m<ipython-input-67-719e98f0a6b9>\u001b[0m in \u001b[0;36m<module>\u001b[1;34m\u001b[0m\n\u001b[1;32m----> 1\u001b[1;33m \u001b[0mdriver\u001b[0m\u001b[1;33m.\u001b[0m\u001b[0mfind_element_by_css_selector\u001b[0m\u001b[1;33m(\u001b[0m\u001b[1;34m'#search'\u001b[0m\u001b[1;33m)\u001b[0m\u001b[1;33m.\u001b[0m\u001b[0mclear\u001b[0m\u001b[1;33m(\u001b[0m\u001b[1;33m)\u001b[0m\u001b[1;33m\u001b[0m\u001b[1;33m\u001b[0m\u001b[0m\n\u001b[0m\u001b[0;32m      2\u001b[0m \u001b[0mdriver\u001b[0m\u001b[1;33m.\u001b[0m\u001b[0mfind_element_by_css_selector\u001b[0m\u001b[1;33m(\u001b[0m\u001b[1;34m'#search'\u001b[0m\u001b[1;33m)\u001b[0m\u001b[1;33m.\u001b[0m\u001b[0msend_keys\u001b[0m\u001b[1;33m(\u001b[0m\u001b[1;34m'인디'\u001b[0m\u001b[1;33m)\u001b[0m\u001b[1;33m\u001b[0m\u001b[1;33m\u001b[0m\u001b[0m\n\u001b[0;32m      3\u001b[0m \u001b[0mdriver\u001b[0m\u001b[1;33m.\u001b[0m\u001b[0mfind_element_by_css_selector\u001b[0m\u001b[1;33m(\u001b[0m\u001b[1;34m'#search-icon-legacy'\u001b[0m\u001b[1;33m)\u001b[0m\u001b[1;33m.\u001b[0m\u001b[0mclick\u001b[0m\u001b[1;33m(\u001b[0m\u001b[1;33m)\u001b[0m\u001b[1;33m\u001b[0m\u001b[1;33m\u001b[0m\u001b[0m\n",
      "\u001b[1;32m~\\Anaconda3\\lib\\site-packages\\selenium\\webdriver\\remote\\webelement.py\u001b[0m in \u001b[0;36mclear\u001b[1;34m(self)\u001b[0m\n\u001b[0;32m     93\u001b[0m     \u001b[1;32mdef\u001b[0m \u001b[0mclear\u001b[0m\u001b[1;33m(\u001b[0m\u001b[0mself\u001b[0m\u001b[1;33m)\u001b[0m\u001b[1;33m:\u001b[0m\u001b[1;33m\u001b[0m\u001b[1;33m\u001b[0m\u001b[0m\n\u001b[0;32m     94\u001b[0m         \u001b[1;34m\"\"\"Clears the text if it's a text entry element.\"\"\"\u001b[0m\u001b[1;33m\u001b[0m\u001b[1;33m\u001b[0m\u001b[0m\n\u001b[1;32m---> 95\u001b[1;33m         \u001b[0mself\u001b[0m\u001b[1;33m.\u001b[0m\u001b[0m_execute\u001b[0m\u001b[1;33m(\u001b[0m\u001b[0mCommand\u001b[0m\u001b[1;33m.\u001b[0m\u001b[0mCLEAR_ELEMENT\u001b[0m\u001b[1;33m)\u001b[0m\u001b[1;33m\u001b[0m\u001b[1;33m\u001b[0m\u001b[0m\n\u001b[0m\u001b[0;32m     96\u001b[0m \u001b[1;33m\u001b[0m\u001b[0m\n\u001b[0;32m     97\u001b[0m     \u001b[1;32mdef\u001b[0m \u001b[0mget_property\u001b[0m\u001b[1;33m(\u001b[0m\u001b[0mself\u001b[0m\u001b[1;33m,\u001b[0m \u001b[0mname\u001b[0m\u001b[1;33m)\u001b[0m\u001b[1;33m:\u001b[0m\u001b[1;33m\u001b[0m\u001b[1;33m\u001b[0m\u001b[0m\n",
      "\u001b[1;32m~\\Anaconda3\\lib\\site-packages\\selenium\\webdriver\\remote\\webelement.py\u001b[0m in \u001b[0;36m_execute\u001b[1;34m(self, command, params)\u001b[0m\n\u001b[0;32m    631\u001b[0m             \u001b[0mparams\u001b[0m \u001b[1;33m=\u001b[0m \u001b[1;33m{\u001b[0m\u001b[1;33m}\u001b[0m\u001b[1;33m\u001b[0m\u001b[1;33m\u001b[0m\u001b[0m\n\u001b[0;32m    632\u001b[0m         \u001b[0mparams\u001b[0m\u001b[1;33m[\u001b[0m\u001b[1;34m'id'\u001b[0m\u001b[1;33m]\u001b[0m \u001b[1;33m=\u001b[0m \u001b[0mself\u001b[0m\u001b[1;33m.\u001b[0m\u001b[0m_id\u001b[0m\u001b[1;33m\u001b[0m\u001b[1;33m\u001b[0m\u001b[0m\n\u001b[1;32m--> 633\u001b[1;33m         \u001b[1;32mreturn\u001b[0m \u001b[0mself\u001b[0m\u001b[1;33m.\u001b[0m\u001b[0m_parent\u001b[0m\u001b[1;33m.\u001b[0m\u001b[0mexecute\u001b[0m\u001b[1;33m(\u001b[0m\u001b[0mcommand\u001b[0m\u001b[1;33m,\u001b[0m \u001b[0mparams\u001b[0m\u001b[1;33m)\u001b[0m\u001b[1;33m\u001b[0m\u001b[1;33m\u001b[0m\u001b[0m\n\u001b[0m\u001b[0;32m    634\u001b[0m \u001b[1;33m\u001b[0m\u001b[0m\n\u001b[0;32m    635\u001b[0m     \u001b[1;32mdef\u001b[0m \u001b[0mfind_element\u001b[0m\u001b[1;33m(\u001b[0m\u001b[0mself\u001b[0m\u001b[1;33m,\u001b[0m \u001b[0mby\u001b[0m\u001b[1;33m=\u001b[0m\u001b[0mBy\u001b[0m\u001b[1;33m.\u001b[0m\u001b[0mID\u001b[0m\u001b[1;33m,\u001b[0m \u001b[0mvalue\u001b[0m\u001b[1;33m=\u001b[0m\u001b[1;32mNone\u001b[0m\u001b[1;33m)\u001b[0m\u001b[1;33m:\u001b[0m\u001b[1;33m\u001b[0m\u001b[1;33m\u001b[0m\u001b[0m\n",
      "\u001b[1;32m~\\Anaconda3\\lib\\site-packages\\selenium\\webdriver\\remote\\webdriver.py\u001b[0m in \u001b[0;36mexecute\u001b[1;34m(self, driver_command, params)\u001b[0m\n\u001b[0;32m    319\u001b[0m         \u001b[0mresponse\u001b[0m \u001b[1;33m=\u001b[0m \u001b[0mself\u001b[0m\u001b[1;33m.\u001b[0m\u001b[0mcommand_executor\u001b[0m\u001b[1;33m.\u001b[0m\u001b[0mexecute\u001b[0m\u001b[1;33m(\u001b[0m\u001b[0mdriver_command\u001b[0m\u001b[1;33m,\u001b[0m \u001b[0mparams\u001b[0m\u001b[1;33m)\u001b[0m\u001b[1;33m\u001b[0m\u001b[1;33m\u001b[0m\u001b[0m\n\u001b[0;32m    320\u001b[0m         \u001b[1;32mif\u001b[0m \u001b[0mresponse\u001b[0m\u001b[1;33m:\u001b[0m\u001b[1;33m\u001b[0m\u001b[1;33m\u001b[0m\u001b[0m\n\u001b[1;32m--> 321\u001b[1;33m             \u001b[0mself\u001b[0m\u001b[1;33m.\u001b[0m\u001b[0merror_handler\u001b[0m\u001b[1;33m.\u001b[0m\u001b[0mcheck_response\u001b[0m\u001b[1;33m(\u001b[0m\u001b[0mresponse\u001b[0m\u001b[1;33m)\u001b[0m\u001b[1;33m\u001b[0m\u001b[1;33m\u001b[0m\u001b[0m\n\u001b[0m\u001b[0;32m    322\u001b[0m             response['value'] = self._unwrap_value(\n\u001b[0;32m    323\u001b[0m                 response.get('value', None))\n",
      "\u001b[1;32m~\\Anaconda3\\lib\\site-packages\\selenium\\webdriver\\remote\\errorhandler.py\u001b[0m in \u001b[0;36mcheck_response\u001b[1;34m(self, response)\u001b[0m\n\u001b[0;32m    240\u001b[0m                 \u001b[0malert_text\u001b[0m \u001b[1;33m=\u001b[0m \u001b[0mvalue\u001b[0m\u001b[1;33m[\u001b[0m\u001b[1;34m'alert'\u001b[0m\u001b[1;33m]\u001b[0m\u001b[1;33m.\u001b[0m\u001b[0mget\u001b[0m\u001b[1;33m(\u001b[0m\u001b[1;34m'text'\u001b[0m\u001b[1;33m)\u001b[0m\u001b[1;33m\u001b[0m\u001b[1;33m\u001b[0m\u001b[0m\n\u001b[0;32m    241\u001b[0m             \u001b[1;32mraise\u001b[0m \u001b[0mexception_class\u001b[0m\u001b[1;33m(\u001b[0m\u001b[0mmessage\u001b[0m\u001b[1;33m,\u001b[0m \u001b[0mscreen\u001b[0m\u001b[1;33m,\u001b[0m \u001b[0mstacktrace\u001b[0m\u001b[1;33m,\u001b[0m \u001b[0malert_text\u001b[0m\u001b[1;33m)\u001b[0m\u001b[1;33m\u001b[0m\u001b[1;33m\u001b[0m\u001b[0m\n\u001b[1;32m--> 242\u001b[1;33m         \u001b[1;32mraise\u001b[0m \u001b[0mexception_class\u001b[0m\u001b[1;33m(\u001b[0m\u001b[0mmessage\u001b[0m\u001b[1;33m,\u001b[0m \u001b[0mscreen\u001b[0m\u001b[1;33m,\u001b[0m \u001b[0mstacktrace\u001b[0m\u001b[1;33m)\u001b[0m\u001b[1;33m\u001b[0m\u001b[1;33m\u001b[0m\u001b[0m\n\u001b[0m\u001b[0;32m    243\u001b[0m \u001b[1;33m\u001b[0m\u001b[0m\n\u001b[0;32m    244\u001b[0m     \u001b[1;32mdef\u001b[0m \u001b[0m_value_or_default\u001b[0m\u001b[1;33m(\u001b[0m\u001b[0mself\u001b[0m\u001b[1;33m,\u001b[0m \u001b[0mobj\u001b[0m\u001b[1;33m,\u001b[0m \u001b[0mkey\u001b[0m\u001b[1;33m,\u001b[0m \u001b[0mdefault\u001b[0m\u001b[1;33m)\u001b[0m\u001b[1;33m:\u001b[0m\u001b[1;33m\u001b[0m\u001b[1;33m\u001b[0m\u001b[0m\n",
      "\u001b[1;31mInvalidElementStateException\u001b[0m: Message: invalid element state\n  (Session info: chrome=84.0.4147.105)\n"
     ]
    }
   ],
   "source": [
    "driver.find_element_by_css_selector('#search').clear()\n",
    "driver.find_element_by_css_selector('#search').send_keys('인디')\n",
    "driver.find_element_by_css_selector('#search-icon-legacy').click()"
   ]
  },
  {
   "cell_type": "code",
   "execution_count": 51,
   "metadata": {},
   "outputs": [],
   "source": [
    "query = '인디'\n",
    "driver.get('https://www.youtube.com/results?search_query='+query)"
   ]
  },
  {
   "cell_type": "code",
   "execution_count": 52,
   "metadata": {},
   "outputs": [],
   "source": [
    "video = list()\n",
    "for _ in driver.find_elements_by_css_selector('ytd-video-renderer'):\n",
    "    video.append(_.find_element_by_css_selector('a').get_attribute('href'))\n",
    "#    video = _.find_element_by_css_selector('a')\n",
    "#    desc = _.find_element_by_css_selector('a#video-title')\n",
    "#    print(video.get_attribute('href'))\n",
    "#    print(desc.get_attribute('aria-label'))\n",
    "#    break"
   ]
  },
  {
   "cell_type": "code",
   "execution_count": 53,
   "metadata": {},
   "outputs": [],
   "source": [
    "driver.get(video[0])"
   ]
  },
  {
   "cell_type": "code",
   "execution_count": 55,
   "metadata": {},
   "outputs": [],
   "source": [
    "from bs4 import BeautifulSoup"
   ]
  },
  {
   "cell_type": "code",
   "execution_count": 56,
   "metadata": {},
   "outputs": [],
   "source": [
    "dom = BeautifulSoup(driver.page_source, 'html.parser')"
   ]
  },
  {
   "cell_type": "code",
   "execution_count": 57,
   "metadata": {},
   "outputs": [
    {
     "data": {
      "text/plain": [
       "'blob:https://www.youtube.com/87183f86-6ee2-41a2-952e-ddd9aa8261e7'"
      ]
     },
     "execution_count": 57,
     "metadata": {},
     "output_type": "execute_result"
    }
   ],
   "source": [
    "dom.select_one('video')['src']"
   ]
  },
  {
   "cell_type": "code",
   "execution_count": 59,
   "metadata": {},
   "outputs": [],
   "source": [
    "from requests import request"
   ]
  },
  {
   "cell_type": "code",
   "execution_count": 61,
   "metadata": {},
   "outputs": [],
   "source": [
    "headers = {\n",
    "    'user-agent':'Mozilla/5.0 (Windows NT 10.0; Win64; x64) AppleWebKit/537.36 (KHTML, like Gecko) Chrome/83.0.4103.116 Safari/537.36'\n",
    "}"
   ]
  },
  {
   "cell_type": "code",
   "execution_count": 62,
   "metadata": {},
   "outputs": [],
   "source": [
    "resp = request('GET', 'https://r5---sn-n3cgv5qc5oq-bh2z7.googlevideo.com/videoplayback?expire=1596524389&ei=BbMoX_GzDZengAORwrsg&ip=163.152.3.133&id=o-ABpAbdSon-lNjVZLSpNrHYdKvZBxWAgCft1uLHg0TBKy&itag=243&aitags=133%2C134%2C135%2C136%2C137%2C160%2C242%2C243%2C244%2C247%2C248%2C278&source=youtube&requiressl=yes&mh=j8&mm=31%2C26&mn=sn-n3cgv5qc5oq-bh2z7%2Csn-i3b7knlk&ms=au%2Conr&mv=m&mvi=5&pl=16&initcwndbps=372500&vprv=1&mime=video%2Fwebm&gir=yes&clen=23217753&dur=5679.256&lmt=1595827583942350&mt=1596502603&fvip=5&keepalive=yes&fexp=23883098&c=WEB&txp=5432432&sparams=expire%2Cei%2Cip%2Cid%2Caitags%2Csource%2Crequiressl%2Cvprv%2Cmime%2Cgir%2Cclen%2Cdur%2Clmt&lsparams=mh%2Cmm%2Cmn%2Cms%2Cmv%2Cmvi%2Cpl%2Cinitcwndbps&lsig=AG3C_xAwRQIgN_YN5GHEs1qb7sEgQGcboKOPH9WK1fmPuCYaXtqhZ04CIQCQMsEoHKt5L0cSQBaLmUC45xvj9MeErWGGmpfZcXA8Yg%3D%3D&alr=yes&sig=AOq0QJ8wRgIhAMmLiY5llKgIYuwGPIVkCEC4EEkxQfFmbqmAHHfpZh1jAiEApEs8MOUeZsfGkKwPf3GbNB9YozlqMM70lb4xZl5sX7k%3D&cpn=5vvoPnk5xEw0JCAV&cver=2.20200731.02.01&range=0-85451&altitags=242&rn=1&rbuf=0', headers=headers)"
   ]
  },
  {
   "cell_type": "code",
   "execution_count": 63,
   "metadata": {},
   "outputs": [
    {
     "data": {
      "text/plain": [
       "{'Last-Modified': 'Mon, 27 Jul 2020 05:26:23 GMT', 'Content-Type': 'video/webm', 'Date': 'Tue, 04 Aug 2020 01:02:45 GMT', 'Expires': 'Tue, 04 Aug 2020 01:02:45 GMT', 'Cache-Control': 'private, max-age=21124', 'Accept-Ranges': 'bytes', 'Content-Length': '85452', 'Connection': 'keep-alive', 'Alt-Svc': 'h3-29=\":443\"; ma=2592000,h3-27=\":443\"; ma=2592000,h3-T050=\":443\"; ma=2592000,h3-Q050=\":443\"; ma=2592000,h3-Q046=\":443\"; ma=2592000,h3-Q043=\":443\"; ma=2592000,quic=\":443\"; ma=2592000; v=\"46,43\"', 'X-Restrict-Formats-Hint': 'None', 'X-Content-Type-Options': 'nosniff', 'Server': 'gvs 1.0'}"
      ]
     },
     "execution_count": 63,
     "metadata": {},
     "output_type": "execute_result"
    }
   ],
   "source": [
    "resp.headers"
   ]
  },
  {
   "cell_type": "code",
   "execution_count": null,
   "metadata": {},
   "outputs": [],
   "source": [
    "# parameter 중 range 값만 빼고"
   ]
  },
  {
   "cell_type": "code",
   "execution_count": 64,
   "metadata": {},
   "outputs": [],
   "source": [
    "url = 'https://r5---sn-n3cgv5qc5oq-bh2z7.googlevideo.com/videoplayback?expire=1596524389&ei=BbMoX_GzDZengAORwrsg&ip=163.152.3.133&id=o-ABpAbdSon-lNjVZLSpNrHYdKvZBxWAgCft1uLHg0TBKy&itag=243&aitags=133%2C134%2C135%2C136%2C137%2C160%2C242%2C243%2C244%2C247%2C248%2C278&source=youtube&requiressl=yes&mh=j8&mm=31%2C26&mn=sn-n3cgv5qc5oq-bh2z7%2Csn-i3b7knlk&ms=au%2Conr&mv=m&mvi=5&pl=16&initcwndbps=372500&vprv=1&mime=video%2Fwebm&gir=yes&clen=23217753&dur=5679.256&lmt=1595827583942350&mt=1596502603&fvip=5&keepalive=yes&fexp=23883098&c=WEB&txp=5432432&sparams=expire%2Cei%2Cip%2Cid%2Caitags%2Csource%2Crequiressl%2Cvprv%2Cmime%2Cgir%2Cclen%2Cdur%2Clmt&lsparams=mh%2Cmm%2Cmn%2Cms%2Cmv%2Cmvi%2Cpl%2Cinitcwndbps&lsig=AG3C_xAwRQIgN_YN5GHEs1qb7sEgQGcboKOPH9WK1fmPuCYaXtqhZ04CIQCQMsEoHKt5L0cSQBaLmUC45xvj9MeErWGGmpfZcXA8Yg%3D%3D&alr=yes&sig=AOq0QJ8wRgIhAMmLiY5llKgIYuwGPIVkCEC4EEkxQfFmbqmAHHfpZh1jAiEApEs8MOUeZsfGkKwPf3GbNB9YozlqMM70lb4xZl5sX7k%3D&cpn=5vvoPnk5xEw0JCAV&cver=2.20200731.02.01&range=&altitags=242&rn=1&rbuf=0'\n",
    "with open('test.mp4', 'wb') as f:\n",
    "    for _ in range(100):\n",
    "        resp = request('GET', url=url+'-'.join([str(_*100000), str((_+1)*100000)]),\n",
    "        headers=headers)\n",
    "    f.write(resp.content)"
   ]
  },
  {
   "cell_type": "code",
   "execution_count": 65,
   "metadata": {},
   "outputs": [],
   "source": [
    "# 1. 주소 어떻게 가져올 건지\n",
    "# 2. 다음 조각들 어떻게 가져와서 어떻게 합칠 건지"
   ]
  },
  {
   "cell_type": "code",
   "execution_count": 66,
   "metadata": {},
   "outputs": [],
   "source": [
    "# 데이터 수집 파트 끝"
   ]
  },
  {
   "cell_type": "code",
   "execution_count": 914,
   "metadata": {},
   "outputs": [
    {
     "name": "stdout",
     "output_type": "stream",
     "text": [
      "True True\n",
      "이후 작업\n"
     ]
    }
   ],
   "source": [
    "try:\n",
    "    wait.until(lambda d:d.find_element_by_id('gnb_logout_button').is_displayed())\n",
    "    print(btn.is_displayed(), btn.is_enabled())\n",
    "except TimeoutException as e:\n",
    "    print('창 안 뜸')\n",
    "    driver.find_element_by_css_selector('#gnb_my_namebox > a').click()\n",
    "    print(btn.is_displayed(), btn.is_enabled())\n",
    "finally:\n",
    "    print('이후 작업')"
   ]
  },
  {
   "cell_type": "code",
   "execution_count": null,
   "metadata": {},
   "outputs": [],
   "source": [
    "wait.until()"
   ]
  },
  {
   "cell_type": "code",
   "execution_count": null,
   "metadata": {},
   "outputs": [],
   "source": [
    "driver.switch_to_frame(driver.find_element('iframe'))"
   ]
  },
  {
   "cell_type": "code",
   "execution_count": 915,
   "metadata": {},
   "outputs": [
    {
     "name": "stderr",
     "output_type": "stream",
     "text": [
      "C:\\Users\\Shin\\Anaconda3\\lib\\site-packages\\ipykernel_launcher.py:2: DeprecationWarning: use driver.switch_to.window instead\n",
      "  \n"
     ]
    }
   ],
   "source": [
    "driver.window_handles\n",
    "driver.switch_to_window(driver.window_handles[0])"
   ]
  },
  {
   "cell_type": "code",
   "execution_count": 916,
   "metadata": {},
   "outputs": [
    {
     "name": "stdout",
     "output_type": "stream",
     "text": [
      "True True\n"
     ]
    }
   ],
   "source": [
    "try:\n",
    "    sleep(5)\n",
    "    print(btn.is_displayed(), btn.is_enabled())\n",
    "except (ElementNotVisibleException, ElementNotInteractableException) as e:\n",
    "    print(e)"
   ]
  },
  {
   "cell_type": "code",
   "execution_count": null,
   "metadata": {},
   "outputs": [],
   "source": []
  },
  {
   "cell_type": "code",
   "execution_count": null,
   "metadata": {},
   "outputs": [],
   "source": []
  }
 ],
 "metadata": {
  "kernelspec": {
   "display_name": "Python 3",
   "language": "python",
   "name": "python3"
  },
  "language_info": {
   "codemirror_mode": {
    "name": "ipython",
    "version": 3
   },
   "file_extension": ".py",
   "mimetype": "text/x-python",
   "name": "python",
   "nbconvert_exporter": "python",
   "pygments_lexer": "ipython3",
   "version": "3.7.6"
  }
 },
 "nbformat": 4,
 "nbformat_minor": 4
}
