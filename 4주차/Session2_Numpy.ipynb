{
 "cells": [
  {
   "cell_type": "code",
   "execution_count": 1,
   "metadata": {},
   "outputs": [],
   "source": [
    "import numpy as np"
   ]
  },
  {
   "cell_type": "code",
   "execution_count": 2,
   "metadata": {},
   "outputs": [],
   "source": [
    "a = np.arange(25)"
   ]
  },
  {
   "cell_type": "code",
   "execution_count": 3,
   "metadata": {},
   "outputs": [
    {
     "data": {
      "text/plain": [
       "(4,)"
      ]
     },
     "execution_count": 3,
     "metadata": {},
     "output_type": "execute_result"
    }
   ],
   "source": [
    "a.strides"
   ]
  },
  {
   "cell_type": "code",
   "execution_count": 4,
   "metadata": {},
   "outputs": [
    {
     "data": {
      "text/plain": [
       "(25,)"
      ]
     },
     "execution_count": 4,
     "metadata": {},
     "output_type": "execute_result"
    }
   ],
   "source": [
    "a.shape"
   ]
  },
  {
   "cell_type": "code",
   "execution_count": 5,
   "metadata": {
    "scrolled": true
   },
   "outputs": [
    {
     "data": {
      "text/plain": [
       "dtype('int32')"
      ]
     },
     "execution_count": 5,
     "metadata": {},
     "output_type": "execute_result"
    }
   ],
   "source": [
    "a.dtype"
   ]
  },
  {
   "cell_type": "code",
   "execution_count": 6,
   "metadata": {},
   "outputs": [],
   "source": [
    "b = a.reshape(5,5)"
   ]
  },
  {
   "cell_type": "code",
   "execution_count": 7,
   "metadata": {},
   "outputs": [
    {
     "data": {
      "text/plain": [
       "(20, 4)"
      ]
     },
     "execution_count": 7,
     "metadata": {},
     "output_type": "execute_result"
    }
   ],
   "source": [
    "b.strides # 한 번 행이 넘어가면 20만큼 데이터 필요, 한 번 열이 넘어가면 4만큼 데이터 필요"
   ]
  },
  {
   "cell_type": "code",
   "execution_count": 8,
   "metadata": {},
   "outputs": [],
   "source": [
    "import seaborn as sns"
   ]
  },
  {
   "cell_type": "code",
   "execution_count": 9,
   "metadata": {},
   "outputs": [],
   "source": [
    "tips = sns.load_dataset('tips')"
   ]
  },
  {
   "cell_type": "code",
   "execution_count": 10,
   "metadata": {},
   "outputs": [
    {
     "data": {
      "text/html": [
       "<div>\n",
       "<style scoped>\n",
       "    .dataframe tbody tr th:only-of-type {\n",
       "        vertical-align: middle;\n",
       "    }\n",
       "\n",
       "    .dataframe tbody tr th {\n",
       "        vertical-align: top;\n",
       "    }\n",
       "\n",
       "    .dataframe thead th {\n",
       "        text-align: right;\n",
       "    }\n",
       "</style>\n",
       "<table border=\"1\" class=\"dataframe\">\n",
       "  <thead>\n",
       "    <tr style=\"text-align: right;\">\n",
       "      <th></th>\n",
       "      <th>total_bill</th>\n",
       "      <th>tip</th>\n",
       "      <th>sex</th>\n",
       "      <th>smoker</th>\n",
       "      <th>day</th>\n",
       "      <th>time</th>\n",
       "      <th>size</th>\n",
       "    </tr>\n",
       "  </thead>\n",
       "  <tbody>\n",
       "    <tr>\n",
       "      <th>0</th>\n",
       "      <td>16.99</td>\n",
       "      <td>1.01</td>\n",
       "      <td>Female</td>\n",
       "      <td>No</td>\n",
       "      <td>Sun</td>\n",
       "      <td>Dinner</td>\n",
       "      <td>2</td>\n",
       "    </tr>\n",
       "    <tr>\n",
       "      <th>1</th>\n",
       "      <td>10.34</td>\n",
       "      <td>1.66</td>\n",
       "      <td>Male</td>\n",
       "      <td>No</td>\n",
       "      <td>Sun</td>\n",
       "      <td>Dinner</td>\n",
       "      <td>3</td>\n",
       "    </tr>\n",
       "    <tr>\n",
       "      <th>2</th>\n",
       "      <td>21.01</td>\n",
       "      <td>3.50</td>\n",
       "      <td>Male</td>\n",
       "      <td>No</td>\n",
       "      <td>Sun</td>\n",
       "      <td>Dinner</td>\n",
       "      <td>3</td>\n",
       "    </tr>\n",
       "    <tr>\n",
       "      <th>3</th>\n",
       "      <td>23.68</td>\n",
       "      <td>3.31</td>\n",
       "      <td>Male</td>\n",
       "      <td>No</td>\n",
       "      <td>Sun</td>\n",
       "      <td>Dinner</td>\n",
       "      <td>2</td>\n",
       "    </tr>\n",
       "    <tr>\n",
       "      <th>4</th>\n",
       "      <td>24.59</td>\n",
       "      <td>3.61</td>\n",
       "      <td>Female</td>\n",
       "      <td>No</td>\n",
       "      <td>Sun</td>\n",
       "      <td>Dinner</td>\n",
       "      <td>4</td>\n",
       "    </tr>\n",
       "    <tr>\n",
       "      <th>...</th>\n",
       "      <td>...</td>\n",
       "      <td>...</td>\n",
       "      <td>...</td>\n",
       "      <td>...</td>\n",
       "      <td>...</td>\n",
       "      <td>...</td>\n",
       "      <td>...</td>\n",
       "    </tr>\n",
       "    <tr>\n",
       "      <th>239</th>\n",
       "      <td>29.03</td>\n",
       "      <td>5.92</td>\n",
       "      <td>Male</td>\n",
       "      <td>No</td>\n",
       "      <td>Sat</td>\n",
       "      <td>Dinner</td>\n",
       "      <td>3</td>\n",
       "    </tr>\n",
       "    <tr>\n",
       "      <th>240</th>\n",
       "      <td>27.18</td>\n",
       "      <td>2.00</td>\n",
       "      <td>Female</td>\n",
       "      <td>Yes</td>\n",
       "      <td>Sat</td>\n",
       "      <td>Dinner</td>\n",
       "      <td>2</td>\n",
       "    </tr>\n",
       "    <tr>\n",
       "      <th>241</th>\n",
       "      <td>22.67</td>\n",
       "      <td>2.00</td>\n",
       "      <td>Male</td>\n",
       "      <td>Yes</td>\n",
       "      <td>Sat</td>\n",
       "      <td>Dinner</td>\n",
       "      <td>2</td>\n",
       "    </tr>\n",
       "    <tr>\n",
       "      <th>242</th>\n",
       "      <td>17.82</td>\n",
       "      <td>1.75</td>\n",
       "      <td>Male</td>\n",
       "      <td>No</td>\n",
       "      <td>Sat</td>\n",
       "      <td>Dinner</td>\n",
       "      <td>2</td>\n",
       "    </tr>\n",
       "    <tr>\n",
       "      <th>243</th>\n",
       "      <td>18.78</td>\n",
       "      <td>3.00</td>\n",
       "      <td>Female</td>\n",
       "      <td>No</td>\n",
       "      <td>Thur</td>\n",
       "      <td>Dinner</td>\n",
       "      <td>2</td>\n",
       "    </tr>\n",
       "  </tbody>\n",
       "</table>\n",
       "<p>244 rows × 7 columns</p>\n",
       "</div>"
      ],
      "text/plain": [
       "     total_bill   tip     sex smoker   day    time  size\n",
       "0         16.99  1.01  Female     No   Sun  Dinner     2\n",
       "1         10.34  1.66    Male     No   Sun  Dinner     3\n",
       "2         21.01  3.50    Male     No   Sun  Dinner     3\n",
       "3         23.68  3.31    Male     No   Sun  Dinner     2\n",
       "4         24.59  3.61  Female     No   Sun  Dinner     4\n",
       "..          ...   ...     ...    ...   ...     ...   ...\n",
       "239       29.03  5.92    Male     No   Sat  Dinner     3\n",
       "240       27.18  2.00  Female    Yes   Sat  Dinner     2\n",
       "241       22.67  2.00    Male    Yes   Sat  Dinner     2\n",
       "242       17.82  1.75    Male     No   Sat  Dinner     2\n",
       "243       18.78  3.00  Female     No  Thur  Dinner     2\n",
       "\n",
       "[244 rows x 7 columns]"
      ]
     },
     "execution_count": 10,
     "metadata": {},
     "output_type": "execute_result"
    }
   ],
   "source": [
    "tips"
   ]
  },
  {
   "cell_type": "code",
   "execution_count": 11,
   "metadata": {},
   "outputs": [
    {
     "ename": "ValueError",
     "evalue": "strides must be  same length as shape (1)",
     "output_type": "error",
     "traceback": [
      "\u001b[1;31m---------------------------------------------------------------------------\u001b[0m",
      "\u001b[1;31mValueError\u001b[0m                                Traceback (most recent call last)",
      "\u001b[1;32m<ipython-input-11-b145e609a660>\u001b[0m in \u001b[0;36m<module>\u001b[1;34m\u001b[0m\n\u001b[1;32m----> 1\u001b[1;33m \u001b[0ma\u001b[0m\u001b[1;33m.\u001b[0m\u001b[0mstrides\u001b[0m \u001b[1;33m=\u001b[0m \u001b[1;33m(\u001b[0m\u001b[1;36m20\u001b[0m\u001b[1;33m,\u001b[0m \u001b[1;36m4\u001b[0m\u001b[1;33m)\u001b[0m \u001b[1;31m# stride 할당은 불가\u001b[0m\u001b[1;33m\u001b[0m\u001b[1;33m\u001b[0m\u001b[0m\n\u001b[0m",
      "\u001b[1;31mValueError\u001b[0m: strides must be  same length as shape (1)"
     ]
    }
   ],
   "source": [
    "a.strides = (20, 4) # stride 할당은 불가"
   ]
  },
  {
   "cell_type": "code",
   "execution_count": 12,
   "metadata": {},
   "outputs": [
    {
     "data": {
      "text/plain": [
       "array([[ 0,  1,  2,  3,  4],\n",
       "       [ 5,  6,  7,  8,  9],\n",
       "       [10, 11, 12, 13, 14],\n",
       "       [15, 16, 17, 18, 19],\n",
       "       [20, 21, 22, 23, 24]])"
      ]
     },
     "execution_count": 12,
     "metadata": {},
     "output_type": "execute_result"
    }
   ],
   "source": [
    "b"
   ]
  },
  {
   "cell_type": "code",
   "execution_count": 13,
   "metadata": {},
   "outputs": [
    {
     "data": {
      "text/plain": [
       "array([51, 56, 61, 66, 71])"
      ]
     },
     "execution_count": 13,
     "metadata": {},
     "output_type": "execute_result"
    }
   ],
   "source": [
    "b.sum(axis=0, initial=1)"
   ]
  },
  {
   "cell_type": "code",
   "execution_count": 14,
   "metadata": {},
   "outputs": [],
   "source": [
    "from functools import reduce"
   ]
  },
  {
   "cell_type": "code",
   "execution_count": 15,
   "metadata": {},
   "outputs": [
    {
     "data": {
      "text/plain": [
       "<function _functools.reduce>"
      ]
     },
     "execution_count": 15,
     "metadata": {},
     "output_type": "execute_result"
    }
   ],
   "source": [
    "reduce # initial"
   ]
  },
  {
   "cell_type": "code",
   "execution_count": 16,
   "metadata": {},
   "outputs": [
    {
     "name": "stdout",
     "output_type": "stream",
     "text": [
      "The Zen of Python, by Tim Peters\n",
      "\n",
      "Beautiful is better than ugly.\n",
      "Explicit is better than implicit.\n",
      "Simple is better than complex.\n",
      "Complex is better than complicated.\n",
      "Flat is better than nested.\n",
      "Sparse is better than dense.\n",
      "Readability counts.\n",
      "Special cases aren't special enough to break the rules.\n",
      "Although practicality beats purity.\n",
      "Errors should never pass silently.\n",
      "Unless explicitly silenced.\n",
      "In the face of ambiguity, refuse the temptation to guess.\n",
      "There should be one-- and preferably only one --obvious way to do it.\n",
      "Although that way may not be obvious at first unless you're Dutch.\n",
      "Now is better than never.\n",
      "Although never is often better than *right* now.\n",
      "If the implementation is hard to explain, it's a bad idea.\n",
      "If the implementation is easy to explain, it may be a good idea.\n",
      "Namespaces are one honking great idea -- let's do more of those!\n"
     ]
    }
   ],
   "source": [
    "import this"
   ]
  },
  {
   "cell_type": "code",
   "execution_count": 17,
   "metadata": {},
   "outputs": [],
   "source": [
    "a = np.array([1,2,3])"
   ]
  },
  {
   "cell_type": "code",
   "execution_count": 18,
   "metadata": {},
   "outputs": [],
   "source": [
    "b = np.array([1,2,3]).reshape(1,3)"
   ]
  },
  {
   "cell_type": "code",
   "execution_count": 19,
   "metadata": {},
   "outputs": [
    {
     "data": {
      "text/plain": [
       "array([[2, 4, 6]])"
      ]
     },
     "execution_count": 19,
     "metadata": {},
     "output_type": "execute_result"
    }
   ],
   "source": [
    "a+b"
   ]
  },
  {
   "cell_type": "code",
   "execution_count": 20,
   "metadata": {},
   "outputs": [],
   "source": [
    "b = np.array([1,2,3]).reshape(3,1)"
   ]
  },
  {
   "cell_type": "code",
   "execution_count": 21,
   "metadata": {},
   "outputs": [
    {
     "data": {
      "text/plain": [
       "array([[2, 3, 4],\n",
       "       [3, 4, 5],\n",
       "       [4, 5, 6]])"
      ]
     },
     "execution_count": 21,
     "metadata": {},
     "output_type": "execute_result"
    }
   ],
   "source": [
    "a+b"
   ]
  },
  {
   "cell_type": "code",
   "execution_count": 22,
   "metadata": {},
   "outputs": [],
   "source": [
    "import scipy"
   ]
  },
  {
   "cell_type": "code",
   "execution_count": 23,
   "metadata": {},
   "outputs": [
    {
     "name": "stdout",
     "output_type": "stream",
     "text": [
      "Search results for 'sum'\n",
      "------------------------\n",
      "numpy.sum\n",
      "    Sum of array elements over a given axis.\n",
      "numpy.cumsum\n",
      "    Return the cumulative sum of the elements along a given axis.\n",
      "numpy.einsum\n",
      "    einsum(subscripts, *operands, out=None, dtype=None, order='K',\n",
      "numpy.nansum\n",
      "    Return the sum of array elements over a given axis treating Not a\n",
      "numpy.nancumsum\n",
      "    Return the cumulative sum of array elements over a given axis treating Not a\n",
      "numpy.einsum_path\n",
      "    Evaluates the lowest cost contraction order for an einsum expression by\n",
      "numpy.trace\n",
      "    Return the sum along diagonals of the array.\n",
      "numpy.ma.sum\n",
      "    Return the sum of the array elements over the given axis.\n",
      "numpy.polyadd\n",
      "    Find the sum of two polynomials.\n",
      "numpy.ma.cumsum\n",
      "    Return the cumulative sum of the array elements over the given axis.\n",
      "numpy.logaddexp\n",
      "    Logarithm of the sum of exponentiations of the inputs.\n",
      "numpy.matrix.sum\n",
      "    Returns the sum of the matrix elements, along the given axis.\n",
      "numpy.logaddexp2\n",
      "    Logarithm of the sum of exponentiations of the inputs in base-2.\n",
      "numpy.chararray.sum\n",
      "    Return the sum of the array elements over the given axis.\n",
      "numpy.mask_indices\n",
      "    Return the indices to access (n, n) arrays, given a masking function.\n",
      "numpy.chararray.cumsum\n",
      "    Return the cumulative sum of the elements along the given axis.\n",
      "numpy.chararray.trace\n",
      "    Return the sum along diagonals of the array.\n",
      "numpy.str0.expandtabs\n",
      "    Return a copy where all tab characters are expanded using spaces.\n",
      "numpy.format_float_positional\n",
      "    Format a floating-point scalar as a decimal string in positional notation.\n",
      "numpy.format_float_scientific\n",
      "    Format a floating-point scalar as a decimal string in scientific notation.\n",
      "numpy.linalg.tensorsolve\n",
      "    Solve the tensor equation ``a x = b`` for x.\n",
      "numpy.ma.MaskedArray.sum\n",
      "    Return the sum of the array elements over the given axis.\n",
      "numpy.ma.MaskedArray.cumsum\n",
      "    Return the cumulative sum of the array elements over the given axis.\n",
      "numpy.core._umath_tests.cumsum\n",
      "    Cumulative sum of the input (n)->(n)\n",
      "numpy.ma.MaskedArray.trace\n",
      "    Return the sum along diagonals of the array.\n",
      "numpy.core._multiarray_umath.c_einsum\n",
      "    c_einsum(subscripts, *operands, out=None, dtype=None, order='K',\n",
      "numpy.polynomial.Hermite._add\n",
      "    Add one Hermite series to another.\n",
      "numpy.polynomial.HermiteE._add\n",
      "    Add one Hermite series to another.\n",
      "numpy.polynomial.Laguerre._add\n",
      "    Add one Laguerre series to another.\n",
      "numpy.polynomial.Legendre._add\n",
      "    Add one Legendre series to another.\n",
      "numpy.polynomial.Chebyshev._add\n",
      "    Add one Chebyshev series to another.\n",
      "numpy.polynomial.Polynomial._add\n",
      "    Add one polynomial to another.\n",
      "numpy.AxisError.__class__.__sizeof__\n",
      "    Return memory consumption of the type object.\n",
      "numpy.fv\n",
      "    Compute the future value.\n",
      "numpy.pv\n",
      "    Compute the present value.\n",
      "numpy.add\n",
      "    Add arguments element-wise.\n",
      "numpy.cov\n",
      "    Estimate a covariance matrix, given data and weights.\n",
      "numpy.dot\n",
      "    Dot product of two arrays. Specifically,\n",
      "numpy.irr\n",
      "    Return the Internal Rate of Return (IRR).\n",
      "numpy.npv\n",
      "    Returns the NPV (Net Present Value) of a cash flow series.\n",
      "numpy.std\n",
      "    Compute the standard deviation along the specified axis.\n",
      "numpy.var\n",
      "    Compute the variance along the specified axis.\n",
      "numpy.diag\n",
      "    Extract a diagonal or construct a diagonal array.\n",
      "numpy.diff\n",
      "    Calculate the n-th discrete difference along the given axis.\n",
      "numpy.in1d\n",
      "    Test whether each element of a 1-D array is also present in a second array.\n",
      "numpy.ipmt\n",
      "    Compute the interest portion of a payment.\n",
      "numpy.isin\n",
      "    Calculates `element in test_elements`, broadcasting over `element` only.\n",
      "numpy.kron\n",
      "    Kronecker product of two arrays.\n",
      "numpy.core.setup_common.get_api_versions\n",
      "    Return current C API checksum and the recorded checksum.\n",
      "numpy.mean\n",
      "    Compute the arithmetic mean along the specified axis.\n",
      "numpy.cross\n",
      "    Return the cross product of two (arrays of) vectors.\n",
      "numpy.inner\n",
      "    Inner product of two arrays.\n",
      "numpy.outer\n",
      "    Compute the outer product of two vectors.\n",
      "numpy.trapz\n",
      "    Integrate along the given axis using the composite trapezoidal rule.\n",
      "numpy.choose\n",
      "    Construct an array from an index array and a set of arrays to choose from.\n",
      "numpy.matmul\n",
      "    Matrix product of two arrays.\n",
      "numpy.nanstd\n",
      "    Compute the standard deviation along the specified axis, while\n",
      "numpy.nanvar\n",
      "    Compute the variance along the specified axis, while ignoring NaNs.\n",
      "numpy.nditer\n",
      "    Efficient multi-dimensional iterator object to iterate over arrays.\n",
      "numpy.average\n",
      "    Compute the weighted average along the specified axis.\n",
      "numpy.isclose\n",
      "    Returns a boolean array where two arrays are element-wise equal within a\n",
      "numpy.nanmean\n",
      "    Compute the arithmetic mean along the specified axis, ignoring NaNs.\n",
      "numpy.nanprod\n",
      "    Return the product of array elements over a given axis treating Not a\n",
      "numpy.polyfit\n",
      "    Least squares polynomial fit.\n",
      "numpy.polyint\n",
      "    Return an antiderivative (indefinite integral) of a polynomial.\n",
      "numpy.bincount\n",
      "    Count number of occurrences of each value in array of non-negative ints.\n",
      "numpy.blackman\n",
      "    Return the Blackman window.\n",
      "numpy.convolve\n",
      "    Returns the discrete, linear convolution of two one-dimensional sequences.\n",
      "numpy.diagflat\n",
      "    Create a two-dimensional array with the flattened input as a diagonal.\n",
      "numpy.diagonal\n",
      "    Return specified diagonals.\n",
      "numpy.gradient\n",
      "    Return the gradient of an N-dimensional array.\n",
      "numpy.setxor1d\n",
      "    Find the set exclusive-or of two arrays.\n",
      "numpy.correlate\n",
      "    Cross-correlation of two 1-dimensional sequences.\n",
      "numpy.histogram\n",
      "    Compute the histogram of a set of data.\n",
      "numpy.piecewise\n",
      "    Evaluate a piecewise-defined function.\n",
      "numpy.setdiff1d\n",
      "    Find the set difference of two arrays.\n",
      "numpy.tensordot\n",
      "    Compute tensor dot product along specified axes.\n",
      "numpy.vectorize\n",
      "    vectorize(pyfunc, otypes=None, doc=None, excluded=None, cache=False,\n",
      "numpy.histogram2d\n",
      "    Compute the bi-dimensional histogram of two data samples.\n",
      "numpy.histogramdd\n",
      "    Compute the multidimensional histogram of some data.\n",
      "numpy.intersect1d\n",
      "    Find the intersection of two arrays.\n",
      "numpy.ma.add\n",
      "    Add arguments element-wise.\n",
      "numpy.array2string\n",
      "    Return a string representation of an array.\n",
      "numpy.ma.var\n",
      "    Compute the variance along the specified axis.\n",
      "numpy.searchsorted\n",
      "    Find indices where elements should be inserted to maintain order.\n",
      "numpy.fft.hfft\n",
      "    Compute the FFT of a signal that has Hermitian symmetry, i.e., a real\n",
      "numpy.fft.ifft\n",
      "    Compute the one-dimensional inverse discrete Fourier Transform.\n",
      "numpy.lib.tests.test_utils.old_func4\n",
      "    Summary.\n",
      "numpy.lib.tests.test_utils.old_func5\n",
      "    Summary.\n",
      "numpy.fft.irfft\n",
      "    Compute the inverse of the n-point DFT for real input.\n",
      "numpy.ma.inner\n",
      "    Inner product of two arrays.\n",
      "numpy.ma.outer\n",
      "    Compute the outer product of two vectors.\n",
      "numpy.ma.trace\n",
      "    a.trace(offset=0, axis1=0, axis2=1, dtype=None, out=None)\n",
      "numpy.fft.irfftn\n",
      "    Compute the inverse of the N-dimensional FFT of real input.\n",
      "numpy.apply_over_axes\n",
      "    Apply a function repeatedly over multiple axes.\n",
      "numpy.linalg.svd\n",
      "    Singular Value Decomposition.\n",
      "numpy.ma.average\n",
      "    Return the weighted average of array over the given axis.\n",
      "numpy.ma.polyfit\n",
      "    Least squares polynomial fit.\n",
      "numpy.linalg.cond\n",
      "    Compute the condition number of a matrix.\n",
      "numpy.linalg.norm\n",
      "    Matrix or vector norm.\n",
      "numpy.linalg.pinv\n",
      "    Compute the (Moore-Penrose) pseudo-inverse of a matrix.\n",
      "numpy.set_printoptions\n",
      "    Set printing options.\n",
      "numpy.ma.convolve\n",
      "    Returns the discrete, linear convolution of two one-dimensional sequences.\n",
      "numpy.ma.diagflat\n",
      "    Create a two-dimensional array with the flattened input as a diagonal.\n",
      "numpy.linalg.lstsq\n",
      "    Return the least-squares solution to a linear matrix equation.\n",
      "numpy.random.PCG64\n",
      "    BitGenerator for the PCG-64 pseudo-random number generator.\n",
      "numpy.random.SFC64\n",
      "    BitGenerator for Chris Doty-Humphrey's Small Fast Chaotic PRNG.\n",
      "numpy.ufunc.reduce\n",
      "    Reduces `a`'s dimension by one, by applying ufunc along one axis.\n",
      "numpy.histogram_bin_edges\n",
      "    Function to calculate only the edges of the bins used by the `histogram`\n",
      "numpy.random.Philox\n",
      "    Container for the Philox (4x64) pseudo-random number generator.\n",
      "numpy.bytes0.expandtabs\n",
      "    Return a copy of B where all tab characters are expanded using spaces.\n",
      "numpy.random.MT19937\n",
      "    Container for the Mersenne Twister pseudo-random number generator.\n",
      "numpy.ufunc.reduceat\n",
      "    Performs a (local) reduce with specified slices over a single axis.\n",
      "numpy.linalg.multi_dot\n",
      "    Compute the dot product of two or more arrays in a single function call,\n",
      "numpy.linalg.tensorinv\n",
      "    Compute the 'inverse' of an N-dimensional array.\n",
      "numpy.ufunc.accumulate\n",
      "    Accumulate the result of applying the operator to all elements.\n",
      "numpy.linalg.matrix_rank\n",
      "    Return matrix rank of array using SVD method\n",
      "numpy.ma.apply_over_axes\n",
      "    Apply a function repeatedly over multiple axes.\n",
      "numpy.ma.MaskedArray.var\n",
      "    Compute the variance along the specified axis.\n",
      "numpy.distutils.command.sdist.sdist.write_manifest\n",
      "    Write the file list in 'self.filelist' (presumably as filled in\n",
      "numpy.random.Generator.f\n",
      "    Draw samples from an F distribution.\n",
      "numpy.core.tests.test_numeric.TestKeepdims.sub_array.sum\n",
      "    Return the sum of the array elements over the given axis.\n",
      "numpy.random.RandomState.f\n",
      "    Draw samples from an F distribution.\n",
      "numpy.polynomial.Hermite.fit\n",
      "    Least squares fit to data.\n",
      "numpy.core._multiarray_umath.dot\n",
      "    Dot product of two arrays. Specifically,\n",
      "numpy.polynomial.Hermite._fit\n",
      "    Least squares fit of Hermite series to data.\n",
      "numpy.polynomial.HermiteE.fit\n",
      "    Least squares fit to data.\n",
      "numpy.polynomial.Laguerre.fit\n",
      "    Least squares fit to data.\n",
      "numpy.polynomial.Legendre.fit\n",
      "    Least squares fit to data.\n",
      "numpy.random.Generator.choice\n",
      "    Generates a random sample from a given 1-D array\n",
      "numpy.polynomial.Chebyshev.fit\n",
      "    Least squares fit to data.\n",
      "numpy.polynomial.HermiteE._fit\n",
      "    Least squares fit of Hermite series to data.\n",
      "numpy.polynomial.Laguerre._fit\n",
      "    Least squares fit of Laguerre series to data.\n",
      "numpy.polynomial.Legendre._fit\n",
      "    Least squares fit of Legendre series to data.\n",
      "numpy.core._multiarray_umath.inner\n",
      "    Inner product of two arrays.\n",
      "numpy.polynomial.Chebyshev._fit\n",
      "    Least squares fit of Chebyshev series to data.\n",
      "numpy.polynomial.Hermite._roots\n",
      "    Compute the roots of a Hermite series.\n",
      "numpy.polynomial.Polynomial.fit\n",
      "    Least squares fit to data.\n",
      "numpy.random.Generator.binomial\n",
      "    Draw samples from a binomial distribution.\n",
      "numpy.random.Generator.logistic\n",
      "    Draw samples from a logistic distribution.\n",
      "numpy.random.Generator.rayleigh\n",
      "    Draw samples from a Rayleigh distribution.\n",
      "numpy.random.RandomState.choice\n",
      "    Generates a random sample from a given 1-D array\n",
      "numpy.polynomial.HermiteE._roots\n",
      "    Compute the roots of a HermiteE series.\n",
      "numpy.polynomial.Laguerre._roots\n",
      "    Compute the roots of a Laguerre series.\n",
      "numpy.polynomial.Legendre._roots\n",
      "    Compute the roots of a Legendre series.\n",
      "numpy.polynomial.Polynomial._fit\n",
      "    Least-squares fit of a polynomial to data.\n",
      "numpy.random.Generator.chisquare\n",
      "    Draw samples from a chi-square distribution.\n",
      "numpy.random.Generator.dirichlet\n",
      "    Draw samples from the Dirichlet distribution.\n",
      "numpy.random.Generator.geometric\n",
      "    Draw samples from the geometric distribution.\n",
      "numpy.random.Generator.lognormal\n",
      "    Draw samples from a log-normal distribution.\n",
      "numpy.polynomial.Chebyshev._roots\n",
      "    Compute the roots of a Chebyshev series.\n",
      "numpy.random.Generator.standard_t\n",
      "    Draw samples from a standard Student's t distribution with `df` degrees\n",
      "numpy.core._multiarray_umath.bincount\n",
      "    Count number of occurrences of each value in array of non-negative ints.\n",
      "numpy.random.RandomState.binomial\n",
      "    Draw samples from a binomial distribution.\n",
      "numpy.random.RandomState.logistic\n",
      "    Draw samples from a logistic distribution.\n",
      "numpy.random.RandomState.rayleigh\n",
      "    Draw samples from a Rayleigh distribution.\n",
      "numpy.polynomial.Polynomial._roots\n",
      "    Compute the roots of a polynomial.\n",
      "numpy.polynomial.hermite.hermval2d\n",
      "    Evaluate a 2-D Hermite series at points (x, y).\n",
      "numpy.polynomial.hermite.hermval3d\n",
      "    Evaluate a 3-D Hermite series at points (x, y, z).\n",
      "numpy.polynomial.laguerre.lagval2d\n",
      "    Evaluate a 2-D Laguerre series at points (x, y).\n",
      "numpy.polynomial.laguerre.lagval3d\n",
      "    Evaluate a 3-D Laguerre series at points (x, y, z).\n",
      "numpy.polynomial.legendre.legval2d\n",
      "    Evaluate a 2-D Legendre series at points (x, y).\n",
      "numpy.polynomial.legendre.legval3d\n",
      "    Evaluate a 3-D Legendre series at points (x, y, z).\n",
      "numpy.random.Generator.multinomial\n",
      "    Draw samples from a multinomial distribution.\n",
      "numpy.random.RandomState.chisquare\n",
      "    Draw samples from a chi-square distribution.\n",
      "numpy.random.RandomState.dirichlet\n",
      "    Draw samples from the Dirichlet distribution.\n",
      "numpy.random.RandomState.geometric\n",
      "    Draw samples from the geometric distribution.\n",
      "numpy.random.RandomState.lognormal\n",
      "    Draw samples from a log-normal distribution.\n",
      "numpy.random.RandomState.set_state\n",
      "    set_state(state)\n",
      "numpy.polynomial.hermite.hermgrid2d\n",
      "    Evaluate a 2-D Hermite series on the Cartesian product of x and y.\n",
      "numpy.polynomial.hermite.hermgrid3d\n",
      "    Evaluate a 3-D Hermite series on the Cartesian product of x, y, and z.\n",
      "numpy.polynomial.laguerre.laggrid2d\n",
      "    Evaluate a 2-D Laguerre series on the Cartesian product of x and y.\n",
      "numpy.polynomial.laguerre.laggrid3d\n",
      "    Evaluate a 3-D Laguerre series on the Cartesian product of x, y, and z.\n",
      "numpy.polynomial.legendre.leggrid2d\n",
      "    Evaluate a 2-D Legendre series on the Cartesian product of x and y.\n",
      "numpy.polynomial.legendre.leggrid3d\n",
      "    Evaluate a 3-D Legendre series on the Cartesian product of x, y, and z.\n",
      "numpy.random.Generator.noncentral_f\n",
      "    Draw samples from the noncentral F distribution.\n",
      "numpy.random.RandomState.standard_t\n",
      "    Draw samples from a standard Student's t distribution with `df` degrees\n",
      "numpy.polynomial.chebyshev.chebval2d\n",
      "    Evaluate a 2-D Chebyshev series at points (x, y).\n",
      "numpy.polynomial.chebyshev.chebval3d\n",
      "    Evaluate a 3-D Chebyshev series at points (x, y, z).\n",
      "numpy.random.RandomState.multinomial\n",
      "    Draw samples from a multinomial distribution.\n",
      "numpy.polynomial.chebyshev.chebgrid2d\n",
      "    Evaluate a 2-D Chebyshev series on the Cartesian product of x and y.\n",
      "numpy.polynomial.chebyshev.chebgrid3d\n",
      "    Evaluate a 3-D Chebyshev series on the Cartesian product of x, y, and z.\n",
      "numpy.polynomial.hermite_e.hermeval2d\n",
      "    Evaluate a 2-D HermiteE series at points (x, y).\n",
      "numpy.polynomial.hermite_e.hermeval3d\n",
      "    Evaluate a 3-D Hermite_e series at points (x, y, z).\n",
      "numpy.polynomial.polynomial.polyval2d\n",
      "    Evaluate a 2-D polynomial at points (x, y).\n",
      "numpy.polynomial.polynomial.polyval3d\n",
      "    Evaluate a 3-D polynomial at points (x, y, z).\n",
      "numpy.random.Generator.hypergeometric\n",
      "    Draw samples from a Hypergeometric distribution.\n",
      "numpy.random.RandomState.noncentral_f\n",
      "    Draw samples from the noncentral F distribution.\n",
      "numpy.polynomial.hermite_e.hermegrid2d\n",
      "    Evaluate a 2-D HermiteE series on the Cartesian product of x and y.\n",
      "numpy.polynomial.hermite_e.hermegrid3d\n",
      "    Evaluate a 3-D HermiteE series on the Cartesian product of x, y, and z.\n",
      "numpy.distutils.command.build_clib.build_clib.check_library_list\n",
      "    Ensure that the list of libraries is valid.\n",
      "numpy.polynomial.polynomial.polygrid2d\n",
      "    Evaluate a 2-D polynomial on the Cartesian product of x and y.\n",
      "numpy.polynomial.polynomial.polygrid3d\n",
      "    Evaluate a 3-D polynomial on the Cartesian product of x, y and z.\n",
      "numpy.random.Generator.standard_cauchy\n",
      "    Draw samples from a standard Cauchy distribution with mode = 0.\n",
      "numpy.distutils.command.build_ext.build_ext.check_extensions_list\n",
      "    Ensure that the list of extensions (presumably provided as a\n",
      "numpy.random.RandomState.hypergeometric\n",
      "    Draw samples from a Hypergeometric distribution.\n",
      "numpy.lib.recfunctions.apply_along_fields\n",
      "    Apply function 'func' as a reduction across fields of a structured array.\n",
      "numpy.distutils.command.develop.develop.create_index.__getitem__\n",
      "    Return a newest-to-oldest list of distributions for `project_name`\n",
      "numpy.testing._private.noseclasses.NumpyDocTestFinder._find_lineno\n",
      "    Return a line number of the given object's docstring.  Note:\n",
      "numpy.random.Generator.negative_binomial\n",
      "    Draw samples from a negative binomial distribution.\n",
      "numpy.random.RandomState.random_integers\n",
      "    Random integers of type `np.int_` between `low` and `high`, inclusive.\n",
      "numpy.random.RandomState.standard_cauchy\n",
      "    Draw samples from a standard Cauchy distribution with mode = 0.\n",
      "numpy.random.RandomState.negative_binomial\n",
      "    Draw samples from a negative binomial distribution.\n",
      "numpy.random.Generator.noncentral_chisquare\n",
      "    Draw samples from a noncentral chi-square distribution.\n",
      "numpy.random.RandomState.noncentral_chisquare\n",
      "    Draw samples from a noncentral chi-square distribution.\n",
      "numpy.random.Generator.multivariate_hypergeometric\n",
      "    multivariate_hypergeometric(colors, nsample, size=None,\n",
      "numpy.distutils.misc_util.Configuration.set_options\n",
      "    Configure Configuration instance.\n",
      "numpy.distutils.misc_util.Configuration.add_subpackage\n",
      "    Add a sub-package to the current Configuration instance.\n",
      "numpy.distutils.misc_util.Configuration.get_subpackage\n",
      "    Return list of subpackage configurations.\n",
      "numpy.distutils.misc_util.Configuration.add_npy_pkg_config\n",
      "    Generate and install a npy-pkg config file from a template.\n",
      "numpy.testing._private.noseclasses.NumpyDocTestCase.subTest\n",
      "    Return a context manager that will return the enclosed block\n",
      "numpy.linalg.tests.test_deprecations.test_qr_mode_full_future_warning\n",
      "    Check mode='full' FutureWarning."
     ]
    }
   ],
   "source": [
    "np.lookfor('sum')"
   ]
  },
  {
   "cell_type": "code",
   "execution_count": 24,
   "metadata": {},
   "outputs": [
    {
     "name": "stdout",
     "output_type": "stream",
     "text": [
      "Search results for 'sum'\n",
      "------------------------\n",
      "numpy.sum\n",
      "    Sum of array elements over a given axis.\n",
      "numpy.cumsum\n",
      "    Return the cumulative sum of the elements along a given axis.\n",
      "numpy.einsum\n",
      "    einsum(subscripts, *operands, out=None, dtype=None, order='K',\n",
      "numpy.nansum\n",
      "    Return the sum of array elements over a given axis treating Not a\n",
      "numpy.nancumsum\n",
      "    Return the cumulative sum of array elements over a given axis treating Not a\n",
      "numpy.einsum_path\n",
      "    Evaluates the lowest cost contraction order for an einsum expression by\n",
      "numpy.trace\n",
      "    Return the sum along diagonals of the array.\n",
      "numpy.ma.sum\n",
      "    Return the sum of the array elements over the given axis.\n",
      "numpy.polyadd\n",
      "    Find the sum of two polynomials.\n",
      "numpy.ma.cumsum\n",
      "    Return the cumulative sum of the array elements over the given axis.\n",
      "numpy.logaddexp\n",
      "    Logarithm of the sum of exponentiations of the inputs.\n",
      "numpy.matrix.sum\n",
      "    Returns the sum of the matrix elements, along the given axis.\n",
      "numpy.logaddexp2\n",
      "    Logarithm of the sum of exponentiations of the inputs in base-2.\n",
      "numpy.chararray.sum\n",
      "    Return the sum of the array elements over the given axis.\n",
      "numpy.mask_indices\n",
      "    Return the indices to access (n, n) arrays, given a masking function.\n",
      "numpy.chararray.cumsum\n",
      "    Return the cumulative sum of the elements along the given axis.\n",
      "numpy.chararray.trace\n",
      "    Return the sum along diagonals of the array.\n",
      "numpy.str0.expandtabs\n",
      "    Return a copy where all tab characters are expanded using spaces.\n",
      "numpy.format_float_positional\n",
      "    Format a floating-point scalar as a decimal string in positional notation.\n",
      "numpy.format_float_scientific\n",
      "    Format a floating-point scalar as a decimal string in scientific notation.\n",
      "numpy.linalg.tensorsolve\n",
      "    Solve the tensor equation ``a x = b`` for x.\n",
      "numpy.ma.MaskedArray.sum\n",
      "    Return the sum of the array elements over the given axis.\n",
      "numpy.ma.MaskedArray.cumsum\n",
      "    Return the cumulative sum of the array elements over the given axis.\n",
      "numpy.core._umath_tests.cumsum\n",
      "    Cumulative sum of the input (n)->(n)\n",
      "numpy.ma.MaskedArray.trace\n",
      "    Return the sum along diagonals of the array.\n",
      "numpy.core._multiarray_umath.c_einsum\n",
      "    c_einsum(subscripts, *operands, out=None, dtype=None, order='K',\n",
      "numpy.polynomial.Hermite._add\n",
      "    Add one Hermite series to another.\n",
      "numpy.polynomial.HermiteE._add\n",
      "    Add one Hermite series to another.\n",
      "numpy.polynomial.Laguerre._add\n",
      "    Add one Laguerre series to another.\n",
      "numpy.polynomial.Legendre._add\n",
      "    Add one Legendre series to another.\n",
      "numpy.polynomial.Chebyshev._add\n",
      "    Add one Chebyshev series to another.\n",
      "numpy.polynomial.Polynomial._add\n",
      "    Add one polynomial to another.\n",
      "numpy.AxisError.__class__.__sizeof__\n",
      "    Return memory consumption of the type object.\n",
      "numpy.fv\n",
      "    Compute the future value.\n",
      "numpy.pv\n",
      "    Compute the present value.\n",
      "numpy.add\n",
      "    Add arguments element-wise.\n",
      "numpy.cov\n",
      "    Estimate a covariance matrix, given data and weights.\n",
      "numpy.dot\n",
      "    Dot product of two arrays. Specifically,\n",
      "numpy.irr\n",
      "    Return the Internal Rate of Return (IRR).\n",
      "numpy.npv\n",
      "    Returns the NPV (Net Present Value) of a cash flow series.\n",
      "numpy.std\n",
      "    Compute the standard deviation along the specified axis.\n",
      "numpy.var\n",
      "    Compute the variance along the specified axis.\n",
      "numpy.diag\n",
      "    Extract a diagonal or construct a diagonal array.\n",
      "numpy.diff\n",
      "    Calculate the n-th discrete difference along the given axis.\n",
      "numpy.in1d\n",
      "    Test whether each element of a 1-D array is also present in a second array.\n",
      "numpy.ipmt\n",
      "    Compute the interest portion of a payment.\n",
      "numpy.isin\n",
      "    Calculates `element in test_elements`, broadcasting over `element` only.\n",
      "numpy.kron\n",
      "    Kronecker product of two arrays.\n",
      "numpy.core.setup_common.get_api_versions\n",
      "    Return current C API checksum and the recorded checksum.\n",
      "numpy.mean\n",
      "    Compute the arithmetic mean along the specified axis.\n",
      "numpy.cross\n",
      "    Return the cross product of two (arrays of) vectors.\n",
      "numpy.inner\n",
      "    Inner product of two arrays.\n",
      "numpy.outer\n",
      "    Compute the outer product of two vectors.\n",
      "numpy.trapz\n",
      "    Integrate along the given axis using the composite trapezoidal rule.\n",
      "numpy.choose\n",
      "    Construct an array from an index array and a set of arrays to choose from.\n",
      "numpy.matmul\n",
      "    Matrix product of two arrays.\n",
      "numpy.nanstd\n",
      "    Compute the standard deviation along the specified axis, while\n",
      "numpy.nanvar\n",
      "    Compute the variance along the specified axis, while ignoring NaNs.\n",
      "numpy.nditer\n",
      "    Efficient multi-dimensional iterator object to iterate over arrays.\n",
      "numpy.average\n",
      "    Compute the weighted average along the specified axis.\n",
      "numpy.isclose\n",
      "    Returns a boolean array where two arrays are element-wise equal within a\n",
      "numpy.nanmean\n",
      "    Compute the arithmetic mean along the specified axis, ignoring NaNs.\n",
      "numpy.nanprod\n",
      "    Return the product of array elements over a given axis treating Not a\n",
      "numpy.polyfit\n",
      "    Least squares polynomial fit.\n",
      "numpy.polyint\n",
      "    Return an antiderivative (indefinite integral) of a polynomial.\n",
      "numpy.bincount\n",
      "    Count number of occurrences of each value in array of non-negative ints.\n",
      "numpy.blackman\n",
      "    Return the Blackman window.\n",
      "numpy.convolve\n",
      "    Returns the discrete, linear convolution of two one-dimensional sequences.\n",
      "numpy.diagflat\n",
      "    Create a two-dimensional array with the flattened input as a diagonal.\n",
      "numpy.diagonal\n",
      "    Return specified diagonals.\n",
      "numpy.gradient\n",
      "    Return the gradient of an N-dimensional array.\n",
      "numpy.setxor1d\n",
      "    Find the set exclusive-or of two arrays.\n",
      "numpy.correlate\n",
      "    Cross-correlation of two 1-dimensional sequences.\n",
      "numpy.histogram\n",
      "    Compute the histogram of a set of data.\n",
      "numpy.piecewise\n",
      "    Evaluate a piecewise-defined function.\n",
      "numpy.setdiff1d\n",
      "    Find the set difference of two arrays.\n",
      "numpy.tensordot\n",
      "    Compute tensor dot product along specified axes.\n",
      "numpy.vectorize\n",
      "    vectorize(pyfunc, otypes=None, doc=None, excluded=None, cache=False,\n",
      "numpy.histogram2d\n",
      "    Compute the bi-dimensional histogram of two data samples.\n",
      "numpy.histogramdd\n",
      "    Compute the multidimensional histogram of some data.\n",
      "numpy.intersect1d\n",
      "    Find the intersection of two arrays.\n",
      "numpy.ma.add\n",
      "    Add arguments element-wise.\n",
      "numpy.array2string\n",
      "    Return a string representation of an array.\n",
      "numpy.ma.var\n",
      "    Compute the variance along the specified axis.\n",
      "numpy.searchsorted\n",
      "    Find indices where elements should be inserted to maintain order.\n",
      "numpy.fft.hfft\n",
      "    Compute the FFT of a signal that has Hermitian symmetry, i.e., a real\n",
      "numpy.fft.ifft\n",
      "    Compute the one-dimensional inverse discrete Fourier Transform.\n",
      "numpy.lib.tests.test_utils.old_func4\n",
      "    Summary.\n",
      "numpy.lib.tests.test_utils.old_func5\n",
      "    Summary.\n",
      "numpy.fft.irfft\n",
      "    Compute the inverse of the n-point DFT for real input.\n",
      "numpy.ma.inner\n",
      "    Inner product of two arrays.\n",
      "numpy.ma.outer\n",
      "    Compute the outer product of two vectors.\n",
      "numpy.ma.trace\n",
      "    a.trace(offset=0, axis1=0, axis2=1, dtype=None, out=None)\n",
      "numpy.fft.irfftn\n",
      "    Compute the inverse of the N-dimensional FFT of real input.\n",
      "numpy.apply_over_axes\n",
      "    Apply a function repeatedly over multiple axes.\n",
      "numpy.linalg.svd\n",
      "    Singular Value Decomposition.\n",
      "numpy.ma.average\n",
      "    Return the weighted average of array over the given axis.\n",
      "numpy.ma.polyfit\n",
      "    Least squares polynomial fit.\n",
      "numpy.linalg.cond\n",
      "    Compute the condition number of a matrix.\n",
      "numpy.linalg.norm\n",
      "    Matrix or vector norm.\n",
      "numpy.linalg.pinv\n",
      "    Compute the (Moore-Penrose) pseudo-inverse of a matrix.\n",
      "numpy.set_printoptions\n",
      "    Set printing options.\n",
      "numpy.ma.convolve\n",
      "    Returns the discrete, linear convolution of two one-dimensional sequences.\n",
      "numpy.ma.diagflat\n",
      "    Create a two-dimensional array with the flattened input as a diagonal.\n",
      "numpy.linalg.lstsq\n",
      "    Return the least-squares solution to a linear matrix equation.\n",
      "numpy.random.PCG64\n",
      "    BitGenerator for the PCG-64 pseudo-random number generator.\n",
      "numpy.random.SFC64\n",
      "    BitGenerator for Chris Doty-Humphrey's Small Fast Chaotic PRNG.\n",
      "numpy.ufunc.reduce\n",
      "    Reduces `a`'s dimension by one, by applying ufunc along one axis.\n",
      "numpy.histogram_bin_edges\n",
      "    Function to calculate only the edges of the bins used by the `histogram`\n",
      "numpy.random.Philox\n",
      "    Container for the Philox (4x64) pseudo-random number generator.\n",
      "numpy.bytes0.expandtabs\n",
      "    Return a copy of B where all tab characters are expanded using spaces.\n",
      "numpy.random.MT19937\n",
      "    Container for the Mersenne Twister pseudo-random number generator.\n",
      "numpy.ufunc.reduceat\n",
      "    Performs a (local) reduce with specified slices over a single axis.\n",
      "numpy.linalg.multi_dot\n",
      "    Compute the dot product of two or more arrays in a single function call,\n",
      "numpy.linalg.tensorinv\n",
      "    Compute the 'inverse' of an N-dimensional array.\n",
      "numpy.ufunc.accumulate\n",
      "    Accumulate the result of applying the operator to all elements.\n",
      "numpy.linalg.matrix_rank\n",
      "    Return matrix rank of array using SVD method\n",
      "numpy.ma.apply_over_axes\n",
      "    Apply a function repeatedly over multiple axes.\n",
      "numpy.ma.MaskedArray.var\n",
      "    Compute the variance along the specified axis.\n",
      "numpy.distutils.command.sdist.sdist.write_manifest\n",
      "    Write the file list in 'self.filelist' (presumably as filled in\n",
      "numpy.random.Generator.f\n",
      "    Draw samples from an F distribution.\n",
      "numpy.core.tests.test_numeric.TestKeepdims.sub_array.sum\n",
      "    Return the sum of the array elements over the given axis.\n",
      "numpy.random.RandomState.f\n",
      "    Draw samples from an F distribution.\n",
      "numpy.polynomial.Hermite.fit\n",
      "    Least squares fit to data.\n",
      "numpy.core._multiarray_umath.dot\n",
      "    Dot product of two arrays. Specifically,\n",
      "numpy.polynomial.Hermite._fit\n",
      "    Least squares fit of Hermite series to data.\n",
      "numpy.polynomial.HermiteE.fit\n",
      "    Least squares fit to data.\n",
      "numpy.polynomial.Laguerre.fit\n",
      "    Least squares fit to data.\n",
      "numpy.polynomial.Legendre.fit\n",
      "    Least squares fit to data.\n",
      "numpy.random.Generator.choice\n",
      "    Generates a random sample from a given 1-D array\n",
      "numpy.polynomial.Chebyshev.fit\n",
      "    Least squares fit to data.\n",
      "numpy.polynomial.HermiteE._fit\n",
      "    Least squares fit of Hermite series to data.\n",
      "numpy.polynomial.Laguerre._fit\n",
      "    Least squares fit of Laguerre series to data.\n",
      "numpy.polynomial.Legendre._fit\n",
      "    Least squares fit of Legendre series to data.\n",
      "numpy.core._multiarray_umath.inner\n",
      "    Inner product of two arrays.\n",
      "numpy.polynomial.Chebyshev._fit\n",
      "    Least squares fit of Chebyshev series to data.\n",
      "numpy.polynomial.Hermite._roots\n",
      "    Compute the roots of a Hermite series.\n",
      "numpy.polynomial.Polynomial.fit\n",
      "    Least squares fit to data.\n",
      "numpy.random.Generator.binomial\n",
      "    Draw samples from a binomial distribution.\n",
      "numpy.random.Generator.logistic\n",
      "    Draw samples from a logistic distribution.\n",
      "numpy.random.Generator.rayleigh\n",
      "    Draw samples from a Rayleigh distribution.\n",
      "numpy.random.RandomState.choice\n",
      "    Generates a random sample from a given 1-D array\n",
      "numpy.polynomial.HermiteE._roots\n",
      "    Compute the roots of a HermiteE series.\n",
      "numpy.polynomial.Laguerre._roots\n",
      "    Compute the roots of a Laguerre series.\n",
      "numpy.polynomial.Legendre._roots\n",
      "    Compute the roots of a Legendre series.\n",
      "numpy.polynomial.Polynomial._fit\n",
      "    Least-squares fit of a polynomial to data.\n",
      "numpy.random.Generator.chisquare\n",
      "    Draw samples from a chi-square distribution.\n",
      "numpy.random.Generator.dirichlet\n",
      "    Draw samples from the Dirichlet distribution.\n",
      "numpy.random.Generator.geometric\n",
      "    Draw samples from the geometric distribution.\n",
      "numpy.random.Generator.lognormal\n",
      "    Draw samples from a log-normal distribution.\n",
      "numpy.polynomial.Chebyshev._roots\n",
      "    Compute the roots of a Chebyshev series.\n",
      "numpy.random.Generator.standard_t\n",
      "    Draw samples from a standard Student's t distribution with `df` degrees\n",
      "numpy.core._multiarray_umath.bincount\n",
      "    Count number of occurrences of each value in array of non-negative ints.\n",
      "numpy.random.RandomState.binomial\n",
      "    Draw samples from a binomial distribution.\n",
      "numpy.random.RandomState.logistic\n",
      "    Draw samples from a logistic distribution.\n",
      "numpy.random.RandomState.rayleigh\n",
      "    Draw samples from a Rayleigh distribution.\n",
      "numpy.polynomial.Polynomial._roots\n",
      "    Compute the roots of a polynomial.\n",
      "numpy.polynomial.hermite.hermval2d\n",
      "    Evaluate a 2-D Hermite series at points (x, y).\n",
      "numpy.polynomial.hermite.hermval3d\n",
      "    Evaluate a 3-D Hermite series at points (x, y, z).\n",
      "numpy.polynomial.laguerre.lagval2d\n",
      "    Evaluate a 2-D Laguerre series at points (x, y).\n",
      "numpy.polynomial.laguerre.lagval3d\n",
      "    Evaluate a 3-D Laguerre series at points (x, y, z).\n",
      "numpy.polynomial.legendre.legval2d\n",
      "    Evaluate a 2-D Legendre series at points (x, y).\n",
      "numpy.polynomial.legendre.legval3d\n",
      "    Evaluate a 3-D Legendre series at points (x, y, z).\n",
      "numpy.random.Generator.multinomial\n",
      "    Draw samples from a multinomial distribution.\n",
      "numpy.random.RandomState.chisquare\n",
      "    Draw samples from a chi-square distribution.\n",
      "numpy.random.RandomState.dirichlet\n",
      "    Draw samples from the Dirichlet distribution.\n",
      "numpy.random.RandomState.geometric\n",
      "    Draw samples from the geometric distribution.\n",
      "numpy.random.RandomState.lognormal\n",
      "    Draw samples from a log-normal distribution.\n",
      "numpy.random.RandomState.set_state\n",
      "    set_state(state)\n",
      "numpy.polynomial.hermite.hermgrid2d\n",
      "    Evaluate a 2-D Hermite series on the Cartesian product of x and y.\n",
      "numpy.polynomial.hermite.hermgrid3d\n",
      "    Evaluate a 3-D Hermite series on the Cartesian product of x, y, and z.\n",
      "numpy.polynomial.laguerre.laggrid2d\n",
      "    Evaluate a 2-D Laguerre series on the Cartesian product of x and y.\n",
      "numpy.polynomial.laguerre.laggrid3d\n",
      "    Evaluate a 3-D Laguerre series on the Cartesian product of x, y, and z.\n",
      "numpy.polynomial.legendre.leggrid2d\n",
      "    Evaluate a 2-D Legendre series on the Cartesian product of x and y.\n",
      "numpy.polynomial.legendre.leggrid3d\n",
      "    Evaluate a 3-D Legendre series on the Cartesian product of x, y, and z.\n",
      "numpy.random.Generator.noncentral_f\n",
      "    Draw samples from the noncentral F distribution.\n",
      "numpy.random.RandomState.standard_t\n",
      "    Draw samples from a standard Student's t distribution with `df` degrees\n",
      "numpy.polynomial.chebyshev.chebval2d\n",
      "    Evaluate a 2-D Chebyshev series at points (x, y).\n",
      "numpy.polynomial.chebyshev.chebval3d\n",
      "    Evaluate a 3-D Chebyshev series at points (x, y, z).\n",
      "numpy.random.RandomState.multinomial\n",
      "    Draw samples from a multinomial distribution.\n",
      "numpy.polynomial.chebyshev.chebgrid2d\n",
      "    Evaluate a 2-D Chebyshev series on the Cartesian product of x and y.\n",
      "numpy.polynomial.chebyshev.chebgrid3d\n",
      "    Evaluate a 3-D Chebyshev series on the Cartesian product of x, y, and z.\n",
      "numpy.polynomial.hermite_e.hermeval2d\n",
      "    Evaluate a 2-D HermiteE series at points (x, y).\n",
      "numpy.polynomial.hermite_e.hermeval3d\n",
      "    Evaluate a 3-D Hermite_e series at points (x, y, z).\n",
      "numpy.polynomial.polynomial.polyval2d\n",
      "    Evaluate a 2-D polynomial at points (x, y).\n",
      "numpy.polynomial.polynomial.polyval3d\n",
      "    Evaluate a 3-D polynomial at points (x, y, z).\n",
      "numpy.random.Generator.hypergeometric\n",
      "    Draw samples from a Hypergeometric distribution.\n",
      "numpy.random.RandomState.noncentral_f\n",
      "    Draw samples from the noncentral F distribution.\n",
      "numpy.polynomial.hermite_e.hermegrid2d\n",
      "    Evaluate a 2-D HermiteE series on the Cartesian product of x and y.\n",
      "numpy.polynomial.hermite_e.hermegrid3d\n",
      "    Evaluate a 3-D HermiteE series on the Cartesian product of x, y, and z.\n",
      "numpy.distutils.command.build_clib.build_clib.check_library_list\n",
      "    Ensure that the list of libraries is valid.\n",
      "numpy.polynomial.polynomial.polygrid2d\n",
      "    Evaluate a 2-D polynomial on the Cartesian product of x and y.\n",
      "numpy.polynomial.polynomial.polygrid3d\n",
      "    Evaluate a 3-D polynomial on the Cartesian product of x, y and z.\n",
      "numpy.random.Generator.standard_cauchy\n",
      "    Draw samples from a standard Cauchy distribution with mode = 0.\n",
      "numpy.distutils.command.build_ext.build_ext.check_extensions_list\n",
      "    Ensure that the list of extensions (presumably provided as a\n",
      "numpy.random.RandomState.hypergeometric\n",
      "    Draw samples from a Hypergeometric distribution.\n",
      "numpy.lib.recfunctions.apply_along_fields\n",
      "    Apply function 'func' as a reduction across fields of a structured array.\n",
      "numpy.distutils.command.develop.develop.create_index.__getitem__\n",
      "    Return a newest-to-oldest list of distributions for `project_name`\n",
      "numpy.testing._private.noseclasses.NumpyDocTestFinder._find_lineno\n",
      "    Return a line number of the given object's docstring.  Note:\n",
      "numpy.random.Generator.negative_binomial\n",
      "    Draw samples from a negative binomial distribution.\n",
      "numpy.random.RandomState.random_integers\n",
      "    Random integers of type `np.int_` between `low` and `high`, inclusive.\n",
      "numpy.random.RandomState.standard_cauchy\n",
      "    Draw samples from a standard Cauchy distribution with mode = 0.\n",
      "numpy.random.RandomState.negative_binomial\n",
      "    Draw samples from a negative binomial distribution.\n",
      "numpy.random.Generator.noncentral_chisquare\n",
      "    Draw samples from a noncentral chi-square distribution.\n",
      "numpy.random.RandomState.noncentral_chisquare\n",
      "    Draw samples from a noncentral chi-square distribution.\n",
      "numpy.random.Generator.multivariate_hypergeometric\n",
      "    multivariate_hypergeometric(colors, nsample, size=None,\n",
      "numpy.distutils.misc_util.Configuration.set_options\n",
      "    Configure Configuration instance.\n",
      "numpy.distutils.misc_util.Configuration.add_subpackage\n",
      "    Add a sub-package to the current Configuration instance.\n",
      "numpy.distutils.misc_util.Configuration.get_subpackage\n",
      "    Return list of subpackage configurations.\n",
      "numpy.distutils.misc_util.Configuration.add_npy_pkg_config\n",
      "    Generate and install a npy-pkg config file from a template.\n",
      "numpy.testing._private.noseclasses.NumpyDocTestCase.subTest\n",
      "    Return a context manager that will return the enclosed block\n",
      "numpy.linalg.tests.test_deprecations.test_qr_mode_full_future_warning\n",
      "    Check mode='full' FutureWarning."
     ]
    },
    {
     "name": "stderr",
     "output_type": "stream",
     "text": [
      "C:\\Users\\Shin\\Anaconda3\\lib\\site-packages\\ipykernel_launcher.py:1: DeprecationWarning: scipy.lookfor is deprecated and will be removed in SciPy 2.0.0, use numpy.lookfor instead\n",
      "  \"\"\"Entry point for launching an IPython kernel.\n"
     ]
    }
   ],
   "source": [
    "scipy.lookfor('sum')"
   ]
  },
  {
   "cell_type": "code",
   "execution_count": 25,
   "metadata": {},
   "outputs": [
    {
     "name": "stdout",
     "output_type": "stream",
     "text": [
      "absolute(x, /, out=None, *, where=True, casting='same_kind', order='K', dtype=None, subok=True[, signature, extobj])\n",
      "\n",
      "Calculate the absolute value element-wise.\n",
      "\n",
      "``np.abs`` is a shorthand for this function.\n",
      "\n",
      "Parameters\n",
      "----------\n",
      "x : array_like\n",
      "    Input array.\n",
      "out : ndarray, None, or tuple of ndarray and None, optional\n",
      "    A location into which the result is stored. If provided, it must have\n",
      "    a shape that the inputs broadcast to. If not provided or None,\n",
      "    a freshly-allocated array is returned. A tuple (possible only as a\n",
      "    keyword argument) must have length equal to the number of outputs.\n",
      "where : array_like, optional\n",
      "    This condition is broadcast over the input. At locations where the\n",
      "    condition is True, the `out` array will be set to the ufunc result.\n",
      "    Elsewhere, the `out` array will retain its original value.\n",
      "    Note that if an uninitialized `out` array is created via the default\n",
      "    ``out=None``, locations within it where the condition is False will\n",
      "    remain uninitialized.\n",
      "**kwargs\n",
      "    For other keyword-only arguments, see the\n",
      "    :ref:`ufunc docs <ufuncs.kwargs>`.\n",
      "\n",
      "Returns\n",
      "-------\n",
      "absolute : ndarray\n",
      "    An ndarray containing the absolute value of\n",
      "    each element in `x`.  For complex input, ``a + ib``, the\n",
      "    absolute value is :math:`\\sqrt{ a^2 + b^2 }`.\n",
      "    This is a scalar if `x` is a scalar.\n",
      "\n",
      "Examples\n",
      "--------\n",
      ">>> x = np.array([-1.2, 1.2])\n",
      ">>> np.absolute(x)\n",
      "array([ 1.2,  1.2])\n",
      ">>> np.absolute(1.2 + 1j)\n",
      "1.5620499351813308\n",
      "\n",
      "Plot the function over ``[-10, 10]``:\n",
      "\n",
      ">>> import matplotlib.pyplot as plt\n",
      "\n",
      ">>> x = np.linspace(start=-10, stop=10, num=101)\n",
      ">>> plt.plot(x, np.absolute(x))\n",
      ">>> plt.show()\n",
      "\n",
      "Plot the function over the complex plane:\n",
      "\n",
      ">>> xx = x + 1j * x[:, np.newaxis]\n",
      ">>> plt.imshow(np.abs(xx), extent=[-10, 10, -10, 10], cmap='gray')\n",
      ">>> plt.show()\n"
     ]
    }
   ],
   "source": [
    "np.info(np.abs)"
   ]
  },
  {
   "cell_type": "code",
   "execution_count": 26,
   "metadata": {},
   "outputs": [],
   "source": [
    "a = np.arange(1000, dtype=np.float64)"
   ]
  },
  {
   "cell_type": "code",
   "execution_count": 27,
   "metadata": {},
   "outputs": [],
   "source": [
    "b = np.arange(1000)"
   ]
  },
  {
   "cell_type": "code",
   "execution_count": 28,
   "metadata": {},
   "outputs": [
    {
     "name": "stdout",
     "output_type": "stream",
     "text": [
      "2.02 µs ± 81.6 ns per loop (mean ± std. dev. of 7 runs, 1000000 loops each)\n"
     ]
    }
   ],
   "source": [
    "%timeit a*a"
   ]
  },
  {
   "cell_type": "code",
   "execution_count": 29,
   "metadata": {},
   "outputs": [
    {
     "name": "stdout",
     "output_type": "stream",
     "text": [
      "2.89 µs ± 348 ns per loop (mean ± std. dev. of 7 runs, 100000 loops each)\n"
     ]
    }
   ],
   "source": [
    "%timeit b*b"
   ]
  },
  {
   "cell_type": "code",
   "execution_count": 30,
   "metadata": {},
   "outputs": [],
   "source": [
    "c = np.arange(1000, dtype=np.float16) # == np.arange(1000, dtype='b')"
   ]
  },
  {
   "cell_type": "code",
   "execution_count": 31,
   "metadata": {},
   "outputs": [
    {
     "name": "stdout",
     "output_type": "stream",
     "text": [
      "12.1 µs ± 653 ns per loop (mean ± std. dev. of 7 runs, 100000 loops each)\n"
     ]
    }
   ],
   "source": [
    "%timeit c*c"
   ]
  },
  {
   "cell_type": "code",
   "execution_count": 32,
   "metadata": {},
   "outputs": [
    {
     "data": {
      "text/plain": [
       "{'?': numpy.bool_,\n",
       " 0: numpy.bool_,\n",
       " 'byte': numpy.int8,\n",
       " 'b': numpy.int8,\n",
       " 1: numpy.int8,\n",
       " 'ubyte': numpy.uint8,\n",
       " 'B': numpy.uint8,\n",
       " 2: numpy.uint8,\n",
       " 'short': numpy.int16,\n",
       " 'h': numpy.int16,\n",
       " 3: numpy.int16,\n",
       " 'ushort': numpy.uint16,\n",
       " 'H': numpy.uint16,\n",
       " 4: numpy.uint16,\n",
       " 'i': numpy.intc,\n",
       " 5: numpy.intc,\n",
       " 'uint': numpy.uint32,\n",
       " 'I': numpy.uintc,\n",
       " 6: numpy.uintc,\n",
       " 'intp': numpy.int64,\n",
       " 'p': numpy.int64,\n",
       " 9: numpy.int64,\n",
       " 'uintp': numpy.uint64,\n",
       " 'P': numpy.uint64,\n",
       " 10: numpy.uint64,\n",
       " 'long': numpy.int32,\n",
       " 'l': numpy.int32,\n",
       " 7: numpy.int32,\n",
       " 'L': numpy.uint32,\n",
       " 8: numpy.uint32,\n",
       " 'longlong': numpy.int64,\n",
       " 'q': numpy.int64,\n",
       " 'ulonglong': numpy.uint64,\n",
       " 'Q': numpy.uint64,\n",
       " 'half': numpy.float16,\n",
       " 'e': numpy.float16,\n",
       " 23: numpy.float16,\n",
       " 'f': numpy.float32,\n",
       " 11: numpy.float32,\n",
       " 'double': numpy.float64,\n",
       " 'd': numpy.float64,\n",
       " 12: numpy.float64,\n",
       " 'longdouble': numpy.longdouble,\n",
       " 'g': numpy.longdouble,\n",
       " 13: numpy.longdouble,\n",
       " 'cfloat': numpy.complex128,\n",
       " 'F': numpy.complex64,\n",
       " 14: numpy.complex64,\n",
       " 'cdouble': numpy.complex128,\n",
       " 'D': numpy.complex128,\n",
       " 15: numpy.complex128,\n",
       " 'clongdouble': numpy.clongdouble,\n",
       " 'G': numpy.clongdouble,\n",
       " 16: numpy.clongdouble,\n",
       " 'O': numpy.object_,\n",
       " 17: numpy.object_,\n",
       " 'S': numpy.bytes_,\n",
       " 18: numpy.bytes_,\n",
       " 'unicode': numpy.str_,\n",
       " 'U': numpy.str_,\n",
       " 19: numpy.str_,\n",
       " 'void': numpy.void,\n",
       " 'V': numpy.void,\n",
       " 20: numpy.void,\n",
       " 'M': numpy.datetime64,\n",
       " 21: numpy.datetime64,\n",
       " 'm': numpy.timedelta64,\n",
       " 22: numpy.timedelta64,\n",
       " 'bool8': numpy.bool_,\n",
       " 'Bool': numpy.bool_,\n",
       " 'b1': numpy.bool_,\n",
       " 'int64': numpy.int64,\n",
       " 'Int64': numpy.int64,\n",
       " 'i8': numpy.int64,\n",
       " 'uint64': numpy.uint64,\n",
       " 'Uint64': numpy.uint64,\n",
       " 'u8': numpy.uint64,\n",
       " 'float16': numpy.float16,\n",
       " 'Float16': numpy.float16,\n",
       " 'f2': numpy.float16,\n",
       " 'float32': numpy.float32,\n",
       " 'Float32': numpy.float32,\n",
       " 'f4': numpy.float32,\n",
       " 'float64': numpy.float64,\n",
       " 'Float64': numpy.float64,\n",
       " 'f8': numpy.float64,\n",
       " 'complex64': numpy.complex64,\n",
       " 'Complex32': numpy.complex64,\n",
       " 'c8': numpy.complex64,\n",
       " 'complex128': numpy.complex128,\n",
       " 'Complex64': numpy.complex128,\n",
       " 'c16': numpy.complex128,\n",
       " 'object0': numpy.object_,\n",
       " 'Object0': numpy.object_,\n",
       " 'bytes0': numpy.bytes_,\n",
       " 'Bytes0': numpy.bytes_,\n",
       " 'str0': numpy.str_,\n",
       " 'Str0': numpy.str_,\n",
       " 'void0': numpy.void,\n",
       " 'Void0': numpy.void,\n",
       " 'datetime64': numpy.datetime64,\n",
       " 'Datetime64': numpy.datetime64,\n",
       " 'M8': numpy.datetime64,\n",
       " 'timedelta64': numpy.timedelta64,\n",
       " 'Timedelta64': numpy.timedelta64,\n",
       " 'm8': numpy.timedelta64,\n",
       " 'int32': numpy.int32,\n",
       " 'Int32': numpy.int32,\n",
       " 'i4': numpy.int32,\n",
       " 'uint32': numpy.uint32,\n",
       " 'UInt32': numpy.uint32,\n",
       " 'u4': numpy.uint32,\n",
       " 'UInt64': numpy.uint64,\n",
       " 'int16': numpy.int16,\n",
       " 'Int16': numpy.int16,\n",
       " 'i2': numpy.int16,\n",
       " 'uint16': numpy.uint16,\n",
       " 'UInt16': numpy.uint16,\n",
       " 'u2': numpy.uint16,\n",
       " 'int8': numpy.int8,\n",
       " 'Int8': numpy.int8,\n",
       " 'i1': numpy.int8,\n",
       " 'uint8': numpy.uint8,\n",
       " 'UInt8': numpy.uint8,\n",
       " 'u1': numpy.uint8,\n",
       " 'complex_': numpy.complex128,\n",
       " 'int0': numpy.int64,\n",
       " 'uint0': numpy.uint64,\n",
       " 'single': numpy.float32,\n",
       " 'csingle': numpy.complex64,\n",
       " 'singlecomplex': numpy.complex64,\n",
       " 'float_': numpy.float64,\n",
       " 'intc': numpy.intc,\n",
       " 'uintc': numpy.uintc,\n",
       " 'int_': numpy.int32,\n",
       " 'longfloat': numpy.longdouble,\n",
       " 'clongfloat': numpy.clongdouble,\n",
       " 'longcomplex': numpy.clongdouble,\n",
       " 'bool_': numpy.bool_,\n",
       " 'bytes_': numpy.bytes_,\n",
       " 'string_': numpy.bytes_,\n",
       " 'unicode_': numpy.str_,\n",
       " 'object_': numpy.object_,\n",
       " 'str_': numpy.str_,\n",
       " 'int': numpy.int32,\n",
       " 'float': numpy.float64,\n",
       " 'complex': numpy.complex128,\n",
       " 'bool': numpy.bool_,\n",
       " 'object': numpy.object_,\n",
       " 'str': numpy.str_,\n",
       " 'bytes': numpy.bytes_,\n",
       " 'a': numpy.bytes_}"
      ]
     },
     "execution_count": 32,
     "metadata": {},
     "output_type": "execute_result"
    }
   ],
   "source": [
    "np.sctypeDict"
   ]
  },
  {
   "cell_type": "code",
   "execution_count": 33,
   "metadata": {},
   "outputs": [
    {
     "data": {
      "text/plain": [
       "iinfo(min=-128, max=127, dtype=int8)"
      ]
     },
     "execution_count": 33,
     "metadata": {},
     "output_type": "execute_result"
    }
   ],
   "source": [
    "np.iinfo(np.int8)"
   ]
  },
  {
   "cell_type": "code",
   "execution_count": 34,
   "metadata": {},
   "outputs": [],
   "source": [
    "a = np.array([1,2,3])"
   ]
  },
  {
   "cell_type": "code",
   "execution_count": 35,
   "metadata": {},
   "outputs": [],
   "source": [
    "b = np.asfarray(a) # as float array"
   ]
  },
  {
   "cell_type": "code",
   "execution_count": 36,
   "metadata": {},
   "outputs": [
    {
     "data": {
      "text/plain": [
       "array([1., 2., 3.])"
      ]
     },
     "execution_count": 36,
     "metadata": {},
     "output_type": "execute_result"
    }
   ],
   "source": [
    "b"
   ]
  },
  {
   "cell_type": "code",
   "execution_count": 37,
   "metadata": {},
   "outputs": [],
   "source": [
    "# c = np.fromfunction # np.frombuffer"
   ]
  },
  {
   "cell_type": "code",
   "execution_count": 38,
   "metadata": {},
   "outputs": [
    {
     "data": {
      "text/plain": [
       "array([1, 2, 3], dtype=int64)"
      ]
     },
     "execution_count": 38,
     "metadata": {},
     "output_type": "execute_result"
    }
   ],
   "source": [
    "a.astype('i8')"
   ]
  },
  {
   "cell_type": "code",
   "execution_count": 39,
   "metadata": {},
   "outputs": [
    {
     "data": {
      "text/plain": [
       "array([1, 2, 3], dtype=int64)"
      ]
     },
     "execution_count": 39,
     "metadata": {},
     "output_type": "execute_result"
    }
   ],
   "source": [
    "a.astype(np.int64)"
   ]
  },
  {
   "cell_type": "code",
   "execution_count": 40,
   "metadata": {},
   "outputs": [
    {
     "data": {
      "text/plain": [
       "(244, 7)"
      ]
     },
     "execution_count": 40,
     "metadata": {},
     "output_type": "execute_result"
    }
   ],
   "source": [
    "tips.shape"
   ]
  },
  {
   "cell_type": "code",
   "execution_count": 41,
   "metadata": {},
   "outputs": [
    {
     "data": {
      "text/html": [
       "<div>\n",
       "<style scoped>\n",
       "    .dataframe tbody tr th:only-of-type {\n",
       "        vertical-align: middle;\n",
       "    }\n",
       "\n",
       "    .dataframe tbody tr th {\n",
       "        vertical-align: top;\n",
       "    }\n",
       "\n",
       "    .dataframe thead th {\n",
       "        text-align: right;\n",
       "    }\n",
       "</style>\n",
       "<table border=\"1\" class=\"dataframe\">\n",
       "  <thead>\n",
       "    <tr style=\"text-align: right;\">\n",
       "      <th></th>\n",
       "      <th>total_bill</th>\n",
       "      <th>tip</th>\n",
       "      <th>sex</th>\n",
       "      <th>smoker</th>\n",
       "      <th>day</th>\n",
       "      <th>time</th>\n",
       "      <th>size</th>\n",
       "    </tr>\n",
       "  </thead>\n",
       "  <tbody>\n",
       "    <tr>\n",
       "      <th>0</th>\n",
       "      <td>16.99</td>\n",
       "      <td>1.01</td>\n",
       "      <td>Female</td>\n",
       "      <td>No</td>\n",
       "      <td>Sun</td>\n",
       "      <td>Dinner</td>\n",
       "      <td>2</td>\n",
       "    </tr>\n",
       "    <tr>\n",
       "      <th>1</th>\n",
       "      <td>10.34</td>\n",
       "      <td>1.66</td>\n",
       "      <td>Male</td>\n",
       "      <td>No</td>\n",
       "      <td>Sun</td>\n",
       "      <td>Dinner</td>\n",
       "      <td>3</td>\n",
       "    </tr>\n",
       "    <tr>\n",
       "      <th>2</th>\n",
       "      <td>21.01</td>\n",
       "      <td>3.50</td>\n",
       "      <td>Male</td>\n",
       "      <td>No</td>\n",
       "      <td>Sun</td>\n",
       "      <td>Dinner</td>\n",
       "      <td>3</td>\n",
       "    </tr>\n",
       "    <tr>\n",
       "      <th>3</th>\n",
       "      <td>23.68</td>\n",
       "      <td>3.31</td>\n",
       "      <td>Male</td>\n",
       "      <td>No</td>\n",
       "      <td>Sun</td>\n",
       "      <td>Dinner</td>\n",
       "      <td>2</td>\n",
       "    </tr>\n",
       "    <tr>\n",
       "      <th>4</th>\n",
       "      <td>24.59</td>\n",
       "      <td>3.61</td>\n",
       "      <td>Female</td>\n",
       "      <td>No</td>\n",
       "      <td>Sun</td>\n",
       "      <td>Dinner</td>\n",
       "      <td>4</td>\n",
       "    </tr>\n",
       "    <tr>\n",
       "      <th>...</th>\n",
       "      <td>...</td>\n",
       "      <td>...</td>\n",
       "      <td>...</td>\n",
       "      <td>...</td>\n",
       "      <td>...</td>\n",
       "      <td>...</td>\n",
       "      <td>...</td>\n",
       "    </tr>\n",
       "    <tr>\n",
       "      <th>239</th>\n",
       "      <td>29.03</td>\n",
       "      <td>5.92</td>\n",
       "      <td>Male</td>\n",
       "      <td>No</td>\n",
       "      <td>Sat</td>\n",
       "      <td>Dinner</td>\n",
       "      <td>3</td>\n",
       "    </tr>\n",
       "    <tr>\n",
       "      <th>240</th>\n",
       "      <td>27.18</td>\n",
       "      <td>2.00</td>\n",
       "      <td>Female</td>\n",
       "      <td>Yes</td>\n",
       "      <td>Sat</td>\n",
       "      <td>Dinner</td>\n",
       "      <td>2</td>\n",
       "    </tr>\n",
       "    <tr>\n",
       "      <th>241</th>\n",
       "      <td>22.67</td>\n",
       "      <td>2.00</td>\n",
       "      <td>Male</td>\n",
       "      <td>Yes</td>\n",
       "      <td>Sat</td>\n",
       "      <td>Dinner</td>\n",
       "      <td>2</td>\n",
       "    </tr>\n",
       "    <tr>\n",
       "      <th>242</th>\n",
       "      <td>17.82</td>\n",
       "      <td>1.75</td>\n",
       "      <td>Male</td>\n",
       "      <td>No</td>\n",
       "      <td>Sat</td>\n",
       "      <td>Dinner</td>\n",
       "      <td>2</td>\n",
       "    </tr>\n",
       "    <tr>\n",
       "      <th>243</th>\n",
       "      <td>18.78</td>\n",
       "      <td>3.00</td>\n",
       "      <td>Female</td>\n",
       "      <td>No</td>\n",
       "      <td>Thur</td>\n",
       "      <td>Dinner</td>\n",
       "      <td>2</td>\n",
       "    </tr>\n",
       "  </tbody>\n",
       "</table>\n",
       "<p>244 rows × 7 columns</p>\n",
       "</div>"
      ],
      "text/plain": [
       "     total_bill   tip     sex smoker   day    time  size\n",
       "0         16.99  1.01  Female     No   Sun  Dinner     2\n",
       "1         10.34  1.66    Male     No   Sun  Dinner     3\n",
       "2         21.01  3.50    Male     No   Sun  Dinner     3\n",
       "3         23.68  3.31    Male     No   Sun  Dinner     2\n",
       "4         24.59  3.61  Female     No   Sun  Dinner     4\n",
       "..          ...   ...     ...    ...   ...     ...   ...\n",
       "239       29.03  5.92    Male     No   Sat  Dinner     3\n",
       "240       27.18  2.00  Female    Yes   Sat  Dinner     2\n",
       "241       22.67  2.00    Male    Yes   Sat  Dinner     2\n",
       "242       17.82  1.75    Male     No   Sat  Dinner     2\n",
       "243       18.78  3.00  Female     No  Thur  Dinner     2\n",
       "\n",
       "[244 rows x 7 columns]"
      ]
     },
     "execution_count": 41,
     "metadata": {},
     "output_type": "execute_result"
    }
   ],
   "source": [
    "tips"
   ]
  },
  {
   "cell_type": "code",
   "execution_count": 42,
   "metadata": {},
   "outputs": [
    {
     "data": {
      "text/plain": [
       "<bound method NDFrame.astype of 0      Female\n",
       "1        Male\n",
       "2        Male\n",
       "3        Male\n",
       "4      Female\n",
       "        ...  \n",
       "239      Male\n",
       "240    Female\n",
       "241      Male\n",
       "242      Male\n",
       "243    Female\n",
       "Name: sex, Length: 244, dtype: category\n",
       "Categories (2, object): ['Male', 'Female']>"
      ]
     },
     "execution_count": 42,
     "metadata": {},
     "output_type": "execute_result"
    }
   ],
   "source": [
    "tips.sex.astype"
   ]
  },
  {
   "cell_type": "code",
   "execution_count": 43,
   "metadata": {},
   "outputs": [
    {
     "data": {
      "text/plain": [
       "0      Female\n",
       "1        Male\n",
       "2        Male\n",
       "3        Male\n",
       "4      Female\n",
       "        ...  \n",
       "239      Male\n",
       "240    Female\n",
       "241      Male\n",
       "242      Male\n",
       "243    Female\n",
       "Name: sex, Length: 244, dtype: object"
      ]
     },
     "execution_count": 43,
     "metadata": {},
     "output_type": "execute_result"
    }
   ],
   "source": [
    "tips.sex.astype('object')"
   ]
  },
  {
   "cell_type": "code",
   "execution_count": 44,
   "metadata": {},
   "outputs": [],
   "source": [
    "x = np.array([('Rex', 9, 81.0), ('Fido', 3, 27.0)],\n",
    "             dtype=[('name', 'U10'), ('age', 'i4'), ('weight', 'f4')])"
   ]
  },
  {
   "cell_type": "code",
   "execution_count": 45,
   "metadata": {},
   "outputs": [
    {
     "data": {
      "text/plain": [
       "array([('Rex', 9, 81.), ('Fido', 3, 27.)],\n",
       "      dtype=[('name', '<U10'), ('age', '<i4'), ('weight', '<f4')])"
      ]
     },
     "execution_count": 45,
     "metadata": {},
     "output_type": "execute_result"
    }
   ],
   "source": [
    "x"
   ]
  },
  {
   "cell_type": "code",
   "execution_count": 46,
   "metadata": {},
   "outputs": [],
   "source": [
    "recordarr = np.rec.array([(1, 2., 'Hello'), (2, 3., \"World\")],\n",
    "                         dtype=[('foo', 'i4'),('bar', 'f4'), ('baz', 'S10')])"
   ]
  },
  {
   "cell_type": "code",
   "execution_count": 47,
   "metadata": {},
   "outputs": [
    {
     "data": {
      "text/plain": [
       "rec.array([(1, 2., b'Hello'), (2, 3., b'World')],\n",
       "          dtype=[('foo', '<i4'), ('bar', '<f4'), ('baz', 'S10')])"
      ]
     },
     "execution_count": 47,
     "metadata": {},
     "output_type": "execute_result"
    }
   ],
   "source": [
    "recordarr"
   ]
  },
  {
   "cell_type": "code",
   "execution_count": 48,
   "metadata": {},
   "outputs": [],
   "source": [
    "a = np.arange(25)"
   ]
  },
  {
   "cell_type": "code",
   "execution_count": 49,
   "metadata": {},
   "outputs": [
    {
     "data": {
      "text/plain": [
       "array([[ 0,  1,  2,  3,  4],\n",
       "       [ 5,  6,  7,  8,  9],\n",
       "       [10, 11, 12, 13, 14],\n",
       "       [15, 16, 17, 18, 19],\n",
       "       [20, 21, 22, 23, 24]])"
      ]
     },
     "execution_count": 49,
     "metadata": {},
     "output_type": "execute_result"
    }
   ],
   "source": [
    "a.reshape(5,5)"
   ]
  },
  {
   "cell_type": "code",
   "execution_count": 50,
   "metadata": {},
   "outputs": [],
   "source": [
    "a.resize(5,4,refcheck=False)"
   ]
  },
  {
   "cell_type": "code",
   "execution_count": 51,
   "metadata": {},
   "outputs": [
    {
     "data": {
      "text/plain": [
       "array([[ 0,  1,  2,  3],\n",
       "       [ 4,  5,  6,  7],\n",
       "       [ 8,  9, 10, 11],\n",
       "       [12, 13, 14, 15],\n",
       "       [16, 17, 18, 19]])"
      ]
     },
     "execution_count": 51,
     "metadata": {},
     "output_type": "execute_result"
    }
   ],
   "source": [
    "a"
   ]
  },
  {
   "cell_type": "code",
   "execution_count": 52,
   "metadata": {},
   "outputs": [],
   "source": [
    "# resize: size를 바꿔줌 # reshape: shape만 바꿔줌"
   ]
  },
  {
   "cell_type": "code",
   "execution_count": 53,
   "metadata": {},
   "outputs": [],
   "source": [
    "a.shape = (4,5)"
   ]
  },
  {
   "cell_type": "code",
   "execution_count": 54,
   "metadata": {},
   "outputs": [
    {
     "data": {
      "text/plain": [
       "array([[ 0,  1,  2,  3,  4],\n",
       "       [ 5,  6,  7,  8,  9],\n",
       "       [10, 11, 12, 13, 14],\n",
       "       [15, 16, 17, 18, 19]])"
      ]
     },
     "execution_count": 54,
     "metadata": {},
     "output_type": "execute_result"
    }
   ],
   "source": [
    "a # 웬만하면 사용하지 말 것"
   ]
  },
  {
   "cell_type": "code",
   "execution_count": 55,
   "metadata": {},
   "outputs": [],
   "source": [
    "x = np.arange(25).reshape(5,5)"
   ]
  },
  {
   "cell_type": "code",
   "execution_count": 56,
   "metadata": {},
   "outputs": [
    {
     "data": {
      "text/plain": [
       "array([[ 0,  1,  2,  3,  4],\n",
       "       [ 5,  6,  7,  8,  9],\n",
       "       [10, 11, 12, 13, 14],\n",
       "       [15, 16, 17, 18, 19],\n",
       "       [20, 21, 22, 23, 24]])"
      ]
     },
     "execution_count": 56,
     "metadata": {},
     "output_type": "execute_result"
    }
   ],
   "source": [
    "x"
   ]
  },
  {
   "cell_type": "code",
   "execution_count": 57,
   "metadata": {},
   "outputs": [],
   "source": [
    "from sklearn.model_selection import train_test_split"
   ]
  },
  {
   "cell_type": "code",
   "execution_count": 58,
   "metadata": {},
   "outputs": [],
   "source": [
    "import inspect"
   ]
  },
  {
   "cell_type": "code",
   "execution_count": 59,
   "metadata": {},
   "outputs": [
    {
     "name": "stdout",
     "output_type": "stream",
     "text": [
      "def train_test_split(*arrays, **options):\n",
      "    \"\"\"Split arrays or matrices into random train and test subsets\n",
      "\n",
      "    Quick utility that wraps input validation and\n",
      "    ``next(ShuffleSplit().split(X, y))`` and application to input data\n",
      "    into a single call for splitting (and optionally subsampling) data in a\n",
      "    oneliner.\n",
      "\n",
      "    Read more in the :ref:`User Guide <cross_validation>`.\n",
      "\n",
      "    Parameters\n",
      "    ----------\n",
      "    *arrays : sequence of indexables with same length / shape[0]\n",
      "        Allowed inputs are lists, numpy arrays, scipy-sparse\n",
      "        matrices or pandas dataframes.\n",
      "\n",
      "    test_size : float, int or None, optional (default=None)\n",
      "        If float, should be between 0.0 and 1.0 and represent the proportion\n",
      "        of the dataset to include in the test split. If int, represents the\n",
      "        absolute number of test samples. If None, the value is set to the\n",
      "        complement of the train size. If ``train_size`` is also None, it will\n",
      "        be set to 0.25.\n",
      "\n",
      "    train_size : float, int, or None, (default=None)\n",
      "        If float, should be between 0.0 and 1.0 and represent the\n",
      "        proportion of the dataset to include in the train split. If\n",
      "        int, represents the absolute number of train samples. If None,\n",
      "        the value is automatically set to the complement of the test size.\n",
      "\n",
      "    random_state : int, RandomState instance or None, optional (default=None)\n",
      "        If int, random_state is the seed used by the random number generator;\n",
      "        If RandomState instance, random_state is the random number generator;\n",
      "        If None, the random number generator is the RandomState instance used\n",
      "        by `np.random`.\n",
      "\n",
      "    shuffle : boolean, optional (default=True)\n",
      "        Whether or not to shuffle the data before splitting. If shuffle=False\n",
      "        then stratify must be None.\n",
      "\n",
      "    stratify : array-like or None (default=None)\n",
      "        If not None, data is split in a stratified fashion, using this as\n",
      "        the class labels.\n",
      "\n",
      "    Returns\n",
      "    -------\n",
      "    splitting : list, length=2 * len(arrays)\n",
      "        List containing train-test split of inputs.\n",
      "\n",
      "        .. versionadded:: 0.16\n",
      "            If the input is sparse, the output will be a\n",
      "            ``scipy.sparse.csr_matrix``. Else, output type is the same as the\n",
      "            input type.\n",
      "\n",
      "    Examples\n",
      "    --------\n",
      "    >>> import numpy as np\n",
      "    >>> from sklearn.model_selection import train_test_split\n",
      "    >>> X, y = np.arange(10).reshape((5, 2)), range(5)\n",
      "    >>> X\n",
      "    array([[0, 1],\n",
      "           [2, 3],\n",
      "           [4, 5],\n",
      "           [6, 7],\n",
      "           [8, 9]])\n",
      "    >>> list(y)\n",
      "    [0, 1, 2, 3, 4]\n",
      "\n",
      "    >>> X_train, X_test, y_train, y_test = train_test_split(\n",
      "    ...     X, y, test_size=0.33, random_state=42)\n",
      "    ...\n",
      "    >>> X_train\n",
      "    array([[4, 5],\n",
      "           [0, 1],\n",
      "           [6, 7]])\n",
      "    >>> y_train\n",
      "    [2, 0, 3]\n",
      "    >>> X_test\n",
      "    array([[2, 3],\n",
      "           [8, 9]])\n",
      "    >>> y_test\n",
      "    [1, 4]\n",
      "\n",
      "    >>> train_test_split(y, shuffle=False)\n",
      "    [[0, 1, 2], [3, 4]]\n",
      "\n",
      "    \"\"\"\n",
      "    n_arrays = len(arrays)\n",
      "    if n_arrays == 0:\n",
      "        raise ValueError(\"At least one array required as input\")\n",
      "    test_size = options.pop('test_size', None)\n",
      "    train_size = options.pop('train_size', None)\n",
      "    random_state = options.pop('random_state', None)\n",
      "    stratify = options.pop('stratify', None)\n",
      "    shuffle = options.pop('shuffle', True)\n",
      "\n",
      "    if options:\n",
      "        raise TypeError(\"Invalid parameters passed: %s\" % str(options))\n",
      "\n",
      "    arrays = indexable(*arrays)\n",
      "\n",
      "    n_samples = _num_samples(arrays[0])\n",
      "    n_train, n_test = _validate_shuffle_split(n_samples, test_size, train_size,\n",
      "                                              default_test_size=0.25)\n",
      "\n",
      "    if shuffle is False:\n",
      "        if stratify is not None:\n",
      "            raise ValueError(\n",
      "                \"Stratified train/test split is not implemented for \"\n",
      "                \"shuffle=False\")\n",
      "\n",
      "        train = np.arange(n_train)\n",
      "        test = np.arange(n_train, n_train + n_test)\n",
      "\n",
      "    else:\n",
      "        if stratify is not None:\n",
      "            CVClass = StratifiedShuffleSplit\n",
      "        else:\n",
      "            CVClass = ShuffleSplit\n",
      "\n",
      "        cv = CVClass(test_size=n_test,\n",
      "                     train_size=n_train,\n",
      "                     random_state=random_state)\n",
      "\n",
      "        train, test = next(cv.split(X=arrays[0], y=stratify))\n",
      "\n",
      "    return list(chain.from_iterable((_safe_indexing(a, train),\n",
      "                                     _safe_indexing(a, test)) for a in arrays))\n",
      "\n"
     ]
    }
   ],
   "source": [
    "print(inspect.getsource(train_test_split))"
   ]
  },
  {
   "cell_type": "code",
   "execution_count": 60,
   "metadata": {},
   "outputs": [],
   "source": [
    "y = np.arange(24).reshape(4,6)"
   ]
  },
  {
   "cell_type": "code",
   "execution_count": 61,
   "metadata": {},
   "outputs": [
    {
     "data": {
      "text/plain": [
       "array([[ 0,  1,  2,  3,  4,  5],\n",
       "       [ 6,  7,  8,  9, 10, 11],\n",
       "       [12, 13, 14, 15, 16, 17],\n",
       "       [18, 19, 20, 21, 22, 23]])"
      ]
     },
     "execution_count": 61,
     "metadata": {},
     "output_type": "execute_result"
    }
   ],
   "source": [
    "y"
   ]
  },
  {
   "cell_type": "code",
   "execution_count": 62,
   "metadata": {},
   "outputs": [
    {
     "data": {
      "text/plain": [
       "[array([[ 0,  1,  2,  3,  4,  5],\n",
       "        [ 6,  7,  8,  9, 10, 11]]),\n",
       " array([[12, 13, 14, 15, 16, 17],\n",
       "        [18, 19, 20, 21, 22, 23]])]"
      ]
     },
     "execution_count": 62,
     "metadata": {},
     "output_type": "execute_result"
    }
   ],
   "source": [
    "np.vsplit(y, 2)"
   ]
  },
  {
   "cell_type": "code",
   "execution_count": 63,
   "metadata": {},
   "outputs": [
    {
     "data": {
      "text/plain": [
       "[array([[ 0,  1,  2],\n",
       "        [ 6,  7,  8],\n",
       "        [12, 13, 14],\n",
       "        [18, 19, 20]]),\n",
       " array([[ 3,  4,  5],\n",
       "        [ 9, 10, 11],\n",
       "        [15, 16, 17],\n",
       "        [21, 22, 23]])]"
      ]
     },
     "execution_count": 63,
     "metadata": {},
     "output_type": "execute_result"
    }
   ],
   "source": [
    "np.hsplit(y, 2)"
   ]
  },
  {
   "cell_type": "code",
   "execution_count": 64,
   "metadata": {},
   "outputs": [
    {
     "ename": "ValueError",
     "evalue": "array split does not result in an equal division",
     "output_type": "error",
     "traceback": [
      "\u001b[1;31m---------------------------------------------------------------------------\u001b[0m",
      "\u001b[1;31mTypeError\u001b[0m                                 Traceback (most recent call last)",
      "\u001b[1;32m~\\Anaconda3\\lib\\site-packages\\numpy\\lib\\shape_base.py\u001b[0m in \u001b[0;36msplit\u001b[1;34m(ary, indices_or_sections, axis)\u001b[0m\n\u001b[0;32m    864\u001b[0m     \u001b[1;32mtry\u001b[0m\u001b[1;33m:\u001b[0m\u001b[1;33m\u001b[0m\u001b[1;33m\u001b[0m\u001b[0m\n\u001b[1;32m--> 865\u001b[1;33m         \u001b[0mlen\u001b[0m\u001b[1;33m(\u001b[0m\u001b[0mindices_or_sections\u001b[0m\u001b[1;33m)\u001b[0m\u001b[1;33m\u001b[0m\u001b[1;33m\u001b[0m\u001b[0m\n\u001b[0m\u001b[0;32m    866\u001b[0m     \u001b[1;32mexcept\u001b[0m \u001b[0mTypeError\u001b[0m\u001b[1;33m:\u001b[0m\u001b[1;33m\u001b[0m\u001b[1;33m\u001b[0m\u001b[0m\n",
      "\u001b[1;31mTypeError\u001b[0m: object of type 'int' has no len()",
      "\nDuring handling of the above exception, another exception occurred:\n",
      "\u001b[1;31mValueError\u001b[0m                                Traceback (most recent call last)",
      "\u001b[1;32m<ipython-input-64-d48c9dee0c2e>\u001b[0m in \u001b[0;36m<module>\u001b[1;34m\u001b[0m\n\u001b[1;32m----> 1\u001b[1;33m \u001b[0mnp\u001b[0m\u001b[1;33m.\u001b[0m\u001b[0mvsplit\u001b[0m\u001b[1;33m(\u001b[0m\u001b[0mx\u001b[0m\u001b[1;33m,\u001b[0m \u001b[1;36m2\u001b[0m\u001b[1;33m)\u001b[0m\u001b[1;33m\u001b[0m\u001b[1;33m\u001b[0m\u001b[0m\n\u001b[0m",
      "\u001b[1;32m<__array_function__ internals>\u001b[0m in \u001b[0;36mvsplit\u001b[1;34m(*args, **kwargs)\u001b[0m\n",
      "\u001b[1;32m~\\Anaconda3\\lib\\site-packages\\numpy\\lib\\shape_base.py\u001b[0m in \u001b[0;36mvsplit\u001b[1;34m(ary, indices_or_sections)\u001b[0m\n\u001b[0;32m    987\u001b[0m     \u001b[1;32mif\u001b[0m \u001b[0m_nx\u001b[0m\u001b[1;33m.\u001b[0m\u001b[0mndim\u001b[0m\u001b[1;33m(\u001b[0m\u001b[0mary\u001b[0m\u001b[1;33m)\u001b[0m \u001b[1;33m<\u001b[0m \u001b[1;36m2\u001b[0m\u001b[1;33m:\u001b[0m\u001b[1;33m\u001b[0m\u001b[1;33m\u001b[0m\u001b[0m\n\u001b[0;32m    988\u001b[0m         \u001b[1;32mraise\u001b[0m \u001b[0mValueError\u001b[0m\u001b[1;33m(\u001b[0m\u001b[1;34m'vsplit only works on arrays of 2 or more dimensions'\u001b[0m\u001b[1;33m)\u001b[0m\u001b[1;33m\u001b[0m\u001b[1;33m\u001b[0m\u001b[0m\n\u001b[1;32m--> 989\u001b[1;33m     \u001b[1;32mreturn\u001b[0m \u001b[0msplit\u001b[0m\u001b[1;33m(\u001b[0m\u001b[0mary\u001b[0m\u001b[1;33m,\u001b[0m \u001b[0mindices_or_sections\u001b[0m\u001b[1;33m,\u001b[0m \u001b[1;36m0\u001b[0m\u001b[1;33m)\u001b[0m\u001b[1;33m\u001b[0m\u001b[1;33m\u001b[0m\u001b[0m\n\u001b[0m\u001b[0;32m    990\u001b[0m \u001b[1;33m\u001b[0m\u001b[0m\n\u001b[0;32m    991\u001b[0m \u001b[1;33m\u001b[0m\u001b[0m\n",
      "\u001b[1;32m<__array_function__ internals>\u001b[0m in \u001b[0;36msplit\u001b[1;34m(*args, **kwargs)\u001b[0m\n",
      "\u001b[1;32m~\\Anaconda3\\lib\\site-packages\\numpy\\lib\\shape_base.py\u001b[0m in \u001b[0;36msplit\u001b[1;34m(ary, indices_or_sections, axis)\u001b[0m\n\u001b[0;32m    869\u001b[0m         \u001b[1;32mif\u001b[0m \u001b[0mN\u001b[0m \u001b[1;33m%\u001b[0m \u001b[0msections\u001b[0m\u001b[1;33m:\u001b[0m\u001b[1;33m\u001b[0m\u001b[1;33m\u001b[0m\u001b[0m\n\u001b[0;32m    870\u001b[0m             raise ValueError(\n\u001b[1;32m--> 871\u001b[1;33m                 'array split does not result in an equal division')\n\u001b[0m\u001b[0;32m    872\u001b[0m     \u001b[1;32mreturn\u001b[0m \u001b[0marray_split\u001b[0m\u001b[1;33m(\u001b[0m\u001b[0mary\u001b[0m\u001b[1;33m,\u001b[0m \u001b[0mindices_or_sections\u001b[0m\u001b[1;33m,\u001b[0m \u001b[0maxis\u001b[0m\u001b[1;33m)\u001b[0m\u001b[1;33m\u001b[0m\u001b[1;33m\u001b[0m\u001b[0m\n\u001b[0;32m    873\u001b[0m \u001b[1;33m\u001b[0m\u001b[0m\n",
      "\u001b[1;31mValueError\u001b[0m: array split does not result in an equal division"
     ]
    }
   ],
   "source": [
    "np.vsplit(x, 2)"
   ]
  },
  {
   "cell_type": "code",
   "execution_count": 65,
   "metadata": {},
   "outputs": [
    {
     "data": {
      "text/plain": [
       "[array([[0, 1, 2, 3, 4],\n",
       "        [5, 6, 7, 8, 9]]),\n",
       " array([[10, 11, 12, 13, 14]]),\n",
       " array([[15, 16, 17, 18, 19],\n",
       "        [20, 21, 22, 23, 24]])]"
      ]
     },
     "execution_count": 65,
     "metadata": {},
     "output_type": "execute_result"
    }
   ],
   "source": [
    "np.vsplit(x, (2,3))"
   ]
  },
  {
   "cell_type": "code",
   "execution_count": 66,
   "metadata": {},
   "outputs": [
    {
     "data": {
      "text/plain": [
       "<function numpy.split(ary, indices_or_sections, axis=0)>"
      ]
     },
     "execution_count": 66,
     "metadata": {},
     "output_type": "execute_result"
    }
   ],
   "source": [
    "np.split # axis가 숨어있다"
   ]
  },
  {
   "cell_type": "code",
   "execution_count": 67,
   "metadata": {},
   "outputs": [
    {
     "data": {
      "text/plain": [
       "3"
      ]
     },
     "execution_count": 67,
     "metadata": {},
     "output_type": "execute_result"
    }
   ],
   "source": [
    "len(np.vsplit(x, (2,3)))"
   ]
  },
  {
   "cell_type": "code",
   "execution_count": 68,
   "metadata": {},
   "outputs": [],
   "source": [
    "a,b = np.vsplit(y, 2) #unpacking"
   ]
  },
  {
   "cell_type": "code",
   "execution_count": 69,
   "metadata": {},
   "outputs": [
    {
     "data": {
      "text/plain": [
       "array([[ 0,  1,  2,  3,  4,  5],\n",
       "       [ 6,  7,  8,  9, 10, 11]])"
      ]
     },
     "execution_count": 69,
     "metadata": {},
     "output_type": "execute_result"
    }
   ],
   "source": [
    "a"
   ]
  },
  {
   "cell_type": "code",
   "execution_count": 70,
   "metadata": {},
   "outputs": [
    {
     "data": {
      "text/plain": [
       "array([[12, 13, 14, 15, 16, 17],\n",
       "       [18, 19, 20, 21, 22, 23]])"
      ]
     },
     "execution_count": 70,
     "metadata": {},
     "output_type": "execute_result"
    }
   ],
   "source": [
    "b"
   ]
  },
  {
   "cell_type": "code",
   "execution_count": 71,
   "metadata": {},
   "outputs": [
    {
     "data": {
      "text/plain": [
       "array([[[ 0,  1,  2,  3,  4,  5],\n",
       "        [ 6,  7,  8,  9, 10, 11]],\n",
       "\n",
       "       [[12, 13, 14, 15, 16, 17],\n",
       "        [18, 19, 20, 21, 22, 23]]])"
      ]
     },
     "execution_count": 71,
     "metadata": {},
     "output_type": "execute_result"
    }
   ],
   "source": [
    "np.stack([a,b]) # 차원을 증가시켜 합친다"
   ]
  },
  {
   "cell_type": "code",
   "execution_count": 72,
   "metadata": {},
   "outputs": [
    {
     "data": {
      "text/plain": [
       "array([[ 0,  1,  2,  3,  4,  5],\n",
       "       [ 6,  7,  8,  9, 10, 11],\n",
       "       [12, 13, 14, 15, 16, 17],\n",
       "       [18, 19, 20, 21, 22, 23]])"
      ]
     },
     "execution_count": 72,
     "metadata": {},
     "output_type": "execute_result"
    }
   ],
   "source": [
    "np.vstack([a,b])"
   ]
  },
  {
   "cell_type": "code",
   "execution_count": 73,
   "metadata": {},
   "outputs": [
    {
     "data": {
      "text/plain": [
       "array([[ 0,  1,  2,  3,  4,  5, 12, 13, 14, 15, 16, 17],\n",
       "       [ 6,  7,  8,  9, 10, 11, 18, 19, 20, 21, 22, 23]])"
      ]
     },
     "execution_count": 73,
     "metadata": {},
     "output_type": "execute_result"
    }
   ],
   "source": [
    "np.hstack([a,b])"
   ]
  },
  {
   "cell_type": "code",
   "execution_count": 74,
   "metadata": {},
   "outputs": [
    {
     "data": {
      "text/plain": [
       "array([[ 0,  1,  2,  3,  4,  5],\n",
       "       [ 6,  7,  8,  9, 10, 11],\n",
       "       [12, 13, 14, 15, 16, 17],\n",
       "       [18, 19, 20, 21, 22, 23]])"
      ]
     },
     "execution_count": 74,
     "metadata": {},
     "output_type": "execute_result"
    }
   ],
   "source": [
    "np.concatenate([a,b]) # stack이 아니라 concatenate"
   ]
  },
  {
   "cell_type": "code",
   "execution_count": 75,
   "metadata": {},
   "outputs": [
    {
     "data": {
      "text/plain": [
       "<numpy.lib.index_tricks.RClass at 0x226dd1b7c08>"
      ]
     },
     "execution_count": 75,
     "metadata": {},
     "output_type": "execute_result"
    }
   ],
   "source": [
    "np.r_"
   ]
  },
  {
   "cell_type": "code",
   "execution_count": 76,
   "metadata": {},
   "outputs": [
    {
     "data": {
      "text/plain": [
       "array([[ 0,  1,  2,  3,  4,  5],\n",
       "       [ 6,  7,  8,  9, 10, 11],\n",
       "       [12, 13, 14, 15, 16, 17],\n",
       "       [18, 19, 20, 21, 22, 23]])"
      ]
     },
     "execution_count": 76,
     "metadata": {},
     "output_type": "execute_result"
    }
   ],
   "source": [
    "np.r_[a,b]"
   ]
  },
  {
   "cell_type": "code",
   "execution_count": 77,
   "metadata": {
    "scrolled": true
   },
   "outputs": [
    {
     "data": {
      "text/plain": [
       "array([[ 0,  1,  2,  3,  4,  5, 12, 13, 14, 15, 16, 17],\n",
       "       [ 6,  7,  8,  9, 10, 11, 18, 19, 20, 21, 22, 23]])"
      ]
     },
     "execution_count": 77,
     "metadata": {},
     "output_type": "execute_result"
    }
   ],
   "source": [
    "np.c_[a,b]"
   ]
  },
  {
   "cell_type": "code",
   "execution_count": null,
   "metadata": {},
   "outputs": [],
   "source": []
  }
 ],
 "metadata": {
  "kernelspec": {
   "display_name": "Python 3",
   "language": "python",
   "name": "python3"
  },
  "language_info": {
   "codemirror_mode": {
    "name": "ipython",
    "version": 3
   },
   "file_extension": ".py",
   "mimetype": "text/x-python",
   "name": "python",
   "nbconvert_exporter": "python",
   "pygments_lexer": "ipython3",
   "version": "3.7.6"
  }
 },
 "nbformat": 4,
 "nbformat_minor": 4
}
