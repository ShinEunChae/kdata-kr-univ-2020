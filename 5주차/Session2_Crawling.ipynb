{
 "cells": [
  {
   "cell_type": "code",
   "execution_count": null,
   "metadata": {},
   "outputs": [],
   "source": [
    "# IR Components\n",
    "# 1. Crawler + Indexer -> Crawler / Indexer\n",
    "# 2. Doc Analyzer -> (Improved) BoW\n",
    "# 3. Query -> 2번과 동일 -> DTM(TDM)\n",
    "# 4. Ranking Model"
   ]
  },
  {
   "cell_type": "markdown",
   "metadata": {},
   "source": [
    "## 1-1. (Focused) Crawler (탐색기법: BFS) - 네이버 뉴스"
   ]
  },
  {
   "cell_type": "code",
   "execution_count": 1,
   "metadata": {},
   "outputs": [],
   "source": [
    "from requests import get\n",
    "from requests.compat import urljoin\n",
    "from os import listdir\n",
    "from bs4 import BeautifulSoup\n",
    "\n",
    "urls = ['https://news.naver.com']\n",
    "visited = list() # 갔던 목록 필요하므로\n",
    "\n",
    "while urls:\n",
    "    seed = urls.pop(0) # Queue\n",
    "    visited.append(seed)\n",
    "    \n",
    "    dom = BeautifulSoup(get(seed).text, 'html.parser')"
   ]
  },
  {
   "cell_type": "code",
   "execution_count": 2,
   "metadata": {},
   "outputs": [
    {
     "data": {
      "text/plain": [
       "[<div id=\"right.ranking_contents\"></div>]"
      ]
     },
     "execution_count": 2,
     "metadata": {},
     "output_type": "execute_result"
    }
   ],
   "source": [
    "dom.select('#right.ranking_contents')"
   ]
  },
  {
   "cell_type": "code",
   "execution_count": 3,
   "metadata": {},
   "outputs": [
    {
     "data": {
      "text/plain": [
       "[<div id=\"ranking_100\" style=\"display:none\">\n",
       " <h5 class=\"blind\">정치</h5>\n",
       " <ul class=\"section_list_ranking\">\n",
       " <li><span class=\"rank num1\"><em>1</em></span> <a class=\"nclicks(rig.rankpol)\" href=\"/main/ranking/read.nhn?mid=etc&amp;sid1=111&amp;rankingType=popular_day&amp;oid=081&amp;aid=0003114437&amp;date=20200810&amp;type=1&amp;rankingSeq=1&amp;rankingSectionId=100\" title=\"[속보] 문 대통령 “집값 진정 양상…부동산 감독기구 설치 검토”\">[속보] 문 대통령 “집값 진정 양상…부동산 감독기구 설치 검토”</a> </li>\n",
       " <li><span class=\"rank num2\"><em>2</em></span> <a class=\"nclicks(rig.rankpol)\" href=\"/main/ranking/read.nhn?mid=etc&amp;sid1=111&amp;rankingType=popular_day&amp;oid=215&amp;aid=0000892691&amp;date=20200810&amp;type=1&amp;rankingSeq=2&amp;rankingSectionId=100\" title='[속보] 김진애 \"다주택자 왜 적대시하냐, 노영민 과했다\"'>[속보] 김진애 \"다주택자 왜 적대시하냐, 노영민 과했다\"</a> </li>\n",
       " <li><span class=\"rank num3\"><em>3</em></span> <a class=\"nclicks(rig.rankpol)\" href=\"/main/ranking/read.nhn?mid=etc&amp;sid1=111&amp;rankingType=popular_day&amp;oid=001&amp;aid=0011804920&amp;date=20200810&amp;type=1&amp;rankingSeq=3&amp;rankingSectionId=100\" title='문대통령 \"집값 진정 양상…부동산감독기구 설치\"(종합)'>문대통령 \"집값 진정 양상…부동산감독기구 설치\"(종합)</a> </li>\n",
       " <li><span class=\"rank num4\"><em>4</em></span> <a class=\"nclicks(rig.rankpol)\" href=\"/main/ranking/read.nhn?mid=etc&amp;sid1=111&amp;rankingType=popular_day&amp;oid=277&amp;aid=0004734195&amp;date=20200810&amp;type=0&amp;rankingSeq=4&amp;rankingSectionId=100\" title='[속보]文대통령 \"주택 문제, 당면한 최고의 민생 문제\"'>[속보]文대통령 \"주택 문제, 당면한 최고의 민생 문제\"</a> </li>\n",
       " <li><span class=\"rank num5\"><em>5</em></span> <a class=\"nclicks(rig.rankpol)\" href=\"/main/ranking/read.nhn?mid=etc&amp;sid1=111&amp;rankingType=popular_day&amp;oid=023&amp;aid=0003552760&amp;date=20200810&amp;type=1&amp;rankingSeq=5&amp;rankingSectionId=100\" title='\"티셔츠가 왜 이리 깨끗?\" 심상정 수해복구 인증샷 구설'>\"티셔츠가 왜 이리 깨끗?\" 심상정 수해복구 인증샷 구설</a> </li>\n",
       " <li><span class=\"rank num6\"><em>6</em></span> <a class=\"nclicks(rig.rankpol)\" href=\"/main/ranking/read.nhn?mid=etc&amp;sid1=111&amp;rankingType=popular_day&amp;oid=009&amp;aid=0004632222&amp;date=20200810&amp;type=1&amp;rankingSeq=6&amp;rankingSectionId=100\" title=\"수해현장 달려갔지만…`흙탕범벅` 태영호 `깔끔` 심상정\">수해현장 달려갔지만…`흙탕범벅` 태영호 `깔끔` 심상정</a> </li>\n",
       " <li><span class=\"rank num7\"><em>7</em></span> <a class=\"nclicks(rig.rankpol)\" href=\"/main/ranking/read.nhn?mid=etc&amp;sid1=111&amp;rankingType=popular_day&amp;oid=022&amp;aid=0003492251&amp;date=20200810&amp;type=1&amp;rankingSeq=7&amp;rankingSectionId=100\" title=\"‘4주택자’ 김진애 “靑 참모들 집 매각은 노영민 개인 생각… 과했다”\">‘4주택자’ 김진애 “靑 참모들 집 매각은 노영민 개인 생각… 과했다”</a> </li>\n",
       " <li><span class=\"rank num8\"><em>8</em></span> <a class=\"nclicks(rig.rankpol)\" href=\"/main/ranking/read.nhn?mid=etc&amp;sid1=111&amp;rankingType=popular_day&amp;oid=025&amp;aid=0003024870&amp;date=20200810&amp;type=1&amp;rankingSeq=8&amp;rankingSectionId=100\" title=\"영·호남 화합 상징 화개장터, 물난리 원인 놓고 여야 갈라섰다\">영·호남 화합 상징 화개장터, 물난리 원인 놓고 여야 갈라섰다</a> </li>\n",
       " <li><span class=\"rank num9\"><em>9</em></span> <a class=\"nclicks(rig.rankpol)\" href=\"/main/ranking/read.nhn?mid=etc&amp;sid1=111&amp;rankingType=popular_day&amp;oid=025&amp;aid=0003024878&amp;date=20200810&amp;type=1&amp;rankingSeq=9&amp;rankingSectionId=100\" title=\"'靑참모 줄사표' 언급 없이…文 &quot;집값 진정됐다, 경제 선방했다&quot;\">'靑참모 줄사표' 언급 없이…文 \"집값 진정됐다, 경제 선방했다\"</a> </li>\n",
       " <li><span class=\"rank num10\"><em>10</em></span> <a class=\"nclicks(rig.rankpol)\" href=\"/main/ranking/read.nhn?mid=etc&amp;sid1=111&amp;rankingType=popular_day&amp;oid=081&amp;aid=0003114428&amp;date=20200810&amp;type=1&amp;rankingSeq=10&amp;rankingSectionId=100\" title=\"폭우가 소환한 4대강…文 “홍수조절 효과 분석할 기회”(종합)\">폭우가 소환한 4대강…文 “홍수조절 효과 분석할 기회”(종합)</a> </li>\n",
       " </ul>\n",
       " <a class=\"more_link\" href=\"/main/ranking/popularDay.nhn\"><span class=\"blind\">가장 많이 본 뉴스</span>더보기</a>\n",
       " </div>,\n",
       " <div id=\"ranking_101\" style=\"display:none\">\n",
       " <h5 class=\"blind\">경제</h5>\n",
       " <ul class=\"section_list_ranking\">\n",
       " <li><span class=\"rank num1\"><em>1</em></span> <a class=\"nclicks(rig.rankeco)\" href=\"/main/ranking/read.nhn?mid=etc&amp;sid1=111&amp;rankingType=popular_day&amp;oid=025&amp;aid=0003024865&amp;date=20200810&amp;type=1&amp;rankingSeq=1&amp;rankingSectionId=101\" title=\"정용진·백종원 '콜라보' 파워 무섭네…위기의 장어도 품절됐다\">정용진·백종원 '콜라보' 파워 무섭네…위기의 장어도 품절됐다</a> </li>\n",
       " <li><span class=\"rank num2\"><em>2</em></span> <a class=\"nclicks(rig.rankeco)\" href=\"/main/ranking/read.nhn?mid=etc&amp;sid1=111&amp;rankingType=popular_day&amp;oid=015&amp;aid=0004395676&amp;date=20200810&amp;type=1&amp;rankingSeq=2&amp;rankingSectionId=101\" title=\"&quot;집 안사면 되지 뭐&quot;…더 뜨거워진 2030의 '수입차 플렉스'\">\"집 안사면 되지 뭐\"…더 뜨거워진 2030의 '수입차 플렉스'</a> </li>\n",
       " <li><span class=\"rank num3\"><em>3</em></span> <a class=\"nclicks(rig.rankeco)\" href=\"/main/ranking/read.nhn?mid=etc&amp;sid1=111&amp;rankingType=popular_day&amp;oid=011&amp;aid=0003780817&amp;date=20200810&amp;type=1&amp;rankingSeq=3&amp;rankingSectionId=101\" title=\"'캄보디아 만삭 아내 살해사건' 남편에 보험금 100억원 지급되나\">'캄보디아 만삭 아내 살해사건' 남편에 보험금 100억원 지급되나</a> </li>\n",
       " <li><span class=\"rank num4\"><em>4</em></span> <a class=\"nclicks(rig.rankeco)\" href=\"/main/ranking/read.nhn?mid=etc&amp;sid1=111&amp;rankingType=popular_day&amp;oid=277&amp;aid=0004734166&amp;date=20200810&amp;type=1&amp;rankingSeq=4&amp;rankingSectionId=101\" title=\"정용진·백종원 손 잡자…재고 900톤 바다장어 '품절 대란'\">정용진·백종원 손 잡자…재고 900톤 바다장어 '품절 대란'</a> </li>\n",
       " <li><span class=\"rank num5\"><em>5</em></span> <a class=\"nclicks(rig.rankeco)\" href=\"/main/ranking/read.nhn?mid=etc&amp;sid1=111&amp;rankingType=popular_day&amp;oid=025&amp;aid=0003024787&amp;date=20200810&amp;type=1&amp;rankingSeq=5&amp;rankingSectionId=101\" title=\"文이 5000만원 투자한 그 펀드, 1년 만에 2800만원 벌었다\">文이 5000만원 투자한 그 펀드, 1년 만에 2800만원 벌었다</a> </li>\n",
       " <li><span class=\"rank num6\"><em>6</em></span> <a class=\"nclicks(rig.rankeco)\" href=\"/main/ranking/read.nhn?mid=etc&amp;sid1=111&amp;rankingType=popular_day&amp;oid=008&amp;aid=0004452947&amp;date=20200810&amp;type=1&amp;rankingSeq=6&amp;rankingSectionId=101\" title=\"품절…품절… 백종원·정용진 '바다장어'로 또 대박 냈다\">품절…품절… 백종원·정용진 '바다장어'로 또 대박 냈다</a> </li>\n",
       " <li><span class=\"rank num7\"><em>7</em></span> <a class=\"nclicks(rig.rankeco)\" href=\"/main/ranking/read.nhn?mid=etc&amp;sid1=111&amp;rankingType=popular_day&amp;oid=009&amp;aid=0004632171&amp;date=20200810&amp;type=1&amp;rankingSeq=7&amp;rankingSectionId=101\" title=\"실업급여 1조2천억 또 사상 최대…제조업은 외환위기 수준 실업\">실업급여 1조2천억 또 사상 최대…제조업은 외환위기 수준 실업</a> </li>\n",
       " <li><span class=\"rank num8\"><em>8</em></span> <a class=\"nclicks(rig.rankeco)\" href=\"/main/ranking/read.nhn?mid=etc&amp;sid1=111&amp;rankingType=popular_day&amp;oid=018&amp;aid=0004710768&amp;date=20200810&amp;type=1&amp;rankingSeq=8&amp;rankingSectionId=101\" title=\"“우리가 호구냐”…8·4대책에 과천이어 마포주민 ‘뿔났다’\">“우리가 호구냐”…8·4대책에 과천이어 마포주민 ‘뿔났다’</a> </li>\n",
       " <li><span class=\"rank num9\"><em>9</em></span> <a class=\"nclicks(rig.rankeco)\" href=\"/main/ranking/read.nhn?mid=etc&amp;sid1=111&amp;rankingType=popular_day&amp;oid=001&amp;aid=0011804967&amp;date=20200810&amp;type=1&amp;rankingSeq=9&amp;rankingSectionId=101\" title=\"남부 폭우 가축에도 '대재앙'…타고난 수영선수 한우 '떼죽음'\">남부 폭우 가축에도 '대재앙'…타고난 수영선수 한우 '떼죽음'</a> </li>\n",
       " <li><span class=\"rank num10\"><em>10</em></span> <a class=\"nclicks(rig.rankeco)\" href=\"/main/ranking/read.nhn?mid=etc&amp;sid1=111&amp;rankingType=popular_day&amp;oid=023&amp;aid=0003552823&amp;date=20200810&amp;type=0&amp;rankingSeq=10&amp;rankingSectionId=101\" title=\"16% 급등한 현대차, 코스피 2년 2개월만에 최고치\">16% 급등한 현대차, 코스피 2년 2개월만에 최고치</a> </li>\n",
       " </ul>\n",
       " <a class=\"more_link\" href=\"/main/ranking/popularDay.nhn\"><span class=\"blind\">가장 많이 본 뉴스</span>더보기</a>\n",
       " </div>,\n",
       " <div id=\"ranking_102\" style=\"display:none\">\n",
       " <h5 class=\"blind\">사회</h5>\n",
       " <ul class=\"section_list_ranking\">\n",
       " <li><span class=\"rank num1\"><em>1</em></span> <a class=\"nclicks(rig.ranksoc)\" href=\"/main/ranking/read.nhn?mid=etc&amp;sid1=111&amp;rankingType=popular_day&amp;oid=001&amp;aid=0011805029&amp;date=20200810&amp;type=1&amp;rankingSeq=1&amp;rankingSectionId=102\" title=\"'보험금 95억' 아내 사망사고 낸 남편 금고2년…보험사기는 무죄(종합)\">'보험금 95억' 아내 사망사고 낸 남편 금고2년…보험사기는 무죄(종합)</a> </li>\n",
       " <li><span class=\"rank num2\"><em>2</em></span> <a class=\"nclicks(rig.ranksoc)\" href=\"/main/ranking/read.nhn?mid=etc&amp;sid1=111&amp;rankingType=popular_day&amp;oid=001&amp;aid=0011804863&amp;date=20200810&amp;type=1&amp;rankingSeq=2&amp;rankingSectionId=102\" title=\"제5호 태풍 '장미' 오후 2시 50분 거제도 남단 상륙(종합)\">제5호 태풍 '장미' 오후 2시 50분 거제도 남단 상륙(종합)</a> </li>\n",
       " <li><span class=\"rank num3\"><em>3</em></span> <a class=\"nclicks(rig.ranksoc)\" href=\"/main/ranking/read.nhn?mid=etc&amp;sid1=111&amp;rankingType=popular_day&amp;oid=055&amp;aid=0000833816&amp;date=20200810&amp;type=1&amp;rankingSeq=3&amp;rankingSectionId=102\" title=\"'보험금 95억' 아내 사망사고 낸 남편 금고 2년…보험 사기는 무죄\">'보험금 95억' 아내 사망사고 낸 남편 금고 2년…보험 사기는 무죄</a> </li>\n",
       " <li><span class=\"rank num4\"><em>4</em></span> <a class=\"nclicks(rig.ranksoc)\" href=\"/main/ranking/read.nhn?mid=etc&amp;sid1=111&amp;rankingType=popular_day&amp;oid=001&amp;aid=0011804398&amp;date=20200810&amp;type=1&amp;rankingSeq=4&amp;rankingSectionId=102\" title=\"제주 태풍 '장미' 영향 벗어나…세력 약했던 탓에 피해 없어(종합)\">제주 태풍 '장미' 영향 벗어나…세력 약했던 탓에 피해 없어(종합)</a> </li>\n",
       " <li><span class=\"rank num5\"><em>5</em></span> <a class=\"nclicks(rig.ranksoc)\" href=\"/main/ranking/read.nhn?mid=etc&amp;sid1=111&amp;rankingType=popular_day&amp;oid=005&amp;aid=0001350475&amp;date=20200810&amp;type=1&amp;rankingSeq=5&amp;rankingSectionId=102\" title=\"95억원과 억울한 죽음만 남았다… ‘만삭아내 사망’ 남편, 금고형\">95억원과 억울한 죽음만 남았다… ‘만삭아내 사망’ 남편, 금고형</a> </li>\n",
       " <li><span class=\"rank num6\"><em>6</em></span> <a class=\"nclicks(rig.ranksoc)\" href=\"/main/ranking/read.nhn?mid=etc&amp;sid1=111&amp;rankingType=popular_day&amp;oid=001&amp;aid=0011804810&amp;date=20200810&amp;type=1&amp;rankingSeq=6&amp;rankingSectionId=102\" title=\"[2보] '보험금 95억원' 만삭아내 사망 교통사고 낸 남편 금고 2년\">[2보] '보험금 95억원' 만삭아내 사망 교통사고 낸 남편 금고 2년</a> </li>\n",
       " <li><span class=\"rank num7\"><em>7</em></span> <a class=\"nclicks(rig.ranksoc)\" href=\"/main/ranking/read.nhn?mid=etc&amp;sid1=111&amp;rankingType=popular_day&amp;oid=032&amp;aid=0003025800&amp;date=20200810&amp;type=1&amp;rankingSeq=7&amp;rankingSectionId=102\" title='정은경 \"WHO에 보고된 적 없는 변종 코로나 3건 확인\"'>정은경 \"WHO에 보고된 적 없는 변종 코로나 3건 확인\"</a> </li>\n",
       " <li><span class=\"rank num8\"><em>8</em></span> <a class=\"nclicks(rig.ranksoc)\" href=\"/main/ranking/read.nhn?mid=etc&amp;sid1=111&amp;rankingType=popular_day&amp;oid=025&amp;aid=0003024790&amp;date=20200810&amp;type=1&amp;rankingSeq=8&amp;rankingSectionId=102\" title=\"[단독]이번엔 강남 한복판 '묻지마 폭행'…여성만 골라 얼굴 팼다\">[단독]이번엔 강남 한복판 '묻지마 폭행'…여성만 골라 얼굴 팼다</a> </li>\n",
       " <li><span class=\"rank num9\"><em>9</em></span> <a class=\"nclicks(rig.ranksoc)\" href=\"/main/ranking/read.nhn?mid=etc&amp;sid1=111&amp;rankingType=popular_day&amp;oid=001&amp;aid=0011805115&amp;date=20200810&amp;type=1&amp;rankingSeq=9&amp;rankingSectionId=102\" title=\"초고속 태풍 장미 진로 놓인 부산 별다른 피해 없어\">초고속 태풍 장미 진로 놓인 부산 별다른 피해 없어</a> </li>\n",
       " <li><span class=\"rank num10\"><em>10</em></span> <a class=\"nclicks(rig.ranksoc)\" href=\"/main/ranking/read.nhn?mid=etc&amp;sid1=111&amp;rankingType=popular_day&amp;oid=025&amp;aid=0003024871&amp;date=20200810&amp;type=1&amp;rankingSeq=10&amp;rankingSectionId=102\" title=\"권순일 대법관 후임에 그가 국보법 유죄 판결한 이흥구\">권순일 대법관 후임에 그가 국보법 유죄 판결한 이흥구</a> </li>\n",
       " </ul>\n",
       " <a class=\"more_link\" href=\"/main/ranking/popularDay.nhn\"><span class=\"blind\">가장 많이 본 뉴스</span>더보기</a>\n",
       " </div>,\n",
       " <div id=\"ranking_103\" style=\"display:none\">\n",
       " <h5 class=\"blind\">생활/문화</h5>\n",
       " <ul class=\"section_list_ranking\">\n",
       " <li><span class=\"rank num1\"><em>1</em></span> <a class=\"nclicks(rig.ranklif)\" href=\"/main/ranking/read.nhn?mid=etc&amp;sid1=111&amp;rankingType=popular_day&amp;oid=009&amp;aid=0004632066&amp;date=20200810&amp;type=1&amp;rankingSeq=1&amp;rankingSectionId=103\" title=\"클럽 간 뮤지컬 배우 A씨 뭇매…지난 6일 밤~7일 새벽 클럽 찾아 구설수\">클럽 간 뮤지컬 배우 A씨 뭇매…지난 6일 밤~7일 새벽 클럽 찾아 구설수</a> </li>\n",
       " <li><span class=\"rank num2\"><em>2</em></span> <a class=\"nclicks(rig.ranklif)\" href=\"/main/ranking/read.nhn?mid=etc&amp;sid1=111&amp;rankingType=popular_day&amp;oid=006&amp;aid=0000103974&amp;date=20200810&amp;type=1&amp;rankingSeq=2&amp;rankingSectionId=103\" title=\"송백경 KBS 라디오 진행자 발탁 나흘만에 반대 9000명 결국 고사\">송백경 KBS 라디오 진행자 발탁 나흘만에 반대 9000명 결국 고사</a> </li>\n",
       " <li><span class=\"rank num3\"><em>3</em></span> <a class=\"nclicks(rig.ranklif)\" href=\"/main/ranking/read.nhn?mid=etc&amp;sid1=111&amp;rankingType=popular_day&amp;oid=001&amp;aid=0011805221&amp;date=20200810&amp;type=1&amp;rankingSeq=3&amp;rankingSectionId=103\" title=\"태풍 '장미', 오후 6시 이전 온대저기압으로 약화…밤사이 폭우\">태풍 '장미', 오후 6시 이전 온대저기압으로 약화…밤사이 폭우</a> </li>\n",
       " <li><span class=\"rank num4\"><em>4</em></span> <a class=\"nclicks(rig.ranklif)\" href=\"/main/ranking/read.nhn?mid=etc&amp;sid1=111&amp;rankingType=popular_day&amp;oid=023&amp;aid=0003552800&amp;date=20200810&amp;type=1&amp;rankingSeq=4&amp;rankingSectionId=103\" title=\"'세월호 유족 비하 논란' 前가수 송백경, KBS라디오 진행 결국 무산\">'세월호 유족 비하 논란' 前가수 송백경, KBS라디오 진행 결국 무산</a> </li>\n",
       " <li><span class=\"rank num5\"><em>5</em></span> <a class=\"nclicks(rig.ranklif)\" href=\"/main/ranking/read.nhn?mid=etc&amp;sid1=111&amp;rankingType=popular_day&amp;oid=032&amp;aid=0003025755&amp;date=20200810&amp;type=1&amp;rankingSeq=5&amp;rankingSectionId=103\" title=\"남편 따라 북한으로 건너간 ‘일본인 아내’…그들은 왜 그런 선택을 했을까\">남편 따라 북한으로 건너간 ‘일본인 아내’…그들은 왜 그런 선택을 했을까</a> </li>\n",
       " <li><span class=\"rank num6\"><em>6</em></span> <a class=\"nclicks(rig.ranklif)\" href=\"/main/ranking/read.nhn?mid=etc&amp;sid1=111&amp;rankingType=popular_day&amp;oid=081&amp;aid=0003114389&amp;date=20200810&amp;type=1&amp;rankingSeq=6&amp;rankingSectionId=103\" title=\"현빈, 제2의 욘사마 되나…日 ‘사랑의 불시착’ 신드롬 “외무상도 ‘다 봤다’”\">현빈, 제2의 욘사마 되나…日 ‘사랑의 불시착’ 신드롬 “외무상도 ‘다 봤다’”</a> </li>\n",
       " <li><span class=\"rank num7\"><em>7</em></span> <a class=\"nclicks(rig.ranklif)\" href=\"/main/ranking/read.nhn?mid=etc&amp;sid1=111&amp;rankingType=popular_day&amp;oid=025&amp;aid=0003024866&amp;date=20200810&amp;type=1&amp;rankingSeq=7&amp;rankingSectionId=103\" title=\"클럽 갔다가 공연서 교체되고 팬클럽 사라지게 된 뮤지컬 배우\">클럽 갔다가 공연서 교체되고 팬클럽 사라지게 된 뮤지컬 배우</a> </li>\n",
       " <li><span class=\"rank num8\"><em>8</em></span> <a class=\"nclicks(rig.ranklif)\" href=\"/main/ranking/read.nhn?mid=etc&amp;sid1=111&amp;rankingType=popular_day&amp;oid=005&amp;aid=0001350305&amp;date=20200810&amp;type=1&amp;rankingSeq=8&amp;rankingSectionId=103\" title=\"‘복면가왕’ 김호중 “영어 알아듣는 내 자신이 너무 좋다”\">‘복면가왕’ 김호중 “영어 알아듣는 내 자신이 너무 좋다”</a> </li>\n",
       " <li><span class=\"rank num9\"><em>9</em></span> <a class=\"nclicks(rig.ranklif)\" href=\"/main/ranking/read.nhn?mid=etc&amp;sid1=111&amp;rankingType=popular_day&amp;oid=020&amp;aid=0003302490&amp;date=20200810&amp;type=1&amp;rankingSeq=9&amp;rankingSectionId=103\" title=\"태풍 ‘장미’ 가지도 않았는데… 또 6호 ‘메칼라’ 발생 조짐\">태풍 ‘장미’ 가지도 않았는데… 또 6호 ‘메칼라’ 발생 조짐</a> </li>\n",
       " <li><span class=\"rank num10\"><em>10</em></span> <a class=\"nclicks(rig.ranklif)\" href=\"/main/ranking/read.nhn?mid=etc&amp;sid1=111&amp;rankingType=popular_day&amp;oid=001&amp;aid=0011805211&amp;date=20200810&amp;type=1&amp;rankingSeq=10&amp;rankingSectionId=103\" title=\"&quot;하늘 뜻인데 어쩌겠어&quot;…물폭탄 이어 태풍 맞은 수재민 '한숨'(종합)\">\"하늘 뜻인데 어쩌겠어\"…물폭탄 이어 태풍 맞은 수재민 '한숨'(종합)</a> </li>\n",
       " </ul>\n",
       " <a class=\"more_link\" href=\"/main/ranking/popularDay.nhn\"><span class=\"blind\">가장 많이 본 뉴스</span>더보기</a>\n",
       " </div>,\n",
       " <div id=\"ranking_104\" style=\"display:none\">\n",
       " <h5 class=\"blind\">세계</h5>\n",
       " <ul class=\"section_list_ranking\">\n",
       " <li><span class=\"rank num1\"><em>1</em></span> <a class=\"nclicks(rig.rankwor)\" href=\"/main/ranking/read.nhn?mid=etc&amp;sid1=111&amp;rankingType=popular_day&amp;oid=437&amp;aid=0000244748&amp;date=20200810&amp;type=1&amp;rankingSeq=1&amp;rankingSectionId=104\" title=\"트럼프도 싫고 코로나 대처도 못 하고…미국 시민권 포기자 급증\">트럼프도 싫고 코로나 대처도 못 하고…미국 시민권 포기자 급증</a> </li>\n",
       " <li><span class=\"rank num2\"><em>2</em></span> <a class=\"nclicks(rig.rankwor)\" href=\"/main/ranking/read.nhn?mid=etc&amp;sid1=111&amp;rankingType=popular_day&amp;oid=025&amp;aid=0003024873&amp;date=20200810&amp;type=1&amp;rankingSeq=2&amp;rankingSectionId=104\" title=\"연설문 '복붙'에 '피토했다' 소문까지…요즘 아베가 이상하다\">연설문 '복붙'에 '피토했다' 소문까지…요즘 아베가 이상하다</a> </li>\n",
       " <li><span class=\"rank num3\"><em>3</em></span> <a class=\"nclicks(rig.rankwor)\" href=\"/main/ranking/read.nhn?mid=etc&amp;sid1=111&amp;rankingType=popular_day&amp;oid=032&amp;aid=0003025801&amp;date=20200810&amp;type=1&amp;rankingSeq=3&amp;rankingSectionId=104\" title=\"코로나 ‘한 방에’ 앞당겨진 미래…“백화점이 창고로 바뀐다고?”\">코로나 ‘한 방에’ 앞당겨진 미래…“백화점이 창고로 바뀐다고?”</a> </li>\n",
       " <li><span class=\"rank num4\"><em>4</em></span> <a class=\"nclicks(rig.rankwor)\" href=\"/main/ranking/read.nhn?mid=etc&amp;sid1=111&amp;rankingType=popular_day&amp;oid=008&amp;aid=0004452980&amp;date=20200810&amp;type=1&amp;rankingSeq=4&amp;rankingSectionId=104\" title=\"흙수저→1조 자산가→두 아들과 감옥행…지미 라이는 누구?\">흙수저→1조 자산가→두 아들과 감옥행…지미 라이는 누구?</a> </li>\n",
       " <li><span class=\"rank num5\"><em>5</em></span> <a class=\"nclicks(rig.rankwor)\" href=\"/main/ranking/read.nhn?mid=etc&amp;sid1=111&amp;rankingType=popular_day&amp;oid=081&amp;aid=0003114427&amp;date=20200810&amp;type=1&amp;rankingSeq=5&amp;rankingSectionId=104\" title=\"[여기는 인도] “뇌물 바치라고!”…시민 머리채 잡은 경찰 충격(영상)\">[여기는 인도] “뇌물 바치라고!”…시민 머리채 잡은 경찰 충격(영상)</a> </li>\n",
       " <li><span class=\"rank num6\"><em>6</em></span> <a class=\"nclicks(rig.rankwor)\" href=\"/main/ranking/read.nhn?mid=etc&amp;sid1=111&amp;rankingType=popular_day&amp;oid=025&amp;aid=0003024781&amp;date=20200810&amp;type=1&amp;rankingSeq=6&amp;rankingSectionId=104\" title=\"현실 된 홍콩보안법 공포…'지오다노' 창업주 지미 라이 체포\">현실 된 홍콩보안법 공포…'지오다노' 창업주 지미 라이 체포</a> </li>\n",
       " <li><span class=\"rank num7\"><em>7</em></span> <a class=\"nclicks(rig.rankwor)\" href=\"/main/ranking/read.nhn?mid=etc&amp;sid1=111&amp;rankingType=popular_day&amp;oid=056&amp;aid=0010882681&amp;date=20200810&amp;type=1&amp;rankingSeq=7&amp;rankingSectionId=104\" title=\"우주 택시 한번 가는데 650억…그래도 싸다고 환호\">우주 택시 한번 가는데 650억…그래도 싸다고 환호</a> </li>\n",
       " <li><span class=\"rank num8\"><em>8</em></span> <a class=\"nclicks(rig.rankwor)\" href=\"/main/ranking/read.nhn?mid=etc&amp;sid1=111&amp;rankingType=popular_day&amp;oid=008&amp;aid=0004452680&amp;date=20200810&amp;type=1&amp;rankingSeq=8&amp;rankingSectionId=104\" title=\"34세에 돌연 극단적 선택…'톱스타가 된 흙수저' 죽음의 미스터리\">34세에 돌연 극단적 선택…'톱스타가 된 흙수저' 죽음의 미스터리</a> </li>\n",
       " <li><span class=\"rank num9\"><em>9</em></span> <a class=\"nclicks(rig.rankwor)\" href=\"/main/ranking/read.nhn?mid=etc&amp;sid1=111&amp;rankingType=popular_day&amp;oid=437&amp;aid=0000244728&amp;date=20200810&amp;type=1&amp;rankingSeq=9&amp;rankingSectionId=104\" title='\"나도 큰바위 얼굴에 넣어줘\"…트럼프 백악관, 지난해 사우스다코타 주지사 접촉'>\"나도 큰바위 얼굴에 넣어줘\"…트럼프 백악관, 지난해 사우스다코타 주지사 접촉</a> </li>\n",
       " <li><span class=\"rank num10\"><em>10</em></span> <a class=\"nclicks(rig.rankwor)\" href=\"/main/ranking/read.nhn?mid=etc&amp;sid1=111&amp;rankingType=popular_day&amp;oid=014&amp;aid=0004474630&amp;date=20200810&amp;type=1&amp;rankingSeq=10&amp;rankingSectionId=104\" title='결과 나오는데 1주일…게이츠 \"美 코로나 검사 쓰레기\"'>결과 나오는데 1주일…게이츠 \"美 코로나 검사 쓰레기\"</a> </li>\n",
       " </ul>\n",
       " <a class=\"more_link\" href=\"/main/ranking/popularDay.nhn\"><span class=\"blind\">가장 많이 본 뉴스</span>더보기</a>\n",
       " </div>,\n",
       " <div id=\"ranking_105\" style=\"display:none\">\n",
       " <h5 class=\"blind\">IT/과학</h5>\n",
       " <ul class=\"section_list_ranking\">\n",
       " <li><span class=\"rank num1\"><em>1</em></span> <a class=\"nclicks(rig.ranksci)\" href=\"/main/ranking/read.nhn?mid=etc&amp;sid1=111&amp;rankingType=popular_day&amp;oid=023&amp;aid=0003552796&amp;date=20200810&amp;type=1&amp;rankingSeq=1&amp;rankingSectionId=105\" title=\"400만 유튜버 보겸도 '뒷광고' 인정… &quot;명륜진사갈비·BBQ 등 5개&quot;[전문]\">400만 유튜버 보겸도 '뒷광고' 인정… \"명륜진사갈비·BBQ 등 5개\"[전문]</a> </li>\n",
       " <li><span class=\"rank num2\"><em>2</em></span> <a class=\"nclicks(rig.ranksci)\" href=\"/main/ranking/read.nhn?mid=etc&amp;sid1=111&amp;rankingType=popular_day&amp;oid=293&amp;aid=0000030305&amp;date=20200810&amp;type=1&amp;rankingSeq=2&amp;rankingSectionId=105\" title=\"[단독]금호산업, 정몽규 요구 안받아들인다\">[단독]금호산업, 정몽규 요구 안받아들인다</a> </li>\n",
       " <li><span class=\"rank num3\"><em>3</em></span> <a class=\"nclicks(rig.ranksci)\" href=\"/main/ranking/read.nhn?mid=etc&amp;sid1=111&amp;rankingType=popular_day&amp;oid=023&amp;aid=0003552716&amp;date=20200810&amp;type=1&amp;rankingSeq=3&amp;rankingSectionId=105\" title=\"[사이언스카페] 해변 묻힌 이 슬리퍼, 넉달 뒤엔 흔적도 없습니다\">[사이언스카페] 해변 묻힌 이 슬리퍼, 넉달 뒤엔 흔적도 없습니다</a> </li>\n",
       " <li><span class=\"rank num4\"><em>4</em></span> <a class=\"nclicks(rig.ranksci)\" href=\"/main/ranking/read.nhn?mid=etc&amp;sid1=111&amp;rankingType=popular_day&amp;oid=016&amp;aid=0001710097&amp;date=20200810&amp;type=1&amp;rankingSeq=4&amp;rankingSectionId=105\" title=\"세계 1위 올라선 중국폰 “왜? 한국에선 점점 사라지나”[IT선빵!]\">세계 1위 올라선 중국폰 “왜? 한국에선 점점 사라지나”[IT선빵!]</a> </li>\n",
       " <li><span class=\"rank num5\"><em>5</em></span> <a class=\"nclicks(rig.ranksci)\" href=\"/main/ranking/read.nhn?mid=etc&amp;sid1=111&amp;rankingType=popular_day&amp;oid=030&amp;aid=0002897414&amp;date=20200810&amp;type=1&amp;rankingSeq=5&amp;rankingSectionId=105\" title=\"SK 품에 안긴 매그나칩 파운드리, '키파운드리'로 재탄생\">SK 품에 안긴 매그나칩 파운드리, '키파운드리'로 재탄생</a> </li>\n",
       " <li><span class=\"rank num6\"><em>6</em></span> <a class=\"nclicks(rig.ranksci)\" href=\"/main/ranking/read.nhn?mid=etc&amp;sid1=111&amp;rankingType=popular_day&amp;oid=008&amp;aid=0004452945&amp;date=20200810&amp;type=1&amp;rankingSeq=6&amp;rankingSectionId=105\" title=\"갤버즈 주는 갤노트20 사전예약 순항…'브론즈' 완판된 곳도\">갤버즈 주는 갤노트20 사전예약 순항…'브론즈' 완판된 곳도</a> </li>\n",
       " <li><span class=\"rank num7\"><em>7</em></span> <a class=\"nclicks(rig.ranksci)\" href=\"/main/ranking/read.nhn?mid=etc&amp;sid1=111&amp;rankingType=popular_day&amp;oid=138&amp;aid=0002089999&amp;date=20200810&amp;type=1&amp;rankingSeq=7&amp;rankingSectionId=105\" title=\"‘뒷광고 쓰나미’…최고인기 유튜버도 예외없었다\">‘뒷광고 쓰나미’…최고인기 유튜버도 예외없었다</a> </li>\n",
       " <li><span class=\"rank num8\"><em>8</em></span> <a class=\"nclicks(rig.ranksci)\" href=\"/main/ranking/read.nhn?mid=etc&amp;sid1=111&amp;rankingType=popular_day&amp;oid=015&amp;aid=0004395791&amp;date=20200810&amp;type=1&amp;rankingSeq=8&amp;rankingSectionId=105\" title=\"삼성바이오로직스, 바이오젠 치매 치료제 수주 가능성은?\">삼성바이오로직스, 바이오젠 치매 치료제 수주 가능성은?</a> </li>\n",
       " <li><span class=\"rank num9\"><em>9</em></span> <a class=\"nclicks(rig.ranksci)\" href=\"/main/ranking/read.nhn?mid=etc&amp;sid1=111&amp;rankingType=popular_day&amp;oid=028&amp;aid=0002508182&amp;date=20200810&amp;type=1&amp;rankingSeq=9&amp;rankingSectionId=105\" title=\"코로나19가 우버의 주력사업을 바꿨다\">코로나19가 우버의 주력사업을 바꿨다</a> </li>\n",
       " <li><span class=\"rank num10\"><em>10</em></span> <a class=\"nclicks(rig.ranksci)\" href=\"/main/ranking/read.nhn?mid=etc&amp;sid1=111&amp;rankingType=popular_day&amp;oid=138&amp;aid=0002089991&amp;date=20200810&amp;type=1&amp;rankingSeq=10&amp;rankingSectionId=105\" title=\"대세는 에너지효율… 삼성·LG전자, ‘올해의 에너지 위너상’ 수상\">대세는 에너지효율… 삼성·LG전자, ‘올해의 에너지 위너상’ 수상</a> </li>\n",
       " </ul>\n",
       " <a class=\"more_link\" href=\"/main/ranking/popularDay.nhn\"><span class=\"blind\">가장 많이 본 뉴스</span>더보기</a>\n",
       " </div>]"
      ]
     },
     "execution_count": 3,
     "metadata": {},
     "output_type": "execute_result"
    }
   ],
   "source": [
    "dom.select('div[id^=ranking_]')"
   ]
  },
  {
   "cell_type": "code",
   "execution_count": 4,
   "metadata": {},
   "outputs": [
    {
     "data": {
      "text/plain": [
       "6"
      ]
     },
     "execution_count": 4,
     "metadata": {},
     "output_type": "execute_result"
    }
   ],
   "source": [
    "len(dom.select('div[id^=ranking_]'))"
   ]
  },
  {
   "cell_type": "code",
   "execution_count": 5,
   "metadata": {},
   "outputs": [
    {
     "data": {
      "text/plain": [
       "[<a class=\"nclicks(rig.rankpol)\" href=\"/main/ranking/read.nhn?mid=etc&amp;sid1=111&amp;rankingType=popular_day&amp;oid=081&amp;aid=0003114437&amp;date=20200810&amp;type=1&amp;rankingSeq=1&amp;rankingSectionId=100\" title=\"[속보] 문 대통령 “집값 진정 양상…부동산 감독기구 설치 검토”\">[속보] 문 대통령 “집값 진정 양상…부동산 감독기구 설치 검토”</a>,\n",
       " <a class=\"nclicks(rig.rankpol)\" href=\"/main/ranking/read.nhn?mid=etc&amp;sid1=111&amp;rankingType=popular_day&amp;oid=215&amp;aid=0000892691&amp;date=20200810&amp;type=1&amp;rankingSeq=2&amp;rankingSectionId=100\" title='[속보] 김진애 \"다주택자 왜 적대시하냐, 노영민 과했다\"'>[속보] 김진애 \"다주택자 왜 적대시하냐, 노영민 과했다\"</a>,\n",
       " <a class=\"nclicks(rig.rankpol)\" href=\"/main/ranking/read.nhn?mid=etc&amp;sid1=111&amp;rankingType=popular_day&amp;oid=001&amp;aid=0011804920&amp;date=20200810&amp;type=1&amp;rankingSeq=3&amp;rankingSectionId=100\" title='문대통령 \"집값 진정 양상…부동산감독기구 설치\"(종합)'>문대통령 \"집값 진정 양상…부동산감독기구 설치\"(종합)</a>,\n",
       " <a class=\"nclicks(rig.rankpol)\" href=\"/main/ranking/read.nhn?mid=etc&amp;sid1=111&amp;rankingType=popular_day&amp;oid=277&amp;aid=0004734195&amp;date=20200810&amp;type=0&amp;rankingSeq=4&amp;rankingSectionId=100\" title='[속보]文대통령 \"주택 문제, 당면한 최고의 민생 문제\"'>[속보]文대통령 \"주택 문제, 당면한 최고의 민생 문제\"</a>,\n",
       " <a class=\"nclicks(rig.rankpol)\" href=\"/main/ranking/read.nhn?mid=etc&amp;sid1=111&amp;rankingType=popular_day&amp;oid=023&amp;aid=0003552760&amp;date=20200810&amp;type=1&amp;rankingSeq=5&amp;rankingSectionId=100\" title='\"티셔츠가 왜 이리 깨끗?\" 심상정 수해복구 인증샷 구설'>\"티셔츠가 왜 이리 깨끗?\" 심상정 수해복구 인증샷 구설</a>,\n",
       " <a class=\"nclicks(rig.rankpol)\" href=\"/main/ranking/read.nhn?mid=etc&amp;sid1=111&amp;rankingType=popular_day&amp;oid=009&amp;aid=0004632222&amp;date=20200810&amp;type=1&amp;rankingSeq=6&amp;rankingSectionId=100\" title=\"수해현장 달려갔지만…`흙탕범벅` 태영호 `깔끔` 심상정\">수해현장 달려갔지만…`흙탕범벅` 태영호 `깔끔` 심상정</a>,\n",
       " <a class=\"nclicks(rig.rankpol)\" href=\"/main/ranking/read.nhn?mid=etc&amp;sid1=111&amp;rankingType=popular_day&amp;oid=022&amp;aid=0003492251&amp;date=20200810&amp;type=1&amp;rankingSeq=7&amp;rankingSectionId=100\" title=\"‘4주택자’ 김진애 “靑 참모들 집 매각은 노영민 개인 생각… 과했다”\">‘4주택자’ 김진애 “靑 참모들 집 매각은 노영민 개인 생각… 과했다”</a>,\n",
       " <a class=\"nclicks(rig.rankpol)\" href=\"/main/ranking/read.nhn?mid=etc&amp;sid1=111&amp;rankingType=popular_day&amp;oid=025&amp;aid=0003024870&amp;date=20200810&amp;type=1&amp;rankingSeq=8&amp;rankingSectionId=100\" title=\"영·호남 화합 상징 화개장터, 물난리 원인 놓고 여야 갈라섰다\">영·호남 화합 상징 화개장터, 물난리 원인 놓고 여야 갈라섰다</a>,\n",
       " <a class=\"nclicks(rig.rankpol)\" href=\"/main/ranking/read.nhn?mid=etc&amp;sid1=111&amp;rankingType=popular_day&amp;oid=025&amp;aid=0003024878&amp;date=20200810&amp;type=1&amp;rankingSeq=9&amp;rankingSectionId=100\" title=\"'靑참모 줄사표' 언급 없이…文 &quot;집값 진정됐다, 경제 선방했다&quot;\">'靑참모 줄사표' 언급 없이…文 \"집값 진정됐다, 경제 선방했다\"</a>,\n",
       " <a class=\"nclicks(rig.rankpol)\" href=\"/main/ranking/read.nhn?mid=etc&amp;sid1=111&amp;rankingType=popular_day&amp;oid=081&amp;aid=0003114428&amp;date=20200810&amp;type=1&amp;rankingSeq=10&amp;rankingSectionId=100\" title=\"폭우가 소환한 4대강…文 “홍수조절 효과 분석할 기회”(종합)\">폭우가 소환한 4대강…文 “홍수조절 효과 분석할 기회”(종합)</a>]"
      ]
     },
     "execution_count": 5,
     "metadata": {},
     "output_type": "execute_result"
    }
   ],
   "source": [
    "dom.select('div[id^=ranking_]')[0].select('li > a')"
   ]
  },
  {
   "cell_type": "code",
   "execution_count": 6,
   "metadata": {},
   "outputs": [
    {
     "data": {
      "text/plain": [
       "10"
      ]
     },
     "execution_count": 6,
     "metadata": {},
     "output_type": "execute_result"
    }
   ],
   "source": [
    "len(dom.select('div[id^=ranking_]')[0].select('li > a'))"
   ]
  },
  {
   "cell_type": "code",
   "execution_count": 7,
   "metadata": {},
   "outputs": [
    {
     "data": {
      "text/plain": [
       "<a class=\"nclicks(rig.rankpol)\" href=\"/main/ranking/read.nhn?mid=etc&amp;sid1=111&amp;rankingType=popular_day&amp;oid=081&amp;aid=0003114437&amp;date=20200810&amp;type=1&amp;rankingSeq=1&amp;rankingSectionId=100\" title=\"[속보] 문 대통령 “집값 진정 양상…부동산 감독기구 설치 검토”\">[속보] 문 대통령 “집값 진정 양상…부동산 감독기구 설치 검토”</a>"
      ]
     },
     "execution_count": 7,
     "metadata": {},
     "output_type": "execute_result"
    }
   ],
   "source": [
    "dom.select('div[id^=ranking_]')[0].select('li > a')[0]"
   ]
  },
  {
   "cell_type": "code",
   "execution_count": 8,
   "metadata": {},
   "outputs": [
    {
     "name": "stdout",
     "output_type": "stream",
     "text": [
      "{'id': 'ranking_100', 'style': 'display:none'}\n",
      "{'id': 'ranking_101', 'style': 'display:none'}\n",
      "{'id': 'ranking_102', 'style': 'display:none'}\n",
      "{'id': 'ranking_103', 'style': 'display:none'}\n",
      "{'id': 'ranking_104', 'style': 'display:none'}\n",
      "{'id': 'ranking_105', 'style': 'display:none'}\n"
     ]
    }
   ],
   "source": [
    "for news in dom.select('div[id^=ranking_]'):\n",
    "    print(news.attrs)"
   ]
  },
  {
   "cell_type": "code",
   "execution_count": 9,
   "metadata": {},
   "outputs": [],
   "source": [
    "import re\n",
    "from string import punctuation\n",
    "pattern1 = re.compile('[{}]'.format(re.escape(punctuation)))"
   ]
  },
  {
   "cell_type": "code",
   "execution_count": 10,
   "metadata": {},
   "outputs": [
    {
     "name": "stdout",
     "output_type": "stream",
     "text": [
      "100\n",
      "정치\n",
      "[속보] 문 대통령 “집값 진정 양상…부동산 감독기구 설치 검토”\n",
      "https://news.naver.com/main/ranking/read.nhn?mid=etc&sid1=111&rankingType=popular_day&oid=081&aid=0003114437&date=20200810&type=1&rankingSeq=1&rankingSectionId=100\n",
      "[속보] 김진애 \"다주택자 왜 적대시하냐, 노영민 과했다\"\n",
      "https://news.naver.com/main/ranking/read.nhn?mid=etc&sid1=111&rankingType=popular_day&oid=215&aid=0000892691&date=20200810&type=1&rankingSeq=2&rankingSectionId=100\n",
      "문대통령 \"집값 진정 양상…부동산감독기구 설치\"(종합)\n",
      "https://news.naver.com/main/ranking/read.nhn?mid=etc&sid1=111&rankingType=popular_day&oid=001&aid=0011804920&date=20200810&type=1&rankingSeq=3&rankingSectionId=100\n",
      "[속보]文대통령 \"주택 문제, 당면한 최고의 민생 문제\"\n",
      "https://news.naver.com/main/ranking/read.nhn?mid=etc&sid1=111&rankingType=popular_day&oid=277&aid=0004734195&date=20200810&type=0&rankingSeq=4&rankingSectionId=100\n",
      "\"티셔츠가 왜 이리 깨끗?\" 심상정 수해복구 인증샷 구설\n",
      "https://news.naver.com/main/ranking/read.nhn?mid=etc&sid1=111&rankingType=popular_day&oid=023&aid=0003552760&date=20200810&type=1&rankingSeq=5&rankingSectionId=100\n",
      "수해현장 달려갔지만…`흙탕범벅` 태영호 `깔끔` 심상정\n",
      "https://news.naver.com/main/ranking/read.nhn?mid=etc&sid1=111&rankingType=popular_day&oid=009&aid=0004632222&date=20200810&type=1&rankingSeq=6&rankingSectionId=100\n",
      "‘4주택자’ 김진애 “靑 참모들 집 매각은 노영민 개인 생각… 과했다”\n",
      "https://news.naver.com/main/ranking/read.nhn?mid=etc&sid1=111&rankingType=popular_day&oid=022&aid=0003492251&date=20200810&type=1&rankingSeq=7&rankingSectionId=100\n",
      "영·호남 화합 상징 화개장터, 물난리 원인 놓고 여야 갈라섰다\n",
      "https://news.naver.com/main/ranking/read.nhn?mid=etc&sid1=111&rankingType=popular_day&oid=025&aid=0003024870&date=20200810&type=1&rankingSeq=8&rankingSectionId=100\n",
      "'靑참모 줄사표' 언급 없이…文 \"집값 진정됐다, 경제 선방했다\"\n",
      "https://news.naver.com/main/ranking/read.nhn?mid=etc&sid1=111&rankingType=popular_day&oid=025&aid=0003024878&date=20200810&type=1&rankingSeq=9&rankingSectionId=100\n",
      "폭우가 소환한 4대강…文 “홍수조절 효과 분석할 기회”(종합)\n",
      "https://news.naver.com/main/ranking/read.nhn?mid=etc&sid1=111&rankingType=popular_day&oid=081&aid=0003114428&date=20200810&type=1&rankingSeq=10&rankingSectionId=100\n",
      "가장 많이 본 뉴스더보기\n",
      "https://news.naver.com/main/ranking/popularDay.nhn\n",
      "101\n",
      "경제\n",
      "정용진·백종원 '콜라보' 파워 무섭네…위기의 장어도 품절됐다\n",
      "https://news.naver.com/main/ranking/read.nhn?mid=etc&sid1=111&rankingType=popular_day&oid=025&aid=0003024865&date=20200810&type=1&rankingSeq=1&rankingSectionId=101\n",
      "\"집 안사면 되지 뭐\"…더 뜨거워진 2030의 '수입차 플렉스'\n",
      "https://news.naver.com/main/ranking/read.nhn?mid=etc&sid1=111&rankingType=popular_day&oid=015&aid=0004395676&date=20200810&type=1&rankingSeq=2&rankingSectionId=101\n",
      "'캄보디아 만삭 아내 살해사건' 남편에 보험금 100억원 지급되나\n",
      "https://news.naver.com/main/ranking/read.nhn?mid=etc&sid1=111&rankingType=popular_day&oid=011&aid=0003780817&date=20200810&type=1&rankingSeq=3&rankingSectionId=101\n",
      "정용진·백종원 손 잡자…재고 900톤 바다장어 '품절 대란'\n",
      "https://news.naver.com/main/ranking/read.nhn?mid=etc&sid1=111&rankingType=popular_day&oid=277&aid=0004734166&date=20200810&type=1&rankingSeq=4&rankingSectionId=101\n",
      "文이 5000만원 투자한 그 펀드, 1년 만에 2800만원 벌었다\n",
      "https://news.naver.com/main/ranking/read.nhn?mid=etc&sid1=111&rankingType=popular_day&oid=025&aid=0003024787&date=20200810&type=1&rankingSeq=5&rankingSectionId=101\n",
      "품절…품절… 백종원·정용진 '바다장어'로 또 대박 냈다\n",
      "https://news.naver.com/main/ranking/read.nhn?mid=etc&sid1=111&rankingType=popular_day&oid=008&aid=0004452947&date=20200810&type=1&rankingSeq=6&rankingSectionId=101\n",
      "실업급여 1조2천억 또 사상 최대…제조업은 외환위기 수준 실업\n",
      "https://news.naver.com/main/ranking/read.nhn?mid=etc&sid1=111&rankingType=popular_day&oid=009&aid=0004632171&date=20200810&type=1&rankingSeq=7&rankingSectionId=101\n",
      "“우리가 호구냐”…8·4대책에 과천이어 마포주민 ‘뿔났다’\n",
      "https://news.naver.com/main/ranking/read.nhn?mid=etc&sid1=111&rankingType=popular_day&oid=018&aid=0004710768&date=20200810&type=1&rankingSeq=8&rankingSectionId=101\n",
      "남부 폭우 가축에도 '대재앙'…타고난 수영선수 한우 '떼죽음'\n",
      "https://news.naver.com/main/ranking/read.nhn?mid=etc&sid1=111&rankingType=popular_day&oid=001&aid=0011804967&date=20200810&type=1&rankingSeq=9&rankingSectionId=101\n",
      "16% 급등한 현대차, 코스피 2년 2개월만에 최고치\n",
      "https://news.naver.com/main/ranking/read.nhn?mid=etc&sid1=111&rankingType=popular_day&oid=023&aid=0003552823&date=20200810&type=0&rankingSeq=10&rankingSectionId=101\n",
      "가장 많이 본 뉴스더보기\n",
      "https://news.naver.com/main/ranking/popularDay.nhn\n",
      "102\n",
      "사회\n",
      "'보험금 95억' 아내 사망사고 낸 남편 금고2년…보험사기는 무죄(종합)\n",
      "https://news.naver.com/main/ranking/read.nhn?mid=etc&sid1=111&rankingType=popular_day&oid=001&aid=0011805029&date=20200810&type=1&rankingSeq=1&rankingSectionId=102\n",
      "제5호 태풍 '장미' 오후 2시 50분 거제도 남단 상륙(종합)\n",
      "https://news.naver.com/main/ranking/read.nhn?mid=etc&sid1=111&rankingType=popular_day&oid=001&aid=0011804863&date=20200810&type=1&rankingSeq=2&rankingSectionId=102\n",
      "'보험금 95억' 아내 사망사고 낸 남편 금고 2년…보험 사기는 무죄\n",
      "https://news.naver.com/main/ranking/read.nhn?mid=etc&sid1=111&rankingType=popular_day&oid=055&aid=0000833816&date=20200810&type=1&rankingSeq=3&rankingSectionId=102\n",
      "제주 태풍 '장미' 영향 벗어나…세력 약했던 탓에 피해 없어(종합)\n",
      "https://news.naver.com/main/ranking/read.nhn?mid=etc&sid1=111&rankingType=popular_day&oid=001&aid=0011804398&date=20200810&type=1&rankingSeq=4&rankingSectionId=102\n",
      "95억원과 억울한 죽음만 남았다… ‘만삭아내 사망’ 남편, 금고형\n",
      "https://news.naver.com/main/ranking/read.nhn?mid=etc&sid1=111&rankingType=popular_day&oid=005&aid=0001350475&date=20200810&type=1&rankingSeq=5&rankingSectionId=102\n",
      "[2보] '보험금 95억원' 만삭아내 사망 교통사고 낸 남편 금고 2년\n",
      "https://news.naver.com/main/ranking/read.nhn?mid=etc&sid1=111&rankingType=popular_day&oid=001&aid=0011804810&date=20200810&type=1&rankingSeq=6&rankingSectionId=102\n",
      "정은경 \"WHO에 보고된 적 없는 변종 코로나 3건 확인\"\n",
      "https://news.naver.com/main/ranking/read.nhn?mid=etc&sid1=111&rankingType=popular_day&oid=032&aid=0003025800&date=20200810&type=1&rankingSeq=7&rankingSectionId=102\n",
      "[단독]이번엔 강남 한복판 '묻지마 폭행'…여성만 골라 얼굴 팼다\n",
      "https://news.naver.com/main/ranking/read.nhn?mid=etc&sid1=111&rankingType=popular_day&oid=025&aid=0003024790&date=20200810&type=1&rankingSeq=8&rankingSectionId=102\n",
      "초고속 태풍 장미 진로 놓인 부산 별다른 피해 없어\n",
      "https://news.naver.com/main/ranking/read.nhn?mid=etc&sid1=111&rankingType=popular_day&oid=001&aid=0011805115&date=20200810&type=1&rankingSeq=9&rankingSectionId=102\n",
      "권순일 대법관 후임에 그가 국보법 유죄 판결한 이흥구\n",
      "https://news.naver.com/main/ranking/read.nhn?mid=etc&sid1=111&rankingType=popular_day&oid=025&aid=0003024871&date=20200810&type=1&rankingSeq=10&rankingSectionId=102\n",
      "가장 많이 본 뉴스더보기\n",
      "https://news.naver.com/main/ranking/popularDay.nhn\n",
      "103\n",
      "생활문화\n",
      "클럽 간 뮤지컬 배우 A씨 뭇매…지난 6일 밤~7일 새벽 클럽 찾아 구설수\n",
      "https://news.naver.com/main/ranking/read.nhn?mid=etc&sid1=111&rankingType=popular_day&oid=009&aid=0004632066&date=20200810&type=1&rankingSeq=1&rankingSectionId=103\n",
      "송백경 KBS 라디오 진행자 발탁 나흘만에 반대 9000명 결국 고사\n",
      "https://news.naver.com/main/ranking/read.nhn?mid=etc&sid1=111&rankingType=popular_day&oid=006&aid=0000103974&date=20200810&type=1&rankingSeq=2&rankingSectionId=103\n",
      "태풍 '장미', 오후 6시 이전 온대저기압으로 약화…밤사이 폭우\n",
      "https://news.naver.com/main/ranking/read.nhn?mid=etc&sid1=111&rankingType=popular_day&oid=001&aid=0011805221&date=20200810&type=1&rankingSeq=3&rankingSectionId=103\n",
      "'세월호 유족 비하 논란' 前가수 송백경, KBS라디오 진행 결국 무산\n",
      "https://news.naver.com/main/ranking/read.nhn?mid=etc&sid1=111&rankingType=popular_day&oid=023&aid=0003552800&date=20200810&type=1&rankingSeq=4&rankingSectionId=103\n",
      "남편 따라 북한으로 건너간 ‘일본인 아내’…그들은 왜 그런 선택을 했을까\n",
      "https://news.naver.com/main/ranking/read.nhn?mid=etc&sid1=111&rankingType=popular_day&oid=032&aid=0003025755&date=20200810&type=1&rankingSeq=5&rankingSectionId=103\n",
      "현빈, 제2의 욘사마 되나…日 ‘사랑의 불시착’ 신드롬 “외무상도 ‘다 봤다’”\n",
      "https://news.naver.com/main/ranking/read.nhn?mid=etc&sid1=111&rankingType=popular_day&oid=081&aid=0003114389&date=20200810&type=1&rankingSeq=6&rankingSectionId=103\n",
      "클럽 갔다가 공연서 교체되고 팬클럽 사라지게 된 뮤지컬 배우\n",
      "https://news.naver.com/main/ranking/read.nhn?mid=etc&sid1=111&rankingType=popular_day&oid=025&aid=0003024866&date=20200810&type=1&rankingSeq=7&rankingSectionId=103\n",
      "‘복면가왕’ 김호중 “영어 알아듣는 내 자신이 너무 좋다”\n",
      "https://news.naver.com/main/ranking/read.nhn?mid=etc&sid1=111&rankingType=popular_day&oid=005&aid=0001350305&date=20200810&type=1&rankingSeq=8&rankingSectionId=103\n",
      "태풍 ‘장미’ 가지도 않았는데… 또 6호 ‘메칼라’ 발생 조짐\n",
      "https://news.naver.com/main/ranking/read.nhn?mid=etc&sid1=111&rankingType=popular_day&oid=020&aid=0003302490&date=20200810&type=1&rankingSeq=9&rankingSectionId=103\n",
      "\"하늘 뜻인데 어쩌겠어\"…물폭탄 이어 태풍 맞은 수재민 '한숨'(종합)\n",
      "https://news.naver.com/main/ranking/read.nhn?mid=etc&sid1=111&rankingType=popular_day&oid=001&aid=0011805211&date=20200810&type=1&rankingSeq=10&rankingSectionId=103\n",
      "가장 많이 본 뉴스더보기\n",
      "https://news.naver.com/main/ranking/popularDay.nhn\n",
      "104\n",
      "세계\n",
      "트럼프도 싫고 코로나 대처도 못 하고…미국 시민권 포기자 급증\n",
      "https://news.naver.com/main/ranking/read.nhn?mid=etc&sid1=111&rankingType=popular_day&oid=437&aid=0000244748&date=20200810&type=1&rankingSeq=1&rankingSectionId=104\n",
      "연설문 '복붙'에 '피토했다' 소문까지…요즘 아베가 이상하다\n",
      "https://news.naver.com/main/ranking/read.nhn?mid=etc&sid1=111&rankingType=popular_day&oid=025&aid=0003024873&date=20200810&type=1&rankingSeq=2&rankingSectionId=104\n",
      "코로나 ‘한 방에’ 앞당겨진 미래…“백화점이 창고로 바뀐다고?”\n",
      "https://news.naver.com/main/ranking/read.nhn?mid=etc&sid1=111&rankingType=popular_day&oid=032&aid=0003025801&date=20200810&type=1&rankingSeq=3&rankingSectionId=104\n",
      "흙수저→1조 자산가→두 아들과 감옥행…지미 라이는 누구?\n",
      "https://news.naver.com/main/ranking/read.nhn?mid=etc&sid1=111&rankingType=popular_day&oid=008&aid=0004452980&date=20200810&type=1&rankingSeq=4&rankingSectionId=104\n",
      "[여기는 인도] “뇌물 바치라고!”…시민 머리채 잡은 경찰 충격(영상)\n",
      "https://news.naver.com/main/ranking/read.nhn?mid=etc&sid1=111&rankingType=popular_day&oid=081&aid=0003114427&date=20200810&type=1&rankingSeq=5&rankingSectionId=104\n",
      "현실 된 홍콩보안법 공포…'지오다노' 창업주 지미 라이 체포\n",
      "https://news.naver.com/main/ranking/read.nhn?mid=etc&sid1=111&rankingType=popular_day&oid=025&aid=0003024781&date=20200810&type=1&rankingSeq=6&rankingSectionId=104\n",
      "우주 택시 한번 가는데 650억…그래도 싸다고 환호\n",
      "https://news.naver.com/main/ranking/read.nhn?mid=etc&sid1=111&rankingType=popular_day&oid=056&aid=0010882681&date=20200810&type=1&rankingSeq=7&rankingSectionId=104\n",
      "34세에 돌연 극단적 선택…'톱스타가 된 흙수저' 죽음의 미스터리\n",
      "https://news.naver.com/main/ranking/read.nhn?mid=etc&sid1=111&rankingType=popular_day&oid=008&aid=0004452680&date=20200810&type=1&rankingSeq=8&rankingSectionId=104\n",
      "\"나도 큰바위 얼굴에 넣어줘\"…트럼프 백악관, 지난해 사우스다코타 주지사 접촉\n",
      "https://news.naver.com/main/ranking/read.nhn?mid=etc&sid1=111&rankingType=popular_day&oid=437&aid=0000244728&date=20200810&type=1&rankingSeq=9&rankingSectionId=104\n",
      "결과 나오는데 1주일…게이츠 \"美 코로나 검사 쓰레기\"\n",
      "https://news.naver.com/main/ranking/read.nhn?mid=etc&sid1=111&rankingType=popular_day&oid=014&aid=0004474630&date=20200810&type=1&rankingSeq=10&rankingSectionId=104\n",
      "가장 많이 본 뉴스더보기\n",
      "https://news.naver.com/main/ranking/popularDay.nhn\n",
      "105\n",
      "IT과학\n",
      "400만 유튜버 보겸도 '뒷광고' 인정… \"명륜진사갈비·BBQ 등 5개\"[전문]\n",
      "https://news.naver.com/main/ranking/read.nhn?mid=etc&sid1=111&rankingType=popular_day&oid=023&aid=0003552796&date=20200810&type=1&rankingSeq=1&rankingSectionId=105\n",
      "[단독]금호산업, 정몽규 요구 안받아들인다\n",
      "https://news.naver.com/main/ranking/read.nhn?mid=etc&sid1=111&rankingType=popular_day&oid=293&aid=0000030305&date=20200810&type=1&rankingSeq=2&rankingSectionId=105\n",
      "[사이언스카페] 해변 묻힌 이 슬리퍼, 넉달 뒤엔 흔적도 없습니다\n",
      "https://news.naver.com/main/ranking/read.nhn?mid=etc&sid1=111&rankingType=popular_day&oid=023&aid=0003552716&date=20200810&type=1&rankingSeq=3&rankingSectionId=105\n",
      "세계 1위 올라선 중국폰 “왜? 한국에선 점점 사라지나”[IT선빵!]\n",
      "https://news.naver.com/main/ranking/read.nhn?mid=etc&sid1=111&rankingType=popular_day&oid=016&aid=0001710097&date=20200810&type=1&rankingSeq=4&rankingSectionId=105\n",
      "SK 품에 안긴 매그나칩 파운드리, '키파운드리'로 재탄생\n",
      "https://news.naver.com/main/ranking/read.nhn?mid=etc&sid1=111&rankingType=popular_day&oid=030&aid=0002897414&date=20200810&type=1&rankingSeq=5&rankingSectionId=105\n",
      "갤버즈 주는 갤노트20 사전예약 순항…'브론즈' 완판된 곳도\n",
      "https://news.naver.com/main/ranking/read.nhn?mid=etc&sid1=111&rankingType=popular_day&oid=008&aid=0004452945&date=20200810&type=1&rankingSeq=6&rankingSectionId=105\n",
      "‘뒷광고 쓰나미’…최고인기 유튜버도 예외없었다\n",
      "https://news.naver.com/main/ranking/read.nhn?mid=etc&sid1=111&rankingType=popular_day&oid=138&aid=0002089999&date=20200810&type=1&rankingSeq=7&rankingSectionId=105\n",
      "삼성바이오로직스, 바이오젠 치매 치료제 수주 가능성은?\n",
      "https://news.naver.com/main/ranking/read.nhn?mid=etc&sid1=111&rankingType=popular_day&oid=015&aid=0004395791&date=20200810&type=1&rankingSeq=8&rankingSectionId=105\n",
      "코로나19가 우버의 주력사업을 바꿨다\n",
      "https://news.naver.com/main/ranking/read.nhn?mid=etc&sid1=111&rankingType=popular_day&oid=028&aid=0002508182&date=20200810&type=1&rankingSeq=9&rankingSectionId=105\n",
      "대세는 에너지효율… 삼성·LG전자, ‘올해의 에너지 위너상’ 수상\n",
      "https://news.naver.com/main/ranking/read.nhn?mid=etc&sid1=111&rankingType=popular_day&oid=138&aid=0002089991&date=20200810&type=1&rankingSeq=10&rankingSectionId=105\n",
      "가장 많이 본 뉴스더보기\n",
      "https://news.naver.com/main/ranking/popularDay.nhn\n"
     ]
    }
   ],
   "source": [
    "for news in dom.select('div[id^=ranking_]'):\n",
    "    print(re.search('\\d{3}', news['id']).group())\n",
    "    print(pattern1.sub('', news.find().text))\n",
    "    for a in news.select('a'):\n",
    "        print(a.text.strip())\n",
    "        print(urljoin(seed, a['href']))"
   ]
  },
  {
   "cell_type": "code",
   "execution_count": 11,
   "metadata": {},
   "outputs": [],
   "source": [
    "# aid: article id"
   ]
  },
  {
   "cell_type": "code",
   "execution_count": 12,
   "metadata": {},
   "outputs": [
    {
     "name": "stdout",
     "output_type": "stream",
     "text": [
      "100\n",
      "정치\n",
      "[속보] 문 대통령 “집값 진정 양상…부동산 감독기구 설치 검토”\n",
      "aid=0003114437\n",
      "[속보] 김진애 \"다주택자 왜 적대시하냐, 노영민 과했다\"\n",
      "aid=0000892691\n",
      "문대통령 \"집값 진정 양상…부동산감독기구 설치\"(종합)\n",
      "aid=0011804920\n",
      "[속보]文대통령 \"주택 문제, 당면한 최고의 민생 문제\"\n",
      "aid=0004734195\n",
      "\"티셔츠가 왜 이리 깨끗?\" 심상정 수해복구 인증샷 구설\n",
      "aid=0003552760\n",
      "수해현장 달려갔지만…`흙탕범벅` 태영호 `깔끔` 심상정\n",
      "aid=0004632222\n",
      "‘4주택자’ 김진애 “靑 참모들 집 매각은 노영민 개인 생각… 과했다”\n",
      "aid=0003492251\n",
      "영·호남 화합 상징 화개장터, 물난리 원인 놓고 여야 갈라섰다\n",
      "aid=0003024870\n",
      "'靑참모 줄사표' 언급 없이…文 \"집값 진정됐다, 경제 선방했다\"\n",
      "aid=0003024878\n",
      "폭우가 소환한 4대강…文 “홍수조절 효과 분석할 기회”(종합)\n",
      "aid=0003114428\n",
      "101\n",
      "경제\n",
      "정용진·백종원 '콜라보' 파워 무섭네…위기의 장어도 품절됐다\n",
      "aid=0003024865\n",
      "\"집 안사면 되지 뭐\"…더 뜨거워진 2030의 '수입차 플렉스'\n",
      "aid=0004395676\n",
      "'캄보디아 만삭 아내 살해사건' 남편에 보험금 100억원 지급되나\n",
      "aid=0003780817\n",
      "정용진·백종원 손 잡자…재고 900톤 바다장어 '품절 대란'\n",
      "aid=0004734166\n",
      "文이 5000만원 투자한 그 펀드, 1년 만에 2800만원 벌었다\n",
      "aid=0003024787\n",
      "품절…품절… 백종원·정용진 '바다장어'로 또 대박 냈다\n",
      "aid=0004452947\n",
      "실업급여 1조2천억 또 사상 최대…제조업은 외환위기 수준 실업\n",
      "aid=0004632171\n",
      "“우리가 호구냐”…8·4대책에 과천이어 마포주민 ‘뿔났다’\n",
      "aid=0004710768\n",
      "남부 폭우 가축에도 '대재앙'…타고난 수영선수 한우 '떼죽음'\n",
      "aid=0011804967\n",
      "16% 급등한 현대차, 코스피 2년 2개월만에 최고치\n",
      "aid=0003552823\n",
      "102\n",
      "사회\n",
      "'보험금 95억' 아내 사망사고 낸 남편 금고2년…보험사기는 무죄(종합)\n",
      "aid=0011805029\n",
      "제5호 태풍 '장미' 오후 2시 50분 거제도 남단 상륙(종합)\n",
      "aid=0011804863\n",
      "'보험금 95억' 아내 사망사고 낸 남편 금고 2년…보험 사기는 무죄\n",
      "aid=0000833816\n",
      "제주 태풍 '장미' 영향 벗어나…세력 약했던 탓에 피해 없어(종합)\n",
      "aid=0011804398\n",
      "95억원과 억울한 죽음만 남았다… ‘만삭아내 사망’ 남편, 금고형\n",
      "aid=0001350475\n",
      "[2보] '보험금 95억원' 만삭아내 사망 교통사고 낸 남편 금고 2년\n",
      "aid=0011804810\n",
      "정은경 \"WHO에 보고된 적 없는 변종 코로나 3건 확인\"\n",
      "aid=0003025800\n",
      "[단독]이번엔 강남 한복판 '묻지마 폭행'…여성만 골라 얼굴 팼다\n",
      "aid=0003024790\n",
      "초고속 태풍 장미 진로 놓인 부산 별다른 피해 없어\n",
      "aid=0011805115\n",
      "권순일 대법관 후임에 그가 국보법 유죄 판결한 이흥구\n",
      "aid=0003024871\n",
      "103\n",
      "생활문화\n",
      "클럽 간 뮤지컬 배우 A씨 뭇매…지난 6일 밤~7일 새벽 클럽 찾아 구설수\n",
      "aid=0004632066\n",
      "송백경 KBS 라디오 진행자 발탁 나흘만에 반대 9000명 결국 고사\n",
      "aid=0000103974\n",
      "태풍 '장미', 오후 6시 이전 온대저기압으로 약화…밤사이 폭우\n",
      "aid=0011805221\n",
      "'세월호 유족 비하 논란' 前가수 송백경, KBS라디오 진행 결국 무산\n",
      "aid=0003552800\n",
      "남편 따라 북한으로 건너간 ‘일본인 아내’…그들은 왜 그런 선택을 했을까\n",
      "aid=0003025755\n",
      "현빈, 제2의 욘사마 되나…日 ‘사랑의 불시착’ 신드롬 “외무상도 ‘다 봤다’”\n",
      "aid=0003114389\n",
      "클럽 갔다가 공연서 교체되고 팬클럽 사라지게 된 뮤지컬 배우\n",
      "aid=0003024866\n",
      "‘복면가왕’ 김호중 “영어 알아듣는 내 자신이 너무 좋다”\n",
      "aid=0001350305\n",
      "태풍 ‘장미’ 가지도 않았는데… 또 6호 ‘메칼라’ 발생 조짐\n",
      "aid=0003302490\n",
      "\"하늘 뜻인데 어쩌겠어\"…물폭탄 이어 태풍 맞은 수재민 '한숨'(종합)\n",
      "aid=0011805211\n",
      "104\n",
      "세계\n",
      "트럼프도 싫고 코로나 대처도 못 하고…미국 시민권 포기자 급증\n",
      "aid=0000244748\n",
      "연설문 '복붙'에 '피토했다' 소문까지…요즘 아베가 이상하다\n",
      "aid=0003024873\n",
      "코로나 ‘한 방에’ 앞당겨진 미래…“백화점이 창고로 바뀐다고?”\n",
      "aid=0003025801\n",
      "흙수저→1조 자산가→두 아들과 감옥행…지미 라이는 누구?\n",
      "aid=0004452980\n",
      "[여기는 인도] “뇌물 바치라고!”…시민 머리채 잡은 경찰 충격(영상)\n",
      "aid=0003114427\n",
      "현실 된 홍콩보안법 공포…'지오다노' 창업주 지미 라이 체포\n",
      "aid=0003024781\n",
      "우주 택시 한번 가는데 650억…그래도 싸다고 환호\n",
      "aid=0010882681\n",
      "34세에 돌연 극단적 선택…'톱스타가 된 흙수저' 죽음의 미스터리\n",
      "aid=0004452680\n",
      "\"나도 큰바위 얼굴에 넣어줘\"…트럼프 백악관, 지난해 사우스다코타 주지사 접촉\n",
      "aid=0000244728\n",
      "결과 나오는데 1주일…게이츠 \"美 코로나 검사 쓰레기\"\n",
      "aid=0004474630\n",
      "105\n",
      "IT과학\n",
      "400만 유튜버 보겸도 '뒷광고' 인정… \"명륜진사갈비·BBQ 등 5개\"[전문]\n",
      "aid=0003552796\n",
      "[단독]금호산업, 정몽규 요구 안받아들인다\n",
      "aid=0000030305\n",
      "[사이언스카페] 해변 묻힌 이 슬리퍼, 넉달 뒤엔 흔적도 없습니다\n",
      "aid=0003552716\n",
      "세계 1위 올라선 중국폰 “왜? 한국에선 점점 사라지나”[IT선빵!]\n",
      "aid=0001710097\n",
      "SK 품에 안긴 매그나칩 파운드리, '키파운드리'로 재탄생\n",
      "aid=0002897414\n",
      "갤버즈 주는 갤노트20 사전예약 순항…'브론즈' 완판된 곳도\n",
      "aid=0004452945\n",
      "‘뒷광고 쓰나미’…최고인기 유튜버도 예외없었다\n",
      "aid=0002089999\n",
      "삼성바이오로직스, 바이오젠 치매 치료제 수주 가능성은?\n",
      "aid=0004395791\n",
      "코로나19가 우버의 주력사업을 바꿨다\n",
      "aid=0002508182\n",
      "대세는 에너지효율… 삼성·LG전자, ‘올해의 에너지 위너상’ 수상\n",
      "aid=0002089991\n"
     ]
    }
   ],
   "source": [
    "for news in dom.select('div[id^=ranking_]'):\n",
    "    print(re.search('\\d{3}', news['id']).group())\n",
    "    print(pattern1.sub('', news.find().text))\n",
    "    for a in news.select('li > a'):\n",
    "        link = urljoin(seed, a['href'])\n",
    "        print(a.text.strip())\n",
    "        print(re.search('aid=(\\d+)', link).group())"
   ]
  },
  {
   "cell_type": "code",
   "execution_count": 13,
   "metadata": {},
   "outputs": [
    {
     "name": "stdout",
     "output_type": "stream",
     "text": [
      "100\n",
      "정치\n",
      "[속보] 문 대통령 “집값 진정 양상…부동산 감독기구 설치 검토”\n",
      "0003114437\n",
      "[속보] 김진애 \"다주택자 왜 적대시하냐, 노영민 과했다\"\n",
      "0000892691\n",
      "문대통령 \"집값 진정 양상…부동산감독기구 설치\"(종합)\n",
      "0011804920\n",
      "[속보]文대통령 \"주택 문제, 당면한 최고의 민생 문제\"\n",
      "0004734195\n",
      "\"티셔츠가 왜 이리 깨끗?\" 심상정 수해복구 인증샷 구설\n",
      "0003552760\n",
      "수해현장 달려갔지만…`흙탕범벅` 태영호 `깔끔` 심상정\n",
      "0004632222\n",
      "‘4주택자’ 김진애 “靑 참모들 집 매각은 노영민 개인 생각… 과했다”\n",
      "0003492251\n",
      "영·호남 화합 상징 화개장터, 물난리 원인 놓고 여야 갈라섰다\n",
      "0003024870\n",
      "'靑참모 줄사표' 언급 없이…文 \"집값 진정됐다, 경제 선방했다\"\n",
      "0003024878\n",
      "폭우가 소환한 4대강…文 “홍수조절 효과 분석할 기회”(종합)\n",
      "0003114428\n",
      "101\n",
      "경제\n",
      "정용진·백종원 '콜라보' 파워 무섭네…위기의 장어도 품절됐다\n",
      "0003024865\n",
      "\"집 안사면 되지 뭐\"…더 뜨거워진 2030의 '수입차 플렉스'\n",
      "0004395676\n",
      "'캄보디아 만삭 아내 살해사건' 남편에 보험금 100억원 지급되나\n",
      "0003780817\n",
      "정용진·백종원 손 잡자…재고 900톤 바다장어 '품절 대란'\n",
      "0004734166\n",
      "文이 5000만원 투자한 그 펀드, 1년 만에 2800만원 벌었다\n",
      "0003024787\n",
      "품절…품절… 백종원·정용진 '바다장어'로 또 대박 냈다\n",
      "0004452947\n",
      "실업급여 1조2천억 또 사상 최대…제조업은 외환위기 수준 실업\n",
      "0004632171\n",
      "“우리가 호구냐”…8·4대책에 과천이어 마포주민 ‘뿔났다’\n",
      "0004710768\n",
      "남부 폭우 가축에도 '대재앙'…타고난 수영선수 한우 '떼죽음'\n",
      "0011804967\n",
      "16% 급등한 현대차, 코스피 2년 2개월만에 최고치\n",
      "0003552823\n",
      "102\n",
      "사회\n",
      "'보험금 95억' 아내 사망사고 낸 남편 금고2년…보험사기는 무죄(종합)\n",
      "0011805029\n",
      "제5호 태풍 '장미' 오후 2시 50분 거제도 남단 상륙(종합)\n",
      "0011804863\n",
      "'보험금 95억' 아내 사망사고 낸 남편 금고 2년…보험 사기는 무죄\n",
      "0000833816\n",
      "제주 태풍 '장미' 영향 벗어나…세력 약했던 탓에 피해 없어(종합)\n",
      "0011804398\n",
      "95억원과 억울한 죽음만 남았다… ‘만삭아내 사망’ 남편, 금고형\n",
      "0001350475\n",
      "[2보] '보험금 95억원' 만삭아내 사망 교통사고 낸 남편 금고 2년\n",
      "0011804810\n",
      "정은경 \"WHO에 보고된 적 없는 변종 코로나 3건 확인\"\n",
      "0003025800\n",
      "[단독]이번엔 강남 한복판 '묻지마 폭행'…여성만 골라 얼굴 팼다\n",
      "0003024790\n",
      "초고속 태풍 장미 진로 놓인 부산 별다른 피해 없어\n",
      "0011805115\n",
      "권순일 대법관 후임에 그가 국보법 유죄 판결한 이흥구\n",
      "0003024871\n",
      "103\n",
      "생활문화\n",
      "클럽 간 뮤지컬 배우 A씨 뭇매…지난 6일 밤~7일 새벽 클럽 찾아 구설수\n",
      "0004632066\n",
      "송백경 KBS 라디오 진행자 발탁 나흘만에 반대 9000명 결국 고사\n",
      "0000103974\n",
      "태풍 '장미', 오후 6시 이전 온대저기압으로 약화…밤사이 폭우\n",
      "0011805221\n",
      "'세월호 유족 비하 논란' 前가수 송백경, KBS라디오 진행 결국 무산\n",
      "0003552800\n",
      "남편 따라 북한으로 건너간 ‘일본인 아내’…그들은 왜 그런 선택을 했을까\n",
      "0003025755\n",
      "현빈, 제2의 욘사마 되나…日 ‘사랑의 불시착’ 신드롬 “외무상도 ‘다 봤다’”\n",
      "0003114389\n",
      "클럽 갔다가 공연서 교체되고 팬클럽 사라지게 된 뮤지컬 배우\n",
      "0003024866\n",
      "‘복면가왕’ 김호중 “영어 알아듣는 내 자신이 너무 좋다”\n",
      "0001350305\n",
      "태풍 ‘장미’ 가지도 않았는데… 또 6호 ‘메칼라’ 발생 조짐\n",
      "0003302490\n",
      "\"하늘 뜻인데 어쩌겠어\"…물폭탄 이어 태풍 맞은 수재민 '한숨'(종합)\n",
      "0011805211\n",
      "104\n",
      "세계\n",
      "트럼프도 싫고 코로나 대처도 못 하고…미국 시민권 포기자 급증\n",
      "0000244748\n",
      "연설문 '복붙'에 '피토했다' 소문까지…요즘 아베가 이상하다\n",
      "0003024873\n",
      "코로나 ‘한 방에’ 앞당겨진 미래…“백화점이 창고로 바뀐다고?”\n",
      "0003025801\n",
      "흙수저→1조 자산가→두 아들과 감옥행…지미 라이는 누구?\n",
      "0004452980\n",
      "[여기는 인도] “뇌물 바치라고!”…시민 머리채 잡은 경찰 충격(영상)\n",
      "0003114427\n",
      "현실 된 홍콩보안법 공포…'지오다노' 창업주 지미 라이 체포\n",
      "0003024781\n",
      "우주 택시 한번 가는데 650억…그래도 싸다고 환호\n",
      "0010882681\n",
      "34세에 돌연 극단적 선택…'톱스타가 된 흙수저' 죽음의 미스터리\n",
      "0004452680\n",
      "\"나도 큰바위 얼굴에 넣어줘\"…트럼프 백악관, 지난해 사우스다코타 주지사 접촉\n",
      "0000244728\n",
      "결과 나오는데 1주일…게이츠 \"美 코로나 검사 쓰레기\"\n",
      "0004474630\n",
      "105\n",
      "IT과학\n",
      "400만 유튜버 보겸도 '뒷광고' 인정… \"명륜진사갈비·BBQ 등 5개\"[전문]\n",
      "0003552796\n",
      "[단독]금호산업, 정몽규 요구 안받아들인다\n",
      "0000030305\n",
      "[사이언스카페] 해변 묻힌 이 슬리퍼, 넉달 뒤엔 흔적도 없습니다\n",
      "0003552716\n",
      "세계 1위 올라선 중국폰 “왜? 한국에선 점점 사라지나”[IT선빵!]\n",
      "0001710097\n",
      "SK 품에 안긴 매그나칩 파운드리, '키파운드리'로 재탄생\n",
      "0002897414\n",
      "갤버즈 주는 갤노트20 사전예약 순항…'브론즈' 완판된 곳도\n",
      "0004452945\n",
      "‘뒷광고 쓰나미’…최고인기 유튜버도 예외없었다\n",
      "0002089999\n",
      "삼성바이오로직스, 바이오젠 치매 치료제 수주 가능성은?\n",
      "0004395791\n",
      "코로나19가 우버의 주력사업을 바꿨다\n",
      "0002508182\n",
      "대세는 에너지효율… 삼성·LG전자, ‘올해의 에너지 위너상’ 수상\n",
      "0002089991\n"
     ]
    }
   ],
   "source": [
    "for news in dom.select('div[id^=ranking_]'):\n",
    "    print(re.search('\\d{3}', news['id']).group())\n",
    "    print(pattern1.sub('', news.find().text))\n",
    "    for a in news.select('li > a'):\n",
    "        link = urljoin(seed, a['href'])\n",
    "        print(a.text.strip())\n",
    "        print(re.search('aid=(\\d+)', link).group(1))"
   ]
  },
  {
   "cell_type": "code",
   "execution_count": 14,
   "metadata": {},
   "outputs": [
    {
     "data": {
      "text/plain": [
       "'C:\\\\Users\\\\Shin\\\\Desktop\\\\kr-for-git\\\\5_data_analysis'"
      ]
     },
     "execution_count": 14,
     "metadata": {},
     "output_type": "execute_result"
    }
   ],
   "source": [
    "import os\n",
    "os.getcwd()"
   ]
  },
  {
   "cell_type": "code",
   "execution_count": 15,
   "metadata": {},
   "outputs": [],
   "source": [
    "urls = ['https://news.naver.com']\n",
    "visited = list()\n",
    "\n",
    "#path = './naver/'\n",
    "path = './'\n",
    "\n",
    "while urls:\n",
    "    seed = urls.pop(0) # Queue\n",
    "    visited.append(seed)\n",
    "    \n",
    "    dom = BeautifulSoup(get(seed).text, 'html.parser')\n",
    "    body = dom.select_one('#articleBodyContents')\n",
    "    \n",
    "    if body: # 뉴스\n",
    "        cid = re.search('rankingSectionId=(\\d+)', seed).group(1)\n",
    "        aid = re.search('aid=(\\d+)', seed).group(1)\n",
    "        \n",
    "        file = '{0}-{1}.txt'.format(cid, aid)\n",
    "        with open(path+file, 'w', encoding='utf-8') as f:\n",
    "            f.write(body.text)\n",
    "            \n",
    "    else: # 링크\n",
    "        for a in dom.select('div[id^=ranking_] li > a'):\n",
    "            link = urljoin(seed, a['href'])\n",
    "            if link not in urls and link not in visited:\n",
    "                urls.append(link)"
   ]
  },
  {
   "cell_type": "code",
   "execution_count": 16,
   "metadata": {},
   "outputs": [],
   "source": [
    "urls = ['https://news.naver.com']\n",
    "visited = list()\n",
    "\n",
    "path = './'\n",
    "\n",
    "while urls:\n",
    "    seed = urls.pop(0) #Queue\n",
    "    visited.append(seed)\n",
    "    \n",
    "    dom = BeautifulSoup(get(seed).text, 'html.parser')\n",
    "    body = dom.select_one('#articleBody') #뉴스를 가져옴\n",
    "    if body:\n",
    "        cid = re.search('aid=(\\d+)', seed).group(1)\n",
    "        aid = re.search('rankingSectionId=(\\d+)', seed).group(1)\n",
    "        \n",
    "        file = '{0}-{1}.txt'.format(cid,aid)\n",
    "        with open(path+file, 'w', encoding = 'utf-8') as f:\n",
    "            f.write(body.text)\n",
    "        body.text\n",
    "    else: #링크를 가져와야 함\n",
    "        for a in news.select('div[id^=ranking_] li > a'):\n",
    "            link = urljoin(seed, a['href'])\n",
    "            if link not in urls and link not in visited:\n",
    "                urls.append(link)"
   ]
  },
  {
   "cell_type": "markdown",
   "metadata": {},
   "source": [
    "## 1-2. Indexer"
   ]
  },
  {
   "cell_type": "code",
   "execution_count": 17,
   "metadata": {},
   "outputs": [],
   "source": [
    "import re\n",
    "from string import punctuation\n",
    "pattern1 = re.compile(r'[{}]'.format(re.escape(punctuation)))\n",
    "pattern2 = re.compile(r'\\b\\w+@(?:[.]?\\w+)+b')\n",
    "pattern3 = re.compile(r'\\bhttps?://\\w+(?:[.]?\\w+)+\\b')\n",
    "pattern4 = re.compile(r'[A-Za-z0-9가-힣ㄱ-ㅎㅏ-ㅣ ]')\n",
    "pattern5 = re.compile(r'\\b[A-Z][A-Za-z0-9]+\\b')\n",
    "pattern6 = re.compile(r'\\s{2,}')"
   ]
  },
  {
   "cell_type": "code",
   "execution_count": 19,
   "metadata": {},
   "outputs": [
    {
     "ename": "TypeError",
     "evalue": "startJVM() got an unexpected keyword argument 'convertStrings'",
     "output_type": "error",
     "traceback": [
      "\u001b[1;31m---------------------------------------------------------------------------\u001b[0m",
      "\u001b[1;31mTypeError\u001b[0m                                 Traceback (most recent call last)",
      "\u001b[1;32m<ipython-input-19-8e3ee1addda3>\u001b[0m in \u001b[0;36m<module>\u001b[1;34m\u001b[0m\n\u001b[0;32m      1\u001b[0m \u001b[1;32mfrom\u001b[0m \u001b[0mos\u001b[0m \u001b[1;32mimport\u001b[0m \u001b[0mlistdir\u001b[0m\u001b[1;33m\u001b[0m\u001b[1;33m\u001b[0m\u001b[0m\n\u001b[0;32m      2\u001b[0m \u001b[1;32mfrom\u001b[0m \u001b[0mkonlpy\u001b[0m\u001b[1;33m.\u001b[0m\u001b[0mtag\u001b[0m \u001b[1;32mimport\u001b[0m \u001b[0mOkt\u001b[0m\u001b[1;33m\u001b[0m\u001b[1;33m\u001b[0m\u001b[0m\n\u001b[1;32m----> 3\u001b[1;33m \u001b[0mokt\u001b[0m \u001b[1;33m=\u001b[0m \u001b[0mOkt\u001b[0m\u001b[1;33m(\u001b[0m\u001b[1;33m)\u001b[0m\u001b[1;33m\u001b[0m\u001b[1;33m\u001b[0m\u001b[0m\n\u001b[0m\u001b[0;32m      4\u001b[0m \u001b[1;33m\u001b[0m\u001b[0m\n\u001b[0;32m      5\u001b[0m \u001b[1;32mdef\u001b[0m \u001b[0mfileids\u001b[0m\u001b[1;33m(\u001b[0m\u001b[0mpath\u001b[0m \u001b[1;33m=\u001b[0m \u001b[1;34m'./'\u001b[0m\u001b[1;33m)\u001b[0m\u001b[1;33m:\u001b[0m\u001b[1;33m\u001b[0m\u001b[1;33m\u001b[0m\u001b[0m\n",
      "\u001b[1;32m~\\Anaconda3\\lib\\site-packages\\konlpy\\tag\\_okt.py\u001b[0m in \u001b[0;36m__init__\u001b[1;34m(self, jvmpath, max_heap_size)\u001b[0m\n\u001b[0;32m     89\u001b[0m     \u001b[1;32mdef\u001b[0m \u001b[0m__init__\u001b[0m\u001b[1;33m(\u001b[0m\u001b[0mself\u001b[0m\u001b[1;33m,\u001b[0m \u001b[0mjvmpath\u001b[0m\u001b[1;33m=\u001b[0m\u001b[1;32mNone\u001b[0m\u001b[1;33m,\u001b[0m \u001b[0mmax_heap_size\u001b[0m\u001b[1;33m=\u001b[0m\u001b[1;36m1024\u001b[0m\u001b[1;33m)\u001b[0m\u001b[1;33m:\u001b[0m\u001b[1;33m\u001b[0m\u001b[1;33m\u001b[0m\u001b[0m\n\u001b[0;32m     90\u001b[0m         \u001b[1;32mif\u001b[0m \u001b[1;32mnot\u001b[0m \u001b[0mjpype\u001b[0m\u001b[1;33m.\u001b[0m\u001b[0misJVMStarted\u001b[0m\u001b[1;33m(\u001b[0m\u001b[1;33m)\u001b[0m\u001b[1;33m:\u001b[0m\u001b[1;33m\u001b[0m\u001b[1;33m\u001b[0m\u001b[0m\n\u001b[1;32m---> 91\u001b[1;33m             \u001b[0mjvm\u001b[0m\u001b[1;33m.\u001b[0m\u001b[0minit_jvm\u001b[0m\u001b[1;33m(\u001b[0m\u001b[0mjvmpath\u001b[0m\u001b[1;33m,\u001b[0m \u001b[0mmax_heap_size\u001b[0m\u001b[1;33m)\u001b[0m\u001b[1;33m\u001b[0m\u001b[1;33m\u001b[0m\u001b[0m\n\u001b[0m\u001b[0;32m     92\u001b[0m \u001b[1;33m\u001b[0m\u001b[0m\n\u001b[0;32m     93\u001b[0m         \u001b[0moktJavaPackage\u001b[0m \u001b[1;33m=\u001b[0m \u001b[0mjpype\u001b[0m\u001b[1;33m.\u001b[0m\u001b[0mJPackage\u001b[0m\u001b[1;33m(\u001b[0m\u001b[1;34m'kr.lucypark.okt'\u001b[0m\u001b[1;33m)\u001b[0m\u001b[1;33m\u001b[0m\u001b[1;33m\u001b[0m\u001b[0m\n",
      "\u001b[1;32m~\\Anaconda3\\lib\\site-packages\\konlpy\\jvm.py\u001b[0m in \u001b[0;36minit_jvm\u001b[1;34m(jvmpath, max_heap_size)\u001b[0m\n\u001b[0;32m     65\u001b[0m                                 \u001b[1;34m'-Dfile.encoding=UTF8'\u001b[0m\u001b[1;33m,\u001b[0m\u001b[1;33m\u001b[0m\u001b[1;33m\u001b[0m\u001b[0m\n\u001b[0;32m     66\u001b[0m                                 \u001b[1;34m'-ea'\u001b[0m\u001b[1;33m,\u001b[0m \u001b[1;34m'-Xmx{}m'\u001b[0m\u001b[1;33m.\u001b[0m\u001b[0mformat\u001b[0m\u001b[1;33m(\u001b[0m\u001b[0mmax_heap_size\u001b[0m\u001b[1;33m)\u001b[0m\u001b[1;33m,\u001b[0m\u001b[1;33m\u001b[0m\u001b[1;33m\u001b[0m\u001b[0m\n\u001b[1;32m---> 67\u001b[1;33m                                 convertStrings=True)\n\u001b[0m\u001b[0;32m     68\u001b[0m     \u001b[1;32melse\u001b[0m\u001b[1;33m:\u001b[0m\u001b[1;33m\u001b[0m\u001b[1;33m\u001b[0m\u001b[0m\n\u001b[0;32m     69\u001b[0m         \u001b[1;32mraise\u001b[0m \u001b[0mValueError\u001b[0m\u001b[1;33m(\u001b[0m\u001b[1;34m\"Please specify the JVM path.\"\u001b[0m\u001b[1;33m)\u001b[0m\u001b[1;33m\u001b[0m\u001b[1;33m\u001b[0m\u001b[0m\n",
      "\u001b[1;31mTypeError\u001b[0m: startJVM() got an unexpected keyword argument 'convertStrings'"
     ]
    }
   ],
   "source": [
    "from os import listdir\n",
    "from konlpy.tag import Okt\n",
    "okt = Okt()\n",
    "\n",
    "def fileids(path = './'):\n",
    "    return [path+_ for _ in listdir(path) if re.search('[.]txt$', _)]\n",
    "\n",
    "def cleaning(doc):\n",
    "    return pattern6.sub(' ',\n",
    "            pattern1.sub(' ',\n",
    "            pattern5.sub(' ',\n",
    "            pattern4.sub(' ',\n",
    "            pattern2.sub(' ', doc))))).strip()\n",
    "\n",
    "def tokenizer1(doc): # 어절\n",
    "    return doc.split()\n",
    "\n",
    "def tokenizer2(tokens, n=2): # 어절 ngram\n",
    "    ngram = list()\n",
    "    for i in range(len(tokens) - (n-1)):\n",
    "        ngram.append(tokens[i:i+n])\n",
    "    return ngram\n",
    "\n",
    "def tokenizer3(doc, n=2): # 음절 ngram\n",
    "    ngram = list()\n",
    "    for i in range(len(doc) - (n-1)):\n",
    "        ngram.append(doc[i:i+n])\n",
    "    return ngram\n",
    "\n",
    "def tokenizer4(doc): # 형태소\n",
    "    return [_ for _ in okt.morphs(doc) if 1 < len(_) < 8]\n",
    "\n",
    "def tokenizer5(doc): # 명사\n",
    "    return [_ for _ in okt.nouns(doc) if 1 < len(_) < 8]"
   ]
  },
  {
   "cell_type": "code",
   "execution_count": 49,
   "metadata": {},
   "outputs": [
    {
     "data": {
      "text/plain": [
       "120"
      ]
     },
     "execution_count": 49,
     "metadata": {},
     "output_type": "execute_result"
    }
   ],
   "source": [
    "len(fileids())"
   ]
  },
  {
   "cell_type": "code",
   "execution_count": 50,
   "metadata": {},
   "outputs": [
    {
     "ename": "UnicodeDecodeError",
     "evalue": "'cp949' codec can't decode byte 0xec in position 19: illegal multibyte sequence",
     "output_type": "error",
     "traceback": [
      "\u001b[1;31m---------------------------------------------------------------------------\u001b[0m",
      "\u001b[1;31mUnicodeDecodeError\u001b[0m                        Traceback (most recent call last)",
      "\u001b[1;32m<ipython-input-50-23749de4bd1d>\u001b[0m in \u001b[0;36m<module>\u001b[1;34m\u001b[0m\n\u001b[0;32m      1\u001b[0m \u001b[1;32mwith\u001b[0m \u001b[0mopen\u001b[0m\u001b[1;33m(\u001b[0m\u001b[0mfileids\u001b[0m\u001b[1;33m(\u001b[0m\u001b[1;33m)\u001b[0m\u001b[1;33m[\u001b[0m\u001b[1;36m0\u001b[0m\u001b[1;33m]\u001b[0m\u001b[1;33m,\u001b[0m \u001b[1;34m'r'\u001b[0m\u001b[1;33m)\u001b[0m \u001b[1;32mas\u001b[0m \u001b[0mf\u001b[0m\u001b[1;33m:\u001b[0m\u001b[1;33m\u001b[0m\u001b[1;33m\u001b[0m\u001b[0m\n\u001b[1;32m----> 2\u001b[1;33m     \u001b[0mdoc\u001b[0m \u001b[1;33m=\u001b[0m \u001b[0mf\u001b[0m\u001b[1;33m.\u001b[0m\u001b[0mread\u001b[0m\u001b[1;33m(\u001b[0m\u001b[1;33m)\u001b[0m\u001b[1;33m\u001b[0m\u001b[1;33m\u001b[0m\u001b[0m\n\u001b[0m",
      "\u001b[1;31mUnicodeDecodeError\u001b[0m: 'cp949' codec can't decode byte 0xec in position 19: illegal multibyte sequence"
     ]
    }
   ],
   "source": [
    "with open(fileids()[0], 'r') as f:\n",
    "    doc = f.read()"
   ]
  },
  {
   "cell_type": "code",
   "execution_count": null,
   "metadata": {},
   "outputs": [],
   "source": [
    "doc = pattern2.sub(' ', doc)\n",
    "doc = pattern3.sub(' ', doc)\n",
    "doc = pattern4.sub(' ', doc)\n",
    "doc = pattern5.sub(' ', doc)\n",
    "doc = pattern1.sub(' ', doc)\n",
    "pattern6.sub(' ', doc)"
   ]
  },
  {
   "cell_type": "code",
   "execution_count": null,
   "metadata": {},
   "outputs": [],
   "source": [
    "with open(fileids[0], 'r') as f:\n",
    "    doc = pattern6.sub(' ',\n",
    "            pattern1.sub(' ',\n",
    "            pattern5.sub(' ',\n",
    "            pattern4.sub(' ',\n",
    "            pattern2.sub(' ', f.read()))))).strip()"
   ]
  },
  {
   "cell_type": "code",
   "execution_count": null,
   "metadata": {},
   "outputs": [],
   "source": [
    "doc"
   ]
  },
  {
   "cell_type": "code",
   "execution_count": null,
   "metadata": {},
   "outputs": [],
   "source": [
    "with open(fileids()[0], 'r') as f:\n",
    "    news = f.read()"
   ]
  },
  {
   "cell_type": "code",
   "execution_count": null,
   "metadata": {},
   "outputs": [],
   "source": [
    "from collections import defaultdict\n",
    "tokens = defaultdict(lambda:0)\n",
    "for _ in tokenizer1(news):\n",
    "    tokens[_] += 1\n",
    "print(len(tokens), sun(tokens.values()))\n",
    "for _ in tokenizer2(news):\n",
    "    tokens[_] += 1\n",
    "print(len(tokens), sun(tokens.values()))\n",
    "for _ in tokenizer3(news):\n",
    "    tokens[_] += 1\n",
    "print(len(tokens), sun(tokens.values()))\n",
    "for _ in tokenizer4(news):\n",
    "    tokens[_] += 1\n",
    "print(len(tokens), sun(tokens.values()))\n",
    "for _ in tokenizer5(news):\n",
    "    tokens[_] += 1\n",
    "print(len(tokens), sun(tokens.values()))"
   ]
  }
 ],
 "metadata": {
  "kernelspec": {
   "display_name": "Python 3",
   "language": "python",
   "name": "python3"
  },
  "language_info": {
   "codemirror_mode": {
    "name": "ipython",
    "version": 3
   },
   "file_extension": ".py",
   "mimetype": "text/x-python",
   "name": "python",
   "nbconvert_exporter": "python",
   "pygments_lexer": "ipython3",
   "version": "3.7.6"
  }
 },
 "nbformat": 4,
 "nbformat_minor": 4
}
